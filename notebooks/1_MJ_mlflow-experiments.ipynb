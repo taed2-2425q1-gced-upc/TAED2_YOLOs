{
 "cells": [
  {
   "cell_type": "markdown",
   "metadata": {},
   "source": [
    "# MLFlow Experiments\n",
    "This notebook is a collection of experiments with MLFlow to test the setup of the project.\n",
    "\n",
    "## Imports"
   ]
  },
  {
   "cell_type": "code",
   "execution_count": 1,
   "metadata": {},
   "outputs": [],
   "source": [
    "import mlflow\n",
    "import dagshub\n",
    "import os\n",
    "from dotenv import load_dotenv"
   ]
  },
  {
   "cell_type": "markdown",
   "metadata": {},
   "source": [
    "### Load environmental variables"
   ]
  },
  {
   "cell_type": "code",
   "execution_count": 2,
   "metadata": {},
   "outputs": [
    {
     "data": {
      "text/plain": [
       "True"
      ]
     },
     "execution_count": 2,
     "metadata": {},
     "output_type": "execute_result"
    }
   ],
   "source": [
    "load_dotenv()"
   ]
  },
  {
   "cell_type": "markdown",
   "metadata": {},
   "source": [
    "### Initialize MLFlow experiment and Dagshub"
   ]
  },
  {
   "cell_type": "code",
   "execution_count": 3,
   "metadata": {},
   "outputs": [
    {
     "data": {
      "text/html": [
       "<pre style=\"white-space:pre;overflow-x:auto;line-height:normal;font-family:Menlo,'DejaVu Sans Mono',consolas,'Courier New',monospace\">Accessing as mariarisques\n",
       "</pre>\n"
      ],
      "text/plain": [
       "Accessing as mariarisques\n"
      ]
     },
     "metadata": {},
     "output_type": "display_data"
    },
    {
     "data": {
      "text/html": [
       "<pre style=\"white-space:pre;overflow-x:auto;line-height:normal;font-family:Menlo,'DejaVu Sans Mono',consolas,'Courier New',monospace\">Initialized MLflow to track repo <span style=\"color: #008000; text-decoration-color: #008000\">\"nachoogriis/TAED2_YOLOs\"</span>\n",
       "</pre>\n"
      ],
      "text/plain": [
       "Initialized MLflow to track repo \u001b[32m\"nachoogriis/TAED2_YOLOs\"\u001b[0m\n"
      ]
     },
     "metadata": {},
     "output_type": "display_data"
    },
    {
     "data": {
      "text/html": [
       "<pre style=\"white-space:pre;overflow-x:auto;line-height:normal;font-family:Menlo,'DejaVu Sans Mono',consolas,'Courier New',monospace\">Repository nachoogriis/TAED2_YOLOs initialized!\n",
       "</pre>\n"
      ],
      "text/plain": [
       "Repository nachoogriis/TAED2_YOLOs initialized!\n"
      ]
     },
     "metadata": {},
     "output_type": "display_data"
    }
   ],
   "source": [
    "mlflow.set_experiment(\"test-experiments\")\n",
    "mlflow.set_tracking_uri(os.getenv(\"MLFLOW_TRACKING_URI\"))\n",
    "\n",
    "dagshub.init(\n",
    "    repo_name= os.getenv(\"DAGSHUB_REPO_NAME\"),\n",
    "    repo_owner= os.getenv(\"DAGSHUB_REPO_OWNER\"),\n",
    ")\n",
    "\n",
    "mlflow.autolog()"
   ]
  },
  {
   "cell_type": "markdown",
   "metadata": {},
   "source": [
    "## Experiments"
   ]
  },
  {
   "cell_type": "code",
   "execution_count": 4,
   "metadata": {},
   "outputs": [
    {
     "name": "stderr",
     "output_type": "stream",
     "text": [
      "2024/10/26 11:44:50 INFO mlflow.tracking.fluent: Autologging successfully enabled for sklearn.\n",
      "2024/10/26 11:44:51 INFO mlflow.utils.autologging_utils: Created MLflow autologging run with ID '9904573d4fbd4775a11af1055e9fcb72', which will track hyperparameters, performance metrics, model artifacts, and lineage information for the current sklearn workflow\n",
      "2024/10/26 11:44:58 INFO mlflow.tracking._tracking_service.client: 🏃 View run persistent-mule-430 at: https://dagshub.com/nachoogriis/TAED2_YOLOs.mlflow/#/experiments/1/runs/9904573d4fbd4775a11af1055e9fcb72.\n",
      "2024/10/26 11:44:58 INFO mlflow.tracking._tracking_service.client: 🧪 View experiment at: https://dagshub.com/nachoogriis/TAED2_YOLOs.mlflow/#/experiments/1.\n"
     ]
    }
   ],
   "source": [
    "from sklearn.model_selection import train_test_split\n",
    "from sklearn.datasets import load_diabetes\n",
    "from sklearn.ensemble import RandomForestRegressor\n",
    "db = load_diabetes()\n",
    "\n",
    "X_train, X_test, y_train, y_test = train_test_split(db.data, db.target)\n",
    "\n",
    "# Create and train models.\n",
    "rf = RandomForestRegressor(n_estimators=100, max_depth=6, max_features=3)\n",
    "rf.fit(X_train, y_train)\n",
    "\n",
    "# Use the model to make predictions on the test dataset.\n",
    "predictions = rf.predict(X_test)"
   ]
  },
  {
   "cell_type": "markdown",
   "metadata": {},
   "source": [
    "## Conclusion\n",
    "In this notebook, we successfully set up MLFlow with DagsHub and ran an experiment with a `RandomForestRegressor` model on the diabetes dataset. The experiment details, including parameters, metrics, and model artifacts, are tracked and logged remotely for review and analysis.\n",
    "\n",
    "### Next Steps\n",
    "- Experiment with different model types and parameters to observe changes in metrics.\n",
    "- Use the saved experiment logs to compare model performances and identify the best configuration."
   ]
  }
 ],
 "metadata": {
  "kernelspec": {
   "display_name": "projecte1_taed2",
   "language": "python",
   "name": "python3"
  },
  "language_info": {
   "codemirror_mode": {
    "name": "ipython",
    "version": 3
   },
   "file_extension": ".py",
   "mimetype": "text/x-python",
   "name": "python",
   "nbconvert_exporter": "python",
   "pygments_lexer": "ipython3",
   "version": "3.11.5"
  }
 },
 "nbformat": 4,
 "nbformat_minor": 2
}
