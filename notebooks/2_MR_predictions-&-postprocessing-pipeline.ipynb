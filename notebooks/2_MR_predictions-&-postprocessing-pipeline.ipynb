{
 "cells": [
  {
   "cell_type": "code",
   "execution_count": 1,
   "metadata": {},
   "outputs": [],
   "source": [
    "from ultralytics import YOLO\n",
    "from PIL import Image\n",
    "import numpy as np\n",
    "import torch\n",
    "import os\n",
    "import cv2\n",
    "from dotenv import load_dotenv"
   ]
  },
  {
   "cell_type": "code",
   "execution_count": 2,
   "metadata": {},
   "outputs": [
    {
     "data": {
      "text/plain": [
       "True"
      ]
     },
     "execution_count": 2,
     "metadata": {},
     "output_type": "execute_result"
    }
   ],
   "source": [
    "load_dotenv()"
   ]
  },
  {
   "cell_type": "code",
   "execution_count": 3,
   "metadata": {},
   "outputs": [],
   "source": [
    "folder_path = os.path.join('/Users/mariarisques/TAED2_YOLOs/data/processed/images/val/')\n",
    "file_names = os.listdir(folder_path)\n",
    "file_names = [folder_path + file for file in file_names if os.path.isfile(str(os.path.join(folder_path, file)))]"
   ]
  },
  {
   "cell_type": "code",
   "execution_count": 4,
   "metadata": {},
   "outputs": [],
   "source": [
    "final_model_path = os.path.join('/Users/mariarisques/TAED2_YOLOs/TAED2_YOLOs/models/weights_v0/best.pt')\n",
    "model = YOLO(final_model_path)"
   ]
  },
  {
   "cell_type": "code",
   "execution_count": 5,
   "metadata": {},
   "outputs": [
    {
     "name": "stdout",
     "output_type": "stream",
     "text": [
      "\n"
     ]
    },
    {
     "name": "stderr",
     "output_type": "stream",
     "text": [
      "[W NNPACK.cpp:64] Could not initialize NNPACK! Reason: Unsupported hardware.\n"
     ]
    },
    {
     "name": "stdout",
     "output_type": "stream",
     "text": [
      "image 1/1 /Users/mariarisques/TAED2_YOLOs/data/processed/images/val/003498.jpg: 448x640 1 person, 6067.1ms\n",
      "Speed: 97.0ms preprocess, 6067.1ms inference, 41.2ms postprocess per image at shape (1, 3, 448, 640)\n"
     ]
    },
    {
     "name": "stderr",
     "output_type": "stream",
     "text": [
      "[ WARN:0@31.057] global loadsave.cpp:241 findDecoder imread_('/Users/mariarisques/TAED2_YOLOs/data/processed/masks_post/val/003498.png'): can't open/read file: check file path/integrity\n"
     ]
    },
    {
     "name": "stdout",
     "output_type": "stream",
     "text": [
      "Mask correctly processed and saved for the following file: 003498.jpg\n",
      "\n",
      "image 1/1 /Users/mariarisques/TAED2_YOLOs/data/processed/images/val/002792.jpg: 640x448 1 person, 3833.9ms\n",
      "Speed: 3.7ms preprocess, 3833.9ms inference, 3.1ms postprocess per image at shape (1, 3, 640, 448)\n"
     ]
    },
    {
     "name": "stderr",
     "output_type": "stream",
     "text": [
      "[ WARN:0@36.685] global loadsave.cpp:241 findDecoder imread_('/Users/mariarisques/TAED2_YOLOs/data/processed/masks_post/val/002792.png'): can't open/read file: check file path/integrity\n"
     ]
    },
    {
     "name": "stdout",
     "output_type": "stream",
     "text": [
      "Mask correctly processed and saved for the following file: 002792.jpg\n",
      "\n",
      "image 1/1 /Users/mariarisques/TAED2_YOLOs/data/processed/images/val/001072.jpg: 448x640 1 person, 3516.1ms\n",
      "Speed: 3.7ms preprocess, 3516.1ms inference, 3.8ms postprocess per image at shape (1, 3, 448, 640)\n"
     ]
    },
    {
     "name": "stderr",
     "output_type": "stream",
     "text": [
      "[ WARN:0@41.716] global loadsave.cpp:241 findDecoder imread_('/Users/mariarisques/TAED2_YOLOs/data/processed/masks_post/val/001072.png'): can't open/read file: check file path/integrity\n"
     ]
    },
    {
     "name": "stdout",
     "output_type": "stream",
     "text": [
      "Mask correctly processed and saved for the following file: 001072.jpg\n",
      "\n",
      "image 1/1 /Users/mariarisques/TAED2_YOLOs/data/processed/images/val/004678.jpg: 448x640 1 person, 3680.4ms\n",
      "Speed: 3.7ms preprocess, 3680.4ms inference, 4.9ms postprocess per image at shape (1, 3, 448, 640)\n"
     ]
    },
    {
     "name": "stderr",
     "output_type": "stream",
     "text": [
      "[ WARN:0@46.912] global loadsave.cpp:241 findDecoder imread_('/Users/mariarisques/TAED2_YOLOs/data/processed/masks_post/val/004678.png'): can't open/read file: check file path/integrity\n"
     ]
    },
    {
     "name": "stdout",
     "output_type": "stream",
     "text": [
      "Mask correctly processed and saved for the following file: 004678.jpg\n",
      "\n",
      "image 1/1 /Users/mariarisques/TAED2_YOLOs/data/processed/images/val/003117.jpg: 640x448 1 person, 2857.6ms\n",
      "Speed: 4.5ms preprocess, 2857.6ms inference, 3.2ms postprocess per image at shape (1, 3, 640, 448)\n"
     ]
    },
    {
     "name": "stderr",
     "output_type": "stream",
     "text": [
      "[ WARN:0@51.494] global loadsave.cpp:241 findDecoder imread_('/Users/mariarisques/TAED2_YOLOs/data/processed/masks_post/val/003117.png'): can't open/read file: check file path/integrity\n"
     ]
    },
    {
     "name": "stdout",
     "output_type": "stream",
     "text": [
      "Mask correctly processed and saved for the following file: 003117.jpg\n",
      "\n",
      "image 1/1 /Users/mariarisques/TAED2_YOLOs/data/processed/images/val/001066.jpg: 352x640 1 person, 4608.4ms\n",
      "Speed: 5.1ms preprocess, 4608.4ms inference, 4.8ms postprocess per image at shape (1, 3, 352, 640)\n"
     ]
    },
    {
     "name": "stderr",
     "output_type": "stream",
     "text": [
      "[ WARN:0@57.917] global loadsave.cpp:241 findDecoder imread_('/Users/mariarisques/TAED2_YOLOs/data/processed/masks_post/val/001066.png'): can't open/read file: check file path/integrity\n"
     ]
    },
    {
     "name": "stdout",
     "output_type": "stream",
     "text": [
      "Mask correctly processed and saved for the following file: 001066.jpg\n",
      "\n",
      "image 1/1 /Users/mariarisques/TAED2_YOLOs/data/processed/images/val/002547.jpg: 640x512 1 person, 3761.7ms\n",
      "Speed: 5.0ms preprocess, 3761.7ms inference, 3.7ms postprocess per image at shape (1, 3, 640, 512)\n"
     ]
    },
    {
     "name": "stderr",
     "output_type": "stream",
     "text": [
      "[ WARN:0@63.620] global loadsave.cpp:241 findDecoder imread_('/Users/mariarisques/TAED2_YOLOs/data/processed/masks_post/val/002547.png'): can't open/read file: check file path/integrity\n"
     ]
    },
    {
     "name": "stdout",
     "output_type": "stream",
     "text": [
      "Mask correctly processed and saved for the following file: 002547.jpg\n",
      "\n",
      "image 1/1 /Users/mariarisques/TAED2_YOLOs/data/processed/images/val/004693.jpg: 480x640 1 person, 3802.1ms\n",
      "Speed: 4.6ms preprocess, 3802.1ms inference, 3.8ms postprocess per image at shape (1, 3, 480, 640)\n"
     ]
    },
    {
     "name": "stderr",
     "output_type": "stream",
     "text": [
      "[ WARN:0@69.180] global loadsave.cpp:241 findDecoder imread_('/Users/mariarisques/TAED2_YOLOs/data/processed/masks_post/val/004693.png'): can't open/read file: check file path/integrity\n"
     ]
    },
    {
     "name": "stdout",
     "output_type": "stream",
     "text": [
      "Mask correctly processed and saved for the following file: 004693.jpg\n",
      "\n",
      "image 1/1 /Users/mariarisques/TAED2_YOLOs/data/processed/images/val/003856.jpg: 640x448 1 person, 2386.7ms\n",
      "Speed: 30632.4ms preprocess, 2386.7ms inference, 4.0ms postprocess per image at shape (1, 3, 640, 448)\n"
     ]
    },
    {
     "name": "stderr",
     "output_type": "stream",
     "text": [
      "[ WARN:0@104.374] global loadsave.cpp:241 findDecoder imread_('/Users/mariarisques/TAED2_YOLOs/data/processed/masks_post/val/003856.png'): can't open/read file: check file path/integrity\n"
     ]
    },
    {
     "name": "stdout",
     "output_type": "stream",
     "text": [
      "Mask correctly processed and saved for the following file: 003856.jpg\n",
      "\n",
      "image 1/1 /Users/mariarisques/TAED2_YOLOs/data/processed/images/val/005374.jpg: 416x640 1 person, 2419.8ms\n",
      "Speed: 4.9ms preprocess, 2419.8ms inference, 3.2ms postprocess per image at shape (1, 3, 416, 640)\n"
     ]
    },
    {
     "name": "stderr",
     "output_type": "stream",
     "text": [
      "[ WARN:0@107.994] global loadsave.cpp:241 findDecoder imread_('/Users/mariarisques/TAED2_YOLOs/data/processed/masks_post/val/005374.png'): can't open/read file: check file path/integrity\n"
     ]
    },
    {
     "name": "stdout",
     "output_type": "stream",
     "text": [
      "Mask correctly processed and saved for the following file: 005374.jpg\n",
      "\n",
      "image 1/1 /Users/mariarisques/TAED2_YOLOs/data/processed/images/val/001890.jpg: 640x448 1 person, 2197.7ms\n",
      "Speed: 5.2ms preprocess, 2197.7ms inference, 3.6ms postprocess per image at shape (1, 3, 640, 448)\n"
     ]
    },
    {
     "name": "stderr",
     "output_type": "stream",
     "text": [
      "[ WARN:0@111.336] global loadsave.cpp:241 findDecoder imread_('/Users/mariarisques/TAED2_YOLOs/data/processed/masks_post/val/001890.png'): can't open/read file: check file path/integrity\n"
     ]
    },
    {
     "name": "stdout",
     "output_type": "stream",
     "text": [
      "Mask correctly processed and saved for the following file: 001890.jpg\n",
      "\n",
      "image 1/1 /Users/mariarisques/TAED2_YOLOs/data/processed/images/val/004056.jpg: 448x640 1 person, 2139.6ms\n",
      "Speed: 3.3ms preprocess, 2139.6ms inference, 3.5ms postprocess per image at shape (1, 3, 448, 640)\n"
     ]
    },
    {
     "name": "stderr",
     "output_type": "stream",
     "text": [
      "[ WARN:0@114.740] global loadsave.cpp:241 findDecoder imread_('/Users/mariarisques/TAED2_YOLOs/data/processed/masks_post/val/004056.png'): can't open/read file: check file path/integrity\n"
     ]
    },
    {
     "name": "stdout",
     "output_type": "stream",
     "text": [
      "Mask correctly processed and saved for the following file: 004056.jpg\n",
      "\n",
      "image 1/1 /Users/mariarisques/TAED2_YOLOs/data/processed/images/val/004917.jpg: 448x640 1 person, 2230.1ms\n",
      "Speed: 2.6ms preprocess, 2230.1ms inference, 2.9ms postprocess per image at shape (1, 3, 448, 640)\n"
     ]
    },
    {
     "name": "stderr",
     "output_type": "stream",
     "text": [
      "[ WARN:0@118.180] global loadsave.cpp:241 findDecoder imread_('/Users/mariarisques/TAED2_YOLOs/data/processed/masks_post/val/004917.png'): can't open/read file: check file path/integrity\n"
     ]
    },
    {
     "name": "stdout",
     "output_type": "stream",
     "text": [
      "Mask correctly processed and saved for the following file: 004917.jpg\n",
      "\n",
      "image 1/1 /Users/mariarisques/TAED2_YOLOs/data/processed/images/val/001847.jpg: 448x640 1 person, 2108.5ms\n",
      "Speed: 2.5ms preprocess, 2108.5ms inference, 3.0ms postprocess per image at shape (1, 3, 448, 640)\n"
     ]
    },
    {
     "name": "stderr",
     "output_type": "stream",
     "text": [
      "[ WARN:0@121.521] global loadsave.cpp:241 findDecoder imread_('/Users/mariarisques/TAED2_YOLOs/data/processed/masks_post/val/001847.png'): can't open/read file: check file path/integrity\n"
     ]
    },
    {
     "name": "stdout",
     "output_type": "stream",
     "text": [
      "Mask correctly processed and saved for the following file: 001847.jpg\n",
      "\n",
      "image 1/1 /Users/mariarisques/TAED2_YOLOs/data/processed/images/val/003275.jpg: 448x640 1 person, 2144.2ms\n",
      "Speed: 3.4ms preprocess, 2144.2ms inference, 2.9ms postprocess per image at shape (1, 3, 448, 640)\n"
     ]
    },
    {
     "name": "stderr",
     "output_type": "stream",
     "text": [
      "[ WARN:0@124.934] global loadsave.cpp:241 findDecoder imread_('/Users/mariarisques/TAED2_YOLOs/data/processed/masks_post/val/003275.png'): can't open/read file: check file path/integrity\n"
     ]
    },
    {
     "name": "stdout",
     "output_type": "stream",
     "text": [
      "Mask correctly processed and saved for the following file: 003275.jpg\n",
      "\n",
      "image 1/1 /Users/mariarisques/TAED2_YOLOs/data/processed/images/val/004268.jpg: 448x640 2 persons, 2158.1ms\n",
      "Speed: 2.7ms preprocess, 2158.1ms inference, 5.8ms postprocess per image at shape (1, 3, 448, 640)\n"
     ]
    },
    {
     "name": "stderr",
     "output_type": "stream",
     "text": [
      "[ WARN:0@128.328] global loadsave.cpp:241 findDecoder imread_('/Users/mariarisques/TAED2_YOLOs/data/processed/masks_post/val/004268.png'): can't open/read file: check file path/integrity\n"
     ]
    },
    {
     "name": "stdout",
     "output_type": "stream",
     "text": [
      "Mask correctly processed and saved for the following file: 004268.jpg\n",
      "\n",
      "image 1/1 /Users/mariarisques/TAED2_YOLOs/data/processed/images/val/001310.jpg: 640x480 1 person, 2517.2ms\n",
      "Speed: 2.6ms preprocess, 2517.2ms inference, 3.2ms postprocess per image at shape (1, 3, 640, 480)\n"
     ]
    },
    {
     "name": "stderr",
     "output_type": "stream",
     "text": [
      "[ WARN:0@132.028] global loadsave.cpp:241 findDecoder imread_('/Users/mariarisques/TAED2_YOLOs/data/processed/masks_post/val/001310.png'): can't open/read file: check file path/integrity\n"
     ]
    },
    {
     "name": "stdout",
     "output_type": "stream",
     "text": [
      "Mask correctly processed and saved for the following file: 001310.jpg\n",
      "\n",
      "image 1/1 /Users/mariarisques/TAED2_YOLOs/data/processed/images/val/000998.jpg: 640x448 1 person, 2236.2ms\n",
      "Speed: 3.3ms preprocess, 2236.2ms inference, 3.3ms postprocess per image at shape (1, 3, 640, 448)\n"
     ]
    },
    {
     "name": "stderr",
     "output_type": "stream",
     "text": [
      "[ WARN:0@135.540] global loadsave.cpp:241 findDecoder imread_('/Users/mariarisques/TAED2_YOLOs/data/processed/masks_post/val/000998.png'): can't open/read file: check file path/integrity\n"
     ]
    },
    {
     "name": "stdout",
     "output_type": "stream",
     "text": [
      "Mask correctly processed and saved for the following file: 000998.jpg\n",
      "\n",
      "image 1/1 /Users/mariarisques/TAED2_YOLOs/data/processed/images/val/002631.jpg: 480x640 3 persons, 2371.0ms\n",
      "Speed: 2.7ms preprocess, 2371.0ms inference, 6.4ms postprocess per image at shape (1, 3, 480, 640)\n"
     ]
    },
    {
     "name": "stderr",
     "output_type": "stream",
     "text": [
      "[ WARN:0@139.142] global loadsave.cpp:241 findDecoder imread_('/Users/mariarisques/TAED2_YOLOs/data/processed/masks_post/val/002631.png'): can't open/read file: check file path/integrity\n"
     ]
    },
    {
     "name": "stdout",
     "output_type": "stream",
     "text": [
      "Mask correctly processed and saved for the following file: 002631.jpg\n",
      "\n",
      "image 1/1 /Users/mariarisques/TAED2_YOLOs/data/processed/images/val/000967.jpg: 448x640 1 person, 2187.2ms\n",
      "Speed: 2.5ms preprocess, 2187.2ms inference, 3.8ms postprocess per image at shape (1, 3, 448, 640)\n"
     ]
    },
    {
     "name": "stderr",
     "output_type": "stream",
     "text": [
      "[ WARN:0@142.676] global loadsave.cpp:241 findDecoder imread_('/Users/mariarisques/TAED2_YOLOs/data/processed/masks_post/val/000967.png'): can't open/read file: check file path/integrity\n"
     ]
    },
    {
     "name": "stdout",
     "output_type": "stream",
     "text": [
      "Mask correctly processed and saved for the following file: 000967.jpg\n",
      "\n",
      "image 1/1 /Users/mariarisques/TAED2_YOLOs/data/processed/images/val/004283.jpg: 480x640 1 person, 2483.4ms\n",
      "Speed: 3.0ms preprocess, 2483.4ms inference, 3.9ms postprocess per image at shape (1, 3, 480, 640)\n"
     ]
    },
    {
     "name": "stderr",
     "output_type": "stream",
     "text": [
      "[ WARN:0@146.531] global loadsave.cpp:241 findDecoder imread_('/Users/mariarisques/TAED2_YOLOs/data/processed/masks_post/val/004283.png'): can't open/read file: check file path/integrity\n"
     ]
    },
    {
     "name": "stdout",
     "output_type": "stream",
     "text": [
      "Mask correctly processed and saved for the following file: 004283.jpg\n",
      "\n",
      "image 1/1 /Users/mariarisques/TAED2_YOLOs/data/processed/images/val/002803.jpg: 448x640 1 person, 2153.4ms\n",
      "Speed: 3.2ms preprocess, 2153.4ms inference, 3.1ms postprocess per image at shape (1, 3, 448, 640)\n"
     ]
    },
    {
     "name": "stderr",
     "output_type": "stream",
     "text": [
      "[ WARN:0@150.019] global loadsave.cpp:241 findDecoder imread_('/Users/mariarisques/TAED2_YOLOs/data/processed/masks_post/val/002803.png'): can't open/read file: check file path/integrity\n"
     ]
    },
    {
     "name": "stdout",
     "output_type": "stream",
     "text": [
      "Mask correctly processed and saved for the following file: 002803.jpg\n",
      "\n",
      "image 1/1 /Users/mariarisques/TAED2_YOLOs/data/processed/images/val/002624.jpg: 512x640 1 person, 2942.0ms\n",
      "Speed: 3.1ms preprocess, 2942.0ms inference, 3.2ms postprocess per image at shape (1, 3, 512, 640)\n"
     ]
    },
    {
     "name": "stderr",
     "output_type": "stream",
     "text": [
      "[ WARN:0@154.162] global loadsave.cpp:241 findDecoder imread_('/Users/mariarisques/TAED2_YOLOs/data/processed/masks_post/val/002624.png'): can't open/read file: check file path/integrity\n"
     ]
    },
    {
     "name": "stdout",
     "output_type": "stream",
     "text": [
      "Mask correctly processed and saved for the following file: 002624.jpg\n",
      "\n",
      "image 1/1 /Users/mariarisques/TAED2_YOLOs/data/processed/images/val/004255.jpg: 448x640 2 persons, 2076.2ms\n",
      "Speed: 2.4ms preprocess, 2076.2ms inference, 3.6ms postprocess per image at shape (1, 3, 448, 640)\n"
     ]
    },
    {
     "name": "stderr",
     "output_type": "stream",
     "text": [
      "[ WARN:0@157.610] global loadsave.cpp:241 findDecoder imread_('/Users/mariarisques/TAED2_YOLOs/data/processed/masks_post/val/004255.png'): can't open/read file: check file path/integrity\n"
     ]
    },
    {
     "name": "stdout",
     "output_type": "stream",
     "text": [
      "Mask correctly processed and saved for the following file: 004255.jpg\n",
      "\n",
      "image 1/1 /Users/mariarisques/TAED2_YOLOs/data/processed/images/val/003248.jpg: 640x512 1 person, 2732.9ms\n",
      "Speed: 5.2ms preprocess, 2732.9ms inference, 3.3ms postprocess per image at shape (1, 3, 640, 512)\n"
     ]
    },
    {
     "name": "stderr",
     "output_type": "stream",
     "text": [
      "[ WARN:0@161.510] global loadsave.cpp:241 findDecoder imread_('/Users/mariarisques/TAED2_YOLOs/data/processed/masks_post/val/003248.png'): can't open/read file: check file path/integrity\n"
     ]
    },
    {
     "name": "stdout",
     "output_type": "stream",
     "text": [
      "Mask correctly processed and saved for the following file: 003248.jpg\n",
      "\n",
      "image 1/1 /Users/mariarisques/TAED2_YOLOs/data/processed/images/val/001477.jpg: 448x640 1 person, 2238.1ms\n",
      "Speed: 2.4ms preprocess, 2238.1ms inference, 3.1ms postprocess per image at shape (1, 3, 448, 640)\n"
     ]
    },
    {
     "name": "stderr",
     "output_type": "stream",
     "text": [
      "[ WARN:0@165.202] global loadsave.cpp:241 findDecoder imread_('/Users/mariarisques/TAED2_YOLOs/data/processed/masks_post/val/001477.png'): can't open/read file: check file path/integrity\n"
     ]
    },
    {
     "name": "stdout",
     "output_type": "stream",
     "text": [
      "Mask correctly processed and saved for the following file: 001477.jpg\n",
      "\n",
      "image 1/1 /Users/mariarisques/TAED2_YOLOs/data/processed/images/val/003923.jpg: 640x448 1 person, 2407.7ms\n",
      "Speed: 2.6ms preprocess, 2407.7ms inference, 3.0ms postprocess per image at shape (1, 3, 640, 448)\n"
     ]
    },
    {
     "name": "stderr",
     "output_type": "stream",
     "text": [
      "[ WARN:0@168.836] global loadsave.cpp:241 findDecoder imread_('/Users/mariarisques/TAED2_YOLOs/data/processed/masks_post/val/003923.png'): can't open/read file: check file path/integrity\n"
     ]
    },
    {
     "name": "stdout",
     "output_type": "stream",
     "text": [
      "Mask correctly processed and saved for the following file: 003923.jpg\n",
      "\n",
      "image 1/1 /Users/mariarisques/TAED2_YOLOs/data/processed/images/val/002340.jpg: 640x416 1 person, 2341.1ms\n",
      "Speed: 2.5ms preprocess, 2341.1ms inference, 2.9ms postprocess per image at shape (1, 3, 640, 416)\n"
     ]
    },
    {
     "name": "stderr",
     "output_type": "stream",
     "text": [
      "[ WARN:0@172.443] global loadsave.cpp:241 findDecoder imread_('/Users/mariarisques/TAED2_YOLOs/data/processed/masks_post/val/002340.png'): can't open/read file: check file path/integrity\n"
     ]
    },
    {
     "name": "stdout",
     "output_type": "stream",
     "text": [
      "Mask correctly processed and saved for the following file: 002340.jpg\n",
      "\n",
      "image 1/1 /Users/mariarisques/TAED2_YOLOs/data/processed/images/val/000557.jpg: 640x480 2 persons, 2395.6ms\n",
      "Speed: 2.7ms preprocess, 2395.6ms inference, 4.9ms postprocess per image at shape (1, 3, 640, 480)\n"
     ]
    },
    {
     "name": "stderr",
     "output_type": "stream",
     "text": [
      "[ WARN:0@175.972] global loadsave.cpp:241 findDecoder imread_('/Users/mariarisques/TAED2_YOLOs/data/processed/masks_post/val/000557.png'): can't open/read file: check file path/integrity\n"
     ]
    },
    {
     "name": "stdout",
     "output_type": "stream",
     "text": [
      "Mask correctly processed and saved for the following file: 000557.jpg\n",
      "\n",
      "image 1/1 /Users/mariarisques/TAED2_YOLOs/data/processed/images/val/004725.jpg: 448x640 1 person, 2258.2ms\n",
      "Speed: 2.6ms preprocess, 2258.2ms inference, 4.7ms postprocess per image at shape (1, 3, 448, 640)\n"
     ]
    },
    {
     "name": "stderr",
     "output_type": "stream",
     "text": [
      "[ WARN:0@179.563] global loadsave.cpp:241 findDecoder imread_('/Users/mariarisques/TAED2_YOLOs/data/processed/masks_post/val/004725.png'): can't open/read file: check file path/integrity\n"
     ]
    },
    {
     "name": "stdout",
     "output_type": "stream",
     "text": [
      "Mask correctly processed and saved for the following file: 004725.jpg\n",
      "\n",
      "image 1/1 /Users/mariarisques/TAED2_YOLOs/data/processed/images/val/004686.jpg: 448x640 1 person, 2598.3ms\n",
      "Speed: 4.1ms preprocess, 2598.3ms inference, 5.4ms postprocess per image at shape (1, 3, 448, 640)\n"
     ]
    },
    {
     "name": "stderr",
     "output_type": "stream",
     "text": [
      "[ WARN:0@183.520] global loadsave.cpp:241 findDecoder imread_('/Users/mariarisques/TAED2_YOLOs/data/processed/masks_post/val/004686.png'): can't open/read file: check file path/integrity\n"
     ]
    },
    {
     "name": "stdout",
     "output_type": "stream",
     "text": [
      "Mask correctly processed and saved for the following file: 004686.jpg\n",
      "\n",
      "image 1/1 /Users/mariarisques/TAED2_YOLOs/data/processed/images/val/002552.jpg: 448x640 1 person, 2145.2ms\n",
      "Speed: 20.0ms preprocess, 2145.2ms inference, 2.9ms postprocess per image at shape (1, 3, 448, 640)\n"
     ]
    },
    {
     "name": "stderr",
     "output_type": "stream",
     "text": [
      "[ WARN:0@187.042] global loadsave.cpp:241 findDecoder imread_('/Users/mariarisques/TAED2_YOLOs/data/processed/masks_post/val/002552.png'): can't open/read file: check file path/integrity\n"
     ]
    },
    {
     "name": "stdout",
     "output_type": "stream",
     "text": [
      "Mask correctly processed and saved for the following file: 002552.jpg\n",
      "\n",
      "image 1/1 /Users/mariarisques/TAED2_YOLOs/data/processed/images/val/005229.jpg: 640x448 1 person, 2212.5ms\n",
      "Speed: 2.5ms preprocess, 2212.5ms inference, 3.5ms postprocess per image at shape (1, 3, 640, 448)\n"
     ]
    },
    {
     "name": "stderr",
     "output_type": "stream",
     "text": [
      "[ WARN:0@190.447] global loadsave.cpp:241 findDecoder imread_('/Users/mariarisques/TAED2_YOLOs/data/processed/masks_post/val/005229.png'): can't open/read file: check file path/integrity\n"
     ]
    },
    {
     "name": "stdout",
     "output_type": "stream",
     "text": [
      "Mask correctly processed and saved for the following file: 005229.jpg\n",
      "\n",
      "image 1/1 /Users/mariarisques/TAED2_YOLOs/data/processed/images/val/003658.jpg: 448x640 1 person, 2317.4ms\n",
      "Speed: 3.2ms preprocess, 2317.4ms inference, 5.2ms postprocess per image at shape (1, 3, 448, 640)\n"
     ]
    },
    {
     "name": "stderr",
     "output_type": "stream",
     "text": [
      "[ WARN:0@194.083] global loadsave.cpp:241 findDecoder imread_('/Users/mariarisques/TAED2_YOLOs/data/processed/masks_post/val/003658.png'): can't open/read file: check file path/integrity\n"
     ]
    },
    {
     "name": "stdout",
     "output_type": "stream",
     "text": [
      "Mask correctly processed and saved for the following file: 003658.jpg\n",
      "\n",
      "image 1/1 /Users/mariarisques/TAED2_YOLOs/data/processed/images/val/001067.jpg: 448x640 1 person, 2192.7ms\n",
      "Speed: 3.2ms preprocess, 2192.7ms inference, 2.9ms postprocess per image at shape (1, 3, 448, 640)\n"
     ]
    },
    {
     "name": "stderr",
     "output_type": "stream",
     "text": [
      "[ WARN:0@197.586] global loadsave.cpp:241 findDecoder imread_('/Users/mariarisques/TAED2_YOLOs/data/processed/masks_post/val/001067.png'): can't open/read file: check file path/integrity\n"
     ]
    },
    {
     "name": "stdout",
     "output_type": "stream",
     "text": [
      "Mask correctly processed and saved for the following file: 001067.jpg\n",
      "\n",
      "image 1/1 /Users/mariarisques/TAED2_YOLOs/data/processed/images/val/004490.jpg: 480x640 1 person, 2293.2ms\n",
      "Speed: 2.8ms preprocess, 2293.2ms inference, 4.1ms postprocess per image at shape (1, 3, 480, 640)\n"
     ]
    },
    {
     "name": "stderr",
     "output_type": "stream",
     "text": [
      "[ WARN:0@201.091] global loadsave.cpp:241 findDecoder imread_('/Users/mariarisques/TAED2_YOLOs/data/processed/masks_post/val/004490.png'): can't open/read file: check file path/integrity\n"
     ]
    },
    {
     "name": "stdout",
     "output_type": "stream",
     "text": [
      "Mask correctly processed and saved for the following file: 004490.jpg\n",
      "\n",
      "image 1/1 /Users/mariarisques/TAED2_YOLOs/data/processed/images/val/002787.jpg: 448x640 1 person, 2250.7ms\n",
      "Speed: 2.8ms preprocess, 2250.7ms inference, 3.6ms postprocess per image at shape (1, 3, 448, 640)\n"
     ]
    },
    {
     "name": "stderr",
     "output_type": "stream",
     "text": [
      "[ WARN:0@204.647] global loadsave.cpp:241 findDecoder imread_('/Users/mariarisques/TAED2_YOLOs/data/processed/masks_post/val/002787.png'): can't open/read file: check file path/integrity\n"
     ]
    },
    {
     "name": "stdout",
     "output_type": "stream",
     "text": [
      "Mask correctly processed and saved for the following file: 002787.jpg\n",
      "\n",
      "image 1/1 /Users/mariarisques/TAED2_YOLOs/data/processed/images/val/004321.jpg: 416x640 1 person, 1920.7ms\n",
      "Speed: 2.4ms preprocess, 1920.7ms inference, 2.8ms postprocess per image at shape (1, 3, 416, 640)\n"
     ]
    },
    {
     "name": "stderr",
     "output_type": "stream",
     "text": [
      "[ WARN:0@207.784] global loadsave.cpp:241 findDecoder imread_('/Users/mariarisques/TAED2_YOLOs/data/processed/masks_post/val/004321.png'): can't open/read file: check file path/integrity\n"
     ]
    },
    {
     "name": "stdout",
     "output_type": "stream",
     "text": [
      "Mask correctly processed and saved for the following file: 004321.jpg\n",
      "\n",
      "image 1/1 /Users/mariarisques/TAED2_YOLOs/data/processed/images/val/004453.jpg: 448x640 1 person, 2165.1ms\n",
      "Speed: 2.9ms preprocess, 2165.1ms inference, 3.8ms postprocess per image at shape (1, 3, 448, 640)\n"
     ]
    },
    {
     "name": "stderr",
     "output_type": "stream",
     "text": [
      "[ WARN:0@211.082] global loadsave.cpp:241 findDecoder imread_('/Users/mariarisques/TAED2_YOLOs/data/processed/masks_post/val/004453.png'): can't open/read file: check file path/integrity\n"
     ]
    },
    {
     "name": "stdout",
     "output_type": "stream",
     "text": [
      "Mask correctly processed and saved for the following file: 004453.jpg\n",
      "\n",
      "image 1/1 /Users/mariarisques/TAED2_YOLOs/data/processed/images/val/000635.jpg: 384x640 1 person, 2441.8ms\n",
      "Speed: 2.1ms preprocess, 2441.8ms inference, 2.9ms postprocess per image at shape (1, 3, 384, 640)\n"
     ]
    },
    {
     "name": "stderr",
     "output_type": "stream",
     "text": [
      "[ WARN:0@214.760] global loadsave.cpp:241 findDecoder imread_('/Users/mariarisques/TAED2_YOLOs/data/processed/masks_post/val/000635.png'): can't open/read file: check file path/integrity\n"
     ]
    },
    {
     "name": "stdout",
     "output_type": "stream",
     "text": [
      "Mask correctly processed and saved for the following file: 000635.jpg\n",
      "\n",
      "image 1/1 /Users/mariarisques/TAED2_YOLOs/data/processed/images/val/000609.jpg: 544x640 1 person, 2792.9ms\n",
      "Speed: 3.3ms preprocess, 2792.9ms inference, 3.2ms postprocess per image at shape (1, 3, 544, 640)\n"
     ]
    },
    {
     "name": "stderr",
     "output_type": "stream",
     "text": [
      "[ WARN:0@218.592] global loadsave.cpp:241 findDecoder imread_('/Users/mariarisques/TAED2_YOLOs/data/processed/masks_post/val/000609.png'): can't open/read file: check file path/integrity\n"
     ]
    },
    {
     "name": "stdout",
     "output_type": "stream",
     "text": [
      "Mask correctly processed and saved for the following file: 000609.jpg\n",
      "\n",
      "image 1/1 /Users/mariarisques/TAED2_YOLOs/data/processed/images/val/001517.jpg: 448x640 1 person, 2130.3ms\n",
      "Speed: 2.9ms preprocess, 2130.3ms inference, 4.2ms postprocess per image at shape (1, 3, 448, 640)\n"
     ]
    },
    {
     "name": "stderr",
     "output_type": "stream",
     "text": [
      "[ WARN:0@222.219] global loadsave.cpp:241 findDecoder imread_('/Users/mariarisques/TAED2_YOLOs/data/processed/masks_post/val/001517.png'): can't open/read file: check file path/integrity\n"
     ]
    },
    {
     "name": "stdout",
     "output_type": "stream",
     "text": [
      "Mask correctly processed and saved for the following file: 001517.jpg\n",
      "\n",
      "image 1/1 /Users/mariarisques/TAED2_YOLOs/data/processed/images/val/001501.jpg: 640x448 1 person, 2525.7ms\n",
      "Speed: 2.6ms preprocess, 2525.7ms inference, 3.4ms postprocess per image at shape (1, 3, 640, 448)\n"
     ]
    },
    {
     "name": "stderr",
     "output_type": "stream",
     "text": [
      "[ WARN:0@225.971] global loadsave.cpp:241 findDecoder imread_('/Users/mariarisques/TAED2_YOLOs/data/processed/masks_post/val/001501.png'): can't open/read file: check file path/integrity\n"
     ]
    },
    {
     "name": "stdout",
     "output_type": "stream",
     "text": [
      "Mask correctly processed and saved for the following file: 001501.jpg\n",
      "\n",
      "image 1/1 /Users/mariarisques/TAED2_YOLOs/data/processed/images/val/003316.jpg: 640x448 1 person, 2431.7ms\n",
      "Speed: 2.7ms preprocess, 2431.7ms inference, 3.6ms postprocess per image at shape (1, 3, 640, 448)\n"
     ]
    },
    {
     "name": "stderr",
     "output_type": "stream",
     "text": [
      "[ WARN:0@229.640] global loadsave.cpp:241 findDecoder imread_('/Users/mariarisques/TAED2_YOLOs/data/processed/masks_post/val/003316.png'): can't open/read file: check file path/integrity\n"
     ]
    },
    {
     "name": "stdout",
     "output_type": "stream",
     "text": [
      "Mask correctly processed and saved for the following file: 003316.jpg\n",
      "\n",
      "image 1/1 /Users/mariarisques/TAED2_YOLOs/data/processed/images/val/003470.jpg: 448x640 2 persons, 2095.1ms\n",
      "Speed: 2.5ms preprocess, 2095.1ms inference, 5.3ms postprocess per image at shape (1, 3, 448, 640)\n"
     ]
    },
    {
     "name": "stderr",
     "output_type": "stream",
     "text": [
      "[ WARN:0@233.079] global loadsave.cpp:241 findDecoder imread_('/Users/mariarisques/TAED2_YOLOs/data/processed/masks_post/val/003470.png'): can't open/read file: check file path/integrity\n"
     ]
    },
    {
     "name": "stdout",
     "output_type": "stream",
     "text": [
      "Mask correctly processed and saved for the following file: 003470.jpg\n",
      "\n",
      "image 1/1 /Users/mariarisques/TAED2_YOLOs/data/processed/images/val/004323.jpg: 448x640 1 person, 2438.7ms\n",
      "Speed: 3.8ms preprocess, 2438.7ms inference, 4.0ms postprocess per image at shape (1, 3, 448, 640)\n"
     ]
    },
    {
     "name": "stderr",
     "output_type": "stream",
     "text": [
      "[ WARN:0@236.689] global loadsave.cpp:241 findDecoder imread_('/Users/mariarisques/TAED2_YOLOs/data/processed/masks_post/val/004323.png'): can't open/read file: check file path/integrity\n"
     ]
    },
    {
     "name": "stdout",
     "output_type": "stream",
     "text": [
      "Mask correctly processed and saved for the following file: 004323.jpg\n",
      "\n",
      "image 1/1 /Users/mariarisques/TAED2_YOLOs/data/processed/images/val/004492.jpg: 640x448 2 persons, 2374.7ms\n",
      "Speed: 4.0ms preprocess, 2374.7ms inference, 5.3ms postprocess per image at shape (1, 3, 640, 448)\n"
     ]
    },
    {
     "name": "stderr",
     "output_type": "stream",
     "text": [
      "[ WARN:0@240.262] global loadsave.cpp:241 findDecoder imread_('/Users/mariarisques/TAED2_YOLOs/data/processed/masks_post/val/004492.png'): can't open/read file: check file path/integrity\n"
     ]
    },
    {
     "name": "stdout",
     "output_type": "stream",
     "text": [
      "Mask correctly processed and saved for the following file: 004492.jpg\n",
      "\n",
      "image 1/1 /Users/mariarisques/TAED2_YOLOs/data/processed/images/val/004860.jpg: 448x640 1 person, 2265.9ms\n",
      "Speed: 3.0ms preprocess, 2265.9ms inference, 2.9ms postprocess per image at shape (1, 3, 448, 640)\n"
     ]
    },
    {
     "name": "stderr",
     "output_type": "stream",
     "text": [
      "[ WARN:0@243.813] global loadsave.cpp:241 findDecoder imread_('/Users/mariarisques/TAED2_YOLOs/data/processed/masks_post/val/004860.png'): can't open/read file: check file path/integrity\n"
     ]
    },
    {
     "name": "stdout",
     "output_type": "stream",
     "text": [
      "Mask correctly processed and saved for the following file: 004860.jpg\n",
      "\n",
      "image 1/1 /Users/mariarisques/TAED2_YOLOs/data/processed/images/val/001111.jpg: 448x640 1 person, 2316.2ms\n",
      "Speed: 3.4ms preprocess, 2316.2ms inference, 3.0ms postprocess per image at shape (1, 3, 448, 640)\n"
     ]
    },
    {
     "name": "stderr",
     "output_type": "stream",
     "text": [
      "[ WARN:0@247.388] global loadsave.cpp:241 findDecoder imread_('/Users/mariarisques/TAED2_YOLOs/data/processed/masks_post/val/001111.png'): can't open/read file: check file path/integrity\n"
     ]
    },
    {
     "name": "stdout",
     "output_type": "stream",
     "text": [
      "Mask correctly processed and saved for the following file: 001111.jpg\n",
      "\n",
      "image 1/1 /Users/mariarisques/TAED2_YOLOs/data/processed/images/val/004069.jpg: 416x640 1 person, 2092.6ms\n",
      "Speed: 2.4ms preprocess, 2092.6ms inference, 4.2ms postprocess per image at shape (1, 3, 416, 640)\n"
     ]
    },
    {
     "name": "stderr",
     "output_type": "stream",
     "text": [
      "[ WARN:0@250.735] global loadsave.cpp:241 findDecoder imread_('/Users/mariarisques/TAED2_YOLOs/data/processed/masks_post/val/004069.png'): can't open/read file: check file path/integrity\n"
     ]
    },
    {
     "name": "stdout",
     "output_type": "stream",
     "text": [
      "Mask correctly processed and saved for the following file: 004069.jpg\n",
      "\n",
      "image 1/1 /Users/mariarisques/TAED2_YOLOs/data/processed/images/val/003074.jpg: 640x448 1 person, 2334.7ms\n",
      "Speed: 3.5ms preprocess, 2334.7ms inference, 3.8ms postprocess per image at shape (1, 3, 640, 448)\n"
     ]
    },
    {
     "name": "stderr",
     "output_type": "stream",
     "text": [
      "[ WARN:0@254.308] global loadsave.cpp:241 findDecoder imread_('/Users/mariarisques/TAED2_YOLOs/data/processed/masks_post/val/003074.png'): can't open/read file: check file path/integrity\n"
     ]
    },
    {
     "name": "stdout",
     "output_type": "stream",
     "text": [
      "Mask correctly processed and saved for the following file: 003074.jpg\n",
      "\n",
      "image 1/1 /Users/mariarisques/TAED2_YOLOs/data/processed/images/val/002424.jpg: 640x448 1 person, 2217.2ms\n",
      "Speed: 2.5ms preprocess, 2217.2ms inference, 3.5ms postprocess per image at shape (1, 3, 640, 448)\n"
     ]
    },
    {
     "name": "stderr",
     "output_type": "stream",
     "text": [
      "[ WARN:0@257.773] global loadsave.cpp:241 findDecoder imread_('/Users/mariarisques/TAED2_YOLOs/data/processed/masks_post/val/002424.png'): can't open/read file: check file path/integrity\n"
     ]
    },
    {
     "name": "stdout",
     "output_type": "stream",
     "text": [
      "Mask correctly processed and saved for the following file: 002424.jpg\n",
      "\n",
      "image 1/1 /Users/mariarisques/TAED2_YOLOs/data/processed/images/val/004727.jpg: 448x640 1 person, 2155.9ms\n",
      "Speed: 2.9ms preprocess, 2155.9ms inference, 3.5ms postprocess per image at shape (1, 3, 448, 640)\n"
     ]
    },
    {
     "name": "stderr",
     "output_type": "stream",
     "text": [
      "[ WARN:0@261.183] global loadsave.cpp:241 findDecoder imread_('/Users/mariarisques/TAED2_YOLOs/data/processed/masks_post/val/004727.png'): can't open/read file: check file path/integrity\n"
     ]
    },
    {
     "name": "stdout",
     "output_type": "stream",
     "text": [
      "Mask correctly processed and saved for the following file: 004727.jpg\n",
      "\n",
      "image 1/1 /Users/mariarisques/TAED2_YOLOs/data/processed/images/val/002395.jpg: 384x640 1 person, 1913.0ms\n",
      "Speed: 2.2ms preprocess, 1913.0ms inference, 2.9ms postprocess per image at shape (1, 3, 384, 640)\n"
     ]
    },
    {
     "name": "stderr",
     "output_type": "stream",
     "text": [
      "[ WARN:0@264.298] global loadsave.cpp:241 findDecoder imread_('/Users/mariarisques/TAED2_YOLOs/data/processed/masks_post/val/002395.png'): can't open/read file: check file path/integrity\n"
     ]
    },
    {
     "name": "stdout",
     "output_type": "stream",
     "text": [
      "Mask correctly processed and saved for the following file: 002395.jpg\n",
      "\n",
      "image 1/1 /Users/mariarisques/TAED2_YOLOs/data/processed/images/val/003262.jpg: 448x640 2 persons, 2144.2ms\n",
      "Speed: 2.8ms preprocess, 2144.2ms inference, 4.7ms postprocess per image at shape (1, 3, 448, 640)\n"
     ]
    },
    {
     "name": "stderr",
     "output_type": "stream",
     "text": [
      "[ WARN:0@267.545] global loadsave.cpp:241 findDecoder imread_('/Users/mariarisques/TAED2_YOLOs/data/processed/masks_post/val/003262.png'): can't open/read file: check file path/integrity\n"
     ]
    },
    {
     "name": "stdout",
     "output_type": "stream",
     "text": [
      "Mask correctly processed and saved for the following file: 003262.jpg\n",
      "\n",
      "image 1/1 /Users/mariarisques/TAED2_YOLOs/data/processed/images/val/001313.jpg: 640x512 1 person, 2591.6ms\n",
      "Speed: 3.3ms preprocess, 2591.6ms inference, 3.0ms postprocess per image at shape (1, 3, 640, 512)\n"
     ]
    },
    {
     "name": "stderr",
     "output_type": "stream",
     "text": [
      "[ WARN:0@271.353] global loadsave.cpp:241 findDecoder imread_('/Users/mariarisques/TAED2_YOLOs/data/processed/masks_post/val/001313.png'): can't open/read file: check file path/integrity\n"
     ]
    },
    {
     "name": "stdout",
     "output_type": "stream",
     "text": [
      "Mask correctly processed and saved for the following file: 001313.jpg\n",
      "\n",
      "image 1/1 /Users/mariarisques/TAED2_YOLOs/data/processed/images/val/001307.jpg: 448x640 1 person, 2172.5ms\n",
      "Speed: 3.5ms preprocess, 2172.5ms inference, 3.4ms postprocess per image at shape (1, 3, 448, 640)\n"
     ]
    },
    {
     "name": "stderr",
     "output_type": "stream",
     "text": [
      "[ WARN:0@274.965] global loadsave.cpp:241 findDecoder imread_('/Users/mariarisques/TAED2_YOLOs/data/processed/masks_post/val/001307.png'): can't open/read file: check file path/integrity\n"
     ]
    },
    {
     "name": "stdout",
     "output_type": "stream",
     "text": [
      "Mask correctly processed and saved for the following file: 001307.jpg\n",
      "\n",
      "image 1/1 /Users/mariarisques/TAED2_YOLOs/data/processed/images/val/002168.jpg: 448x640 1 person, 2456.3ms\n",
      "Speed: 2.4ms preprocess, 2456.3ms inference, 3.2ms postprocess per image at shape (1, 3, 448, 640)\n"
     ]
    },
    {
     "name": "stderr",
     "output_type": "stream",
     "text": [
      "[ WARN:0@278.614] global loadsave.cpp:241 findDecoder imread_('/Users/mariarisques/TAED2_YOLOs/data/processed/masks_post/val/002168.png'): can't open/read file: check file path/integrity\n"
     ]
    },
    {
     "name": "stdout",
     "output_type": "stream",
     "text": [
      "Mask correctly processed and saved for the following file: 002168.jpg\n",
      "\n",
      "image 1/1 /Users/mariarisques/TAED2_YOLOs/data/processed/images/val/003276.jpg: 640x448 1 person, 2287.9ms\n",
      "Speed: 2.9ms preprocess, 2287.9ms inference, 2.8ms postprocess per image at shape (1, 3, 640, 448)\n"
     ]
    },
    {
     "name": "stderr",
     "output_type": "stream",
     "text": [
      "[ WARN:0@282.176] global loadsave.cpp:241 findDecoder imread_('/Users/mariarisques/TAED2_YOLOs/data/processed/masks_post/val/003276.png'): can't open/read file: check file path/integrity\n"
     ]
    },
    {
     "name": "stdout",
     "output_type": "stream",
     "text": [
      "Mask correctly processed and saved for the following file: 003276.jpg\n",
      "\n",
      "image 1/1 /Users/mariarisques/TAED2_YOLOs/data/processed/images/val/000780.jpg: 448x640 1 person, 2196.2ms\n",
      "Speed: 2.5ms preprocess, 2196.2ms inference, 3.0ms postprocess per image at shape (1, 3, 448, 640)\n"
     ]
    },
    {
     "name": "stderr",
     "output_type": "stream",
     "text": [
      "[ WARN:0@285.659] global loadsave.cpp:241 findDecoder imread_('/Users/mariarisques/TAED2_YOLOs/data/processed/masks_post/val/000780.png'): can't open/read file: check file path/integrity\n"
     ]
    },
    {
     "name": "stdout",
     "output_type": "stream",
     "text": [
      "Mask correctly processed and saved for the following file: 000780.jpg\n",
      "\n",
      "image 1/1 /Users/mariarisques/TAED2_YOLOs/data/processed/images/val/003288.jpg: 448x640 1 person, 2216.5ms\n",
      "Speed: 3.3ms preprocess, 2216.5ms inference, 4.0ms postprocess per image at shape (1, 3, 448, 640)\n"
     ]
    },
    {
     "name": "stderr",
     "output_type": "stream",
     "text": [
      "[ WARN:0@289.108] global loadsave.cpp:241 findDecoder imread_('/Users/mariarisques/TAED2_YOLOs/data/processed/masks_post/val/003288.png'): can't open/read file: check file path/integrity\n"
     ]
    },
    {
     "name": "stdout",
     "output_type": "stream",
     "text": [
      "Mask correctly processed and saved for the following file: 003288.jpg\n",
      "\n",
      "image 1/1 /Users/mariarisques/TAED2_YOLOs/data/processed/images/val/001448.jpg: 640x480 1 person, 2494.4ms\n",
      "Speed: 2.8ms preprocess, 2494.4ms inference, 5.7ms postprocess per image at shape (1, 3, 640, 480)\n"
     ]
    },
    {
     "name": "stderr",
     "output_type": "stream",
     "text": [
      "[ WARN:0@292.793] global loadsave.cpp:241 findDecoder imread_('/Users/mariarisques/TAED2_YOLOs/data/processed/masks_post/val/001448.png'): can't open/read file: check file path/integrity\n"
     ]
    },
    {
     "name": "stdout",
     "output_type": "stream",
     "text": [
      "Mask correctly processed and saved for the following file: 001448.jpg\n",
      "\n",
      "image 1/1 /Users/mariarisques/TAED2_YOLOs/data/processed/images/val/000756.jpg: 448x640 2 persons, 2159.3ms\n",
      "Speed: 3.5ms preprocess, 2159.3ms inference, 3.8ms postprocess per image at shape (1, 3, 448, 640)\n"
     ]
    },
    {
     "name": "stderr",
     "output_type": "stream",
     "text": [
      "[ WARN:0@296.280] global loadsave.cpp:241 findDecoder imread_('/Users/mariarisques/TAED2_YOLOs/data/processed/masks_post/val/000756.png'): can't open/read file: check file path/integrity\n"
     ]
    },
    {
     "name": "stdout",
     "output_type": "stream",
     "text": [
      "Mask correctly processed and saved for the following file: 000756.jpg\n",
      "\n",
      "image 1/1 /Users/mariarisques/TAED2_YOLOs/data/processed/images/val/004530.jpg: 448x640 1 person, 2237.1ms\n",
      "Speed: 3.3ms preprocess, 2237.1ms inference, 3.8ms postprocess per image at shape (1, 3, 448, 640)\n"
     ]
    },
    {
     "name": "stderr",
     "output_type": "stream",
     "text": [
      "[ WARN:0@299.757] global loadsave.cpp:241 findDecoder imread_('/Users/mariarisques/TAED2_YOLOs/data/processed/masks_post/val/004530.png'): can't open/read file: check file path/integrity\n"
     ]
    },
    {
     "name": "stdout",
     "output_type": "stream",
     "text": [
      "Mask correctly processed and saved for the following file: 004530.jpg\n",
      "\n",
      "image 1/1 /Users/mariarisques/TAED2_YOLOs/data/processed/images/val/004256.jpg: 448x640 1 person, 2228.4ms\n",
      "Speed: 3.4ms preprocess, 2228.4ms inference, 4.8ms postprocess per image at shape (1, 3, 448, 640)\n"
     ]
    },
    {
     "name": "stderr",
     "output_type": "stream",
     "text": [
      "[ WARN:0@303.184] global loadsave.cpp:241 findDecoder imread_('/Users/mariarisques/TAED2_YOLOs/data/processed/masks_post/val/004256.png'): can't open/read file: check file path/integrity\n"
     ]
    },
    {
     "name": "stdout",
     "output_type": "stream",
     "text": [
      "Mask correctly processed and saved for the following file: 004256.jpg\n",
      "\n",
      "image 1/1 /Users/mariarisques/TAED2_YOLOs/data/processed/images/val/001460.jpg: 448x640 1 person, 2206.9ms\n",
      "Speed: 3.2ms preprocess, 2206.9ms inference, 3.5ms postprocess per image at shape (1, 3, 448, 640)\n"
     ]
    },
    {
     "name": "stderr",
     "output_type": "stream",
     "text": [
      "[ WARN:0@306.660] global loadsave.cpp:241 findDecoder imread_('/Users/mariarisques/TAED2_YOLOs/data/processed/masks_post/val/001460.png'): can't open/read file: check file path/integrity\n"
     ]
    },
    {
     "name": "stdout",
     "output_type": "stream",
     "text": [
      "Mask correctly processed and saved for the following file: 001460.jpg\n",
      "\n",
      "image 1/1 /Users/mariarisques/TAED2_YOLOs/data/processed/images/val/003277.jpg: 448x640 1 person, 2068.6ms\n",
      "Speed: 2.5ms preprocess, 2068.6ms inference, 3.5ms postprocess per image at shape (1, 3, 448, 640)\n"
     ]
    },
    {
     "name": "stderr",
     "output_type": "stream",
     "text": [
      "[ WARN:0@309.998] global loadsave.cpp:241 findDecoder imread_('/Users/mariarisques/TAED2_YOLOs/data/processed/masks_post/val/003277.png'): can't open/read file: check file path/integrity\n"
     ]
    },
    {
     "name": "stdout",
     "output_type": "stream",
     "text": [
      "Mask correctly processed and saved for the following file: 003277.jpg\n",
      "\n",
      "image 1/1 /Users/mariarisques/TAED2_YOLOs/data/processed/images/val/000597.jpg: 448x640 1 person, 4347.7ms\n",
      "Speed: 5.2ms preprocess, 4347.7ms inference, 8.0ms postprocess per image at shape (1, 3, 448, 640)\n"
     ]
    },
    {
     "name": "stderr",
     "output_type": "stream",
     "text": [
      "[ WARN:0@315.643] global loadsave.cpp:241 findDecoder imread_('/Users/mariarisques/TAED2_YOLOs/data/processed/masks_post/val/000597.png'): can't open/read file: check file path/integrity\n"
     ]
    },
    {
     "name": "stdout",
     "output_type": "stream",
     "text": [
      "Mask correctly processed and saved for the following file: 000597.jpg\n",
      "\n",
      "image 1/1 /Users/mariarisques/TAED2_YOLOs/data/processed/images/val/003908.jpg: 448x640 1 person, 3390.5ms\n",
      "Speed: 4.1ms preprocess, 3390.5ms inference, 8.2ms postprocess per image at shape (1, 3, 448, 640)\n"
     ]
    },
    {
     "name": "stderr",
     "output_type": "stream",
     "text": [
      "[ WARN:0@320.816] global loadsave.cpp:241 findDecoder imread_('/Users/mariarisques/TAED2_YOLOs/data/processed/masks_post/val/003908.png'): can't open/read file: check file path/integrity\n"
     ]
    },
    {
     "name": "stdout",
     "output_type": "stream",
     "text": [
      "Mask correctly processed and saved for the following file: 003908.jpg\n",
      "\n",
      "image 1/1 /Users/mariarisques/TAED2_YOLOs/data/processed/images/val/001138.jpg: 416x640 1 person, 3332.9ms\n",
      "Speed: 3.2ms preprocess, 3332.9ms inference, 5.1ms postprocess per image at shape (1, 3, 416, 640)\n"
     ]
    },
    {
     "name": "stderr",
     "output_type": "stream",
     "text": [
      "[ WARN:0@325.518] global loadsave.cpp:241 findDecoder imread_('/Users/mariarisques/TAED2_YOLOs/data/processed/masks_post/val/001138.png'): can't open/read file: check file path/integrity\n"
     ]
    },
    {
     "name": "stdout",
     "output_type": "stream",
     "text": [
      "Mask correctly processed and saved for the following file: 001138.jpg\n",
      "\n",
      "image 1/1 /Users/mariarisques/TAED2_YOLOs/data/processed/images/val/001104.jpg: 448x640 1 person, 3191.7ms\n",
      "Speed: 3.5ms preprocess, 3191.7ms inference, 4.6ms postprocess per image at shape (1, 3, 448, 640)\n"
     ]
    },
    {
     "name": "stderr",
     "output_type": "stream",
     "text": [
      "[ WARN:0@330.039] global loadsave.cpp:241 findDecoder imread_('/Users/mariarisques/TAED2_YOLOs/data/processed/masks_post/val/001104.png'): can't open/read file: check file path/integrity\n"
     ]
    },
    {
     "name": "stdout",
     "output_type": "stream",
     "text": [
      "Mask correctly processed and saved for the following file: 001104.jpg\n",
      "\n",
      "image 1/1 /Users/mariarisques/TAED2_YOLOs/data/processed/images/val/004849.jpg: 448x640 1 person, 3178.6ms\n",
      "Speed: 4.3ms preprocess, 3178.6ms inference, 4.2ms postprocess per image at shape (1, 3, 448, 640)\n"
     ]
    },
    {
     "name": "stderr",
     "output_type": "stream",
     "text": [
      "[ WARN:0@335.293] global loadsave.cpp:241 findDecoder imread_('/Users/mariarisques/TAED2_YOLOs/data/processed/masks_post/val/004849.png'): can't open/read file: check file path/integrity\n"
     ]
    },
    {
     "name": "stdout",
     "output_type": "stream",
     "text": [
      "Mask correctly processed and saved for the following file: 004849.jpg\n",
      "\n",
      "image 1/1 /Users/mariarisques/TAED2_YOLOs/data/processed/images/val/001919.jpg: 448x640 1 person, 3140.0ms\n",
      "Speed: 3.8ms preprocess, 3140.0ms inference, 3.3ms postprocess per image at shape (1, 3, 448, 640)\n"
     ]
    },
    {
     "name": "stderr",
     "output_type": "stream",
     "text": [
      "[ WARN:0@339.781] global loadsave.cpp:241 findDecoder imread_('/Users/mariarisques/TAED2_YOLOs/data/processed/masks_post/val/001919.png'): can't open/read file: check file path/integrity\n"
     ]
    },
    {
     "name": "stdout",
     "output_type": "stream",
     "text": [
      "Mask correctly processed and saved for the following file: 001919.jpg\n",
      "\n",
      "image 1/1 /Users/mariarisques/TAED2_YOLOs/data/processed/images/val/004120.jpg: 448x640 1 person, 3382.0ms\n",
      "Speed: 4.9ms preprocess, 3382.0ms inference, 5.4ms postprocess per image at shape (1, 3, 448, 640)\n"
     ]
    },
    {
     "name": "stderr",
     "output_type": "stream",
     "text": [
      "[ WARN:0@344.668] global loadsave.cpp:241 findDecoder imread_('/Users/mariarisques/TAED2_YOLOs/data/processed/masks_post/val/004120.png'): can't open/read file: check file path/integrity\n"
     ]
    },
    {
     "name": "stdout",
     "output_type": "stream",
     "text": [
      "Mask correctly processed and saved for the following file: 004120.jpg\n",
      "\n",
      "image 1/1 /Users/mariarisques/TAED2_YOLOs/data/processed/images/val/001064.jpg: 640x448 1 person, 3140.9ms\n",
      "Speed: 4.3ms preprocess, 3140.9ms inference, 4.9ms postprocess per image at shape (1, 3, 640, 448)\n"
     ]
    },
    {
     "name": "stderr",
     "output_type": "stream",
     "text": [
      "[ WARN:0@349.152] global loadsave.cpp:241 findDecoder imread_('/Users/mariarisques/TAED2_YOLOs/data/processed/masks_post/val/001064.png'): can't open/read file: check file path/integrity\n"
     ]
    },
    {
     "name": "stdout",
     "output_type": "stream",
     "text": [
      "Mask correctly processed and saved for the following file: 001064.jpg\n",
      "\n",
      "image 1/1 /Users/mariarisques/TAED2_YOLOs/data/processed/images/val/002784.jpg: 640x448 1 person, 2937.9ms\n",
      "Speed: 5.3ms preprocess, 2937.9ms inference, 3.7ms postprocess per image at shape (1, 3, 640, 448)\n"
     ]
    },
    {
     "name": "stderr",
     "output_type": "stream",
     "text": [
      "[ WARN:0@353.557] global loadsave.cpp:241 findDecoder imread_('/Users/mariarisques/TAED2_YOLOs/data/processed/masks_post/val/002784.png'): can't open/read file: check file path/integrity\n"
     ]
    },
    {
     "name": "stdout",
     "output_type": "stream",
     "text": [
      "Mask correctly processed and saved for the following file: 002784.jpg\n",
      "\n",
      "image 1/1 /Users/mariarisques/TAED2_YOLOs/data/processed/images/val/001272.jpg: 448x640 1 person, 3278.1ms\n",
      "Speed: 3.7ms preprocess, 3278.1ms inference, 6.0ms postprocess per image at shape (1, 3, 448, 640)\n"
     ]
    },
    {
     "name": "stderr",
     "output_type": "stream",
     "text": [
      "[ WARN:0@358.346] global loadsave.cpp:241 findDecoder imread_('/Users/mariarisques/TAED2_YOLOs/data/processed/masks_post/val/001272.png'): can't open/read file: check file path/integrity\n"
     ]
    },
    {
     "name": "stdout",
     "output_type": "stream",
     "text": [
      "Mask correctly processed and saved for the following file: 001272.jpg\n",
      "\n",
      "image 1/1 /Users/mariarisques/TAED2_YOLOs/data/processed/images/val/002009.jpg: 448x640 2 persons, 2978.9ms\n",
      "Speed: 3.6ms preprocess, 2978.9ms inference, 6.2ms postprocess per image at shape (1, 3, 448, 640)\n"
     ]
    },
    {
     "name": "stderr",
     "output_type": "stream",
     "text": [
      "[ WARN:0@362.818] global loadsave.cpp:241 findDecoder imread_('/Users/mariarisques/TAED2_YOLOs/data/processed/masks_post/val/002009.png'): can't open/read file: check file path/integrity\n"
     ]
    },
    {
     "name": "stdout",
     "output_type": "stream",
     "text": [
      "Mask correctly processed and saved for the following file: 002009.jpg\n",
      "\n",
      "image 1/1 /Users/mariarisques/TAED2_YOLOs/data/processed/images/val/003471.jpg: 448x640 1 person, 3290.2ms\n",
      "Speed: 5.1ms preprocess, 3290.2ms inference, 6.8ms postprocess per image at shape (1, 3, 448, 640)\n"
     ]
    },
    {
     "name": "stderr",
     "output_type": "stream",
     "text": [
      "[ WARN:0@367.678] global loadsave.cpp:241 findDecoder imread_('/Users/mariarisques/TAED2_YOLOs/data/processed/masks_post/val/003471.png'): can't open/read file: check file path/integrity\n"
     ]
    },
    {
     "name": "stdout",
     "output_type": "stream",
     "text": [
      "Mask correctly processed and saved for the following file: 003471.jpg\n",
      "\n",
      "image 1/1 /Users/mariarisques/TAED2_YOLOs/data/processed/images/val/002757.jpg: 448x640 1 person, 3506.2ms\n",
      "Speed: 3.6ms preprocess, 3506.2ms inference, 4.0ms postprocess per image at shape (1, 3, 448, 640)\n"
     ]
    },
    {
     "name": "stderr",
     "output_type": "stream",
     "text": [
      "[ WARN:0@372.611] global loadsave.cpp:241 findDecoder imread_('/Users/mariarisques/TAED2_YOLOs/data/processed/masks_post/val/002757.png'): can't open/read file: check file path/integrity\n"
     ]
    },
    {
     "name": "stdout",
     "output_type": "stream",
     "text": [
      "Mask correctly processed and saved for the following file: 002757.jpg\n",
      "\n",
      "image 1/1 /Users/mariarisques/TAED2_YOLOs/data/processed/images/val/003449.jpg: 448x640 1 person, 4857.4ms\n",
      "Speed: 3.9ms preprocess, 4857.4ms inference, 3.8ms postprocess per image at shape (1, 3, 448, 640)\n"
     ]
    },
    {
     "name": "stderr",
     "output_type": "stream",
     "text": [
      "[ WARN:0@378.928] global loadsave.cpp:241 findDecoder imread_('/Users/mariarisques/TAED2_YOLOs/data/processed/masks_post/val/003449.png'): can't open/read file: check file path/integrity\n"
     ]
    },
    {
     "name": "stdout",
     "output_type": "stream",
     "text": [
      "Mask correctly processed and saved for the following file: 003449.jpg\n",
      "\n",
      "image 1/1 /Users/mariarisques/TAED2_YOLOs/data/processed/images/val/000632.jpg: 480x640 1 person, 3062.2ms\n",
      "Speed: 3.7ms preprocess, 3062.2ms inference, 3.8ms postprocess per image at shape (1, 3, 480, 640)\n"
     ]
    },
    {
     "name": "stderr",
     "output_type": "stream",
     "text": [
      "[ WARN:0@383.378] global loadsave.cpp:241 findDecoder imread_('/Users/mariarisques/TAED2_YOLOs/data/processed/masks_post/val/000632.png'): can't open/read file: check file path/integrity\n"
     ]
    },
    {
     "name": "stdout",
     "output_type": "stream",
     "text": [
      "Mask correctly processed and saved for the following file: 000632.jpg\n",
      "\n",
      "image 1/1 /Users/mariarisques/TAED2_YOLOs/data/processed/images/val/003475.jpg: 640x448 1 person, 3818.6ms\n",
      "Speed: 34.2ms preprocess, 3818.6ms inference, 5.0ms postprocess per image at shape (1, 3, 640, 448)\n"
     ]
    },
    {
     "name": "stderr",
     "output_type": "stream",
     "text": [
      "[ WARN:0@388.709] global loadsave.cpp:241 findDecoder imread_('/Users/mariarisques/TAED2_YOLOs/data/processed/masks_post/val/003475.png'): can't open/read file: check file path/integrity\n"
     ]
    },
    {
     "name": "stdout",
     "output_type": "stream",
     "text": [
      "Mask correctly processed and saved for the following file: 003475.jpg\n",
      "\n",
      "image 1/1 /Users/mariarisques/TAED2_YOLOs/data/processed/images/val/003313.jpg: 448x640 1 person, 3184.2ms\n",
      "Speed: 17.1ms preprocess, 3184.2ms inference, 3.9ms postprocess per image at shape (1, 3, 448, 640)\n"
     ]
    },
    {
     "name": "stderr",
     "output_type": "stream",
     "text": [
      "[ WARN:0@393.543] global loadsave.cpp:241 findDecoder imread_('/Users/mariarisques/TAED2_YOLOs/data/processed/masks_post/val/003313.png'): can't open/read file: check file path/integrity\n"
     ]
    },
    {
     "name": "stdout",
     "output_type": "stream",
     "text": [
      "Mask correctly processed and saved for the following file: 003313.jpg\n",
      "\n",
      "image 1/1 /Users/mariarisques/TAED2_YOLOs/data/processed/images/val/001276.jpg: 448x640 1 person, 4003.5ms\n",
      "Speed: 6.3ms preprocess, 4003.5ms inference, 4.0ms postprocess per image at shape (1, 3, 448, 640)\n"
     ]
    },
    {
     "name": "stderr",
     "output_type": "stream",
     "text": [
      "[ WARN:0@399.156] global loadsave.cpp:241 findDecoder imread_('/Users/mariarisques/TAED2_YOLOs/data/processed/masks_post/val/001276.png'): can't open/read file: check file path/integrity\n"
     ]
    },
    {
     "name": "stdout",
     "output_type": "stream",
     "text": [
      "Mask correctly processed and saved for the following file: 001276.jpg\n",
      "\n",
      "image 1/1 /Users/mariarisques/TAED2_YOLOs/data/processed/images/val/005010.jpg: 448x640 1 person, 4048.8ms\n",
      "Speed: 3.7ms preprocess, 4048.8ms inference, 6.0ms postprocess per image at shape (1, 3, 448, 640)\n"
     ]
    },
    {
     "name": "stderr",
     "output_type": "stream",
     "text": [
      "[ WARN:0@404.893] global loadsave.cpp:241 findDecoder imread_('/Users/mariarisques/TAED2_YOLOs/data/processed/masks_post/val/005010.png'): can't open/read file: check file path/integrity\n"
     ]
    },
    {
     "name": "stdout",
     "output_type": "stream",
     "text": [
      "Mask correctly processed and saved for the following file: 005010.jpg\n",
      "\n",
      "image 1/1 /Users/mariarisques/TAED2_YOLOs/data/processed/images/val/004483.jpg: 448x640 1 person, 3119.1ms\n",
      "Speed: 4.0ms preprocess, 3119.1ms inference, 3.8ms postprocess per image at shape (1, 3, 448, 640)\n"
     ]
    },
    {
     "name": "stderr",
     "output_type": "stream",
     "text": [
      "[ WARN:0@409.792] global loadsave.cpp:241 findDecoder imread_('/Users/mariarisques/TAED2_YOLOs/data/processed/masks_post/val/004483.png'): can't open/read file: check file path/integrity\n"
     ]
    },
    {
     "name": "stdout",
     "output_type": "stream",
     "text": [
      "Mask correctly processed and saved for the following file: 004483.jpg\n",
      "\n",
      "image 1/1 /Users/mariarisques/TAED2_YOLOs/data/processed/images/val/000829.jpg: 640x448 1 person, 3003.6ms\n",
      "Speed: 4.0ms preprocess, 3003.6ms inference, 6.6ms postprocess per image at shape (1, 3, 640, 448)\n"
     ]
    },
    {
     "name": "stderr",
     "output_type": "stream",
     "text": [
      "[ WARN:0@414.260] global loadsave.cpp:241 findDecoder imread_('/Users/mariarisques/TAED2_YOLOs/data/processed/masks_post/val/000829.png'): can't open/read file: check file path/integrity\n"
     ]
    },
    {
     "name": "stdout",
     "output_type": "stream",
     "text": [
      "Mask correctly processed and saved for the following file: 000829.jpg\n",
      "\n",
      "image 1/1 /Users/mariarisques/TAED2_YOLOs/data/processed/images/val/002970.jpg: 640x448 1 person, 3513.1ms\n",
      "Speed: 3.8ms preprocess, 3513.1ms inference, 4.1ms postprocess per image at shape (1, 3, 640, 448)\n"
     ]
    },
    {
     "name": "stderr",
     "output_type": "stream",
     "text": [
      "[ WARN:0@419.154] global loadsave.cpp:241 findDecoder imread_('/Users/mariarisques/TAED2_YOLOs/data/processed/masks_post/val/002970.png'): can't open/read file: check file path/integrity\n"
     ]
    },
    {
     "name": "stdout",
     "output_type": "stream",
     "text": [
      "Mask correctly processed and saved for the following file: 002970.jpg\n",
      "\n",
      "image 1/1 /Users/mariarisques/TAED2_YOLOs/data/processed/images/val/002233.jpg: 416x640 1 person, 2952.2ms\n",
      "Speed: 5.3ms preprocess, 2952.2ms inference, 4.4ms postprocess per image at shape (1, 3, 416, 640)\n"
     ]
    },
    {
     "name": "stderr",
     "output_type": "stream",
     "text": [
      "[ WARN:0@423.646] global loadsave.cpp:241 findDecoder imread_('/Users/mariarisques/TAED2_YOLOs/data/processed/masks_post/val/002233.png'): can't open/read file: check file path/integrity\n"
     ]
    },
    {
     "name": "stdout",
     "output_type": "stream",
     "text": [
      "Mask correctly processed and saved for the following file: 002233.jpg\n",
      "\n",
      "image 1/1 /Users/mariarisques/TAED2_YOLOs/data/processed/images/val/002227.jpg: 448x640 1 person, 3484.4ms\n",
      "Speed: 4.8ms preprocess, 3484.4ms inference, 4.6ms postprocess per image at shape (1, 3, 448, 640)\n"
     ]
    },
    {
     "name": "stderr",
     "output_type": "stream",
     "text": [
      "[ WARN:0@428.477] global loadsave.cpp:241 findDecoder imread_('/Users/mariarisques/TAED2_YOLOs/data/processed/masks_post/val/002227.png'): can't open/read file: check file path/integrity\n"
     ]
    },
    {
     "name": "stdout",
     "output_type": "stream",
     "text": [
      "Mask correctly processed and saved for the following file: 002227.jpg\n",
      "\n",
      "image 1/1 /Users/mariarisques/TAED2_YOLOs/data/processed/images/val/003677.jpg: 480x640 1 person, 3311.2ms\n",
      "Speed: 4.7ms preprocess, 3311.2ms inference, 4.3ms postprocess per image at shape (1, 3, 480, 640)\n"
     ]
    },
    {
     "name": "stderr",
     "output_type": "stream",
     "text": [
      "[ WARN:0@433.184] global loadsave.cpp:241 findDecoder imread_('/Users/mariarisques/TAED2_YOLOs/data/processed/masks_post/val/003677.png'): can't open/read file: check file path/integrity\n"
     ]
    },
    {
     "name": "stdout",
     "output_type": "stream",
     "text": [
      "Mask correctly processed and saved for the following file: 003677.jpg\n",
      "\n",
      "image 1/1 /Users/mariarisques/TAED2_YOLOs/data/processed/images/val/001712.jpg: 640x448 1 person, 2986.8ms\n",
      "Speed: 3.7ms preprocess, 2986.8ms inference, 4.4ms postprocess per image at shape (1, 3, 640, 448)\n"
     ]
    },
    {
     "name": "stderr",
     "output_type": "stream",
     "text": [
      "[ WARN:0@437.605] global loadsave.cpp:241 findDecoder imread_('/Users/mariarisques/TAED2_YOLOs/data/processed/masks_post/val/001712.png'): can't open/read file: check file path/integrity\n"
     ]
    },
    {
     "name": "stdout",
     "output_type": "stream",
     "text": [
      "Mask correctly processed and saved for the following file: 001712.jpg\n",
      "\n",
      "image 1/1 /Users/mariarisques/TAED2_YOLOs/data/processed/images/val/003850.jpg: 416x640 1 person, 2738.2ms\n",
      "Speed: 3.3ms preprocess, 2738.2ms inference, 5.2ms postprocess per image at shape (1, 3, 416, 640)\n"
     ]
    },
    {
     "name": "stderr",
     "output_type": "stream",
     "text": [
      "[ WARN:0@441.690] global loadsave.cpp:241 findDecoder imread_('/Users/mariarisques/TAED2_YOLOs/data/processed/masks_post/val/003850.png'): can't open/read file: check file path/integrity\n"
     ]
    },
    {
     "name": "stdout",
     "output_type": "stream",
     "text": [
      "Mask correctly processed and saved for the following file: 003850.jpg\n",
      "\n",
      "image 1/1 /Users/mariarisques/TAED2_YOLOs/data/processed/images/val/002582.jpg: 448x640 1 person, 2972.3ms\n",
      "Speed: 4.5ms preprocess, 2972.3ms inference, 3.4ms postprocess per image at shape (1, 3, 448, 640)\n"
     ]
    },
    {
     "name": "stderr",
     "output_type": "stream",
     "text": [
      "[ WARN:0@446.159] global loadsave.cpp:241 findDecoder imread_('/Users/mariarisques/TAED2_YOLOs/data/processed/masks_post/val/002582.png'): can't open/read file: check file path/integrity\n"
     ]
    },
    {
     "name": "stdout",
     "output_type": "stream",
     "text": [
      "Mask correctly processed and saved for the following file: 002582.jpg\n",
      "\n",
      "image 1/1 /Users/mariarisques/TAED2_YOLOs/data/processed/images/val/003059.jpg: 640x448 1 person, 3012.1ms\n",
      "Speed: 3.8ms preprocess, 3012.1ms inference, 3.6ms postprocess per image at shape (1, 3, 640, 448)\n"
     ]
    },
    {
     "name": "stderr",
     "output_type": "stream",
     "text": [
      "[ WARN:0@451.662] global loadsave.cpp:241 findDecoder imread_('/Users/mariarisques/TAED2_YOLOs/data/processed/masks_post/val/003059.png'): can't open/read file: check file path/integrity\n"
     ]
    },
    {
     "name": "stdout",
     "output_type": "stream",
     "text": [
      "Mask correctly processed and saved for the following file: 003059.jpg\n",
      "\n",
      "image 1/1 /Users/mariarisques/TAED2_YOLOs/data/processed/images/val/003703.jpg: 448x640 1 person, 3128.4ms\n",
      "Speed: 4.0ms preprocess, 3128.4ms inference, 4.7ms postprocess per image at shape (1, 3, 448, 640)\n"
     ]
    },
    {
     "name": "stderr",
     "output_type": "stream",
     "text": [
      "[ WARN:0@456.170] global loadsave.cpp:241 findDecoder imread_('/Users/mariarisques/TAED2_YOLOs/data/processed/masks_post/val/003703.png'): can't open/read file: check file path/integrity\n"
     ]
    },
    {
     "name": "stdout",
     "output_type": "stream",
     "text": [
      "Mask correctly processed and saved for the following file: 003703.jpg\n",
      "\n",
      "image 1/1 /Users/mariarisques/TAED2_YOLOs/data/processed/images/val/005366.jpg: 448x640 1 person, 3266.4ms\n",
      "Speed: 4.0ms preprocess, 3266.4ms inference, 3.6ms postprocess per image at shape (1, 3, 448, 640)\n"
     ]
    },
    {
     "name": "stderr",
     "output_type": "stream",
     "text": [
      "[ WARN:0@460.762] global loadsave.cpp:241 findDecoder imread_('/Users/mariarisques/TAED2_YOLOs/data/processed/masks_post/val/005366.png'): can't open/read file: check file path/integrity\n"
     ]
    },
    {
     "name": "stdout",
     "output_type": "stream",
     "text": [
      "Mask correctly processed and saved for the following file: 005366.jpg\n",
      "\n",
      "image 1/1 /Users/mariarisques/TAED2_YOLOs/data/processed/images/val/004078.jpg: 640x448 1 person, 2892.8ms\n",
      "Speed: 4.3ms preprocess, 2892.8ms inference, 3.1ms postprocess per image at shape (1, 3, 640, 448)\n"
     ]
    },
    {
     "name": "stderr",
     "output_type": "stream",
     "text": [
      "[ WARN:0@466.372] global loadsave.cpp:241 findDecoder imread_('/Users/mariarisques/TAED2_YOLOs/data/processed/masks_post/val/004078.png'): can't open/read file: check file path/integrity\n"
     ]
    },
    {
     "name": "stdout",
     "output_type": "stream",
     "text": [
      "Mask correctly processed and saved for the following file: 004078.jpg\n",
      "\n",
      "image 1/1 /Users/mariarisques/TAED2_YOLOs/data/processed/images/val/001100.jpg: 448x640 1 person, 1886.5ms\n",
      "Speed: 8.3ms preprocess, 1886.5ms inference, 3.3ms postprocess per image at shape (1, 3, 448, 640)\n"
     ]
    },
    {
     "name": "stderr",
     "output_type": "stream",
     "text": [
      "[ WARN:0@469.329] global loadsave.cpp:241 findDecoder imread_('/Users/mariarisques/TAED2_YOLOs/data/processed/masks_post/val/001100.png'): can't open/read file: check file path/integrity\n"
     ]
    },
    {
     "name": "stdout",
     "output_type": "stream",
     "text": [
      "Mask correctly processed and saved for the following file: 001100.jpg\n",
      "\n",
      "image 1/1 /Users/mariarisques/TAED2_YOLOs/data/processed/images/val/003930.jpg: 448x640 1 person, 14534.9ms\n",
      "Speed: 127.6ms preprocess, 14534.9ms inference, 65.8ms postprocess per image at shape (1, 3, 448, 640)\n"
     ]
    },
    {
     "name": "stderr",
     "output_type": "stream",
     "text": [
      "[ WARN:0@530.213] global loadsave.cpp:241 findDecoder imread_('/Users/mariarisques/TAED2_YOLOs/data/processed/masks_post/val/003930.png'): can't open/read file: check file path/integrity\n"
     ]
    },
    {
     "name": "stdout",
     "output_type": "stream",
     "text": [
      "Mask correctly processed and saved for the following file: 003930.jpg\n",
      "\n",
      "image 1/1 /Users/mariarisques/TAED2_YOLOs/data/processed/images/val/004939.jpg: 448x640 1 person, 7368.8ms\n",
      "Speed: 9.6ms preprocess, 7368.8ms inference, 7.9ms postprocess per image at shape (1, 3, 448, 640)\n"
     ]
    },
    {
     "name": "stderr",
     "output_type": "stream",
     "text": [
      "[ WARN:0@540.479] global loadsave.cpp:241 findDecoder imread_('/Users/mariarisques/TAED2_YOLOs/data/processed/masks_post/val/004939.png'): can't open/read file: check file path/integrity\n"
     ]
    },
    {
     "name": "stdout",
     "output_type": "stream",
     "text": [
      "Mask correctly processed and saved for the following file: 004939.jpg\n",
      "\n",
      "image 1/1 /Users/mariarisques/TAED2_YOLOs/data/processed/images/val/003918.jpg: 640x448 1 person, 2591.5ms\n",
      "Speed: 4.0ms preprocess, 2591.5ms inference, 4.5ms postprocess per image at shape (1, 3, 640, 448)\n"
     ]
    },
    {
     "name": "stderr",
     "output_type": "stream",
     "text": [
      "[ WARN:0@545.137] global loadsave.cpp:241 findDecoder imread_('/Users/mariarisques/TAED2_YOLOs/data/processed/masks_post/val/003918.png'): can't open/read file: check file path/integrity\n"
     ]
    },
    {
     "name": "stdout",
     "output_type": "stream",
     "text": [
      "Mask correctly processed and saved for the following file: 003918.jpg\n",
      "\n",
      "image 1/1 /Users/mariarisques/TAED2_YOLOs/data/processed/images/val/004534.jpg: 640x448 1 person, 3628.0ms\n",
      "Speed: 4.6ms preprocess, 3628.0ms inference, 6.4ms postprocess per image at shape (1, 3, 640, 448)\n"
     ]
    },
    {
     "name": "stderr",
     "output_type": "stream",
     "text": [
      "[ WARN:0@550.236] global loadsave.cpp:241 findDecoder imread_('/Users/mariarisques/TAED2_YOLOs/data/processed/masks_post/val/004534.png'): can't open/read file: check file path/integrity\n"
     ]
    },
    {
     "name": "stdout",
     "output_type": "stream",
     "text": [
      "Mask correctly processed and saved for the following file: 004534.jpg\n",
      "\n",
      "image 1/1 /Users/mariarisques/TAED2_YOLOs/data/processed/images/val/004520.jpg: 448x640 1 person, 2315.4ms\n",
      "Speed: 3.6ms preprocess, 2315.4ms inference, 4.5ms postprocess per image at shape (1, 3, 448, 640)\n"
     ]
    },
    {
     "name": "stderr",
     "output_type": "stream",
     "text": [
      "[ WARN:0@553.754] global loadsave.cpp:241 findDecoder imread_('/Users/mariarisques/TAED2_YOLOs/data/processed/masks_post/val/004520.png'): can't open/read file: check file path/integrity\n"
     ]
    },
    {
     "name": "stdout",
     "output_type": "stream",
     "text": [
      "Mask correctly processed and saved for the following file: 004520.jpg\n",
      "\n",
      "image 1/1 /Users/mariarisques/TAED2_YOLOs/data/processed/images/val/003529.jpg: 448x640 1 person, 2214.3ms\n",
      "Speed: 3.3ms preprocess, 2214.3ms inference, 3.2ms postprocess per image at shape (1, 3, 448, 640)\n"
     ]
    },
    {
     "name": "stderr",
     "output_type": "stream",
     "text": [
      "[ WARN:0@557.087] global loadsave.cpp:241 findDecoder imread_('/Users/mariarisques/TAED2_YOLOs/data/processed/masks_post/val/003529.png'): can't open/read file: check file path/integrity\n"
     ]
    },
    {
     "name": "stdout",
     "output_type": "stream",
     "text": [
      "Mask correctly processed and saved for the following file: 003529.jpg\n",
      "\n",
      "image 1/1 /Users/mariarisques/TAED2_YOLOs/data/processed/images/val/002637.jpg: 384x640 1 person, 2139.0ms\n",
      "Speed: 3.7ms preprocess, 2139.0ms inference, 3.8ms postprocess per image at shape (1, 3, 384, 640)\n"
     ]
    },
    {
     "name": "stderr",
     "output_type": "stream",
     "text": [
      "[ WARN:0@560.448] global loadsave.cpp:241 findDecoder imread_('/Users/mariarisques/TAED2_YOLOs/data/processed/masks_post/val/002637.png'): can't open/read file: check file path/integrity\n"
     ]
    },
    {
     "name": "stdout",
     "output_type": "stream",
     "text": [
      "Mask correctly processed and saved for the following file: 002637.jpg\n",
      "\n",
      "image 1/1 /Users/mariarisques/TAED2_YOLOs/data/processed/images/val/001470.jpg: 448x640 1 person, 2426.8ms\n",
      "Speed: 3.1ms preprocess, 2426.8ms inference, 3.7ms postprocess per image at shape (1, 3, 448, 640)\n"
     ]
    },
    {
     "name": "stderr",
     "output_type": "stream",
     "text": [
      "[ WARN:0@563.834] global loadsave.cpp:241 findDecoder imread_('/Users/mariarisques/TAED2_YOLOs/data/processed/masks_post/val/001470.png'): can't open/read file: check file path/integrity\n"
     ]
    },
    {
     "name": "stdout",
     "output_type": "stream",
     "text": [
      "Mask correctly processed and saved for the following file: 001470.jpg\n",
      "\n",
      "image 1/1 /Users/mariarisques/TAED2_YOLOs/data/processed/images/val/003267.jpg: 448x640 1 person, 2241.5ms\n",
      "Speed: 4.4ms preprocess, 2241.5ms inference, 2.8ms postprocess per image at shape (1, 3, 448, 640)\n"
     ]
    },
    {
     "name": "stderr",
     "output_type": "stream",
     "text": [
      "[ WARN:0@567.248] global loadsave.cpp:241 findDecoder imread_('/Users/mariarisques/TAED2_YOLOs/data/processed/masks_post/val/003267.png'): can't open/read file: check file path/integrity\n"
     ]
    },
    {
     "name": "stdout",
     "output_type": "stream",
     "text": [
      "Mask correctly processed and saved for the following file: 003267.jpg\n",
      "\n",
      "image 1/1 /Users/mariarisques/TAED2_YOLOs/data/processed/images/val/004508.jpg: 640x448 1 person, 2486.1ms\n",
      "Speed: 3.5ms preprocess, 2486.1ms inference, 3.4ms postprocess per image at shape (1, 3, 640, 448)\n"
     ]
    },
    {
     "name": "stderr",
     "output_type": "stream",
     "text": [
      "[ WARN:0@570.908] global loadsave.cpp:241 findDecoder imread_('/Users/mariarisques/TAED2_YOLOs/data/processed/masks_post/val/004508.png'): can't open/read file: check file path/integrity\n"
     ]
    },
    {
     "name": "stdout",
     "output_type": "stream",
     "text": [
      "Mask correctly processed and saved for the following file: 004508.jpg\n",
      "\n",
      "image 1/1 /Users/mariarisques/TAED2_YOLOs/data/processed/images/val/002811.jpg: 448x640 1 person, 2267.9ms\n",
      "Speed: 4.1ms preprocess, 2267.9ms inference, 3.7ms postprocess per image at shape (1, 3, 448, 640)\n"
     ]
    },
    {
     "name": "stderr",
     "output_type": "stream",
     "text": [
      "[ WARN:0@574.407] global loadsave.cpp:241 findDecoder imread_('/Users/mariarisques/TAED2_YOLOs/data/processed/masks_post/val/002811.png'): can't open/read file: check file path/integrity\n"
     ]
    },
    {
     "name": "stdout",
     "output_type": "stream",
     "text": [
      "Mask correctly processed and saved for the following file: 002811.jpg\n",
      "\n",
      "image 1/1 /Users/mariarisques/TAED2_YOLOs/data/processed/images/val/004290.jpg: 448x640 1 person, 2246.9ms\n",
      "Speed: 4.8ms preprocess, 2246.9ms inference, 3.6ms postprocess per image at shape (1, 3, 448, 640)\n"
     ]
    },
    {
     "name": "stderr",
     "output_type": "stream",
     "text": [
      "[ WARN:0@577.804] global loadsave.cpp:241 findDecoder imread_('/Users/mariarisques/TAED2_YOLOs/data/processed/masks_post/val/004290.png'): can't open/read file: check file path/integrity\n"
     ]
    },
    {
     "name": "stdout",
     "output_type": "stream",
     "text": [
      "Mask correctly processed and saved for the following file: 004290.jpg\n",
      "\n",
      "image 1/1 /Users/mariarisques/TAED2_YOLOs/data/processed/images/val/001303.jpg: 448x640 1 person, 4052.0ms\n",
      "Speed: 20.6ms preprocess, 4052.0ms inference, 5.7ms postprocess per image at shape (1, 3, 448, 640)\n"
     ]
    },
    {
     "name": "stderr",
     "output_type": "stream",
     "text": [
      "[ WARN:0@583.040] global loadsave.cpp:241 findDecoder imread_('/Users/mariarisques/TAED2_YOLOs/data/processed/masks_post/val/001303.png'): can't open/read file: check file path/integrity\n"
     ]
    },
    {
     "name": "stdout",
     "output_type": "stream",
     "text": [
      "Mask correctly processed and saved for the following file: 001303.jpg\n",
      "\n",
      "image 1/1 /Users/mariarisques/TAED2_YOLOs/data/processed/images/val/004904.jpg: 448x640 1 person, 4302.8ms\n",
      "Speed: 5.6ms preprocess, 4302.8ms inference, 4.5ms postprocess per image at shape (1, 3, 448, 640)\n"
     ]
    },
    {
     "name": "stderr",
     "output_type": "stream",
     "text": [
      "[ WARN:0@589.273] global loadsave.cpp:241 findDecoder imread_('/Users/mariarisques/TAED2_YOLOs/data/processed/masks_post/val/004904.png'): can't open/read file: check file path/integrity\n"
     ]
    },
    {
     "name": "stdout",
     "output_type": "stream",
     "text": [
      "Mask correctly processed and saved for the following file: 004904.jpg\n",
      "\n",
      "image 1/1 /Users/mariarisques/TAED2_YOLOs/data/processed/images/val/004910.jpg: 448x640 1 person, 2576.7ms\n",
      "Speed: 3.8ms preprocess, 2576.7ms inference, 3.2ms postprocess per image at shape (1, 3, 448, 640)\n"
     ]
    },
    {
     "name": "stderr",
     "output_type": "stream",
     "text": [
      "[ WARN:0@593.106] global loadsave.cpp:241 findDecoder imread_('/Users/mariarisques/TAED2_YOLOs/data/processed/masks_post/val/004910.png'): can't open/read file: check file path/integrity\n"
     ]
    },
    {
     "name": "stdout",
     "output_type": "stream",
     "text": [
      "Mask correctly processed and saved for the following file: 004910.jpg\n",
      "\n",
      "image 1/1 /Users/mariarisques/TAED2_YOLOs/data/processed/images/val/001868.jpg: 448x640 1 person, 2273.9ms\n",
      "Speed: 7.9ms preprocess, 2273.9ms inference, 2.9ms postprocess per image at shape (1, 3, 448, 640)\n"
     ]
    },
    {
     "name": "stderr",
     "output_type": "stream",
     "text": [
      "[ WARN:0@596.587] global loadsave.cpp:241 findDecoder imread_('/Users/mariarisques/TAED2_YOLOs/data/processed/masks_post/val/001868.png'): can't open/read file: check file path/integrity\n"
     ]
    },
    {
     "name": "stdout",
     "output_type": "stream",
     "text": [
      "Mask correctly processed and saved for the following file: 001868.jpg\n",
      "\n",
      "image 1/1 /Users/mariarisques/TAED2_YOLOs/data/processed/images/val/005398.jpg: 640x448 1 person, 2247.3ms\n",
      "Speed: 3.9ms preprocess, 2247.3ms inference, 2.9ms postprocess per image at shape (1, 3, 640, 448)\n"
     ]
    },
    {
     "name": "stderr",
     "output_type": "stream",
     "text": [
      "[ WARN:0@600.015] global loadsave.cpp:241 findDecoder imread_('/Users/mariarisques/TAED2_YOLOs/data/processed/masks_post/val/005398.png'): can't open/read file: check file path/integrity\n"
     ]
    },
    {
     "name": "stdout",
     "output_type": "stream",
     "text": [
      "Mask correctly processed and saved for the following file: 005398.jpg\n",
      "\n",
      "image 1/1 /Users/mariarisques/TAED2_YOLOs/data/processed/images/val/003931.jpg: 448x640 1 person, 2169.0ms\n",
      "Speed: 5.0ms preprocess, 2169.0ms inference, 3.0ms postprocess per image at shape (1, 3, 448, 640)\n"
     ]
    },
    {
     "name": "stderr",
     "output_type": "stream",
     "text": [
      "[ WARN:0@603.302] global loadsave.cpp:241 findDecoder imread_('/Users/mariarisques/TAED2_YOLOs/data/processed/masks_post/val/003931.png'): can't open/read file: check file path/integrity\n"
     ]
    },
    {
     "name": "stdout",
     "output_type": "stream",
     "text": [
      "Mask correctly processed and saved for the following file: 003931.jpg\n",
      "\n",
      "image 1/1 /Users/mariarisques/TAED2_YOLOs/data/processed/images/val/001840.jpg: 448x640 1 person, 2470.0ms\n",
      "Speed: 3.2ms preprocess, 2470.0ms inference, 5.3ms postprocess per image at shape (1, 3, 448, 640)\n"
     ]
    },
    {
     "name": "stderr",
     "output_type": "stream",
     "text": [
      "[ WARN:0@606.974] global loadsave.cpp:241 findDecoder imread_('/Users/mariarisques/TAED2_YOLOs/data/processed/masks_post/val/001840.png'): can't open/read file: check file path/integrity\n"
     ]
    },
    {
     "name": "stdout",
     "output_type": "stream",
     "text": [
      "Mask correctly processed and saved for the following file: 001840.jpg\n",
      "\n",
      "image 1/1 /Users/mariarisques/TAED2_YOLOs/data/processed/images/val/002408.jpg: 448x640 1 person, 2096.3ms\n",
      "Speed: 8.2ms preprocess, 2096.3ms inference, 5.3ms postprocess per image at shape (1, 3, 448, 640)\n"
     ]
    },
    {
     "name": "stderr",
     "output_type": "stream",
     "text": [
      "[ WARN:0@610.271] global loadsave.cpp:241 findDecoder imread_('/Users/mariarisques/TAED2_YOLOs/data/processed/masks_post/val/002408.png'): can't open/read file: check file path/integrity\n"
     ]
    },
    {
     "name": "stdout",
     "output_type": "stream",
     "text": [
      "Mask correctly processed and saved for the following file: 002408.jpg\n",
      "\n",
      "image 1/1 /Users/mariarisques/TAED2_YOLOs/data/processed/images/val/003070.jpg: 448x640 1 person, 76215.8ms\n",
      "Speed: 3.2ms preprocess, 76215.8ms inference, 2.9ms postprocess per image at shape (1, 3, 448, 640)\n"
     ]
    },
    {
     "name": "stderr",
     "output_type": "stream",
     "text": [
      "[ WARN:0@687.699] global loadsave.cpp:241 findDecoder imread_('/Users/mariarisques/TAED2_YOLOs/data/processed/masks_post/val/003070.png'): can't open/read file: check file path/integrity\n"
     ]
    },
    {
     "name": "stdout",
     "output_type": "stream",
     "text": [
      "Mask correctly processed and saved for the following file: 003070.jpg\n",
      "\n",
      "image 1/1 /Users/mariarisques/TAED2_YOLOs/data/processed/images/val/000579.jpg: 448x640 1 person, 1827.4ms\n",
      "Speed: 3.2ms preprocess, 1827.4ms inference, 2.7ms postprocess per image at shape (1, 3, 448, 640)\n"
     ]
    },
    {
     "name": "stderr",
     "output_type": "stream",
     "text": [
      "[ WARN:0@690.714] global loadsave.cpp:241 findDecoder imread_('/Users/mariarisques/TAED2_YOLOs/data/processed/masks_post/val/000579.png'): can't open/read file: check file path/integrity\n"
     ]
    },
    {
     "name": "stdout",
     "output_type": "stream",
     "text": [
      "Mask correctly processed and saved for the following file: 000579.jpg\n",
      "\n",
      "image 1/1 /Users/mariarisques/TAED2_YOLOs/data/processed/images/val/005415.jpg: 448x640 1 person, 1406.3ms\n",
      "Speed: 1.6ms preprocess, 1406.3ms inference, 2.7ms postprocess per image at shape (1, 3, 448, 640)\n"
     ]
    },
    {
     "name": "stderr",
     "output_type": "stream",
     "text": [
      "[ WARN:0@692.952] global loadsave.cpp:241 findDecoder imread_('/Users/mariarisques/TAED2_YOLOs/data/processed/masks_post/val/005415.png'): can't open/read file: check file path/integrity\n"
     ]
    },
    {
     "name": "stdout",
     "output_type": "stream",
     "text": [
      "Mask correctly processed and saved for the following file: 005415.jpg\n",
      "\n",
      "image 1/1 /Users/mariarisques/TAED2_YOLOs/data/processed/images/val/003064.jpg: 640x448 1 person, 1446.9ms\n",
      "Speed: 1.8ms preprocess, 1446.9ms inference, 2.5ms postprocess per image at shape (1, 3, 640, 448)\n"
     ]
    },
    {
     "name": "stderr",
     "output_type": "stream",
     "text": [
      "[ WARN:0@695.282] global loadsave.cpp:241 findDecoder imread_('/Users/mariarisques/TAED2_YOLOs/data/processed/masks_post/val/003064.png'): can't open/read file: check file path/integrity\n"
     ]
    },
    {
     "name": "stdout",
     "output_type": "stream",
     "text": [
      "Mask correctly processed and saved for the following file: 003064.jpg\n",
      "\n",
      "image 1/1 /Users/mariarisques/TAED2_YOLOs/data/processed/images/val/003702.jpg: 416x640 1 person, 1432.3ms\n",
      "Speed: 1.5ms preprocess, 1432.3ms inference, 2.4ms postprocess per image at shape (1, 3, 416, 640)\n"
     ]
    },
    {
     "name": "stderr",
     "output_type": "stream",
     "text": [
      "[ WARN:0@697.616] global loadsave.cpp:241 findDecoder imread_('/Users/mariarisques/TAED2_YOLOs/data/processed/masks_post/val/003702.png'): can't open/read file: check file path/integrity\n"
     ]
    },
    {
     "name": "stdout",
     "output_type": "stream",
     "text": [
      "Mask correctly processed and saved for the following file: 003702.jpg\n",
      "\n",
      "image 1/1 /Users/mariarisques/TAED2_YOLOs/data/processed/images/val/002434.jpg: 448x640 1 person, 1446.4ms\n",
      "Speed: 1.6ms preprocess, 1446.4ms inference, 2.3ms postprocess per image at shape (1, 3, 448, 640)\n"
     ]
    },
    {
     "name": "stderr",
     "output_type": "stream",
     "text": [
      "[ WARN:0@699.882] global loadsave.cpp:241 findDecoder imread_('/Users/mariarisques/TAED2_YOLOs/data/processed/masks_post/val/002434.png'): can't open/read file: check file path/integrity\n"
     ]
    },
    {
     "name": "stdout",
     "output_type": "stream",
     "text": [
      "Mask correctly processed and saved for the following file: 002434.jpg\n",
      "\n",
      "image 1/1 /Users/mariarisques/TAED2_YOLOs/data/processed/images/val/001883.jpg: 448x640 1 person, 1365.3ms\n",
      "Speed: 1.6ms preprocess, 1365.3ms inference, 2.5ms postprocess per image at shape (1, 3, 448, 640)\n"
     ]
    },
    {
     "name": "stderr",
     "output_type": "stream",
     "text": [
      "[ WARN:0@702.097] global loadsave.cpp:241 findDecoder imread_('/Users/mariarisques/TAED2_YOLOs/data/processed/masks_post/val/001883.png'): can't open/read file: check file path/integrity\n"
     ]
    },
    {
     "name": "stdout",
     "output_type": "stream",
     "text": [
      "Mask correctly processed and saved for the following file: 001883.jpg\n",
      "\n",
      "image 1/1 /Users/mariarisques/TAED2_YOLOs/data/processed/images/val/000545.jpg: 448x640 1 person, 1811.4ms\n",
      "Speed: 1.7ms preprocess, 1811.4ms inference, 7.7ms postprocess per image at shape (1, 3, 448, 640)\n"
     ]
    },
    {
     "name": "stderr",
     "output_type": "stream",
     "text": [
      "[ WARN:0@704.810] global loadsave.cpp:241 findDecoder imread_('/Users/mariarisques/TAED2_YOLOs/data/processed/masks_post/val/000545.png'): can't open/read file: check file path/integrity\n"
     ]
    },
    {
     "name": "stdout",
     "output_type": "stream",
     "text": [
      "Mask correctly processed and saved for the following file: 000545.jpg\n",
      "\n",
      "image 1/1 /Users/mariarisques/TAED2_YOLOs/data/processed/images/val/000551.jpg: 448x640 1 person, 2077.4ms\n",
      "Speed: 1.7ms preprocess, 2077.4ms inference, 3.2ms postprocess per image at shape (1, 3, 448, 640)\n"
     ]
    },
    {
     "name": "stderr",
     "output_type": "stream",
     "text": [
      "[ WARN:0@707.859] global loadsave.cpp:241 findDecoder imread_('/Users/mariarisques/TAED2_YOLOs/data/processed/masks_post/val/000551.png'): can't open/read file: check file path/integrity\n"
     ]
    },
    {
     "name": "stdout",
     "output_type": "stream",
     "text": [
      "Mask correctly processed and saved for the following file: 000551.jpg\n",
      "\n",
      "image 1/1 /Users/mariarisques/TAED2_YOLOs/data/processed/images/val/004051.jpg: 416x640 2 persons, 1324.3ms\n",
      "Speed: 1.5ms preprocess, 1324.3ms inference, 5.4ms postprocess per image at shape (1, 3, 416, 640)\n"
     ]
    },
    {
     "name": "stderr",
     "output_type": "stream",
     "text": [
      "[ WARN:0@710.040] global loadsave.cpp:241 findDecoder imread_('/Users/mariarisques/TAED2_YOLOs/data/processed/masks_post/val/004051.png'): can't open/read file: check file path/integrity\n"
     ]
    },
    {
     "name": "stdout",
     "output_type": "stream",
     "text": [
      "Mask correctly processed and saved for the following file: 004051.jpg\n",
      "\n",
      "image 1/1 /Users/mariarisques/TAED2_YOLOs/data/processed/images/val/001908.jpg: 448x640 1 person, 1488.6ms\n",
      "Speed: 1.6ms preprocess, 1488.6ms inference, 3.1ms postprocess per image at shape (1, 3, 448, 640)\n"
     ]
    },
    {
     "name": "stderr",
     "output_type": "stream",
     "text": [
      "[ WARN:0@712.315] global loadsave.cpp:241 findDecoder imread_('/Users/mariarisques/TAED2_YOLOs/data/processed/masks_post/val/001908.png'): can't open/read file: check file path/integrity\n"
     ]
    },
    {
     "name": "stdout",
     "output_type": "stream",
     "text": [
      "Mask correctly processed and saved for the following file: 001908.jpg\n",
      "\n",
      "image 1/1 /Users/mariarisques/TAED2_YOLOs/data/processed/images/val/004870.jpg: 448x640 1 person, 1375.3ms\n",
      "Speed: 1.6ms preprocess, 1375.3ms inference, 4.0ms postprocess per image at shape (1, 3, 448, 640)\n"
     ]
    },
    {
     "name": "stderr",
     "output_type": "stream",
     "text": [
      "[ WARN:0@714.579] global loadsave.cpp:241 findDecoder imread_('/Users/mariarisques/TAED2_YOLOs/data/processed/masks_post/val/004870.png'): can't open/read file: check file path/integrity\n"
     ]
    },
    {
     "name": "stdout",
     "output_type": "stream",
     "text": [
      "Mask correctly processed and saved for the following file: 004870.jpg\n",
      "\n",
      "image 1/1 /Users/mariarisques/TAED2_YOLOs/data/processed/images/val/001920.jpg: 448x640 1 person, 1569.4ms\n",
      "Speed: 1.7ms preprocess, 1569.4ms inference, 6.3ms postprocess per image at shape (1, 3, 448, 640)\n"
     ]
    },
    {
     "name": "stderr",
     "output_type": "stream",
     "text": [
      "[ WARN:0@717.061] global loadsave.cpp:241 findDecoder imread_('/Users/mariarisques/TAED2_YOLOs/data/processed/masks_post/val/001920.png'): can't open/read file: check file path/integrity\n"
     ]
    },
    {
     "name": "stdout",
     "output_type": "stream",
     "text": [
      "Mask correctly processed and saved for the following file: 001920.jpg\n",
      "\n",
      "image 1/1 /Users/mariarisques/TAED2_YOLOs/data/processed/images/val/003662.jpg: 640x448 1 person, 522.6ms\n",
      "Speed: 1.5ms preprocess, 522.6ms inference, 0.9ms postprocess per image at shape (1, 3, 640, 448)\n"
     ]
    },
    {
     "name": "stderr",
     "output_type": "stream",
     "text": [
      "[ WARN:0@721.091] global loadsave.cpp:241 findDecoder imread_('/Users/mariarisques/TAED2_YOLOs/data/processed/masks_post/val/003662.png'): can't open/read file: check file path/integrity\n"
     ]
    },
    {
     "name": "stdout",
     "output_type": "stream",
     "text": [
      "Mask correctly processed and saved for the following file: 003662.jpg\n",
      "\n",
      "image 1/1 /Users/mariarisques/TAED2_YOLOs/data/processed/images/val/003110.jpg: 320x640 1 person, 513.7ms\n",
      "Speed: 1.0ms preprocess, 513.7ms inference, 0.8ms postprocess per image at shape (1, 3, 320, 640)\n"
     ]
    },
    {
     "name": "stderr",
     "output_type": "stream",
     "text": [
      "[ WARN:0@722.070] global loadsave.cpp:241 findDecoder imread_('/Users/mariarisques/TAED2_YOLOs/data/processed/masks_post/val/003110.png'): can't open/read file: check file path/integrity\n"
     ]
    },
    {
     "name": "stdout",
     "output_type": "stream",
     "text": [
      "Mask correctly processed and saved for the following file: 003110.jpg\n",
      "\n",
      "image 1/1 /Users/mariarisques/TAED2_YOLOs/data/processed/images/val/002568.jpg: 448x640 1 person, 506.1ms\n",
      "Speed: 1.1ms preprocess, 506.1ms inference, 1.1ms postprocess per image at shape (1, 3, 448, 640)\n"
     ]
    },
    {
     "name": "stderr",
     "output_type": "stream",
     "text": [
      "[ WARN:0@722.896] global loadsave.cpp:241 findDecoder imread_('/Users/mariarisques/TAED2_YOLOs/data/processed/masks_post/val/002568.png'): can't open/read file: check file path/integrity\n"
     ]
    },
    {
     "name": "stdout",
     "output_type": "stream",
     "text": [
      "Mask correctly processed and saved for the following file: 002568.jpg\n",
      "\n",
      "image 1/1 /Users/mariarisques/TAED2_YOLOs/data/processed/images/val/004119.jpg: 640x448 1 person, 727.5ms\n",
      "Speed: 1.3ms preprocess, 727.5ms inference, 1.7ms postprocess per image at shape (1, 3, 640, 448)\n"
     ]
    },
    {
     "name": "stderr",
     "output_type": "stream",
     "text": [
      "[ WARN:0@724.089] global loadsave.cpp:241 findDecoder imread_('/Users/mariarisques/TAED2_YOLOs/data/processed/masks_post/val/004119.png'): can't open/read file: check file path/integrity\n"
     ]
    },
    {
     "name": "stdout",
     "output_type": "stream",
     "text": [
      "Mask correctly processed and saved for the following file: 004119.jpg\n",
      "\n",
      "image 1/1 /Users/mariarisques/TAED2_YOLOs/data/processed/images/val/001277.jpg: 640x416 1 person, 493.9ms\n",
      "Speed: 1.1ms preprocess, 493.9ms inference, 0.8ms postprocess per image at shape (1, 3, 640, 416)\n"
     ]
    },
    {
     "name": "stderr",
     "output_type": "stream",
     "text": [
      "[ WARN:0@725.047] global loadsave.cpp:241 findDecoder imread_('/Users/mariarisques/TAED2_YOLOs/data/processed/masks_post/val/001277.png'): can't open/read file: check file path/integrity\n"
     ]
    },
    {
     "name": "stdout",
     "output_type": "stream",
     "text": [
      "Mask correctly processed and saved for the following file: 001277.jpg\n",
      "\n",
      "image 1/1 /Users/mariarisques/TAED2_YOLOs/data/processed/images/val/003448.jpg: 448x640 1 person, 743.3ms\n",
      "Speed: 1.3ms preprocess, 743.3ms inference, 1.2ms postprocess per image at shape (1, 3, 448, 640)\n"
     ]
    },
    {
     "name": "stderr",
     "output_type": "stream",
     "text": [
      "[ WARN:0@726.252] global loadsave.cpp:241 findDecoder imread_('/Users/mariarisques/TAED2_YOLOs/data/processed/masks_post/val/003448.png'): can't open/read file: check file path/integrity\n"
     ]
    },
    {
     "name": "stdout",
     "output_type": "stream",
     "text": [
      "Mask correctly processed and saved for the following file: 003448.jpg\n",
      "\n",
      "image 1/1 /Users/mariarisques/TAED2_YOLOs/data/processed/images/val/002756.jpg: 448x640 1 person, 545.1ms\n",
      "Speed: 1.3ms preprocess, 545.1ms inference, 1.0ms postprocess per image at shape (1, 3, 448, 640)\n"
     ]
    },
    {
     "name": "stderr",
     "output_type": "stream",
     "text": [
      "[ WARN:0@727.299] global loadsave.cpp:241 findDecoder imread_('/Users/mariarisques/TAED2_YOLOs/data/processed/masks_post/val/002756.png'): can't open/read file: check file path/integrity\n"
     ]
    },
    {
     "name": "stdout",
     "output_type": "stream",
     "text": [
      "Mask correctly processed and saved for the following file: 002756.jpg\n",
      "\n",
      "image 1/1 /Users/mariarisques/TAED2_YOLOs/data/processed/images/val/002740.jpg: 384x640 1 person, 651.3ms\n",
      "Speed: 1.1ms preprocess, 651.3ms inference, 1.1ms postprocess per image at shape (1, 3, 384, 640)\n"
     ]
    },
    {
     "name": "stderr",
     "output_type": "stream",
     "text": [
      "[ WARN:0@728.444] global loadsave.cpp:241 findDecoder imread_('/Users/mariarisques/TAED2_YOLOs/data/processed/masks_post/val/002740.png'): can't open/read file: check file path/integrity\n"
     ]
    },
    {
     "name": "stdout",
     "output_type": "stream",
     "text": [
      "Mask correctly processed and saved for the following file: 002740.jpg\n",
      "\n",
      "image 1/1 /Users/mariarisques/TAED2_YOLOs/data/processed/images/val/004457.jpg: 448x640 2 persons, 528.5ms\n",
      "Speed: 1.4ms preprocess, 528.5ms inference, 1.3ms postprocess per image at shape (1, 3, 448, 640)\n"
     ]
    },
    {
     "name": "stderr",
     "output_type": "stream",
     "text": [
      "[ WARN:0@729.403] global loadsave.cpp:241 findDecoder imread_('/Users/mariarisques/TAED2_YOLOs/data/processed/masks_post/val/004457.png'): can't open/read file: check file path/integrity\n"
     ]
    },
    {
     "name": "stdout",
     "output_type": "stream",
     "text": [
      "Mask correctly processed and saved for the following file: 004457.jpg\n",
      "\n",
      "image 1/1 /Users/mariarisques/TAED2_YOLOs/data/processed/images/val/004443.jpg: 448x640 3 persons, 537.2ms\n",
      "Speed: 1.3ms preprocess, 537.2ms inference, 1.4ms postprocess per image at shape (1, 3, 448, 640)\n"
     ]
    },
    {
     "name": "stderr",
     "output_type": "stream",
     "text": [
      "[ WARN:0@730.418] global loadsave.cpp:241 findDecoder imread_('/Users/mariarisques/TAED2_YOLOs/data/processed/masks_post/val/004443.png'): can't open/read file: check file path/integrity\n"
     ]
    },
    {
     "name": "stdout",
     "output_type": "stream",
     "text": [
      "Mask correctly processed and saved for the following file: 004443.jpg\n",
      "\n",
      "image 1/1 /Users/mariarisques/TAED2_YOLOs/data/processed/images/val/001513.jpg: 448x640 1 person, 562.9ms\n",
      "Speed: 1.3ms preprocess, 562.9ms inference, 0.9ms postprocess per image at shape (1, 3, 448, 640)\n"
     ]
    },
    {
     "name": "stderr",
     "output_type": "stream",
     "text": [
      "[ WARN:0@731.462] global loadsave.cpp:241 findDecoder imread_('/Users/mariarisques/TAED2_YOLOs/data/processed/masks_post/val/001513.png'): can't open/read file: check file path/integrity\n"
     ]
    },
    {
     "name": "stdout",
     "output_type": "stream",
     "text": [
      "Mask correctly processed and saved for the following file: 001513.jpg\n",
      "\n",
      "image 1/1 /Users/mariarisques/TAED2_YOLOs/data/processed/images/val/001507.jpg: 448x640 2 persons, 515.0ms\n",
      "Speed: 1.2ms preprocess, 515.0ms inference, 1.6ms postprocess per image at shape (1, 3, 448, 640)\n"
     ]
    },
    {
     "name": "stderr",
     "output_type": "stream",
     "text": [
      "[ WARN:0@732.472] global loadsave.cpp:241 findDecoder imread_('/Users/mariarisques/TAED2_YOLOs/data/processed/masks_post/val/001507.png'): can't open/read file: check file path/integrity\n"
     ]
    },
    {
     "name": "stdout",
     "output_type": "stream",
     "text": [
      "Mask correctly processed and saved for the following file: 001507.jpg\n",
      "\n",
      "image 1/1 /Users/mariarisques/TAED2_YOLOs/data/processed/images/val/003476.jpg: 640x512 1 person, 1015.4ms\n",
      "Speed: 1.3ms preprocess, 1015.4ms inference, 1.9ms postprocess per image at shape (1, 3, 640, 512)\n"
     ]
    },
    {
     "name": "stderr",
     "output_type": "stream",
     "text": [
      "[ WARN:0@733.958] global loadsave.cpp:241 findDecoder imread_('/Users/mariarisques/TAED2_YOLOs/data/processed/masks_post/val/003476.png'): can't open/read file: check file path/integrity\n"
     ]
    },
    {
     "name": "stdout",
     "output_type": "stream",
     "text": [
      "Mask correctly processed and saved for the following file: 003476.jpg\n",
      "\n",
      "image 1/1 /Users/mariarisques/TAED2_YOLOs/data/processed/images/val/003489.jpg: 448x640 1 person, 563.6ms\n",
      "Speed: 1.3ms preprocess, 563.6ms inference, 0.9ms postprocess per image at shape (1, 3, 448, 640)\n"
     ]
    },
    {
     "name": "stderr",
     "output_type": "stream",
     "text": [
      "[ WARN:0@735.127] global loadsave.cpp:241 findDecoder imread_('/Users/mariarisques/TAED2_YOLOs/data/processed/masks_post/val/003489.png'): can't open/read file: check file path/integrity\n"
     ]
    },
    {
     "name": "stdout",
     "output_type": "stream",
     "text": [
      "Mask correctly processed and saved for the following file: 003489.jpg\n",
      "\n",
      "image 1/1 /Users/mariarisques/TAED2_YOLOs/data/processed/images/val/000816.jpg: 640x448 1 person, 547.1ms\n",
      "Speed: 1.3ms preprocess, 547.1ms inference, 1.4ms postprocess per image at shape (1, 3, 640, 448)\n"
     ]
    },
    {
     "name": "stderr",
     "output_type": "stream",
     "text": [
      "[ WARN:0@736.163] global loadsave.cpp:241 findDecoder imread_('/Users/mariarisques/TAED2_YOLOs/data/processed/masks_post/val/000816.png'): can't open/read file: check file path/integrity\n"
     ]
    },
    {
     "name": "stdout",
     "output_type": "stream",
     "text": [
      "Mask correctly processed and saved for the following file: 000816.jpg\n",
      "\n",
      "image 1/1 /Users/mariarisques/TAED2_YOLOs/data/processed/images/val/002542.jpg: 640x448 1 person, 677.2ms\n",
      "Speed: 1.4ms preprocess, 677.2ms inference, 1.3ms postprocess per image at shape (1, 3, 640, 448)\n"
     ]
    },
    {
     "name": "stderr",
     "output_type": "stream",
     "text": [
      "[ WARN:0@737.334] global loadsave.cpp:241 findDecoder imread_('/Users/mariarisques/TAED2_YOLOs/data/processed/masks_post/val/002542.png'): can't open/read file: check file path/integrity\n"
     ]
    },
    {
     "name": "stdout",
     "output_type": "stream",
     "text": [
      "Mask correctly processed and saved for the following file: 002542.jpg\n",
      "\n",
      "image 1/1 /Users/mariarisques/TAED2_YOLOs/data/processed/images/val/001077.jpg: 640x448 1 person, 536.7ms\n",
      "Speed: 1.3ms preprocess, 536.7ms inference, 1.4ms postprocess per image at shape (1, 3, 640, 448)\n"
     ]
    },
    {
     "name": "stderr",
     "output_type": "stream",
     "text": [
      "[ WARN:0@738.354] global loadsave.cpp:241 findDecoder imread_('/Users/mariarisques/TAED2_YOLOs/data/processed/masks_post/val/001077.png'): can't open/read file: check file path/integrity\n"
     ]
    },
    {
     "name": "stdout",
     "output_type": "stream",
     "text": [
      "Mask correctly processed and saved for the following file: 001077.jpg\n",
      "\n",
      "image 1/1 /Users/mariarisques/TAED2_YOLOs/data/processed/images/val/001063.jpg: 384x640 1 person, 447.1ms\n",
      "Speed: 1.2ms preprocess, 447.1ms inference, 1.2ms postprocess per image at shape (1, 3, 384, 640)\n"
     ]
    },
    {
     "name": "stderr",
     "output_type": "stream",
     "text": [
      "[ WARN:0@739.306] global loadsave.cpp:241 findDecoder imread_('/Users/mariarisques/TAED2_YOLOs/data/processed/masks_post/val/001063.png'): can't open/read file: check file path/integrity\n"
     ]
    },
    {
     "name": "stdout",
     "output_type": "stream",
     "text": [
      "Mask correctly processed and saved for the following file: 001063.jpg\n",
      "\n",
      "image 1/1 /Users/mariarisques/TAED2_YOLOs/data/processed/images/val/002581.jpg: 640x448 1 person, 559.8ms\n",
      "Speed: 1.3ms preprocess, 559.8ms inference, 1.3ms postprocess per image at shape (1, 3, 640, 448)\n"
     ]
    },
    {
     "name": "stderr",
     "output_type": "stream",
     "text": [
      "[ WARN:0@740.295] global loadsave.cpp:241 findDecoder imread_('/Users/mariarisques/TAED2_YOLOs/data/processed/masks_post/val/002581.png'): can't open/read file: check file path/integrity\n"
     ]
    },
    {
     "name": "stdout",
     "output_type": "stream",
     "text": [
      "Mask correctly processed and saved for the following file: 002581.jpg\n",
      "\n",
      "image 1/1 /Users/mariarisques/TAED2_YOLOs/data/processed/images/val/001922.jpg: 448x640 1 person, 542.4ms\n",
      "Speed: 1.3ms preprocess, 542.4ms inference, 1.2ms postprocess per image at shape (1, 3, 448, 640)\n"
     ]
    },
    {
     "name": "stderr",
     "output_type": "stream",
     "text": [
      "[ WARN:0@741.373] global loadsave.cpp:241 findDecoder imread_('/Users/mariarisques/TAED2_YOLOs/data/processed/masks_post/val/001922.png'): can't open/read file: check file path/integrity\n"
     ]
    },
    {
     "name": "stdout",
     "output_type": "stream",
     "text": [
      "Mask correctly processed and saved for the following file: 001922.jpg\n",
      "\n",
      "image 1/1 /Users/mariarisques/TAED2_YOLOs/data/processed/images/val/003072.jpg: 640x448 1 person, 535.5ms\n",
      "Speed: 1.2ms preprocess, 535.5ms inference, 1.2ms postprocess per image at shape (1, 3, 640, 448)\n"
     ]
    },
    {
     "name": "stderr",
     "output_type": "stream",
     "text": [
      "[ WARN:0@742.420] global loadsave.cpp:241 findDecoder imread_('/Users/mariarisques/TAED2_YOLOs/data/processed/masks_post/val/003072.png'): can't open/read file: check file path/integrity\n"
     ]
    },
    {
     "name": "stdout",
     "output_type": "stream",
     "text": [
      "Mask correctly processed and saved for the following file: 003072.jpg\n",
      "\n",
      "image 1/1 /Users/mariarisques/TAED2_YOLOs/data/processed/images/val/002378.jpg: 448x640 1 person, 514.2ms\n",
      "Speed: 1.2ms preprocess, 514.2ms inference, 1.4ms postprocess per image at shape (1, 3, 448, 640)\n"
     ]
    },
    {
     "name": "stderr",
     "output_type": "stream",
     "text": [
      "[ WARN:0@743.469] global loadsave.cpp:241 findDecoder imread_('/Users/mariarisques/TAED2_YOLOs/data/processed/masks_post/val/002378.png'): can't open/read file: check file path/integrity\n"
     ]
    },
    {
     "name": "stdout",
     "output_type": "stream",
     "text": [
      "Mask correctly processed and saved for the following file: 002378.jpg\n",
      "\n",
      "image 1/1 /Users/mariarisques/TAED2_YOLOs/data/processed/images/val/001842.jpg: 448x640 2 persons, 506.2ms\n",
      "Speed: 1.2ms preprocess, 506.2ms inference, 1.1ms postprocess per image at shape (1, 3, 448, 640)\n"
     ]
    },
    {
     "name": "stderr",
     "output_type": "stream",
     "text": [
      "[ WARN:0@744.495] global loadsave.cpp:241 findDecoder imread_('/Users/mariarisques/TAED2_YOLOs/data/processed/masks_post/val/001842.png'): can't open/read file: check file path/integrity\n"
     ]
    },
    {
     "name": "stdout",
     "output_type": "stream",
     "text": [
      "Mask correctly processed and saved for the following file: 001842.jpg\n",
      "\n",
      "image 1/1 /Users/mariarisques/TAED2_YOLOs/data/processed/images/val/002387.jpg: 416x640 1 person, 794.9ms\n",
      "Speed: 1.1ms preprocess, 794.9ms inference, 1.5ms postprocess per image at shape (1, 3, 416, 640)\n"
     ]
    },
    {
     "name": "stderr",
     "output_type": "stream",
     "text": [
      "[ WARN:0@745.799] global loadsave.cpp:241 findDecoder imread_('/Users/mariarisques/TAED2_YOLOs/data/processed/masks_post/val/002387.png'): can't open/read file: check file path/integrity\n"
     ]
    },
    {
     "name": "stdout",
     "output_type": "stream",
     "text": [
      "Mask correctly processed and saved for the following file: 002387.jpg\n",
      "\n",
      "image 1/1 /Users/mariarisques/TAED2_YOLOs/data/processed/images/val/004245.jpg: 448x640 1 person, 658.4ms\n",
      "Speed: 1.5ms preprocess, 658.4ms inference, 0.8ms postprocess per image at shape (1, 3, 448, 640)\n"
     ]
    },
    {
     "name": "stderr",
     "output_type": "stream",
     "text": [
      "[ WARN:0@746.902] global loadsave.cpp:241 findDecoder imread_('/Users/mariarisques/TAED2_YOLOs/data/processed/masks_post/val/004245.png'): can't open/read file: check file path/integrity\n"
     ]
    },
    {
     "name": "stdout",
     "output_type": "stream",
     "text": [
      "Mask correctly processed and saved for the following file: 004245.jpg\n",
      "\n",
      "image 1/1 /Users/mariarisques/TAED2_YOLOs/data/processed/images/val/002152.jpg: 640x448 1 person, 534.1ms\n",
      "Speed: 1.2ms preprocess, 534.1ms inference, 2.0ms postprocess per image at shape (1, 3, 640, 448)\n"
     ]
    },
    {
     "name": "stderr",
     "output_type": "stream",
     "text": [
      "[ WARN:0@747.913] global loadsave.cpp:241 findDecoder imread_('/Users/mariarisques/TAED2_YOLOs/data/processed/masks_post/val/002152.png'): can't open/read file: check file path/integrity\n"
     ]
    },
    {
     "name": "stdout",
     "output_type": "stream",
     "text": [
      "Mask correctly processed and saved for the following file: 002152.jpg\n",
      "\n",
      "image 1/1 /Users/mariarisques/TAED2_YOLOs/data/processed/images/val/003270.jpg: 640x448 1 person, 499.3ms\n",
      "Speed: 1.4ms preprocess, 499.3ms inference, 1.8ms postprocess per image at shape (1, 3, 640, 448)\n"
     ]
    },
    {
     "name": "stderr",
     "output_type": "stream",
     "text": [
      "[ WARN:0@748.907] global loadsave.cpp:241 findDecoder imread_('/Users/mariarisques/TAED2_YOLOs/data/processed/masks_post/val/003270.png'): can't open/read file: check file path/integrity\n"
     ]
    },
    {
     "name": "stdout",
     "output_type": "stream",
     "text": [
      "Mask correctly processed and saved for the following file: 003270.jpg\n",
      "\n",
      "image 1/1 /Users/mariarisques/TAED2_YOLOs/data/processed/images/val/001467.jpg: 448x640 1 person, 501.9ms\n",
      "Speed: 1.3ms preprocess, 501.9ms inference, 1.1ms postprocess per image at shape (1, 3, 448, 640)\n"
     ]
    },
    {
     "name": "stderr",
     "output_type": "stream",
     "text": [
      "[ WARN:0@749.890] global loadsave.cpp:241 findDecoder imread_('/Users/mariarisques/TAED2_YOLOs/data/processed/masks_post/val/001467.png'): can't open/read file: check file path/integrity\n"
     ]
    },
    {
     "name": "stdout",
     "output_type": "stream",
     "text": [
      "Mask correctly processed and saved for the following file: 001467.jpg\n",
      "\n",
      "image 1/1 /Users/mariarisques/TAED2_YOLOs/data/processed/images/val/001473.jpg: 448x640 1 person, 497.2ms\n",
      "Speed: 1.3ms preprocess, 497.2ms inference, 1.4ms postprocess per image at shape (1, 3, 448, 640)\n"
     ]
    },
    {
     "name": "stderr",
     "output_type": "stream",
     "text": [
      "[ WARN:0@750.847] global loadsave.cpp:241 findDecoder imread_('/Users/mariarisques/TAED2_YOLOs/data/processed/masks_post/val/001473.png'): can't open/read file: check file path/integrity\n"
     ]
    },
    {
     "name": "stdout",
     "output_type": "stream",
     "text": [
      "Mask correctly processed and saved for the following file: 001473.jpg\n",
      "\n",
      "image 1/1 /Users/mariarisques/TAED2_YOLOs/data/processed/images/val/003502.jpg: 416x640 1 person, 468.3ms\n",
      "Speed: 1.4ms preprocess, 468.3ms inference, 0.8ms postprocess per image at shape (1, 3, 416, 640)\n"
     ]
    },
    {
     "name": "stderr",
     "output_type": "stream",
     "text": [
      "[ WARN:0@751.777] global loadsave.cpp:241 findDecoder imread_('/Users/mariarisques/TAED2_YOLOs/data/processed/masks_post/val/003502.png'): can't open/read file: check file path/integrity\n"
     ]
    },
    {
     "name": "stdout",
     "output_type": "stream",
     "text": [
      "Mask correctly processed and saved for the following file: 003502.jpg\n",
      "\n",
      "image 1/1 /Users/mariarisques/TAED2_YOLOs/data/processed/images/val/005173.jpg: 448x640 1 person, 492.3ms\n",
      "Speed: 1.5ms preprocess, 492.3ms inference, 0.8ms postprocess per image at shape (1, 3, 448, 640)\n"
     ]
    },
    {
     "name": "stderr",
     "output_type": "stream",
     "text": [
      "[ WARN:0@752.733] global loadsave.cpp:241 findDecoder imread_('/Users/mariarisques/TAED2_YOLOs/data/processed/masks_post/val/005173.png'): can't open/read file: check file path/integrity\n"
     ]
    },
    {
     "name": "stdout",
     "output_type": "stream",
     "text": [
      "Mask correctly processed and saved for the following file: 005173.jpg\n",
      "\n",
      "image 1/1 /Users/mariarisques/TAED2_YOLOs/data/processed/images/val/002812.jpg: 640x448 1 person, 513.2ms\n",
      "Speed: 1.3ms preprocess, 513.2ms inference, 1.1ms postprocess per image at shape (1, 3, 640, 448)\n"
     ]
    },
    {
     "name": "stderr",
     "output_type": "stream",
     "text": [
      "[ WARN:0@753.704] global loadsave.cpp:241 findDecoder imread_('/Users/mariarisques/TAED2_YOLOs/data/processed/masks_post/val/002812.png'): can't open/read file: check file path/integrity\n"
     ]
    },
    {
     "name": "stdout",
     "output_type": "stream",
     "text": [
      "Mask correctly processed and saved for the following file: 002812.jpg\n",
      "\n",
      "image 1/1 /Users/mariarisques/TAED2_YOLOs/data/processed/images/val/004293.jpg: 448x640 1 person, 524.5ms\n",
      "Speed: 1.4ms preprocess, 524.5ms inference, 0.8ms postprocess per image at shape (1, 3, 448, 640)\n"
     ]
    },
    {
     "name": "stderr",
     "output_type": "stream",
     "text": [
      "[ WARN:0@754.695] global loadsave.cpp:241 findDecoder imread_('/Users/mariarisques/TAED2_YOLOs/data/processed/masks_post/val/004293.png'): can't open/read file: check file path/integrity\n"
     ]
    },
    {
     "name": "stdout",
     "output_type": "stream",
     "text": [
      "Mask correctly processed and saved for the following file: 004293.jpg\n",
      "\n",
      "image 1/1 /Users/mariarisques/TAED2_YOLOs/data/processed/images/val/000787.jpg: 416x640 1 person, 465.1ms\n",
      "Speed: 1.2ms preprocess, 465.1ms inference, 0.8ms postprocess per image at shape (1, 3, 416, 640)\n"
     ]
    },
    {
     "name": "stderr",
     "output_type": "stream",
     "text": [
      "[ WARN:0@755.634] global loadsave.cpp:241 findDecoder imread_('/Users/mariarisques/TAED2_YOLOs/data/processed/masks_post/val/000787.png'): can't open/read file: check file path/integrity\n"
     ]
    },
    {
     "name": "stdout",
     "output_type": "stream",
     "text": [
      "Mask correctly processed and saved for the following file: 000787.jpg\n",
      "\n",
      "image 1/1 /Users/mariarisques/TAED2_YOLOs/data/processed/images/val/005172.jpg: 384x640 1 person, 450.6ms\n",
      "Speed: 1.2ms preprocess, 450.6ms inference, 1.0ms postprocess per image at shape (1, 3, 384, 640)\n"
     ]
    },
    {
     "name": "stderr",
     "output_type": "stream",
     "text": [
      "[ WARN:0@756.552] global loadsave.cpp:241 findDecoder imread_('/Users/mariarisques/TAED2_YOLOs/data/processed/masks_post/val/005172.png'): can't open/read file: check file path/integrity\n"
     ]
    },
    {
     "name": "stdout",
     "output_type": "stream",
     "text": [
      "Mask correctly processed and saved for the following file: 005172.jpg\n",
      "\n",
      "image 1/1 /Users/mariarisques/TAED2_YOLOs/data/processed/images/val/004091.jpg: 640x512 1 person, 578.9ms\n",
      "Speed: 1.6ms preprocess, 578.9ms inference, 0.9ms postprocess per image at shape (1, 3, 640, 512)\n"
     ]
    },
    {
     "name": "stderr",
     "output_type": "stream",
     "text": [
      "[ WARN:0@757.526] global loadsave.cpp:241 findDecoder imread_('/Users/mariarisques/TAED2_YOLOs/data/processed/masks_post/val/004091.png'): can't open/read file: check file path/integrity\n"
     ]
    },
    {
     "name": "stdout",
     "output_type": "stream",
     "text": [
      "Mask correctly processed and saved for the following file: 004091.jpg\n",
      "\n",
      "image 1/1 /Users/mariarisques/TAED2_YOLOs/data/processed/images/val/001857.jpg: 448x640 1 person, 499.3ms\n",
      "Speed: 1.2ms preprocess, 499.3ms inference, 0.8ms postprocess per image at shape (1, 3, 448, 640)\n"
     ]
    },
    {
     "name": "stderr",
     "output_type": "stream",
     "text": [
      "[ WARN:0@758.580] global loadsave.cpp:241 findDecoder imread_('/Users/mariarisques/TAED2_YOLOs/data/processed/masks_post/val/001857.png'): can't open/read file: check file path/integrity\n"
     ]
    },
    {
     "name": "stdout",
     "output_type": "stream",
     "text": [
      "Mask correctly processed and saved for the following file: 001857.jpg\n",
      "\n",
      "image 1/1 /Users/mariarisques/TAED2_YOLOs/data/processed/images/val/003701.jpg: 448x640 1 person, 509.4ms\n",
      "Speed: 1.2ms preprocess, 509.4ms inference, 0.8ms postprocess per image at shape (1, 3, 448, 640)\n"
     ]
    },
    {
     "name": "stderr",
     "output_type": "stream",
     "text": [
      "[ WARN:0@759.564] global loadsave.cpp:241 findDecoder imread_('/Users/mariarisques/TAED2_YOLOs/data/processed/masks_post/val/003701.png'): can't open/read file: check file path/integrity\n"
     ]
    },
    {
     "name": "stdout",
     "output_type": "stream",
     "text": [
      "Mask correctly processed and saved for the following file: 003701.jpg\n",
      "\n",
      "image 1/1 /Users/mariarisques/TAED2_YOLOs/data/processed/images/val/001102.jpg: 448x640 1 person, 520.6ms\n",
      "Speed: 1.2ms preprocess, 520.6ms inference, 0.9ms postprocess per image at shape (1, 3, 448, 640)\n"
     ]
    },
    {
     "name": "stderr",
     "output_type": "stream",
     "text": [
      "[ WARN:0@760.553] global loadsave.cpp:241 findDecoder imread_('/Users/mariarisques/TAED2_YOLOs/data/processed/masks_post/val/001102.png'): can't open/read file: check file path/integrity\n"
     ]
    },
    {
     "name": "stdout",
     "output_type": "stream",
     "text": [
      "Mask correctly processed and saved for the following file: 001102.jpg\n",
      "\n",
      "image 1/1 /Users/mariarisques/TAED2_YOLOs/data/processed/images/val/002423.jpg: 384x640 1 person, 448.1ms\n",
      "Speed: 1.2ms preprocess, 448.1ms inference, 1.4ms postprocess per image at shape (1, 3, 384, 640)\n"
     ]
    },
    {
     "name": "stderr",
     "output_type": "stream",
     "text": [
      "[ WARN:0@761.502] global loadsave.cpp:241 findDecoder imread_('/Users/mariarisques/TAED2_YOLOs/data/processed/masks_post/val/002423.png'): can't open/read file: check file path/integrity\n"
     ]
    },
    {
     "name": "stdout",
     "output_type": "stream",
     "text": [
      "Mask correctly processed and saved for the following file: 002423.jpg\n",
      "\n",
      "image 1/1 /Users/mariarisques/TAED2_YOLOs/data/processed/images/val/001894.jpg: 448x640 1 person, 506.7ms\n",
      "Speed: 1.2ms preprocess, 506.7ms inference, 0.8ms postprocess per image at shape (1, 3, 448, 640)\n"
     ]
    },
    {
     "name": "stderr",
     "output_type": "stream",
     "text": [
      "[ WARN:0@762.412] global loadsave.cpp:241 findDecoder imread_('/Users/mariarisques/TAED2_YOLOs/data/processed/masks_post/val/001894.png'): can't open/read file: check file path/integrity\n"
     ]
    },
    {
     "name": "stdout",
     "output_type": "stream",
     "text": [
      "Mask correctly processed and saved for the following file: 001894.jpg\n",
      "\n",
      "image 1/1 /Users/mariarisques/TAED2_YOLOs/data/processed/images/val/005358.jpg: 448x640 1 person, 504.1ms\n",
      "Speed: 1.4ms preprocess, 504.1ms inference, 1.1ms postprocess per image at shape (1, 3, 448, 640)\n"
     ]
    },
    {
     "name": "stderr",
     "output_type": "stream",
     "text": [
      "[ WARN:0@763.386] global loadsave.cpp:241 findDecoder imread_('/Users/mariarisques/TAED2_YOLOs/data/processed/masks_post/val/005358.png'): can't open/read file: check file path/integrity\n"
     ]
    },
    {
     "name": "stdout",
     "output_type": "stream",
     "text": [
      "Mask correctly processed and saved for the following file: 005358.jpg\n",
      "\n",
      "image 1/1 /Users/mariarisques/TAED2_YOLOs/data/processed/images/val/004873.jpg: 448x640 1 person, 520.5ms\n",
      "Speed: 1.3ms preprocess, 520.5ms inference, 0.9ms postprocess per image at shape (1, 3, 448, 640)\n"
     ]
    },
    {
     "name": "stderr",
     "output_type": "stream",
     "text": [
      "[ WARN:0@764.383] global loadsave.cpp:241 findDecoder imread_('/Users/mariarisques/TAED2_YOLOs/data/processed/masks_post/val/004873.png'): can't open/read file: check file path/integrity\n"
     ]
    },
    {
     "name": "stdout",
     "output_type": "stream",
     "text": [
      "Mask correctly processed and saved for the following file: 004873.jpg\n",
      "\n",
      "image 1/1 /Users/mariarisques/TAED2_YOLOs/data/processed/images/val/003852.jpg: 448x640 1 person, 496.3ms\n",
      "Speed: 1.3ms preprocess, 496.3ms inference, 1.2ms postprocess per image at shape (1, 3, 448, 640)\n"
     ]
    },
    {
     "name": "stderr",
     "output_type": "stream",
     "text": [
      "[ WARN:0@765.339] global loadsave.cpp:241 findDecoder imread_('/Users/mariarisques/TAED2_YOLOs/data/processed/masks_post/val/003852.png'): can't open/read file: check file path/integrity\n"
     ]
    },
    {
     "name": "stdout",
     "output_type": "stream",
     "text": [
      "Mask correctly processed and saved for the following file: 003852.jpg\n",
      "\n",
      "image 1/1 /Users/mariarisques/TAED2_YOLOs/data/processed/images/val/002594.jpg: 640x384 1 person, 603.4ms\n",
      "Speed: 1.1ms preprocess, 603.4ms inference, 0.8ms postprocess per image at shape (1, 3, 640, 384)\n"
     ]
    },
    {
     "name": "stderr",
     "output_type": "stream",
     "text": [
      "[ WARN:0@766.416] global loadsave.cpp:241 findDecoder imread_('/Users/mariarisques/TAED2_YOLOs/data/processed/masks_post/val/002594.png'): can't open/read file: check file path/integrity\n"
     ]
    },
    {
     "name": "stdout",
     "output_type": "stream",
     "text": [
      "Mask correctly processed and saved for the following file: 002594.jpg\n",
      "\n",
      "image 1/1 /Users/mariarisques/TAED2_YOLOs/data/processed/images/val/004683.jpg: 448x640 1 person, 508.5ms\n",
      "Speed: 1.4ms preprocess, 508.5ms inference, 0.8ms postprocess per image at shape (1, 3, 448, 640)\n"
     ]
    },
    {
     "name": "stderr",
     "output_type": "stream",
     "text": [
      "[ WARN:0@767.335] global loadsave.cpp:241 findDecoder imread_('/Users/mariarisques/TAED2_YOLOs/data/processed/masks_post/val/004683.png'): can't open/read file: check file path/integrity\n"
     ]
    },
    {
     "name": "stdout",
     "output_type": "stream",
     "text": [
      "Mask correctly processed and saved for the following file: 004683.jpg\n",
      "\n",
      "image 1/1 /Users/mariarisques/TAED2_YOLOs/data/processed/images/val/004697.jpg: 448x640 1 person, 505.6ms\n",
      "Speed: 1.4ms preprocess, 505.6ms inference, 0.9ms postprocess per image at shape (1, 3, 448, 640)\n"
     ]
    },
    {
     "name": "stderr",
     "output_type": "stream",
     "text": [
      "[ WARN:0@768.301] global loadsave.cpp:241 findDecoder imread_('/Users/mariarisques/TAED2_YOLOs/data/processed/masks_post/val/004697.png'): can't open/read file: check file path/integrity\n"
     ]
    },
    {
     "name": "stdout",
     "output_type": "stream",
     "text": [
      "Mask correctly processed and saved for the following file: 004697.jpg\n",
      "\n",
      "image 1/1 /Users/mariarisques/TAED2_YOLOs/data/processed/images/val/001937.jpg: 384x640 1 person, 463.1ms\n",
      "Speed: 1.1ms preprocess, 463.1ms inference, 0.9ms postprocess per image at shape (1, 3, 384, 640)\n"
     ]
    },
    {
     "name": "stderr",
     "output_type": "stream",
     "text": [
      "[ WARN:0@769.222] global loadsave.cpp:241 findDecoder imread_('/Users/mariarisques/TAED2_YOLOs/data/processed/masks_post/val/001937.png'): can't open/read file: check file path/integrity\n"
     ]
    },
    {
     "name": "stdout",
     "output_type": "stream",
     "text": [
      "Mask correctly processed and saved for the following file: 001937.jpg\n",
      "\n",
      "image 1/1 /Users/mariarisques/TAED2_YOLOs/data/processed/images/val/003846.jpg: 448x640 1 person, 513.2ms\n",
      "Speed: 1.2ms preprocess, 513.2ms inference, 1.5ms postprocess per image at shape (1, 3, 448, 640)\n"
     ]
    },
    {
     "name": "stderr",
     "output_type": "stream",
     "text": [
      "[ WARN:0@770.131] global loadsave.cpp:241 findDecoder imread_('/Users/mariarisques/TAED2_YOLOs/data/processed/masks_post/val/003846.png'): can't open/read file: check file path/integrity\n"
     ]
    },
    {
     "name": "stdout",
     "output_type": "stream",
     "text": [
      "Mask correctly processed and saved for the following file: 003846.jpg\n",
      "\n",
      "image 1/1 /Users/mariarisques/TAED2_YOLOs/data/processed/images/val/001704.jpg: 640x448 1 person, 499.8ms\n",
      "Speed: 1.2ms preprocess, 499.8ms inference, 1.3ms postprocess per image at shape (1, 3, 640, 448)\n"
     ]
    },
    {
     "name": "stderr",
     "output_type": "stream",
     "text": [
      "[ WARN:0@771.111] global loadsave.cpp:241 findDecoder imread_('/Users/mariarisques/TAED2_YOLOs/data/processed/masks_post/val/001704.png'): can't open/read file: check file path/integrity\n"
     ]
    },
    {
     "name": "stdout",
     "output_type": "stream",
     "text": [
      "Mask correctly processed and saved for the following file: 001704.jpg\n",
      "\n",
      "image 1/1 /Users/mariarisques/TAED2_YOLOs/data/processed/images/val/003891.jpg: 416x640 1 person, 467.8ms\n",
      "Speed: 1.2ms preprocess, 467.8ms inference, 1.5ms postprocess per image at shape (1, 3, 416, 640)\n"
     ]
    },
    {
     "name": "stderr",
     "output_type": "stream",
     "text": [
      "[ WARN:0@772.050] global loadsave.cpp:241 findDecoder imread_('/Users/mariarisques/TAED2_YOLOs/data/processed/masks_post/val/003891.png'): can't open/read file: check file path/integrity\n"
     ]
    },
    {
     "name": "stdout",
     "output_type": "stream",
     "text": [
      "Mask correctly processed and saved for the following file: 003891.jpg\n",
      "\n",
      "image 1/1 /Users/mariarisques/TAED2_YOLOs/data/processed/images/val/002557.jpg: 416x640 1 person, 457.6ms\n",
      "Speed: 1.2ms preprocess, 457.6ms inference, 0.8ms postprocess per image at shape (1, 3, 416, 640)\n"
     ]
    },
    {
     "name": "stderr",
     "output_type": "stream",
     "text": [
      "[ WARN:0@772.941] global loadsave.cpp:241 findDecoder imread_('/Users/mariarisques/TAED2_YOLOs/data/processed/masks_post/val/002557.png'): can't open/read file: check file path/integrity\n"
     ]
    },
    {
     "name": "stdout",
     "output_type": "stream",
     "text": [
      "Mask correctly processed and saved for the following file: 002557.jpg\n",
      "\n",
      "image 1/1 /Users/mariarisques/TAED2_YOLOs/data/processed/images/val/002225.jpg: 448x640 1 person, 520.8ms\n",
      "Speed: 1.2ms preprocess, 520.8ms inference, 1.4ms postprocess per image at shape (1, 3, 448, 640)\n"
     ]
    },
    {
     "name": "stderr",
     "output_type": "stream",
     "text": [
      "[ WARN:0@773.914] global loadsave.cpp:241 findDecoder imread_('/Users/mariarisques/TAED2_YOLOs/data/processed/masks_post/val/002225.png'): can't open/read file: check file path/integrity\n"
     ]
    },
    {
     "name": "stdout",
     "output_type": "stream",
     "text": [
      "Mask correctly processed and saved for the following file: 002225.jpg\n",
      "\n",
      "image 1/1 /Users/mariarisques/TAED2_YOLOs/data/processed/images/val/003885.jpg: 416x640 1 person, 473.0ms\n",
      "Speed: 1.2ms preprocess, 473.0ms inference, 0.8ms postprocess per image at shape (1, 3, 416, 640)\n"
     ]
    },
    {
     "name": "stderr",
     "output_type": "stream",
     "text": [
      "[ WARN:0@774.847] global loadsave.cpp:241 findDecoder imread_('/Users/mariarisques/TAED2_YOLOs/data/processed/masks_post/val/003885.png'): can't open/read file: check file path/integrity\n"
     ]
    },
    {
     "name": "stdout",
     "output_type": "stream",
     "text": [
      "Mask correctly processed and saved for the following file: 003885.jpg\n",
      "\n",
      "image 1/1 /Users/mariarisques/TAED2_YOLOs/data/processed/images/val/000803.jpg: 448x640 1 person, 510.9ms\n",
      "Speed: 1.2ms preprocess, 510.9ms inference, 0.9ms postprocess per image at shape (1, 3, 448, 640)\n"
     ]
    },
    {
     "name": "stderr",
     "output_type": "stream",
     "text": [
      "[ WARN:0@775.829] global loadsave.cpp:241 findDecoder imread_('/Users/mariarisques/TAED2_YOLOs/data/processed/masks_post/val/000803.png'): can't open/read file: check file path/integrity\n"
     ]
    },
    {
     "name": "stdout",
     "output_type": "stream",
     "text": [
      "Mask correctly processed and saved for the following file: 000803.jpg\n",
      "\n",
      "image 1/1 /Users/mariarisques/TAED2_YOLOs/data/processed/images/val/003311.jpg: 448x640 1 person, 517.7ms\n",
      "Speed: 1.3ms preprocess, 517.7ms inference, 1.1ms postprocess per image at shape (1, 3, 448, 640)\n"
     ]
    },
    {
     "name": "stderr",
     "output_type": "stream",
     "text": [
      "[ WARN:0@776.816] global loadsave.cpp:241 findDecoder imread_('/Users/mariarisques/TAED2_YOLOs/data/processed/masks_post/val/003311.png'): can't open/read file: check file path/integrity\n"
     ]
    },
    {
     "name": "stdout",
     "output_type": "stream",
     "text": [
      "Mask correctly processed and saved for the following file: 003311.jpg\n",
      "\n",
      "image 1/1 /Users/mariarisques/TAED2_YOLOs/data/processed/images/val/005012.jpg: 448x640 1 person, 511.0ms\n",
      "Speed: 1.4ms preprocess, 511.0ms inference, 0.8ms postprocess per image at shape (1, 3, 448, 640)\n"
     ]
    },
    {
     "name": "stderr",
     "output_type": "stream",
     "text": [
      "[ WARN:0@777.793] global loadsave.cpp:241 findDecoder imread_('/Users/mariarisques/TAED2_YOLOs/data/processed/masks_post/val/005012.png'): can't open/read file: check file path/integrity\n"
     ]
    },
    {
     "name": "stdout",
     "output_type": "stream",
     "text": [
      "Mask correctly processed and saved for the following file: 005012.jpg\n",
      "\n",
      "image 1/1 /Users/mariarisques/TAED2_YOLOs/data/processed/images/val/000624.jpg: 448x640 1 person, 520.4ms\n",
      "Speed: 1.3ms preprocess, 520.4ms inference, 0.8ms postprocess per image at shape (1, 3, 448, 640)\n"
     ]
    },
    {
     "name": "stderr",
     "output_type": "stream",
     "text": [
      "[ WARN:0@778.779] global loadsave.cpp:241 findDecoder imread_('/Users/mariarisques/TAED2_YOLOs/data/processed/masks_post/val/000624.png'): can't open/read file: check file path/integrity\n"
     ]
    },
    {
     "name": "stdout",
     "output_type": "stream",
     "text": [
      "Mask correctly processed and saved for the following file: 000624.jpg\n",
      "\n",
      "image 1/1 /Users/mariarisques/TAED2_YOLOs/data/processed/images/val/002999.jpg: 448x640 1 person, 496.1ms\n",
      "Speed: 1.3ms preprocess, 496.1ms inference, 1.2ms postprocess per image at shape (1, 3, 448, 640)\n"
     ]
    },
    {
     "name": "stderr",
     "output_type": "stream",
     "text": [
      "[ WARN:0@779.754] global loadsave.cpp:241 findDecoder imread_('/Users/mariarisques/TAED2_YOLOs/data/processed/masks_post/val/002999.png'): can't open/read file: check file path/integrity\n"
     ]
    },
    {
     "name": "stdout",
     "output_type": "stream",
     "text": [
      "Mask correctly processed and saved for the following file: 002999.jpg\n",
      "\n",
      "image 1/1 /Users/mariarisques/TAED2_YOLOs/data/processed/images/val/002741.jpg: 448x640 1 person, 514.5ms\n",
      "Speed: 1.2ms preprocess, 514.5ms inference, 1.5ms postprocess per image at shape (1, 3, 448, 640)\n"
     ]
    },
    {
     "name": "stderr",
     "output_type": "stream",
     "text": [
      "[ WARN:0@780.734] global loadsave.cpp:241 findDecoder imread_('/Users/mariarisques/TAED2_YOLOs/data/processed/masks_post/val/002741.png'): can't open/read file: check file path/integrity\n"
     ]
    },
    {
     "name": "stdout",
     "output_type": "stream",
     "text": [
      "Mask correctly processed and saved for the following file: 002741.jpg\n",
      "\n",
      "image 1/1 /Users/mariarisques/TAED2_YOLOs/data/processed/images/val/003362.jpg: 448x640 1 person, 517.7ms\n",
      "Speed: 1.2ms preprocess, 517.7ms inference, 1.0ms postprocess per image at shape (1, 3, 448, 640)\n"
     ]
    },
    {
     "name": "stderr",
     "output_type": "stream",
     "text": [
      "[ WARN:0@781.734] global loadsave.cpp:241 findDecoder imread_('/Users/mariarisques/TAED2_YOLOs/data/processed/masks_post/val/003362.png'): can't open/read file: check file path/integrity\n"
     ]
    },
    {
     "name": "stdout",
     "output_type": "stream",
     "text": [
      "Mask correctly processed and saved for the following file: 003362.jpg\n",
      "\n",
      "image 1/1 /Users/mariarisques/TAED2_YOLOs/data/processed/images/val/002726.jpg: 448x640 2 persons, 509.7ms\n",
      "Speed: 1.2ms preprocess, 509.7ms inference, 2.0ms postprocess per image at shape (1, 3, 448, 640)\n"
     ]
    },
    {
     "name": "stderr",
     "output_type": "stream",
     "text": [
      "[ WARN:0@782.716] global loadsave.cpp:241 findDecoder imread_('/Users/mariarisques/TAED2_YOLOs/data/processed/masks_post/val/002726.png'): can't open/read file: check file path/integrity\n"
     ]
    },
    {
     "name": "stdout",
     "output_type": "stream",
     "text": [
      "Mask correctly processed and saved for the following file: 002726.jpg\n",
      "\n",
      "image 1/1 /Users/mariarisques/TAED2_YOLOs/data/processed/images/val/004357.jpg: 416x640 2 persons, 470.8ms\n",
      "Speed: 1.4ms preprocess, 470.8ms inference, 1.0ms postprocess per image at shape (1, 3, 416, 640)\n"
     ]
    },
    {
     "name": "stderr",
     "output_type": "stream",
     "text": [
      "[ WARN:0@783.670] global loadsave.cpp:241 findDecoder imread_('/Users/mariarisques/TAED2_YOLOs/data/processed/masks_post/val/004357.png'): can't open/read file: check file path/integrity\n"
     ]
    },
    {
     "name": "stdout",
     "output_type": "stream",
     "text": [
      "Mask correctly processed and saved for the following file: 004357.jpg\n",
      "\n",
      "image 1/1 /Users/mariarisques/TAED2_YOLOs/data/processed/images/val/001549.jpg: 448x640 1 person, 501.9ms\n",
      "Speed: 1.3ms preprocess, 501.9ms inference, 0.8ms postprocess per image at shape (1, 3, 448, 640)\n"
     ]
    },
    {
     "name": "stderr",
     "output_type": "stream",
     "text": [
      "[ WARN:0@784.591] global loadsave.cpp:241 findDecoder imread_('/Users/mariarisques/TAED2_YOLOs/data/processed/masks_post/val/001549.png'): can't open/read file: check file path/integrity\n"
     ]
    },
    {
     "name": "stdout",
     "output_type": "stream",
     "text": [
      "Mask correctly processed and saved for the following file: 001549.jpg\n",
      "\n",
      "image 1/1 /Users/mariarisques/TAED2_YOLOs/data/processed/images/val/004394.jpg: 448x640 1 person, 519.9ms\n",
      "Speed: 1.2ms preprocess, 519.9ms inference, 0.9ms postprocess per image at shape (1, 3, 448, 640)\n"
     ]
    },
    {
     "name": "stderr",
     "output_type": "stream",
     "text": [
      "[ WARN:0@785.574] global loadsave.cpp:241 findDecoder imread_('/Users/mariarisques/TAED2_YOLOs/data/processed/masks_post/val/004394.png'): can't open/read file: check file path/integrity\n"
     ]
    },
    {
     "name": "stdout",
     "output_type": "stream",
     "text": [
      "Mask correctly processed and saved for the following file: 004394.jpg\n",
      "\n",
      "image 1/1 /Users/mariarisques/TAED2_YOLOs/data/processed/images/val/000694.jpg: 640x448 1 person, 504.4ms\n",
      "Speed: 1.3ms preprocess, 504.4ms inference, 1.4ms postprocess per image at shape (1, 3, 640, 448)\n"
     ]
    },
    {
     "name": "stderr",
     "output_type": "stream",
     "text": [
      "[ WARN:0@786.554] global loadsave.cpp:241 findDecoder imread_('/Users/mariarisques/TAED2_YOLOs/data/processed/masks_post/val/000694.png'): can't open/read file: check file path/integrity\n"
     ]
    },
    {
     "name": "stdout",
     "output_type": "stream",
     "text": [
      "Mask correctly processed and saved for the following file: 000694.jpg\n",
      "\n",
      "image 1/1 /Users/mariarisques/TAED2_YOLOs/data/processed/images/val/003389.jpg: 448x640 1 person, 530.3ms\n",
      "Speed: 1.2ms preprocess, 530.3ms inference, 1.3ms postprocess per image at shape (1, 3, 448, 640)\n"
     ]
    },
    {
     "name": "stderr",
     "output_type": "stream",
     "text": [
      "[ WARN:0@787.614] global loadsave.cpp:241 findDecoder imread_('/Users/mariarisques/TAED2_YOLOs/data/processed/masks_post/val/003389.png'): can't open/read file: check file path/integrity\n"
     ]
    },
    {
     "name": "stdout",
     "output_type": "stream",
     "text": [
      "Mask correctly processed and saved for the following file: 003389.jpg\n",
      "\n",
      "image 1/1 /Users/mariarisques/TAED2_YOLOs/data/processed/images/val/001011.jpg: 448x640 1 person, 516.8ms\n",
      "Speed: 1.3ms preprocess, 516.8ms inference, 1.0ms postprocess per image at shape (1, 3, 448, 640)\n"
     ]
    },
    {
     "name": "stderr",
     "output_type": "stream",
     "text": [
      "[ WARN:0@788.618] global loadsave.cpp:241 findDecoder imread_('/Users/mariarisques/TAED2_YOLOs/data/processed/masks_post/val/001011.png'): can't open/read file: check file path/integrity\n"
     ]
    },
    {
     "name": "stdout",
     "output_type": "stream",
     "text": [
      "Mask correctly processed and saved for the following file: 001011.jpg\n",
      "\n",
      "image 1/1 /Users/mariarisques/TAED2_YOLOs/data/processed/images/val/003606.jpg: 448x640 1 person, 511.5ms\n",
      "Speed: 1.2ms preprocess, 511.5ms inference, 0.8ms postprocess per image at shape (1, 3, 448, 640)\n"
     ]
    },
    {
     "name": "stderr",
     "output_type": "stream",
     "text": [
      "[ WARN:0@789.599] global loadsave.cpp:241 findDecoder imread_('/Users/mariarisques/TAED2_YOLOs/data/processed/masks_post/val/003606.png'): can't open/read file: check file path/integrity\n"
     ]
    },
    {
     "name": "stdout",
     "output_type": "stream",
     "text": [
      "Mask correctly processed and saved for the following file: 003606.jpg\n",
      "\n",
      "image 1/1 /Users/mariarisques/TAED2_YOLOs/data/processed/images/val/003174.jpg: 384x640 1 person, 458.9ms\n",
      "Speed: 1.0ms preprocess, 458.9ms inference, 1.2ms postprocess per image at shape (1, 3, 384, 640)\n"
     ]
    },
    {
     "name": "stderr",
     "output_type": "stream",
     "text": [
      "[ WARN:0@790.517] global loadsave.cpp:241 findDecoder imread_('/Users/mariarisques/TAED2_YOLOs/data/processed/masks_post/val/003174.png'): can't open/read file: check file path/integrity\n"
     ]
    },
    {
     "name": "stdout",
     "output_type": "stream",
     "text": [
      "Mask correctly processed and saved for the following file: 003174.jpg\n",
      "\n",
      "image 1/1 /Users/mariarisques/TAED2_YOLOs/data/processed/images/val/002524.jpg: 448x640 1 person, 511.2ms\n",
      "Speed: 1.2ms preprocess, 511.2ms inference, 0.8ms postprocess per image at shape (1, 3, 448, 640)\n"
     ]
    },
    {
     "name": "stderr",
     "output_type": "stream",
     "text": [
      "[ WARN:0@791.453] global loadsave.cpp:241 findDecoder imread_('/Users/mariarisques/TAED2_YOLOs/data/processed/masks_post/val/002524.png'): can't open/read file: check file path/integrity\n"
     ]
    },
    {
     "name": "stdout",
     "output_type": "stream",
     "text": [
      "Mask correctly processed and saved for the following file: 002524.jpg\n",
      "\n",
      "image 1/1 /Users/mariarisques/TAED2_YOLOs/data/processed/images/val/001039.jpg: 448x640 1 person, 521.4ms\n",
      "Speed: 1.2ms preprocess, 521.4ms inference, 1.1ms postprocess per image at shape (1, 3, 448, 640)\n"
     ]
    },
    {
     "name": "stderr",
     "output_type": "stream",
     "text": [
      "[ WARN:0@792.435] global loadsave.cpp:241 findDecoder imread_('/Users/mariarisques/TAED2_YOLOs/data/processed/masks_post/val/001039.png'): can't open/read file: check file path/integrity\n"
     ]
    },
    {
     "name": "stdout",
     "output_type": "stream",
     "text": [
      "Mask correctly processed and saved for the following file: 001039.jpg\n",
      "\n",
      "image 1/1 /Users/mariarisques/TAED2_YOLOs/data/processed/images/val/002256.jpg: 352x640 1 person, 550.5ms\n",
      "Speed: 1.1ms preprocess, 550.5ms inference, 0.8ms postprocess per image at shape (1, 3, 352, 640)\n"
     ]
    },
    {
     "name": "stderr",
     "output_type": "stream",
     "text": [
      "[ WARN:0@793.446] global loadsave.cpp:241 findDecoder imread_('/Users/mariarisques/TAED2_YOLOs/data/processed/masks_post/val/002256.png'): can't open/read file: check file path/integrity\n"
     ]
    },
    {
     "name": "stdout",
     "output_type": "stream",
     "text": [
      "Mask correctly processed and saved for the following file: 002256.jpg\n",
      "\n",
      "image 1/1 /Users/mariarisques/TAED2_YOLOs/data/processed/images/val/004814.jpg: 640x448 1 person, 510.1ms\n",
      "Speed: 1.2ms preprocess, 510.1ms inference, 1.4ms postprocess per image at shape (1, 3, 640, 448)\n"
     ]
    },
    {
     "name": "stderr",
     "output_type": "stream",
     "text": [
      "[ WARN:0@794.338] global loadsave.cpp:241 findDecoder imread_('/Users/mariarisques/TAED2_YOLOs/data/processed/masks_post/val/004814.png'): can't open/read file: check file path/integrity\n"
     ]
    },
    {
     "name": "stdout",
     "output_type": "stream",
     "text": [
      "Mask correctly processed and saved for the following file: 004814.jpg\n",
      "\n",
      "image 1/1 /Users/mariarisques/TAED2_YOLOs/data/processed/images/val/003809.jpg: 384x640 1 person, 472.1ms\n",
      "Speed: 1.1ms preprocess, 472.1ms inference, 0.9ms postprocess per image at shape (1, 3, 384, 640)\n"
     ]
    },
    {
     "name": "stderr",
     "output_type": "stream",
     "text": [
      "[ WARN:0@795.279] global loadsave.cpp:241 findDecoder imread_('/Users/mariarisques/TAED2_YOLOs/data/processed/masks_post/val/003809.png'): can't open/read file: check file path/integrity\n"
     ]
    },
    {
     "name": "stdout",
     "output_type": "stream",
     "text": [
      "Mask correctly processed and saved for the following file: 003809.jpg\n",
      "\n",
      "image 1/1 /Users/mariarisques/TAED2_YOLOs/data/processed/images/val/002281.jpg: 448x640 1 person, 522.3ms\n",
      "Speed: 1.2ms preprocess, 522.3ms inference, 1.5ms postprocess per image at shape (1, 3, 448, 640)\n"
     ]
    },
    {
     "name": "stderr",
     "output_type": "stream",
     "text": [
      "[ WARN:0@796.205] global loadsave.cpp:241 findDecoder imread_('/Users/mariarisques/TAED2_YOLOs/data/processed/masks_post/val/002281.png'): can't open/read file: check file path/integrity\n"
     ]
    },
    {
     "name": "stdout",
     "output_type": "stream",
     "text": [
      "Mask correctly processed and saved for the following file: 002281.jpg\n",
      "\n",
      "image 1/1 /Users/mariarisques/TAED2_YOLOs/data/processed/images/val/005288.jpg: 480x640 1 person, 561.5ms\n",
      "Speed: 1.4ms preprocess, 561.5ms inference, 0.9ms postprocess per image at shape (1, 3, 480, 640)\n"
     ]
    },
    {
     "name": "stderr",
     "output_type": "stream",
     "text": [
      "[ WARN:0@797.224] global loadsave.cpp:241 findDecoder imread_('/Users/mariarisques/TAED2_YOLOs/data/processed/masks_post/val/005288.png'): can't open/read file: check file path/integrity\n"
     ]
    },
    {
     "name": "stdout",
     "output_type": "stream",
     "text": [
      "Mask correctly processed and saved for the following file: 005288.jpg\n",
      "\n",
      "image 1/1 /Users/mariarisques/TAED2_YOLOs/data/processed/images/val/003835.jpg: 448x640 1 person, 518.7ms\n",
      "Speed: 1.5ms preprocess, 518.7ms inference, 0.8ms postprocess per image at shape (1, 3, 448, 640)\n"
     ]
    },
    {
     "name": "stderr",
     "output_type": "stream",
     "text": [
      "[ WARN:0@798.225] global loadsave.cpp:241 findDecoder imread_('/Users/mariarisques/TAED2_YOLOs/data/processed/masks_post/val/003835.png'): can't open/read file: check file path/integrity\n"
     ]
    },
    {
     "name": "stdout",
     "output_type": "stream",
     "text": [
      "Mask correctly processed and saved for the following file: 003835.jpg\n",
      "\n",
      "image 1/1 /Users/mariarisques/TAED2_YOLOs/data/processed/images/val/001944.jpg: 416x640 1 person, 491.9ms\n",
      "Speed: 1.1ms preprocess, 491.9ms inference, 0.8ms postprocess per image at shape (1, 3, 416, 640)\n"
     ]
    },
    {
     "name": "stderr",
     "output_type": "stream",
     "text": [
      "[ WARN:0@799.186] global loadsave.cpp:241 findDecoder imread_('/Users/mariarisques/TAED2_YOLOs/data/processed/masks_post/val/001944.png'): can't open/read file: check file path/integrity\n"
     ]
    },
    {
     "name": "stdout",
     "output_type": "stream",
     "text": [
      "Mask correctly processed and saved for the following file: 001944.jpg\n",
      "\n",
      "image 1/1 /Users/mariarisques/TAED2_YOLOs/data/processed/images/val/003014.jpg: 448x640 1 person, 486.2ms\n",
      "Speed: 1.2ms preprocess, 486.2ms inference, 1.4ms postprocess per image at shape (1, 3, 448, 640)\n"
     ]
    },
    {
     "name": "stderr",
     "output_type": "stream",
     "text": [
      "[ WARN:0@800.117] global loadsave.cpp:241 findDecoder imread_('/Users/mariarisques/TAED2_YOLOs/data/processed/masks_post/val/003014.png'): can't open/read file: check file path/integrity\n"
     ]
    },
    {
     "name": "stdout",
     "output_type": "stream",
     "text": [
      "Mask correctly processed and saved for the following file: 003014.jpg\n",
      "\n",
      "image 1/1 /Users/mariarisques/TAED2_YOLOs/data/processed/images/val/003000.jpg: 384x640 1 person, 452.7ms\n",
      "Speed: 1.3ms preprocess, 452.7ms inference, 0.8ms postprocess per image at shape (1, 3, 384, 640)\n"
     ]
    },
    {
     "name": "stderr",
     "output_type": "stream",
     "text": [
      "[ WARN:0@801.031] global loadsave.cpp:241 findDecoder imread_('/Users/mariarisques/TAED2_YOLOs/data/processed/masks_post/val/003000.png'): can't open/read file: check file path/integrity\n"
     ]
    },
    {
     "name": "stdout",
     "output_type": "stream",
     "text": [
      "Mask correctly processed and saved for the following file: 003000.jpg\n",
      "\n",
      "image 1/1 /Users/mariarisques/TAED2_YOLOs/data/processed/images/val/004753.jpg: 448x640 1 person, 510.3ms\n",
      "Speed: 1.7ms preprocess, 510.3ms inference, 1.0ms postprocess per image at shape (1, 3, 448, 640)\n"
     ]
    },
    {
     "name": "stderr",
     "output_type": "stream",
     "text": [
      "[ WARN:0@801.939] global loadsave.cpp:241 findDecoder imread_('/Users/mariarisques/TAED2_YOLOs/data/processed/masks_post/val/004753.png'): can't open/read file: check file path/integrity\n"
     ]
    },
    {
     "name": "stdout",
     "output_type": "stream",
     "text": [
      "Mask correctly processed and saved for the following file: 004753.jpg\n",
      "\n",
      "image 1/1 /Users/mariarisques/TAED2_YOLOs/data/processed/images/val/003969.jpg: 448x640 1 person, 545.9ms\n",
      "Speed: 1.4ms preprocess, 545.9ms inference, 0.8ms postprocess per image at shape (1, 3, 448, 640)\n"
     ]
    },
    {
     "name": "stderr",
     "output_type": "stream",
     "text": [
      "[ WARN:0@802.952] global loadsave.cpp:241 findDecoder imread_('/Users/mariarisques/TAED2_YOLOs/data/processed/masks_post/val/003969.png'): can't open/read file: check file path/integrity\n"
     ]
    },
    {
     "name": "stdout",
     "output_type": "stream",
     "text": [
      "Mask correctly processed and saved for the following file: 003969.jpg\n",
      "\n",
      "image 1/1 /Users/mariarisques/TAED2_YOLOs/data/processed/images/val/002493.jpg: 448x640 1 person, 522.1ms\n",
      "Speed: 1.4ms preprocess, 522.1ms inference, 0.9ms postprocess per image at shape (1, 3, 448, 640)\n"
     ]
    },
    {
     "name": "stderr",
     "output_type": "stream",
     "text": [
      "[ WARN:0@803.945] global loadsave.cpp:241 findDecoder imread_('/Users/mariarisques/TAED2_YOLOs/data/processed/masks_post/val/002493.png'): can't open/read file: check file path/integrity\n"
     ]
    },
    {
     "name": "stdout",
     "output_type": "stream",
     "text": [
      "Mask correctly processed and saved for the following file: 002493.jpg\n",
      "\n",
      "image 1/1 /Users/mariarisques/TAED2_YOLOs/data/processed/images/val/003955.jpg: 416x640 1 person, 512.9ms\n",
      "Speed: 1.2ms preprocess, 512.9ms inference, 0.8ms postprocess per image at shape (1, 3, 416, 640)\n"
     ]
    },
    {
     "name": "stderr",
     "output_type": "stream",
     "text": [
      "[ WARN:0@804.918] global loadsave.cpp:241 findDecoder imread_('/Users/mariarisques/TAED2_YOLOs/data/processed/masks_post/val/003955.png'): can't open/read file: check file path/integrity\n"
     ]
    },
    {
     "name": "stdout",
     "output_type": "stream",
     "text": [
      "Mask correctly processed and saved for the following file: 003955.jpg\n",
      "\n",
      "image 1/1 /Users/mariarisques/TAED2_YOLOs/data/processed/images/val/002487.jpg: 448x640 1 person, 532.7ms\n",
      "Speed: 1.3ms preprocess, 532.7ms inference, 0.8ms postprocess per image at shape (1, 3, 448, 640)\n"
     ]
    },
    {
     "name": "stderr",
     "output_type": "stream",
     "text": [
      "[ WARN:0@805.884] global loadsave.cpp:241 findDecoder imread_('/Users/mariarisques/TAED2_YOLOs/data/processed/masks_post/val/002487.png'): can't open/read file: check file path/integrity\n"
     ]
    },
    {
     "name": "stdout",
     "output_type": "stream",
     "text": [
      "Mask correctly processed and saved for the following file: 002487.jpg\n",
      "\n",
      "image 1/1 /Users/mariarisques/TAED2_YOLOs/data/processed/images/val/005101.jpg: 448x640 1 person, 514.6ms\n",
      "Speed: 1.2ms preprocess, 514.6ms inference, 1.4ms postprocess per image at shape (1, 3, 448, 640)\n"
     ]
    },
    {
     "name": "stderr",
     "output_type": "stream",
     "text": [
      "[ WARN:0@806.869] global loadsave.cpp:241 findDecoder imread_('/Users/mariarisques/TAED2_YOLOs/data/processed/masks_post/val/005101.png'): can't open/read file: check file path/integrity\n"
     ]
    },
    {
     "name": "stdout",
     "output_type": "stream",
     "text": [
      "Mask correctly processed and saved for the following file: 005101.jpg\n",
      "\n",
      "image 1/1 /Users/mariarisques/TAED2_YOLOs/data/processed/images/val/001401.jpg: 640x448 1 person, 527.2ms\n",
      "Speed: 1.3ms preprocess, 527.2ms inference, 0.8ms postprocess per image at shape (1, 3, 640, 448)\n"
     ]
    },
    {
     "name": "stderr",
     "output_type": "stream",
     "text": [
      "[ WARN:0@807.884] global loadsave.cpp:241 findDecoder imread_('/Users/mariarisques/TAED2_YOLOs/data/processed/masks_post/val/001401.png'): can't open/read file: check file path/integrity\n"
     ]
    },
    {
     "name": "stdout",
     "output_type": "stream",
     "text": [
      "Mask correctly processed and saved for the following file: 001401.jpg\n",
      "\n",
      "image 1/1 /Users/mariarisques/TAED2_YOLOs/data/processed/images/val/003216.jpg: 480x640 1 person, 540.3ms\n",
      "Speed: 1.3ms preprocess, 540.3ms inference, 0.8ms postprocess per image at shape (1, 3, 480, 640)\n"
     ]
    },
    {
     "name": "stderr",
     "output_type": "stream",
     "text": [
      "[ WARN:0@808.903] global loadsave.cpp:241 findDecoder imread_('/Users/mariarisques/TAED2_YOLOs/data/processed/masks_post/val/003216.png'): can't open/read file: check file path/integrity\n"
     ]
    },
    {
     "name": "stdout",
     "output_type": "stream",
     "text": [
      "Mask correctly processed and saved for the following file: 003216.jpg\n",
      "\n",
      "image 1/1 /Users/mariarisques/TAED2_YOLOs/data/processed/images/val/003202.jpg: 384x640 1 person, 437.0ms\n",
      "Speed: 1.3ms preprocess, 437.0ms inference, 1.2ms postprocess per image at shape (1, 3, 384, 640)\n"
     ]
    },
    {
     "name": "stderr",
     "output_type": "stream",
     "text": [
      "[ WARN:0@809.859] global loadsave.cpp:241 findDecoder imread_('/Users/mariarisques/TAED2_YOLOs/data/processed/masks_post/val/003202.png'): can't open/read file: check file path/integrity\n"
     ]
    },
    {
     "name": "stdout",
     "output_type": "stream",
     "text": [
      "Mask correctly processed and saved for the following file: 003202.jpg\n",
      "\n",
      "image 1/1 /Users/mariarisques/TAED2_YOLOs/data/processed/images/val/002652.jpg: 640x448 1 person, 525.2ms\n",
      "Speed: 1.2ms preprocess, 525.2ms inference, 0.8ms postprocess per image at shape (1, 3, 640, 448)\n"
     ]
    },
    {
     "name": "stderr",
     "output_type": "stream",
     "text": [
      "[ WARN:0@810.787] global loadsave.cpp:241 findDecoder imread_('/Users/mariarisques/TAED2_YOLOs/data/processed/masks_post/val/002652.png'): can't open/read file: check file path/integrity\n"
     ]
    },
    {
     "name": "stdout",
     "output_type": "stream",
     "text": [
      "Mask correctly processed and saved for the following file: 002652.jpg\n",
      "\n",
      "image 1/1 /Users/mariarisques/TAED2_YOLOs/data/processed/images/val/002134.jpg: 448x640 1 person, 532.0ms\n",
      "Speed: 1.2ms preprocess, 532.0ms inference, 0.8ms postprocess per image at shape (1, 3, 448, 640)\n"
     ]
    },
    {
     "name": "stderr",
     "output_type": "stream",
     "text": [
      "[ WARN:0@811.806] global loadsave.cpp:241 findDecoder imread_('/Users/mariarisques/TAED2_YOLOs/data/processed/masks_post/val/002134.png'): can't open/read file: check file path/integrity\n"
     ]
    },
    {
     "name": "stdout",
     "output_type": "stream",
     "text": [
      "Mask correctly processed and saved for the following file: 002134.jpg\n",
      "\n",
      "image 1/1 /Users/mariarisques/TAED2_YOLOs/data/processed/images/val/000723.jpg: 384x640 1 person, 446.4ms\n",
      "Speed: 1.1ms preprocess, 446.4ms inference, 0.8ms postprocess per image at shape (1, 3, 384, 640)\n"
     ]
    },
    {
     "name": "stderr",
     "output_type": "stream",
     "text": [
      "[ WARN:0@812.721] global loadsave.cpp:241 findDecoder imread_('/Users/mariarisques/TAED2_YOLOs/data/processed/masks_post/val/000723.png'): can't open/read file: check file path/integrity\n"
     ]
    },
    {
     "name": "stdout",
     "output_type": "stream",
     "text": [
      "Mask correctly processed and saved for the following file: 000723.jpg\n",
      "\n",
      "image 1/1 /Users/mariarisques/TAED2_YOLOs/data/processed/images/val/005129.jpg: 448x640 2 persons, 506.0ms\n",
      "Speed: 1.5ms preprocess, 506.0ms inference, 1.1ms postprocess per image at shape (1, 3, 448, 640)\n"
     ]
    },
    {
     "name": "stderr",
     "output_type": "stream",
     "text": [
      "[ WARN:0@813.650] global loadsave.cpp:241 findDecoder imread_('/Users/mariarisques/TAED2_YOLOs/data/processed/masks_post/val/005129.png'): can't open/read file: check file path/integrity\n"
     ]
    },
    {
     "name": "stdout",
     "output_type": "stream",
     "text": [
      "Mask correctly processed and saved for the following file: 005129.jpg\n",
      "\n",
      "image 1/1 /Users/mariarisques/TAED2_YOLOs/data/processed/images/val/002646.jpg: 256x640 1 person, 462.2ms\n",
      "Speed: 0.8ms preprocess, 462.2ms inference, 0.8ms postprocess per image at shape (1, 3, 256, 640)\n"
     ]
    },
    {
     "name": "stderr",
     "output_type": "stream",
     "text": [
      "[ WARN:0@814.570] global loadsave.cpp:241 findDecoder imread_('/Users/mariarisques/TAED2_YOLOs/data/processed/masks_post/val/002646.png'): can't open/read file: check file path/integrity\n"
     ]
    },
    {
     "name": "stdout",
     "output_type": "stream",
     "text": [
      "Mask correctly processed and saved for the following file: 002646.jpg\n",
      "\n",
      "image 1/1 /Users/mariarisques/TAED2_YOLOs/data/processed/images/val/002875.jpg: 448x640 1 person, 550.5ms\n",
      "Speed: 1.2ms preprocess, 550.5ms inference, 1.4ms postprocess per image at shape (1, 3, 448, 640)\n"
     ]
    },
    {
     "name": "stderr",
     "output_type": "stream",
     "text": [
      "[ WARN:0@815.371] global loadsave.cpp:241 findDecoder imread_('/Users/mariarisques/TAED2_YOLOs/data/processed/masks_post/val/002875.png'): can't open/read file: check file path/integrity\n"
     ]
    },
    {
     "name": "stdout",
     "output_type": "stream",
     "text": [
      "Mask correctly processed and saved for the following file: 002875.jpg\n",
      "\n",
      "image 1/1 /Users/mariarisques/TAED2_YOLOs/data/processed/images/val/002861.jpg: 448x640 1 person, 523.8ms\n",
      "Speed: 1.3ms preprocess, 523.8ms inference, 0.9ms postprocess per image at shape (1, 3, 448, 640)\n"
     ]
    },
    {
     "name": "stderr",
     "output_type": "stream",
     "text": [
      "[ WARN:0@816.364] global loadsave.cpp:241 findDecoder imread_('/Users/mariarisques/TAED2_YOLOs/data/processed/masks_post/val/002861.png'): can't open/read file: check file path/integrity\n"
     ]
    },
    {
     "name": "stdout",
     "output_type": "stream",
     "text": [
      "Mask correctly processed and saved for the following file: 002861.jpg\n",
      "\n",
      "image 1/1 /Users/mariarisques/TAED2_YOLOs/data/processed/images/val/002849.jpg: 640x384 1 person, 598.6ms\n",
      "Speed: 1.1ms preprocess, 598.6ms inference, 0.8ms postprocess per image at shape (1, 3, 640, 384)\n"
     ]
    },
    {
     "name": "stderr",
     "output_type": "stream",
     "text": [
      "[ WARN:0@817.421] global loadsave.cpp:241 findDecoder imread_('/Users/mariarisques/TAED2_YOLOs/data/processed/masks_post/val/002849.png'): can't open/read file: check file path/integrity\n"
     ]
    },
    {
     "name": "stdout",
     "output_type": "stream",
     "text": [
      "Mask correctly processed and saved for the following file: 002849.jpg\n",
      "\n",
      "image 1/1 /Users/mariarisques/TAED2_YOLOs/data/processed/images/val/004587.jpg: 448x640 1 person, 530.7ms\n",
      "Speed: 1.2ms preprocess, 530.7ms inference, 0.8ms postprocess per image at shape (1, 3, 448, 640)\n"
     ]
    },
    {
     "name": "stderr",
     "output_type": "stream",
     "text": [
      "[ WARN:0@818.339] global loadsave.cpp:241 findDecoder imread_('/Users/mariarisques/TAED2_YOLOs/data/processed/masks_post/val/004587.png'): can't open/read file: check file path/integrity\n"
     ]
    },
    {
     "name": "stdout",
     "output_type": "stream",
     "text": [
      "Mask correctly processed and saved for the following file: 004587.jpg\n",
      "\n",
      "image 1/1 /Users/mariarisques/TAED2_YOLOs/data/processed/images/val/002860.jpg: 480x640 1 person, 532.7ms\n",
      "Speed: 1.4ms preprocess, 532.7ms inference, 0.8ms postprocess per image at shape (1, 3, 480, 640)\n"
     ]
    },
    {
     "name": "stderr",
     "output_type": "stream",
     "text": [
      "[ WARN:0@819.342] global loadsave.cpp:241 findDecoder imread_('/Users/mariarisques/TAED2_YOLOs/data/processed/masks_post/val/002860.png'): can't open/read file: check file path/integrity\n"
     ]
    },
    {
     "name": "stdout",
     "output_type": "stream",
     "text": [
      "Mask correctly processed and saved for the following file: 002860.jpg\n",
      "\n",
      "image 1/1 /Users/mariarisques/TAED2_YOLOs/data/processed/images/val/002874.jpg: 448x640 1 person, 531.9ms\n",
      "Speed: 1.2ms preprocess, 531.9ms inference, 0.8ms postprocess per image at shape (1, 3, 448, 640)\n"
     ]
    },
    {
     "name": "stderr",
     "output_type": "stream",
     "text": [
      "[ WARN:0@820.373] global loadsave.cpp:241 findDecoder imread_('/Users/mariarisques/TAED2_YOLOs/data/processed/masks_post/val/002874.png'): can't open/read file: check file path/integrity\n"
     ]
    },
    {
     "name": "stdout",
     "output_type": "stream",
     "text": [
      "Mask correctly processed and saved for the following file: 002874.jpg\n",
      "\n",
      "image 1/1 /Users/mariarisques/TAED2_YOLOs/data/processed/images/val/004550.jpg: 448x640 1 person, 505.8ms\n",
      "Speed: 1.2ms preprocess, 505.8ms inference, 1.0ms postprocess per image at shape (1, 3, 448, 640)\n"
     ]
    },
    {
     "name": "stderr",
     "output_type": "stream",
     "text": [
      "[ WARN:0@821.331] global loadsave.cpp:241 findDecoder imread_('/Users/mariarisques/TAED2_YOLOs/data/processed/masks_post/val/004550.png'): can't open/read file: check file path/integrity\n"
     ]
    },
    {
     "name": "stdout",
     "output_type": "stream",
     "text": [
      "Mask correctly processed and saved for the following file: 004550.jpg\n",
      "\n",
      "image 1/1 /Users/mariarisques/TAED2_YOLOs/data/processed/images/val/000736.jpg: 640x448 1 person, 493.0ms\n",
      "Speed: 1.2ms preprocess, 493.0ms inference, 1.1ms postprocess per image at shape (1, 3, 640, 448)\n"
     ]
    },
    {
     "name": "stderr",
     "output_type": "stream",
     "text": [
      "[ WARN:0@822.280] global loadsave.cpp:241 findDecoder imread_('/Users/mariarisques/TAED2_YOLOs/data/processed/masks_post/val/000736.png'): can't open/read file: check file path/integrity\n"
     ]
    },
    {
     "name": "stdout",
     "output_type": "stream",
     "text": [
      "Mask correctly processed and saved for the following file: 000736.jpg\n",
      "\n",
      "image 1/1 /Users/mariarisques/TAED2_YOLOs/data/processed/images/val/001366.jpg: 448x640 2 persons, 499.8ms\n",
      "Speed: 1.2ms preprocess, 499.8ms inference, 1.1ms postprocess per image at shape (1, 3, 448, 640)\n"
     ]
    },
    {
     "name": "stderr",
     "output_type": "stream",
     "text": [
      "[ WARN:0@823.260] global loadsave.cpp:241 findDecoder imread_('/Users/mariarisques/TAED2_YOLOs/data/processed/masks_post/val/001366.png'): can't open/read file: check file path/integrity\n"
     ]
    },
    {
     "name": "stdout",
     "output_type": "stream",
     "text": [
      "Mask correctly processed and saved for the following file: 001366.jpg\n",
      "\n",
      "image 1/1 /Users/mariarisques/TAED2_YOLOs/data/processed/images/val/005100.jpg: 448x640 1 person, 507.1ms\n",
      "Speed: 1.3ms preprocess, 507.1ms inference, 0.8ms postprocess per image at shape (1, 3, 448, 640)\n"
     ]
    },
    {
     "name": "stderr",
     "output_type": "stream",
     "text": [
      "[ WARN:0@824.223] global loadsave.cpp:241 findDecoder imread_('/Users/mariarisques/TAED2_YOLOs/data/processed/masks_post/val/005100.png'): can't open/read file: check file path/integrity\n"
     ]
    },
    {
     "name": "stdout",
     "output_type": "stream",
     "text": [
      "Mask correctly processed and saved for the following file: 005100.jpg\n",
      "\n",
      "image 1/1 /Users/mariarisques/TAED2_YOLOs/data/processed/images/val/001400.jpg: 448x640 1 person, 528.4ms\n",
      "Speed: 1.2ms preprocess, 528.4ms inference, 0.9ms postprocess per image at shape (1, 3, 448, 640)\n"
     ]
    },
    {
     "name": "stderr",
     "output_type": "stream",
     "text": [
      "[ WARN:0@825.212] global loadsave.cpp:241 findDecoder imread_('/Users/mariarisques/TAED2_YOLOs/data/processed/masks_post/val/001400.png'): can't open/read file: check file path/integrity\n"
     ]
    },
    {
     "name": "stdout",
     "output_type": "stream",
     "text": [
      "Mask correctly processed and saved for the following file: 001400.jpg\n",
      "\n",
      "image 1/1 /Users/mariarisques/TAED2_YOLOs/data/processed/images/val/003954.jpg: 640x448 1 person, 515.7ms\n",
      "Speed: 1.3ms preprocess, 515.7ms inference, 0.8ms postprocess per image at shape (1, 3, 640, 448)\n"
     ]
    },
    {
     "name": "stderr",
     "output_type": "stream",
     "text": [
      "[ WARN:0@826.194] global loadsave.cpp:241 findDecoder imread_('/Users/mariarisques/TAED2_YOLOs/data/processed/masks_post/val/003954.png'): can't open/read file: check file path/integrity\n"
     ]
    },
    {
     "name": "stdout",
     "output_type": "stream",
     "text": [
      "Mask correctly processed and saved for the following file: 003954.jpg\n",
      "\n",
      "image 1/1 /Users/mariarisques/TAED2_YOLOs/data/processed/images/val/001819.jpg: 448x640 1 person, 511.7ms\n",
      "Speed: 1.2ms preprocess, 511.7ms inference, 1.0ms postprocess per image at shape (1, 3, 448, 640)\n"
     ]
    },
    {
     "name": "stderr",
     "output_type": "stream",
     "text": [
      "[ WARN:0@827.185] global loadsave.cpp:241 findDecoder imread_('/Users/mariarisques/TAED2_YOLOs/data/processed/masks_post/val/001819.png'): can't open/read file: check file path/integrity\n"
     ]
    },
    {
     "name": "stdout",
     "output_type": "stream",
     "text": [
      "Mask correctly processed and saved for the following file: 001819.jpg\n",
      "\n",
      "image 1/1 /Users/mariarisques/TAED2_YOLOs/data/processed/images/val/004034.jpg: 448x640 1 person, 520.2ms\n",
      "Speed: 1.2ms preprocess, 520.2ms inference, 0.8ms postprocess per image at shape (1, 3, 448, 640)\n"
     ]
    },
    {
     "name": "stderr",
     "output_type": "stream",
     "text": [
      "[ WARN:0@828.180] global loadsave.cpp:241 findDecoder imread_('/Users/mariarisques/TAED2_YOLOs/data/processed/masks_post/val/004034.png'): can't open/read file: check file path/integrity\n"
     ]
    },
    {
     "name": "stdout",
     "output_type": "stream",
     "text": [
      "Mask correctly processed and saved for the following file: 004034.jpg\n",
      "\n",
      "image 1/1 /Users/mariarisques/TAED2_YOLOs/data/processed/images/val/000534.jpg: 416x640 1 person, 586.6ms\n",
      "Speed: 1.2ms preprocess, 586.6ms inference, 1.3ms postprocess per image at shape (1, 3, 416, 640)\n"
     ]
    },
    {
     "name": "stderr",
     "output_type": "stream",
     "text": [
      "[ WARN:0@829.227] global loadsave.cpp:241 findDecoder imread_('/Users/mariarisques/TAED2_YOLOs/data/processed/masks_post/val/000534.png'): can't open/read file: check file path/integrity\n"
     ]
    },
    {
     "name": "stdout",
     "output_type": "stream",
     "text": [
      "Mask correctly processed and saved for the following file: 000534.jpg\n",
      "\n",
      "image 1/1 /Users/mariarisques/TAED2_YOLOs/data/processed/images/val/003029.jpg: 448x640 1 person, 552.3ms\n",
      "Speed: 1.3ms preprocess, 552.3ms inference, 0.8ms postprocess per image at shape (1, 3, 448, 640)\n"
     ]
    },
    {
     "name": "stderr",
     "output_type": "stream",
     "text": [
      "[ WARN:0@830.223] global loadsave.cpp:241 findDecoder imread_('/Users/mariarisques/TAED2_YOLOs/data/processed/masks_post/val/003029.png'): can't open/read file: check file path/integrity\n"
     ]
    },
    {
     "name": "stdout",
     "output_type": "stream",
     "text": [
      "Mask correctly processed and saved for the following file: 003029.jpg\n",
      "\n",
      "image 1/1 /Users/mariarisques/TAED2_YOLOs/data/processed/images/val/001170.jpg: 448x640 1 person, 534.3ms\n",
      "Speed: 1.2ms preprocess, 534.3ms inference, 0.8ms postprocess per image at shape (1, 3, 448, 640)\n"
     ]
    },
    {
     "name": "stderr",
     "output_type": "stream",
     "text": [
      "[ WARN:0@831.217] global loadsave.cpp:241 findDecoder imread_('/Users/mariarisques/TAED2_YOLOs/data/processed/masks_post/val/001170.png'): can't open/read file: check file path/integrity\n"
     ]
    },
    {
     "name": "stdout",
     "output_type": "stream",
     "text": [
      "Mask correctly processed and saved for the following file: 001170.jpg\n",
      "\n",
      "image 1/1 /Users/mariarisques/TAED2_YOLOs/data/processed/images/val/003001.jpg: 448x640 1 person, 530.5ms\n",
      "Speed: 1.2ms preprocess, 530.5ms inference, 0.9ms postprocess per image at shape (1, 3, 448, 640)\n"
     ]
    },
    {
     "name": "stderr",
     "output_type": "stream",
     "text": [
      "[ WARN:0@832.213] global loadsave.cpp:241 findDecoder imread_('/Users/mariarisques/TAED2_YOLOs/data/processed/masks_post/val/003001.png'): can't open/read file: check file path/integrity\n"
     ]
    },
    {
     "name": "stdout",
     "output_type": "stream",
     "text": [
      "Mask correctly processed and saved for the following file: 003001.jpg\n",
      "\n",
      "image 1/1 /Users/mariarisques/TAED2_YOLOs/data/processed/images/val/001789.jpg: 640x448 1 person, 524.6ms\n",
      "Speed: 1.3ms preprocess, 524.6ms inference, 1.4ms postprocess per image at shape (1, 3, 640, 448)\n"
     ]
    },
    {
     "name": "stderr",
     "output_type": "stream",
     "text": [
      "[ WARN:0@833.200] global loadsave.cpp:241 findDecoder imread_('/Users/mariarisques/TAED2_YOLOs/data/processed/masks_post/val/001789.png'): can't open/read file: check file path/integrity\n"
     ]
    },
    {
     "name": "stdout",
     "output_type": "stream",
     "text": [
      "Mask correctly processed and saved for the following file: 001789.jpg\n",
      "\n",
      "image 1/1 /Users/mariarisques/TAED2_YOLOs/data/processed/images/val/003808.jpg: 448x640 1 person, 524.1ms\n",
      "Speed: 1.3ms preprocess, 524.1ms inference, 0.8ms postprocess per image at shape (1, 3, 448, 640)\n"
     ]
    },
    {
     "name": "stderr",
     "output_type": "stream",
     "text": [
      "[ WARN:0@834.185] global loadsave.cpp:241 findDecoder imread_('/Users/mariarisques/TAED2_YOLOs/data/processed/masks_post/val/003808.png'): can't open/read file: check file path/integrity\n"
     ]
    },
    {
     "name": "stdout",
     "output_type": "stream",
     "text": [
      "Mask correctly processed and saved for the following file: 003808.jpg\n",
      "\n",
      "image 1/1 /Users/mariarisques/TAED2_YOLOs/data/processed/images/val/004632.jpg: 640x448 1 person, 530.5ms\n",
      "Speed: 1.2ms preprocess, 530.5ms inference, 0.8ms postprocess per image at shape (1, 3, 640, 448)\n"
     ]
    },
    {
     "name": "stderr",
     "output_type": "stream",
     "text": [
      "[ WARN:0@835.186] global loadsave.cpp:241 findDecoder imread_('/Users/mariarisques/TAED2_YOLOs/data/processed/masks_post/val/004632.png'): can't open/read file: check file path/integrity\n"
     ]
    },
    {
     "name": "stdout",
     "output_type": "stream",
     "text": [
      "Mask correctly processed and saved for the following file: 004632.jpg\n",
      "\n",
      "image 1/1 /Users/mariarisques/TAED2_YOLOs/data/processed/images/val/001992.jpg: 448x640 1 person, 522.0ms\n",
      "Speed: 1.2ms preprocess, 522.0ms inference, 0.8ms postprocess per image at shape (1, 3, 448, 640)\n"
     ]
    },
    {
     "name": "stderr",
     "output_type": "stream",
     "text": [
      "[ WARN:0@836.169] global loadsave.cpp:241 findDecoder imread_('/Users/mariarisques/TAED2_YOLOs/data/processed/masks_post/val/001992.png'): can't open/read file: check file path/integrity\n"
     ]
    },
    {
     "name": "stdout",
     "output_type": "stream",
     "text": [
      "Mask correctly processed and saved for the following file: 001992.jpg\n",
      "\n",
      "image 1/1 /Users/mariarisques/TAED2_YOLOs/data/processed/images/val/001776.jpg: 448x640 1 person, 535.2ms\n",
      "Speed: 1.1ms preprocess, 535.2ms inference, 0.8ms postprocess per image at shape (1, 3, 448, 640)\n"
     ]
    },
    {
     "name": "stderr",
     "output_type": "stream",
     "text": [
      "[ WARN:0@837.163] global loadsave.cpp:241 findDecoder imread_('/Users/mariarisques/TAED2_YOLOs/data/processed/masks_post/val/001776.png'): can't open/read file: check file path/integrity\n"
     ]
    },
    {
     "name": "stdout",
     "output_type": "stream",
     "text": [
      "Mask correctly processed and saved for the following file: 001776.jpg\n",
      "\n",
      "image 1/1 /Users/mariarisques/TAED2_YOLOs/data/processed/images/val/003607.jpg: 640x448 1 person, 529.2ms\n",
      "Speed: 1.2ms preprocess, 529.2ms inference, 0.8ms postprocess per image at shape (1, 3, 640, 448)\n"
     ]
    },
    {
     "name": "stderr",
     "output_type": "stream",
     "text": [
      "[ WARN:0@838.150] global loadsave.cpp:241 findDecoder imread_('/Users/mariarisques/TAED2_YOLOs/data/processed/masks_post/val/003607.png'): can't open/read file: check file path/integrity\n"
     ]
    },
    {
     "name": "stdout",
     "output_type": "stream",
     "text": [
      "Mask correctly processed and saved for the following file: 003607.jpg\n",
      "\n",
      "image 1/1 /Users/mariarisques/TAED2_YOLOs/data/processed/images/val/002096.jpg: 640x448 1 person, 522.4ms\n",
      "Speed: 1.2ms preprocess, 522.4ms inference, 0.8ms postprocess per image at shape (1, 3, 640, 448)\n"
     ]
    },
    {
     "name": "stderr",
     "output_type": "stream",
     "text": [
      "[ WARN:0@839.132] global loadsave.cpp:241 findDecoder imread_('/Users/mariarisques/TAED2_YOLOs/data/processed/masks_post/val/002096.png'): can't open/read file: check file path/integrity\n"
     ]
    },
    {
     "name": "stdout",
     "output_type": "stream",
     "text": [
      "Mask correctly processed and saved for the following file: 002096.jpg\n",
      "\n",
      "image 1/1 /Users/mariarisques/TAED2_YOLOs/data/processed/images/val/000695.jpg: 448x640 2 persons, 497.8ms\n",
      "Speed: 1.4ms preprocess, 497.8ms inference, 1.3ms postprocess per image at shape (1, 3, 448, 640)\n"
     ]
    },
    {
     "name": "stderr",
     "output_type": "stream",
     "text": [
      "[ WARN:0@840.088] global loadsave.cpp:241 findDecoder imread_('/Users/mariarisques/TAED2_YOLOs/data/processed/masks_post/val/000695.png'): can't open/read file: check file path/integrity\n"
     ]
    },
    {
     "name": "stdout",
     "output_type": "stream",
     "text": [
      "Mask correctly processed and saved for the following file: 000695.jpg\n",
      "\n",
      "image 1/1 /Users/mariarisques/TAED2_YOLOs/data/processed/images/val/000865.jpg: 640x608 1 person, 825.1ms\n",
      "Speed: 1.6ms preprocess, 825.1ms inference, 1.5ms postprocess per image at shape (1, 3, 640, 608)\n"
     ]
    },
    {
     "name": "stderr",
     "output_type": "stream",
     "text": [
      "[ WARN:0@841.378] global loadsave.cpp:241 findDecoder imread_('/Users/mariarisques/TAED2_YOLOs/data/processed/masks_post/val/000865.png'): can't open/read file: check file path/integrity\n"
     ]
    },
    {
     "name": "stdout",
     "output_type": "stream",
     "text": [
      "Mask correctly processed and saved for the following file: 000865.jpg\n",
      "\n",
      "image 1/1 /Users/mariarisques/TAED2_YOLOs/data/processed/images/val/002914.jpg: 640x448 1 person, 504.0ms\n",
      "Speed: 1.5ms preprocess, 504.0ms inference, 0.8ms postprocess per image at shape (1, 3, 640, 448)\n"
     ]
    },
    {
     "name": "stderr",
     "output_type": "stream",
     "text": [
      "[ WARN:0@842.528] global loadsave.cpp:241 findDecoder imread_('/Users/mariarisques/TAED2_YOLOs/data/processed/masks_post/val/002914.png'): can't open/read file: check file path/integrity\n"
     ]
    },
    {
     "name": "stdout",
     "output_type": "stream",
     "text": [
      "Mask correctly processed and saved for the following file: 002914.jpg\n",
      "\n",
      "image 1/1 /Users/mariarisques/TAED2_YOLOs/data/processed/images/val/004342.jpg: 640x448 1 person, 553.7ms\n",
      "Speed: 1.4ms preprocess, 553.7ms inference, 0.9ms postprocess per image at shape (1, 3, 640, 448)\n"
     ]
    },
    {
     "name": "stderr",
     "output_type": "stream",
     "text": [
      "[ WARN:0@843.554] global loadsave.cpp:241 findDecoder imread_('/Users/mariarisques/TAED2_YOLOs/data/processed/masks_post/val/004342.png'): can't open/read file: check file path/integrity\n"
     ]
    },
    {
     "name": "stdout",
     "output_type": "stream",
     "text": [
      "Mask correctly processed and saved for the following file: 004342.jpg\n",
      "\n",
      "image 1/1 /Users/mariarisques/TAED2_YOLOs/data/processed/images/val/002727.jpg: 448x640 1 person, 521.9ms\n",
      "Speed: 1.2ms preprocess, 521.9ms inference, 0.8ms postprocess per image at shape (1, 3, 448, 640)\n"
     ]
    },
    {
     "name": "stderr",
     "output_type": "stream",
     "text": [
      "[ WARN:0@844.537] global loadsave.cpp:241 findDecoder imread_('/Users/mariarisques/TAED2_YOLOs/data/processed/masks_post/val/002727.png'): can't open/read file: check file path/integrity\n"
     ]
    },
    {
     "name": "stdout",
     "output_type": "stream",
     "text": [
      "Mask correctly processed and saved for the following file: 002727.jpg\n",
      "\n",
      "image 1/1 /Users/mariarisques/TAED2_YOLOs/data/processed/images/val/000656.jpg: 448x640 1 person, 503.5ms\n",
      "Speed: 1.4ms preprocess, 503.5ms inference, 1.1ms postprocess per image at shape (1, 3, 448, 640)\n"
     ]
    },
    {
     "name": "stderr",
     "output_type": "stream",
     "text": [
      "[ WARN:0@845.500] global loadsave.cpp:241 findDecoder imread_('/Users/mariarisques/TAED2_YOLOs/data/processed/masks_post/val/000656.png'): can't open/read file: check file path/integrity\n"
     ]
    },
    {
     "name": "stdout",
     "output_type": "stream",
     "text": [
      "Mask correctly processed and saved for the following file: 000656.jpg\n",
      "\n",
      "image 1/1 /Users/mariarisques/TAED2_YOLOs/data/processed/images/val/003377.jpg: 448x640 1 person, 514.0ms\n",
      "Speed: 1.3ms preprocess, 514.0ms inference, 1.4ms postprocess per image at shape (1, 3, 448, 640)\n"
     ]
    },
    {
     "name": "stderr",
     "output_type": "stream",
     "text": [
      "[ WARN:0@846.473] global loadsave.cpp:241 findDecoder imread_('/Users/mariarisques/TAED2_YOLOs/data/processed/masks_post/val/003377.png'): can't open/read file: check file path/integrity\n"
     ]
    },
    {
     "name": "stdout",
     "output_type": "stream",
     "text": [
      "Mask correctly processed and saved for the following file: 003377.jpg\n",
      "\n",
      "image 1/1 /Users/mariarisques/TAED2_YOLOs/data/processed/images/val/005060.jpg: 448x640 1 person, 523.0ms\n",
      "Speed: 1.3ms preprocess, 523.0ms inference, 0.8ms postprocess per image at shape (1, 3, 448, 640)\n"
     ]
    },
    {
     "name": "stderr",
     "output_type": "stream",
     "text": [
      "[ WARN:0@847.453] global loadsave.cpp:241 findDecoder imread_('/Users/mariarisques/TAED2_YOLOs/data/processed/masks_post/val/005060.png'): can't open/read file: check file path/integrity\n"
     ]
    },
    {
     "name": "stdout",
     "output_type": "stream",
     "text": [
      "Mask correctly processed and saved for the following file: 005060.jpg\n",
      "\n",
      "image 1/1 /Users/mariarisques/TAED2_YOLOs/data/processed/images/val/001204.jpg: 448x640 1 person, 518.8ms\n",
      "Speed: 1.2ms preprocess, 518.8ms inference, 0.8ms postprocess per image at shape (1, 3, 448, 640)\n"
     ]
    },
    {
     "name": "stderr",
     "output_type": "stream",
     "text": [
      "[ WARN:0@848.424] global loadsave.cpp:241 findDecoder imread_('/Users/mariarisques/TAED2_YOLOs/data/processed/masks_post/val/001204.png'): can't open/read file: check file path/integrity\n"
     ]
    },
    {
     "name": "stdout",
     "output_type": "stream",
     "text": [
      "Mask correctly processed and saved for the following file: 001204.jpg\n",
      "\n",
      "image 1/1 /Users/mariarisques/TAED2_YOLOs/data/processed/images/val/004368.jpg: 448x640 1 person, 513.6ms\n",
      "Speed: 1.3ms preprocess, 513.6ms inference, 0.8ms postprocess per image at shape (1, 3, 448, 640)\n"
     ]
    },
    {
     "name": "stderr",
     "output_type": "stream",
     "text": [
      "[ WARN:0@849.418] global loadsave.cpp:241 findDecoder imread_('/Users/mariarisques/TAED2_YOLOs/data/processed/masks_post/val/004368.png'): can't open/read file: check file path/integrity\n"
     ]
    },
    {
     "name": "stdout",
     "output_type": "stream",
     "text": [
      "Mask correctly processed and saved for the following file: 004368.jpg\n",
      "\n",
      "image 1/1 /Users/mariarisques/TAED2_YOLOs/data/processed/images/val/004426.jpg: 384x640 1 person, 594.5ms\n",
      "Speed: 1.1ms preprocess, 594.5ms inference, 0.8ms postprocess per image at shape (1, 3, 384, 640)\n"
     ]
    },
    {
     "name": "stderr",
     "output_type": "stream",
     "text": [
      "[ WARN:0@850.486] global loadsave.cpp:241 findDecoder imread_('/Users/mariarisques/TAED2_YOLOs/data/processed/masks_post/val/004426.png'): can't open/read file: check file path/integrity\n"
     ]
    },
    {
     "name": "stdout",
     "output_type": "stream",
     "text": [
      "Mask correctly processed and saved for the following file: 004426.jpg\n",
      "\n",
      "image 1/1 /Users/mariarisques/TAED2_YOLOs/data/processed/images/val/002902.jpg: 320x640 2 persons, 499.4ms\n",
      "Speed: 0.9ms preprocess, 499.4ms inference, 1.6ms postprocess per image at shape (1, 3, 320, 640)\n"
     ]
    },
    {
     "name": "stderr",
     "output_type": "stream",
     "text": [
      "[ WARN:0@851.387] global loadsave.cpp:241 findDecoder imread_('/Users/mariarisques/TAED2_YOLOs/data/processed/masks_post/val/002902.png'): can't open/read file: check file path/integrity\n"
     ]
    },
    {
     "name": "stdout",
     "output_type": "stream",
     "text": [
      "Mask correctly processed and saved for the following file: 002902.jpg\n",
      "\n",
      "image 1/1 /Users/mariarisques/TAED2_YOLOs/data/processed/images/val/001589.jpg: 448x640 1 person, 527.1ms\n",
      "Speed: 1.2ms preprocess, 527.1ms inference, 0.8ms postprocess per image at shape (1, 3, 448, 640)\n"
     ]
    },
    {
     "name": "stderr",
     "output_type": "stream",
     "text": [
      "[ WARN:0@852.241] global loadsave.cpp:241 findDecoder imread_('/Users/mariarisques/TAED2_YOLOs/data/processed/masks_post/val/001589.png'): can't open/read file: check file path/integrity\n"
     ]
    },
    {
     "name": "stdout",
     "output_type": "stream",
     "text": [
      "Mask correctly processed and saved for the following file: 001589.jpg\n",
      "\n",
      "image 1/1 /Users/mariarisques/TAED2_YOLOs/data/processed/images/val/005260.jpg: 448x640 1 person, 511.0ms\n",
      "Speed: 1.2ms preprocess, 511.0ms inference, 1.1ms postprocess per image at shape (1, 3, 448, 640)\n"
     ]
    },
    {
     "name": "stderr",
     "output_type": "stream",
     "text": [
      "[ WARN:0@853.213] global loadsave.cpp:241 findDecoder imread_('/Users/mariarisques/TAED2_YOLOs/data/processed/masks_post/val/005260.png'): can't open/read file: check file path/integrity\n"
     ]
    },
    {
     "name": "stdout",
     "output_type": "stream",
     "text": [
      "Mask correctly processed and saved for the following file: 005260.jpg\n",
      "\n",
      "image 1/1 /Users/mariarisques/TAED2_YOLOs/data/processed/images/val/003836.jpg: 384x640 1 person, 485.7ms\n",
      "Speed: 1.4ms preprocess, 485.7ms inference, 0.9ms postprocess per image at shape (1, 3, 384, 640)\n"
     ]
    },
    {
     "name": "stderr",
     "output_type": "stream",
     "text": [
      "[ WARN:0@854.166] global loadsave.cpp:241 findDecoder imread_('/Users/mariarisques/TAED2_YOLOs/data/processed/masks_post/val/003836.png'): can't open/read file: check file path/integrity\n"
     ]
    },
    {
     "name": "stdout",
     "output_type": "stream",
     "text": [
      "Mask correctly processed and saved for the following file: 003836.jpg\n",
      "\n",
      "image 1/1 /Users/mariarisques/TAED2_YOLOs/data/processed/images/val/002282.jpg: 448x640 1 person, 515.9ms\n",
      "Speed: 1.2ms preprocess, 515.9ms inference, 0.8ms postprocess per image at shape (1, 3, 448, 640)\n"
     ]
    },
    {
     "name": "stderr",
     "output_type": "stream",
     "text": [
      "[ WARN:0@855.074] global loadsave.cpp:241 findDecoder imread_('/Users/mariarisques/TAED2_YOLOs/data/processed/masks_post/val/002282.png'): can't open/read file: check file path/integrity\n"
     ]
    },
    {
     "name": "stdout",
     "output_type": "stream",
     "text": [
      "Mask correctly processed and saved for the following file: 002282.jpg\n",
      "\n",
      "image 1/1 /Users/mariarisques/TAED2_YOLOs/data/processed/images/val/001166.jpg: 640x448 1 person, 509.5ms\n",
      "Speed: 1.3ms preprocess, 509.5ms inference, 1.3ms postprocess per image at shape (1, 3, 640, 448)\n"
     ]
    },
    {
     "name": "stderr",
     "output_type": "stream",
     "text": [
      "[ WARN:0@856.040] global loadsave.cpp:241 findDecoder imread_('/Users/mariarisques/TAED2_YOLOs/data/processed/masks_post/val/001166.png'): can't open/read file: check file path/integrity\n"
     ]
    },
    {
     "name": "stdout",
     "output_type": "stream",
     "text": [
      "Mask correctly processed and saved for the following file: 001166.jpg\n",
      "\n",
      "image 1/1 /Users/mariarisques/TAED2_YOLOs/data/processed/images/val/004750.jpg: 448x640 1 person, 511.1ms\n",
      "Speed: 1.3ms preprocess, 511.1ms inference, 1.4ms postprocess per image at shape (1, 3, 448, 640)\n"
     ]
    },
    {
     "name": "stderr",
     "output_type": "stream",
     "text": [
      "[ WARN:0@857.030] global loadsave.cpp:241 findDecoder imread_('/Users/mariarisques/TAED2_YOLOs/data/processed/masks_post/val/004750.png'): can't open/read file: check file path/integrity\n"
     ]
    },
    {
     "name": "stdout",
     "output_type": "stream",
     "text": [
      "Mask correctly processed and saved for the following file: 004750.jpg\n",
      "\n",
      "image 1/1 /Users/mariarisques/TAED2_YOLOs/data/processed/images/val/004036.jpg: 448x640 1 person, 515.7ms\n",
      "Speed: 1.3ms preprocess, 515.7ms inference, 0.8ms postprocess per image at shape (1, 3, 448, 640)\n"
     ]
    },
    {
     "name": "stderr",
     "output_type": "stream",
     "text": [
      "[ WARN:0@858.006] global loadsave.cpp:241 findDecoder imread_('/Users/mariarisques/TAED2_YOLOs/data/processed/masks_post/val/004036.png'): can't open/read file: check file path/integrity\n"
     ]
    },
    {
     "name": "stdout",
     "output_type": "stream",
     "text": [
      "Mask correctly processed and saved for the following file: 004036.jpg\n",
      "\n",
      "image 1/1 /Users/mariarisques/TAED2_YOLOs/data/processed/images/val/003956.jpg: 448x640 2 persons, 499.6ms\n",
      "Speed: 1.2ms preprocess, 499.6ms inference, 1.4ms postprocess per image at shape (1, 3, 448, 640)\n"
     ]
    },
    {
     "name": "stderr",
     "output_type": "stream",
     "text": [
      "[ WARN:0@858.979] global loadsave.cpp:241 findDecoder imread_('/Users/mariarisques/TAED2_YOLOs/data/processed/masks_post/val/003956.png'): can't open/read file: check file path/integrity\n"
     ]
    },
    {
     "name": "stdout",
     "output_type": "stream",
     "text": [
      "Mask correctly processed and saved for the following file: 003956.jpg\n",
      "\n",
      "image 1/1 /Users/mariarisques/TAED2_YOLOs/data/processed/images/val/003229.jpg: 384x640 1 person, 460.0ms\n",
      "Speed: 1.1ms preprocess, 460.0ms inference, 0.8ms postprocess per image at shape (1, 3, 384, 640)\n"
     ]
    },
    {
     "name": "stderr",
     "output_type": "stream",
     "text": [
      "[ WARN:0@859.907] global loadsave.cpp:241 findDecoder imread_('/Users/mariarisques/TAED2_YOLOs/data/processed/masks_post/val/003229.png'): can't open/read file: check file path/integrity\n"
     ]
    },
    {
     "name": "stdout",
     "output_type": "stream",
     "text": [
      "Mask correctly processed and saved for the following file: 003229.jpg\n",
      "\n",
      "image 1/1 /Users/mariarisques/TAED2_YOLOs/data/processed/images/val/004220.jpg: 448x640 1 person, 511.7ms\n",
      "Speed: 1.1ms preprocess, 511.7ms inference, 0.8ms postprocess per image at shape (1, 3, 448, 640)\n"
     ]
    },
    {
     "name": "stderr",
     "output_type": "stream",
     "text": [
      "[ WARN:0@860.829] global loadsave.cpp:241 findDecoder imread_('/Users/mariarisques/TAED2_YOLOs/data/processed/masks_post/val/004220.png'): can't open/read file: check file path/integrity\n"
     ]
    },
    {
     "name": "stdout",
     "output_type": "stream",
     "text": [
      "Mask correctly processed and saved for the following file: 004220.jpg\n",
      "\n",
      "image 1/1 /Users/mariarisques/TAED2_YOLOs/data/processed/images/val/003598.jpg: 416x640 1 person, 479.8ms\n",
      "Speed: 1.2ms preprocess, 479.8ms inference, 1.1ms postprocess per image at shape (1, 3, 416, 640)\n"
     ]
    },
    {
     "name": "stderr",
     "output_type": "stream",
     "text": [
      "[ WARN:0@861.776] global loadsave.cpp:241 findDecoder imread_('/Users/mariarisques/TAED2_YOLOs/data/processed/masks_post/val/003598.png'): can't open/read file: check file path/integrity\n"
     ]
    },
    {
     "name": "stdout",
     "output_type": "stream",
     "text": [
      "Mask correctly processed and saved for the following file: 003598.jpg\n",
      "\n",
      "image 1/1 /Users/mariarisques/TAED2_YOLOs/data/processed/images/val/004585.jpg: 448x640 2 persons, 517.1ms\n",
      "Speed: 1.2ms preprocess, 517.1ms inference, 1.1ms postprocess per image at shape (1, 3, 448, 640)\n"
     ]
    },
    {
     "name": "stderr",
     "output_type": "stream",
     "text": [
      "[ WARN:0@862.757] global loadsave.cpp:241 findDecoder imread_('/Users/mariarisques/TAED2_YOLOs/data/processed/masks_post/val/004585.png'): can't open/read file: check file path/integrity\n"
     ]
    },
    {
     "name": "stdout",
     "output_type": "stream",
     "text": [
      "Mask correctly processed and saved for the following file: 004585.jpg\n",
      "\n",
      "image 1/1 /Users/mariarisques/TAED2_YOLOs/data/processed/images/val/003228.jpg: 320x640 1 person, 383.4ms\n",
      "Speed: 0.9ms preprocess, 383.4ms inference, 1.1ms postprocess per image at shape (1, 3, 320, 640)\n"
     ]
    },
    {
     "name": "stderr",
     "output_type": "stream",
     "text": [
      "[ WARN:0@863.614] global loadsave.cpp:241 findDecoder imread_('/Users/mariarisques/TAED2_YOLOs/data/processed/masks_post/val/003228.png'): can't open/read file: check file path/integrity\n"
     ]
    },
    {
     "name": "stdout",
     "output_type": "stream",
     "text": [
      "Mask correctly processed and saved for the following file: 003228.jpg\n",
      "\n",
      "image 1/1 /Users/mariarisques/TAED2_YOLOs/data/processed/images/val/002650.jpg: 416x640 1 person, 459.6ms\n",
      "Speed: 1.1ms preprocess, 459.6ms inference, 0.8ms postprocess per image at shape (1, 3, 416, 640)\n"
     ]
    },
    {
     "name": "stderr",
     "output_type": "stream",
     "text": [
      "[ WARN:0@864.428] global loadsave.cpp:241 findDecoder imread_('/Users/mariarisques/TAED2_YOLOs/data/processed/masks_post/val/002650.png'): can't open/read file: check file path/integrity\n"
     ]
    },
    {
     "name": "stdout",
     "output_type": "stream",
     "text": [
      "Mask correctly processed and saved for the following file: 002650.jpg\n",
      "\n",
      "image 1/1 /Users/mariarisques/TAED2_YOLOs/data/processed/images/val/001359.jpg: 384x640 1 person, 443.6ms\n",
      "Speed: 1.1ms preprocess, 443.6ms inference, 1.4ms postprocess per image at shape (1, 3, 384, 640)\n"
     ]
    },
    {
     "name": "stderr",
     "output_type": "stream",
     "text": [
      "[ WARN:0@865.318] global loadsave.cpp:241 findDecoder imread_('/Users/mariarisques/TAED2_YOLOs/data/processed/masks_post/val/001359.png'): can't open/read file: check file path/integrity\n"
     ]
    },
    {
     "name": "stdout",
     "output_type": "stream",
     "text": [
      "Mask correctly processed and saved for the following file: 001359.jpg\n",
      "\n",
      "image 1/1 /Users/mariarisques/TAED2_YOLOs/data/processed/images/val/003214.jpg: 640x448 1 person, 518.6ms\n",
      "Speed: 1.2ms preprocess, 518.6ms inference, 0.8ms postprocess per image at shape (1, 3, 640, 448)\n"
     ]
    },
    {
     "name": "stderr",
     "output_type": "stream",
     "text": [
      "[ WARN:0@866.239] global loadsave.cpp:241 findDecoder imread_('/Users/mariarisques/TAED2_YOLOs/data/processed/masks_post/val/003214.png'): can't open/read file: check file path/integrity\n"
     ]
    },
    {
     "name": "stdout",
     "output_type": "stream",
     "text": [
      "Mask correctly processed and saved for the following file: 003214.jpg\n",
      "\n",
      "image 1/1 /Users/mariarisques/TAED2_YOLOs/data/processed/images/val/001403.jpg: 448x640 1 person, 529.4ms\n",
      "Speed: 1.2ms preprocess, 529.4ms inference, 1.4ms postprocess per image at shape (1, 3, 448, 640)\n"
     ]
    },
    {
     "name": "stderr",
     "output_type": "stream",
     "text": [
      "[ WARN:0@867.232] global loadsave.cpp:241 findDecoder imread_('/Users/mariarisques/TAED2_YOLOs/data/processed/masks_post/val/001403.png'): can't open/read file: check file path/integrity\n"
     ]
    },
    {
     "name": "stdout",
     "output_type": "stream",
     "text": [
      "Mask correctly processed and saved for the following file: 001403.jpg\n",
      "\n",
      "image 1/1 /Users/mariarisques/TAED2_YOLOs/data/processed/images/val/005103.jpg: 448x640 1 person, 535.1ms\n",
      "Speed: 1.3ms preprocess, 535.1ms inference, 1.5ms postprocess per image at shape (1, 3, 448, 640)\n"
     ]
    },
    {
     "name": "stderr",
     "output_type": "stream",
     "text": [
      "[ WARN:0@868.231] global loadsave.cpp:241 findDecoder imread_('/Users/mariarisques/TAED2_YOLOs/data/processed/masks_post/val/005103.png'): can't open/read file: check file path/integrity\n"
     ]
    },
    {
     "name": "stdout",
     "output_type": "stream",
     "text": [
      "Mask correctly processed and saved for the following file: 005103.jpg\n",
      "\n",
      "image 1/1 /Users/mariarisques/TAED2_YOLOs/data/processed/images/val/004209.jpg: 448x640 1 person, 486.9ms\n",
      "Speed: 1.3ms preprocess, 486.9ms inference, 1.3ms postprocess per image at shape (1, 3, 448, 640)\n"
     ]
    },
    {
     "name": "stderr",
     "output_type": "stream",
     "text": [
      "[ WARN:0@869.181] global loadsave.cpp:241 findDecoder imread_('/Users/mariarisques/TAED2_YOLOs/data/processed/masks_post/val/004209.png'): can't open/read file: check file path/integrity\n"
     ]
    },
    {
     "name": "stdout",
     "output_type": "stream",
     "text": [
      "Mask correctly processed and saved for the following file: 004209.jpg\n",
      "\n",
      "image 1/1 /Users/mariarisques/TAED2_YOLOs/data/processed/images/val/001832.jpg: 640x448 1 person, 509.9ms\n",
      "Speed: 1.3ms preprocess, 509.9ms inference, 0.8ms postprocess per image at shape (1, 3, 640, 448)\n"
     ]
    },
    {
     "name": "stderr",
     "output_type": "stream",
     "text": [
      "[ WARN:0@870.165] global loadsave.cpp:241 findDecoder imread_('/Users/mariarisques/TAED2_YOLOs/data/processed/masks_post/val/001832.png'): can't open/read file: check file path/integrity\n"
     ]
    },
    {
     "name": "stdout",
     "output_type": "stream",
     "text": [
      "Mask correctly processed and saved for the following file: 001832.jpg\n",
      "\n",
      "image 1/1 /Users/mariarisques/TAED2_YOLOs/data/processed/images/val/000523.jpg: 640x480 1 person, 577.9ms\n",
      "Speed: 1.3ms preprocess, 577.9ms inference, 1.0ms postprocess per image at shape (1, 3, 640, 480)\n"
     ]
    },
    {
     "name": "stderr",
     "output_type": "stream",
     "text": [
      "[ WARN:0@871.219] global loadsave.cpp:241 findDecoder imread_('/Users/mariarisques/TAED2_YOLOs/data/processed/masks_post/val/000523.png'): can't open/read file: check file path/integrity\n"
     ]
    },
    {
     "name": "stdout",
     "output_type": "stream",
     "text": [
      "Mask correctly processed and saved for the following file: 000523.jpg\n",
      "\n",
      "image 1/1 /Users/mariarisques/TAED2_YOLOs/data/processed/images/val/001629.jpg: 448x640 1 person, 526.6ms\n",
      "Speed: 1.2ms preprocess, 526.6ms inference, 1.1ms postprocess per image at shape (1, 3, 448, 640)\n"
     ]
    },
    {
     "name": "stderr",
     "output_type": "stream",
     "text": [
      "[ WARN:0@872.232] global loadsave.cpp:241 findDecoder imread_('/Users/mariarisques/TAED2_YOLOs/data/processed/masks_post/val/001629.png'): can't open/read file: check file path/integrity\n"
     ]
    },
    {
     "name": "stdout",
     "output_type": "stream",
     "text": [
      "Mask correctly processed and saved for the following file: 001629.jpg\n",
      "\n",
      "image 1/1 /Users/mariarisques/TAED2_YOLOs/data/processed/images/val/004751.jpg: 448x640 1 person, 495.5ms\n",
      "Speed: 1.4ms preprocess, 495.5ms inference, 1.2ms postprocess per image at shape (1, 3, 448, 640)\n"
     ]
    },
    {
     "name": "stderr",
     "output_type": "stream",
     "text": [
      "[ WARN:0@873.213] global loadsave.cpp:241 findDecoder imread_('/Users/mariarisques/TAED2_YOLOs/data/processed/masks_post/val/004751.png'): can't open/read file: check file path/integrity\n"
     ]
    },
    {
     "name": "stdout",
     "output_type": "stream",
     "text": [
      "Mask correctly processed and saved for the following file: 004751.jpg\n",
      "\n",
      "image 1/1 /Users/mariarisques/TAED2_YOLOs/data/processed/images/val/003980.jpg: 448x640 1 person, 520.2ms\n",
      "Speed: 1.4ms preprocess, 520.2ms inference, 1.0ms postprocess per image at shape (1, 3, 448, 640)\n"
     ]
    },
    {
     "name": "stderr",
     "output_type": "stream",
     "text": [
      "[ WARN:0@874.224] global loadsave.cpp:241 findDecoder imread_('/Users/mariarisques/TAED2_YOLOs/data/processed/masks_post/val/003980.png'): can't open/read file: check file path/integrity\n"
     ]
    },
    {
     "name": "stdout",
     "output_type": "stream",
     "text": [
      "Mask correctly processed and saved for the following file: 003980.jpg\n",
      "\n",
      "image 1/1 /Users/mariarisques/TAED2_YOLOs/data/processed/images/val/001615.jpg: 448x640 1 person, 519.2ms\n",
      "Speed: 1.4ms preprocess, 519.2ms inference, 1.6ms postprocess per image at shape (1, 3, 448, 640)\n"
     ]
    },
    {
     "name": "stderr",
     "output_type": "stream",
     "text": [
      "[ WARN:0@875.235] global loadsave.cpp:241 findDecoder imread_('/Users/mariarisques/TAED2_YOLOs/data/processed/masks_post/val/001615.png'): can't open/read file: check file path/integrity\n"
     ]
    },
    {
     "name": "stdout",
     "output_type": "stream",
     "text": [
      "Mask correctly processed and saved for the following file: 001615.jpg\n",
      "\n",
      "image 1/1 /Users/mariarisques/TAED2_YOLOs/data/processed/images/val/002297.jpg: 448x640 1 person, 527.8ms\n",
      "Speed: 1.6ms preprocess, 527.8ms inference, 1.5ms postprocess per image at shape (1, 3, 448, 640)\n"
     ]
    },
    {
     "name": "stderr",
     "output_type": "stream",
     "text": [
      "[ WARN:0@876.267] global loadsave.cpp:241 findDecoder imread_('/Users/mariarisques/TAED2_YOLOs/data/processed/masks_post/val/002297.png'): can't open/read file: check file path/integrity\n"
     ]
    },
    {
     "name": "stdout",
     "output_type": "stream",
     "text": [
      "Mask correctly processed and saved for the following file: 002297.jpg\n",
      "\n",
      "image 1/1 /Users/mariarisques/TAED2_YOLOs/data/processed/images/val/004816.jpg: 384x640 1 person, 483.5ms\n",
      "Speed: 1.1ms preprocess, 483.5ms inference, 1.7ms postprocess per image at shape (1, 3, 384, 640)\n"
     ]
    },
    {
     "name": "stderr",
     "output_type": "stream",
     "text": [
      "[ WARN:0@877.227] global loadsave.cpp:241 findDecoder imread_('/Users/mariarisques/TAED2_YOLOs/data/processed/masks_post/val/004816.png'): can't open/read file: check file path/integrity\n"
     ]
    },
    {
     "name": "stdout",
     "output_type": "stream",
     "text": [
      "Mask correctly processed and saved for the following file: 004816.jpg\n",
      "\n",
      "image 1/1 /Users/mariarisques/TAED2_YOLOs/data/processed/images/val/005249.jpg: 448x640 1 person, 526.2ms\n",
      "Speed: 1.4ms preprocess, 526.2ms inference, 1.0ms postprocess per image at shape (1, 3, 448, 640)\n"
     ]
    },
    {
     "name": "stderr",
     "output_type": "stream",
     "text": [
      "[ WARN:0@878.176] global loadsave.cpp:241 findDecoder imread_('/Users/mariarisques/TAED2_YOLOs/data/processed/masks_post/val/005249.png'): can't open/read file: check file path/integrity\n"
     ]
    },
    {
     "name": "stdout",
     "output_type": "stream",
     "text": [
      "Mask correctly processed and saved for the following file: 005249.jpg\n",
      "\n",
      "image 1/1 /Users/mariarisques/TAED2_YOLOs/data/processed/images/val/001761.jpg: 448x640 2 persons, 531.2ms\n",
      "Speed: 1.2ms preprocess, 531.2ms inference, 1.2ms postprocess per image at shape (1, 3, 448, 640)\n"
     ]
    },
    {
     "name": "stderr",
     "output_type": "stream",
     "text": [
      "[ WARN:0@879.199] global loadsave.cpp:241 findDecoder imread_('/Users/mariarisques/TAED2_YOLOs/data/processed/masks_post/val/001761.png'): can't open/read file: check file path/integrity\n"
     ]
    },
    {
     "name": "stdout",
     "output_type": "stream",
     "text": [
      "Mask correctly processed and saved for the following file: 001761.jpg\n",
      "\n",
      "image 1/1 /Users/mariarisques/TAED2_YOLOs/data/processed/images/val/004396.jpg: 448x640 1 person, 521.7ms\n",
      "Speed: 1.6ms preprocess, 521.7ms inference, 1.1ms postprocess per image at shape (1, 3, 448, 640)\n"
     ]
    },
    {
     "name": "stderr",
     "output_type": "stream",
     "text": [
      "[ WARN:0@880.252] global loadsave.cpp:241 findDecoder imread_('/Users/mariarisques/TAED2_YOLOs/data/processed/masks_post/val/004396.png'): can't open/read file: check file path/integrity\n"
     ]
    },
    {
     "name": "stdout",
     "output_type": "stream",
     "text": [
      "Mask correctly processed and saved for the following file: 004396.jpg\n",
      "\n",
      "image 1/1 /Users/mariarisques/TAED2_YOLOs/data/processed/images/val/000655.jpg: 640x448 1 person, 519.1ms\n",
      "Speed: 1.1ms preprocess, 519.1ms inference, 0.8ms postprocess per image at shape (1, 3, 640, 448)\n"
     ]
    },
    {
     "name": "stderr",
     "output_type": "stream",
     "text": [
      "[ WARN:0@881.328] global loadsave.cpp:241 findDecoder imread_('/Users/mariarisques/TAED2_YOLOs/data/processed/masks_post/val/000655.png'): can't open/read file: check file path/integrity\n"
     ]
    },
    {
     "name": "stdout",
     "output_type": "stream",
     "text": [
      "Mask correctly processed and saved for the following file: 000655.jpg\n",
      "\n",
      "image 1/1 /Users/mariarisques/TAED2_YOLOs/data/processed/images/val/002730.jpg: 640x448 1 person, 503.7ms\n",
      "Speed: 1.2ms preprocess, 503.7ms inference, 0.9ms postprocess per image at shape (1, 3, 640, 448)\n"
     ]
    },
    {
     "name": "stderr",
     "output_type": "stream",
     "text": [
      "[ WARN:0@882.317] global loadsave.cpp:241 findDecoder imread_('/Users/mariarisques/TAED2_YOLOs/data/processed/masks_post/val/002730.png'): can't open/read file: check file path/integrity\n"
     ]
    },
    {
     "name": "stdout",
     "output_type": "stream",
     "text": [
      "Mask correctly processed and saved for the following file: 002730.jpg\n",
      "\n",
      "image 1/1 /Users/mariarisques/TAED2_YOLOs/data/processed/images/val/003360.jpg: 640x448 1 person, 497.9ms\n",
      "Speed: 1.2ms preprocess, 497.9ms inference, 1.3ms postprocess per image at shape (1, 3, 640, 448)\n"
     ]
    },
    {
     "name": "stderr",
     "output_type": "stream",
     "text": [
      "[ WARN:0@883.275] global loadsave.cpp:241 findDecoder imread_('/Users/mariarisques/TAED2_YOLOs/data/processed/masks_post/val/003360.png'): can't open/read file: check file path/integrity\n"
     ]
    },
    {
     "name": "stdout",
     "output_type": "stream",
     "text": [
      "Mask correctly processed and saved for the following file: 003360.jpg\n",
      "\n",
      "image 1/1 /Users/mariarisques/TAED2_YOLOs/data/processed/images/val/001211.jpg: 448x640 1 person, 510.6ms\n",
      "Speed: 1.2ms preprocess, 510.6ms inference, 1.4ms postprocess per image at shape (1, 3, 448, 640)\n"
     ]
    },
    {
     "name": "stderr",
     "output_type": "stream",
     "text": [
      "[ WARN:0@884.252] global loadsave.cpp:241 findDecoder imread_('/Users/mariarisques/TAED2_YOLOs/data/processed/masks_post/val/001211.png'): can't open/read file: check file path/integrity\n"
     ]
    },
    {
     "name": "stdout",
     "output_type": "stream",
     "text": [
      "Mask correctly processed and saved for the following file: 001211.jpg\n",
      "\n",
      "image 1/1 /Users/mariarisques/TAED2_YOLOs/data/processed/images/val/004369.jpg: 416x640 1 person, 462.8ms\n",
      "Speed: 1.2ms preprocess, 462.8ms inference, 0.9ms postprocess per image at shape (1, 3, 416, 640)\n"
     ]
    },
    {
     "name": "stderr",
     "output_type": "stream",
     "text": [
      "[ WARN:0@885.182] global loadsave.cpp:241 findDecoder imread_('/Users/mariarisques/TAED2_YOLOs/data/processed/masks_post/val/004369.png'): can't open/read file: check file path/integrity\n"
     ]
    },
    {
     "name": "stdout",
     "output_type": "stream",
     "text": [
      "Mask correctly processed and saved for the following file: 004369.jpg\n",
      "\n",
      "image 1/1 /Users/mariarisques/TAED2_YOLOs/data/processed/images/val/005077.jpg: 448x640 1 person, 506.9ms\n",
      "Speed: 1.2ms preprocess, 506.9ms inference, 1.0ms postprocess per image at shape (1, 3, 448, 640)\n"
     ]
    },
    {
     "name": "stderr",
     "output_type": "stream",
     "text": [
      "[ WARN:0@886.138] global loadsave.cpp:241 findDecoder imread_('/Users/mariarisques/TAED2_YOLOs/data/processed/masks_post/val/005077.png'): can't open/read file: check file path/integrity\n"
     ]
    },
    {
     "name": "stdout",
     "output_type": "stream",
     "text": [
      "Mask correctly processed and saved for the following file: 005077.jpg\n",
      "\n",
      "image 1/1 /Users/mariarisques/TAED2_YOLOs/data/processed/images/val/000679.jpg: 416x640 1 person, 471.8ms\n",
      "Speed: 1.2ms preprocess, 471.8ms inference, 0.8ms postprocess per image at shape (1, 3, 416, 640)\n"
     ]
    },
    {
     "name": "stderr",
     "output_type": "stream",
     "text": [
      "[ WARN:0@887.086] global loadsave.cpp:241 findDecoder imread_('/Users/mariarisques/TAED2_YOLOs/data/processed/masks_post/val/000679.png'): can't open/read file: check file path/integrity\n"
     ]
    },
    {
     "name": "stdout",
     "output_type": "stream",
     "text": [
      "Mask correctly processed and saved for the following file: 000679.jpg\n",
      "\n",
      "image 1/1 /Users/mariarisques/TAED2_YOLOs/data/processed/images/val/004386.jpg: 448x640 1 person, 497.7ms\n",
      "Speed: 1.2ms preprocess, 497.7ms inference, 0.8ms postprocess per image at shape (1, 3, 448, 640)\n"
     ]
    },
    {
     "name": "stderr",
     "output_type": "stream",
     "text": [
      "[ WARN:0@888.055] global loadsave.cpp:241 findDecoder imread_('/Users/mariarisques/TAED2_YOLOs/data/processed/masks_post/val/004386.png'): can't open/read file: check file path/integrity\n"
     ]
    },
    {
     "name": "stdout",
     "output_type": "stream",
     "text": [
      "Mask correctly processed and saved for the following file: 004386.jpg\n",
      "\n",
      "image 1/1 /Users/mariarisques/TAED2_YOLOs/data/processed/images/val/005098.jpg: 448x640 1 person, 502.8ms\n",
      "Speed: 1.2ms preprocess, 502.8ms inference, 1.1ms postprocess per image at shape (1, 3, 448, 640)\n"
     ]
    },
    {
     "name": "stderr",
     "output_type": "stream",
     "text": [
      "[ WARN:0@889.023] global loadsave.cpp:241 findDecoder imread_('/Users/mariarisques/TAED2_YOLOs/data/processed/masks_post/val/005098.png'): can't open/read file: check file path/integrity\n"
     ]
    },
    {
     "name": "stdout",
     "output_type": "stream",
     "text": [
      "Mask correctly processed and saved for the following file: 005098.jpg\n",
      "\n",
      "image 1/1 /Users/mariarisques/TAED2_YOLOs/data/processed/images/val/002907.jpg: 640x448 1 person, 504.2ms\n",
      "Speed: 1.2ms preprocess, 504.2ms inference, 0.8ms postprocess per image at shape (1, 3, 640, 448)\n"
     ]
    },
    {
     "name": "stderr",
     "output_type": "stream",
     "text": [
      "[ WARN:0@890.002] global loadsave.cpp:241 findDecoder imread_('/Users/mariarisques/TAED2_YOLOs/data/processed/masks_post/val/002907.png'): can't open/read file: check file path/integrity\n"
     ]
    },
    {
     "name": "stdout",
     "output_type": "stream",
     "text": [
      "Mask correctly processed and saved for the following file: 002907.jpg\n",
      "\n",
      "image 1/1 /Users/mariarisques/TAED2_YOLOs/data/processed/images/val/002522.jpg: 448x640 1 person, 496.4ms\n",
      "Speed: 1.2ms preprocess, 496.4ms inference, 0.8ms postprocess per image at shape (1, 3, 448, 640)\n"
     ]
    },
    {
     "name": "stderr",
     "output_type": "stream",
     "text": [
      "[ WARN:0@890.987] global loadsave.cpp:241 findDecoder imread_('/Users/mariarisques/TAED2_YOLOs/data/processed/masks_post/val/002522.png'): can't open/read file: check file path/integrity\n"
     ]
    },
    {
     "name": "stdout",
     "output_type": "stream",
     "text": [
      "Mask correctly processed and saved for the following file: 002522.jpg\n",
      "\n",
      "image 1/1 /Users/mariarisques/TAED2_YOLOs/data/processed/images/val/001003.jpg: 448x640 1 person, 504.9ms\n",
      "Speed: 1.3ms preprocess, 504.9ms inference, 0.9ms postprocess per image at shape (1, 3, 448, 640)\n"
     ]
    },
    {
     "name": "stderr",
     "output_type": "stream",
     "text": [
      "[ WARN:0@891.955] global loadsave.cpp:241 findDecoder imread_('/Users/mariarisques/TAED2_YOLOs/data/processed/masks_post/val/001003.png'): can't open/read file: check file path/integrity\n"
     ]
    },
    {
     "name": "stdout",
     "output_type": "stream",
     "text": [
      "Mask correctly processed and saved for the following file: 001003.jpg\n",
      "\n",
      "image 1/1 /Users/mariarisques/TAED2_YOLOs/data/processed/images/val/001765.jpg: 448x640 1 person, 527.5ms\n",
      "Speed: 1.3ms preprocess, 527.5ms inference, 1.5ms postprocess per image at shape (1, 3, 448, 640)\n"
     ]
    },
    {
     "name": "stderr",
     "output_type": "stream",
     "text": [
      "[ WARN:0@892.947] global loadsave.cpp:241 findDecoder imread_('/Users/mariarisques/TAED2_YOLOs/data/processed/masks_post/val/001765.png'): can't open/read file: check file path/integrity\n"
     ]
    },
    {
     "name": "stdout",
     "output_type": "stream",
     "text": [
      "Mask correctly processed and saved for the following file: 001765.jpg\n",
      "\n",
      "image 1/1 /Users/mariarisques/TAED2_YOLOs/data/processed/images/val/001771.jpg: 448x640 1 person, 503.9ms\n",
      "Speed: 1.2ms preprocess, 503.9ms inference, 0.9ms postprocess per image at shape (1, 3, 448, 640)\n"
     ]
    },
    {
     "name": "stderr",
     "output_type": "stream",
     "text": [
      "[ WARN:0@893.920] global loadsave.cpp:241 findDecoder imread_('/Users/mariarisques/TAED2_YOLOs/data/processed/masks_post/val/001771.png'): can't open/read file: check file path/integrity\n"
     ]
    },
    {
     "name": "stdout",
     "output_type": "stream",
     "text": [
      "Mask correctly processed and saved for the following file: 001771.jpg\n",
      "\n",
      "image 1/1 /Users/mariarisques/TAED2_YOLOs/data/processed/images/val/003833.jpg: 448x640 1 person, 503.1ms\n",
      "Speed: 1.2ms preprocess, 503.1ms inference, 1.2ms postprocess per image at shape (1, 3, 448, 640)\n"
     ]
    },
    {
     "name": "stderr",
     "output_type": "stream",
     "text": [
      "[ WARN:0@894.905] global loadsave.cpp:241 findDecoder imread_('/Users/mariarisques/TAED2_YOLOs/data/processed/masks_post/val/003833.png'): can't open/read file: check file path/integrity\n"
     ]
    },
    {
     "name": "stdout",
     "output_type": "stream",
     "text": [
      "Mask correctly processed and saved for the following file: 003833.jpg\n",
      "\n",
      "image 1/1 /Users/mariarisques/TAED2_YOLOs/data/processed/images/val/001956.jpg: 640x448 1 person, 491.4ms\n",
      "Speed: 1.2ms preprocess, 491.4ms inference, 1.0ms postprocess per image at shape (1, 3, 640, 448)\n"
     ]
    },
    {
     "name": "stderr",
     "output_type": "stream",
     "text": [
      "[ WARN:0@895.868] global loadsave.cpp:241 findDecoder imread_('/Users/mariarisques/TAED2_YOLOs/data/processed/masks_post/val/001956.png'): can't open/read file: check file path/integrity\n"
     ]
    },
    {
     "name": "stdout",
     "output_type": "stream",
     "text": [
      "Mask correctly processed and saved for the following file: 001956.jpg\n",
      "\n",
      "image 1/1 /Users/mariarisques/TAED2_YOLOs/data/processed/images/val/004741.jpg: 640x448 1 person, 534.0ms\n",
      "Speed: 1.4ms preprocess, 534.0ms inference, 0.9ms postprocess per image at shape (1, 3, 640, 448)\n"
     ]
    },
    {
     "name": "stderr",
     "output_type": "stream",
     "text": [
      "[ WARN:0@896.871] global loadsave.cpp:241 findDecoder imread_('/Users/mariarisques/TAED2_YOLOs/data/processed/masks_post/val/004741.png'): can't open/read file: check file path/integrity\n"
     ]
    },
    {
     "name": "stdout",
     "output_type": "stream",
     "text": [
      "Mask correctly processed and saved for the following file: 004741.jpg\n",
      "\n",
      "image 1/1 /Users/mariarisques/TAED2_YOLOs/data/processed/images/val/004769.jpg: 640x640 1 person, 870.4ms\n",
      "Speed: 1.6ms preprocess, 870.4ms inference, 1.2ms postprocess per image at shape (1, 3, 640, 640)\n"
     ]
    },
    {
     "name": "stderr",
     "output_type": "stream",
     "text": [
      "[ WARN:0@898.228] global loadsave.cpp:241 findDecoder imread_('/Users/mariarisques/TAED2_YOLOs/data/processed/masks_post/val/004769.png'): can't open/read file: check file path/integrity\n"
     ]
    },
    {
     "name": "stdout",
     "output_type": "stream",
     "text": [
      "Mask correctly processed and saved for the following file: 004769.jpg\n",
      "\n",
      "image 1/1 /Users/mariarisques/TAED2_YOLOs/data/processed/images/val/005463.jpg: 416x640 1 person, 461.0ms\n",
      "Speed: 1.2ms preprocess, 461.0ms inference, 0.8ms postprocess per image at shape (1, 3, 416, 640)\n"
     ]
    },
    {
     "name": "stderr",
     "output_type": "stream",
     "text": [
      "[ WARN:0@899.389] global loadsave.cpp:241 findDecoder imread_('/Users/mariarisques/TAED2_YOLOs/data/processed/masks_post/val/005463.png'): can't open/read file: check file path/integrity\n"
     ]
    },
    {
     "name": "stdout",
     "output_type": "stream",
     "text": [
      "Mask correctly processed and saved for the following file: 005463.jpg\n",
      "\n",
      "image 1/1 /Users/mariarisques/TAED2_YOLOs/data/processed/images/val/003953.jpg: 320x640 1 person, 379.8ms\n",
      "Speed: 0.9ms preprocess, 379.8ms inference, 0.8ms postprocess per image at shape (1, 3, 320, 640)\n"
     ]
    },
    {
     "name": "stderr",
     "output_type": "stream",
     "text": [
      "[ WARN:0@900.219] global loadsave.cpp:241 findDecoder imread_('/Users/mariarisques/TAED2_YOLOs/data/processed/masks_post/val/003953.png'): can't open/read file: check file path/integrity\n"
     ]
    },
    {
     "name": "stdout",
     "output_type": "stream",
     "text": [
      "Mask correctly processed and saved for the following file: 003953.jpg\n",
      "\n",
      "image 1/1 /Users/mariarisques/TAED2_YOLOs/data/processed/images/val/002654.jpg: 640x448 1 person, 502.9ms\n",
      "Speed: 1.2ms preprocess, 502.9ms inference, 0.9ms postprocess per image at shape (1, 3, 640, 448)\n"
     ]
    },
    {
     "name": "stderr",
     "output_type": "stream",
     "text": [
      "[ WARN:0@901.063] global loadsave.cpp:241 findDecoder imread_('/Users/mariarisques/TAED2_YOLOs/data/processed/masks_post/val/002654.png'): can't open/read file: check file path/integrity\n"
     ]
    },
    {
     "name": "stdout",
     "output_type": "stream",
     "text": [
      "Mask correctly processed and saved for the following file: 002654.jpg\n",
      "\n",
      "image 1/1 /Users/mariarisques/TAED2_YOLOs/data/processed/images/val/001413.jpg: 448x640 1 person, 511.2ms\n",
      "Speed: 1.2ms preprocess, 511.2ms inference, 0.8ms postprocess per image at shape (1, 3, 448, 640)\n"
     ]
    },
    {
     "name": "stderr",
     "output_type": "stream",
     "text": [
      "[ WARN:0@902.037] global loadsave.cpp:241 findDecoder imread_('/Users/mariarisques/TAED2_YOLOs/data/processed/masks_post/val/001413.png'): can't open/read file: check file path/integrity\n"
     ]
    },
    {
     "name": "stdout",
     "output_type": "stream",
     "text": [
      "Mask correctly processed and saved for the following file: 001413.jpg\n",
      "\n",
      "image 1/1 /Users/mariarisques/TAED2_YOLOs/data/processed/images/val/003576.jpg: 448x640 1 person, 510.9ms\n",
      "Speed: 1.2ms preprocess, 510.9ms inference, 1.1ms postprocess per image at shape (1, 3, 448, 640)\n"
     ]
    },
    {
     "name": "stderr",
     "output_type": "stream",
     "text": [
      "[ WARN:0@903.012] global loadsave.cpp:241 findDecoder imread_('/Users/mariarisques/TAED2_YOLOs/data/processed/masks_post/val/003576.png'): can't open/read file: check file path/integrity\n"
     ]
    },
    {
     "name": "stdout",
     "output_type": "stream",
     "text": [
      "Mask correctly processed and saved for the following file: 003576.jpg\n",
      "\n",
      "image 1/1 /Users/mariarisques/TAED2_YOLOs/data/processed/images/val/000719.jpg: 480x640 1 person, 690.5ms\n",
      "Speed: 1.2ms preprocess, 690.5ms inference, 0.9ms postprocess per image at shape (1, 3, 480, 640)\n"
     ]
    },
    {
     "name": "stderr",
     "output_type": "stream",
     "text": [
      "[ WARN:0@904.175] global loadsave.cpp:241 findDecoder imread_('/Users/mariarisques/TAED2_YOLOs/data/processed/masks_post/val/000719.png'): can't open/read file: check file path/integrity\n"
     ]
    },
    {
     "name": "stdout",
     "output_type": "stream",
     "text": [
      "Mask correctly processed and saved for the following file: 000719.jpg\n",
      "\n",
      "image 1/1 /Users/mariarisques/TAED2_YOLOs/data/processed/images/val/003210.jpg: 448x640 1 person, 489.8ms\n",
      "Speed: 1.2ms preprocess, 489.8ms inference, 1.0ms postprocess per image at shape (1, 3, 448, 640)\n"
     ]
    },
    {
     "name": "stderr",
     "output_type": "stream",
     "text": [
      "[ WARN:0@905.162] global loadsave.cpp:241 findDecoder imread_('/Users/mariarisques/TAED2_YOLOs/data/processed/masks_post/val/003210.png'): can't open/read file: check file path/integrity\n"
     ]
    },
    {
     "name": "stdout",
     "output_type": "stream",
     "text": [
      "Mask correctly processed and saved for the following file: 003210.jpg\n",
      "\n",
      "image 1/1 /Users/mariarisques/TAED2_YOLOs/data/processed/images/val/002697.jpg: 480x640 1 person, 539.4ms\n",
      "Speed: 1.3ms preprocess, 539.4ms inference, 1.3ms postprocess per image at shape (1, 3, 480, 640)\n"
     ]
    },
    {
     "name": "stderr",
     "output_type": "stream",
     "text": [
      "[ WARN:0@906.173] global loadsave.cpp:241 findDecoder imread_('/Users/mariarisques/TAED2_YOLOs/data/processed/masks_post/val/002697.png'): can't open/read file: check file path/integrity\n"
     ]
    },
    {
     "name": "stdout",
     "output_type": "stream",
     "text": [
      "Mask correctly processed and saved for the following file: 002697.jpg\n",
      "\n",
      "image 1/1 /Users/mariarisques/TAED2_YOLOs/data/processed/images/val/000916.jpg: 480x640 3 persons, 530.2ms\n",
      "Speed: 1.3ms preprocess, 530.2ms inference, 2.2ms postprocess per image at shape (1, 3, 480, 640)\n"
     ]
    },
    {
     "name": "stderr",
     "output_type": "stream",
     "text": [
      "[ WARN:0@907.216] global loadsave.cpp:241 findDecoder imread_('/Users/mariarisques/TAED2_YOLOs/data/processed/masks_post/val/000916.png'): can't open/read file: check file path/integrity\n"
     ]
    },
    {
     "name": "stdout",
     "output_type": "stream",
     "text": [
      "Mask correctly processed and saved for the following file: 000916.jpg\n",
      "\n",
      "image 1/1 /Users/mariarisques/TAED2_YOLOs/data/processed/images/val/002873.jpg: 448x640 1 person, 489.7ms\n",
      "Speed: 1.2ms preprocess, 489.7ms inference, 1.0ms postprocess per image at shape (1, 3, 448, 640)\n"
     ]
    },
    {
     "name": "stderr",
     "output_type": "stream",
     "text": [
      "[ WARN:0@908.210] global loadsave.cpp:241 findDecoder imread_('/Users/mariarisques/TAED2_YOLOs/data/processed/masks_post/val/002873.png'): can't open/read file: check file path/integrity\n"
     ]
    },
    {
     "name": "stdout",
     "output_type": "stream",
     "text": [
      "Mask correctly processed and saved for the following file: 002873.jpg\n",
      "\n",
      "image 1/1 /Users/mariarisques/TAED2_YOLOs/data/processed/images/val/003205.jpg: 448x640 1 person, 506.5ms\n",
      "Speed: 1.2ms preprocess, 506.5ms inference, 1.5ms postprocess per image at shape (1, 3, 448, 640)\n"
     ]
    },
    {
     "name": "stderr",
     "output_type": "stream",
     "text": [
      "[ WARN:0@909.181] global loadsave.cpp:241 findDecoder imread_('/Users/mariarisques/TAED2_YOLOs/data/processed/masks_post/val/003205.png'): can't open/read file: check file path/integrity\n"
     ]
    },
    {
     "name": "stdout",
     "output_type": "stream",
     "text": [
      "Mask correctly processed and saved for the following file: 003205.jpg\n",
      "\n",
      "image 1/1 /Users/mariarisques/TAED2_YOLOs/data/processed/images/val/003563.jpg: 448x640 1 person, 516.6ms\n",
      "Speed: 1.2ms preprocess, 516.6ms inference, 1.1ms postprocess per image at shape (1, 3, 448, 640)\n"
     ]
    },
    {
     "name": "stderr",
     "output_type": "stream",
     "text": [
      "[ WARN:0@910.163] global loadsave.cpp:241 findDecoder imread_('/Users/mariarisques/TAED2_YOLOs/data/processed/masks_post/val/003563.png'): can't open/read file: check file path/integrity\n"
     ]
    },
    {
     "name": "stdout",
     "output_type": "stream",
     "text": [
      "Mask correctly processed and saved for the following file: 003563.jpg\n",
      "\n",
      "image 1/1 /Users/mariarisques/TAED2_YOLOs/data/processed/images/val/000724.jpg: 448x640 1 person, 486.8ms\n",
      "Speed: 1.2ms preprocess, 486.8ms inference, 0.9ms postprocess per image at shape (1, 3, 448, 640)\n"
     ]
    },
    {
     "name": "stderr",
     "output_type": "stream",
     "text": [
      "[ WARN:0@911.152] global loadsave.cpp:241 findDecoder imread_('/Users/mariarisques/TAED2_YOLOs/data/processed/masks_post/val/000724.png'): can't open/read file: check file path/integrity\n"
     ]
    },
    {
     "name": "stdout",
     "output_type": "stream",
     "text": [
      "Mask correctly processed and saved for the following file: 000724.jpg\n",
      "\n",
      "image 1/1 /Users/mariarisques/TAED2_YOLOs/data/processed/images/val/005310.jpg: 448x640 2 persons, 513.4ms\n",
      "Speed: 1.3ms preprocess, 513.4ms inference, 1.1ms postprocess per image at shape (1, 3, 448, 640)\n"
     ]
    },
    {
     "name": "stderr",
     "output_type": "stream",
     "text": [
      "[ WARN:0@912.143] global loadsave.cpp:241 findDecoder imread_('/Users/mariarisques/TAED2_YOLOs/data/processed/masks_post/val/005310.png'): can't open/read file: check file path/integrity\n"
     ]
    },
    {
     "name": "stdout",
     "output_type": "stream",
     "text": [
      "Mask correctly processed and saved for the following file: 005310.jpg\n",
      "\n",
      "image 1/1 /Users/mariarisques/TAED2_YOLOs/data/processed/images/val/002319.jpg: 448x640 1 person, 509.1ms\n",
      "Speed: 1.2ms preprocess, 509.1ms inference, 1.4ms postprocess per image at shape (1, 3, 448, 640)\n"
     ]
    },
    {
     "name": "stderr",
     "output_type": "stream",
     "text": [
      "[ WARN:0@913.135] global loadsave.cpp:241 findDecoder imread_('/Users/mariarisques/TAED2_YOLOs/data/processed/masks_post/val/002319.png'): can't open/read file: check file path/integrity\n"
     ]
    },
    {
     "name": "stdout",
     "output_type": "stream",
     "text": [
      "Mask correctly processed and saved for the following file: 002319.jpg\n",
      "\n",
      "image 1/1 /Users/mariarisques/TAED2_YOLOs/data/processed/images/val/004768.jpg: 640x448 1 person, 489.1ms\n",
      "Speed: 1.2ms preprocess, 489.1ms inference, 1.4ms postprocess per image at shape (1, 3, 640, 448)\n"
     ]
    },
    {
     "name": "stderr",
     "output_type": "stream",
     "text": [
      "[ WARN:0@914.092] global loadsave.cpp:241 findDecoder imread_('/Users/mariarisques/TAED2_YOLOs/data/processed/masks_post/val/004768.png'): can't open/read file: check file path/integrity\n"
     ]
    },
    {
     "name": "stdout",
     "output_type": "stream",
     "text": [
      "Mask correctly processed and saved for the following file: 004768.jpg\n",
      "\n",
      "image 1/1 /Users/mariarisques/TAED2_YOLOs/data/processed/images/val/002331.jpg: 640x448 1 person, 506.1ms\n",
      "Speed: 1.2ms preprocess, 506.1ms inference, 1.2ms postprocess per image at shape (1, 3, 640, 448)\n"
     ]
    },
    {
     "name": "stderr",
     "output_type": "stream",
     "text": [
      "[ WARN:0@915.066] global loadsave.cpp:241 findDecoder imread_('/Users/mariarisques/TAED2_YOLOs/data/processed/masks_post/val/002331.png'): can't open/read file: check file path/integrity\n"
     ]
    },
    {
     "name": "stdout",
     "output_type": "stream",
     "text": [
      "Mask correctly processed and saved for the following file: 002331.jpg\n",
      "\n",
      "image 1/1 /Users/mariarisques/TAED2_YOLOs/data/processed/images/val/003991.jpg: 448x640 1 person, 507.2ms\n",
      "Speed: 1.2ms preprocess, 507.2ms inference, 1.5ms postprocess per image at shape (1, 3, 448, 640)\n"
     ]
    },
    {
     "name": "stderr",
     "output_type": "stream",
     "text": [
      "[ WARN:0@916.049] global loadsave.cpp:241 findDecoder imread_('/Users/mariarisques/TAED2_YOLOs/data/processed/masks_post/val/003991.png'): can't open/read file: check file path/integrity\n"
     ]
    },
    {
     "name": "stdout",
     "output_type": "stream",
     "text": [
      "Mask correctly processed and saved for the following file: 003991.jpg\n",
      "\n",
      "image 1/1 /Users/mariarisques/TAED2_YOLOs/data/processed/images/val/000532.jpg: 448x640 2 persons, 507.1ms\n",
      "Speed: 1.2ms preprocess, 507.1ms inference, 1.4ms postprocess per image at shape (1, 3, 448, 640)\n"
     ]
    },
    {
     "name": "stderr",
     "output_type": "stream",
     "text": [
      "[ WARN:0@917.042] global loadsave.cpp:241 findDecoder imread_('/Users/mariarisques/TAED2_YOLOs/data/processed/masks_post/val/000532.png'): can't open/read file: check file path/integrity\n"
     ]
    },
    {
     "name": "stdout",
     "output_type": "stream",
     "text": [
      "Mask correctly processed and saved for the following file: 000532.jpg\n",
      "\n",
      "image 1/1 /Users/mariarisques/TAED2_YOLOs/data/processed/images/val/002325.jpg: 448x640 1 person, 501.9ms\n",
      "Speed: 1.2ms preprocess, 501.9ms inference, 1.1ms postprocess per image at shape (1, 3, 448, 640)\n"
     ]
    },
    {
     "name": "stderr",
     "output_type": "stream",
     "text": [
      "[ WARN:0@918.014] global loadsave.cpp:241 findDecoder imread_('/Users/mariarisques/TAED2_YOLOs/data/processed/masks_post/val/002325.png'): can't open/read file: check file path/integrity\n"
     ]
    },
    {
     "name": "stdout",
     "output_type": "stream",
     "text": [
      "Mask correctly processed and saved for the following file: 002325.jpg\n",
      "\n",
      "image 1/1 /Users/mariarisques/TAED2_YOLOs/data/processed/images/val/002286.jpg: 448x640 1 person, 493.7ms\n",
      "Speed: 1.3ms preprocess, 493.7ms inference, 0.9ms postprocess per image at shape (1, 3, 448, 640)\n"
     ]
    },
    {
     "name": "stderr",
     "output_type": "stream",
     "text": [
      "[ WARN:0@918.977] global loadsave.cpp:241 findDecoder imread_('/Users/mariarisques/TAED2_YOLOs/data/processed/masks_post/val/002286.png'): can't open/read file: check file path/integrity\n"
     ]
    },
    {
     "name": "stdout",
     "output_type": "stream",
     "text": [
      "Mask correctly processed and saved for the following file: 002286.jpg\n",
      "\n",
      "image 1/1 /Users/mariarisques/TAED2_YOLOs/data/processed/images/val/003826.jpg: 640x448 1 person, 516.4ms\n",
      "Speed: 1.2ms preprocess, 516.4ms inference, 1.0ms postprocess per image at shape (1, 3, 640, 448)\n"
     ]
    },
    {
     "name": "stderr",
     "output_type": "stream",
     "text": [
      "[ WARN:0@919.965] global loadsave.cpp:241 findDecoder imread_('/Users/mariarisques/TAED2_YOLOs/data/processed/masks_post/val/003826.png'): can't open/read file: check file path/integrity\n"
     ]
    },
    {
     "name": "stdout",
     "output_type": "stream",
     "text": [
      "Mask correctly processed and saved for the following file: 003826.jpg\n",
      "\n",
      "image 1/1 /Users/mariarisques/TAED2_YOLOs/data/processed/images/val/001943.jpg: 512x640 1 person, 680.8ms\n",
      "Speed: 1.3ms preprocess, 680.8ms inference, 1.2ms postprocess per image at shape (1, 3, 512, 640)\n"
     ]
    },
    {
     "name": "stderr",
     "output_type": "stream",
     "text": [
      "[ WARN:0@921.119] global loadsave.cpp:241 findDecoder imread_('/Users/mariarisques/TAED2_YOLOs/data/processed/masks_post/val/001943.png'): can't open/read file: check file path/integrity\n"
     ]
    },
    {
     "name": "stdout",
     "output_type": "stream",
     "text": [
      "Mask correctly processed and saved for the following file: 001943.jpg\n",
      "\n",
      "image 1/1 /Users/mariarisques/TAED2_YOLOs/data/processed/images/val/002279.jpg: 384x640 1 person, 461.5ms\n",
      "Speed: 1.3ms preprocess, 461.5ms inference, 0.8ms postprocess per image at shape (1, 3, 384, 640)\n"
     ]
    },
    {
     "name": "stderr",
     "output_type": "stream",
     "text": [
      "[ WARN:0@922.130] global loadsave.cpp:241 findDecoder imread_('/Users/mariarisques/TAED2_YOLOs/data/processed/masks_post/val/002279.png'): can't open/read file: check file path/integrity\n"
     ]
    },
    {
     "name": "stdout",
     "output_type": "stream",
     "text": [
      "Mask correctly processed and saved for the following file: 002279.jpg\n",
      "\n",
      "image 1/1 /Users/mariarisques/TAED2_YOLOs/data/processed/images/val/005270.jpg: 640x608 1 person, 770.6ms\n",
      "Speed: 1.5ms preprocess, 770.6ms inference, 1.5ms postprocess per image at shape (1, 3, 640, 608)\n"
     ]
    },
    {
     "name": "stderr",
     "output_type": "stream",
     "text": [
      "[ WARN:0@923.299] global loadsave.cpp:241 findDecoder imread_('/Users/mariarisques/TAED2_YOLOs/data/processed/masks_post/val/005270.png'): can't open/read file: check file path/integrity\n"
     ]
    },
    {
     "name": "stdout",
     "output_type": "stream",
     "text": [
      "Mask correctly processed and saved for the following file: 005270.jpg\n",
      "\n",
      "image 1/1 /Users/mariarisques/TAED2_YOLOs/data/processed/images/val/004152.jpg: 448x640 2 persons, 494.0ms\n",
      "Speed: 1.5ms preprocess, 494.0ms inference, 1.1ms postprocess per image at shape (1, 3, 448, 640)\n"
     ]
    },
    {
     "name": "stderr",
     "output_type": "stream",
     "text": [
      "[ WARN:0@924.429] global loadsave.cpp:241 findDecoder imread_('/Users/mariarisques/TAED2_YOLOs/data/processed/masks_post/val/004152.png'): can't open/read file: check file path/integrity\n"
     ]
    },
    {
     "name": "stdout",
     "output_type": "stream",
     "text": [
      "Mask correctly processed and saved for the following file: 004152.jpg\n",
      "\n",
      "image 1/1 /Users/mariarisques/TAED2_YOLOs/data/processed/images/val/002251.jpg: 448x640 1 person, 497.0ms\n",
      "Speed: 1.2ms preprocess, 497.0ms inference, 0.9ms postprocess per image at shape (1, 3, 448, 640)\n"
     ]
    },
    {
     "name": "stderr",
     "output_type": "stream",
     "text": [
      "[ WARN:0@925.403] global loadsave.cpp:241 findDecoder imread_('/Users/mariarisques/TAED2_YOLOs/data/processed/masks_post/val/002251.png'): can't open/read file: check file path/integrity\n"
     ]
    },
    {
     "name": "stdout",
     "output_type": "stream",
     "text": [
      "Mask correctly processed and saved for the following file: 002251.jpg\n",
      "\n",
      "image 1/1 /Users/mariarisques/TAED2_YOLOs/data/processed/images/val/002906.jpg: 448x640 1 person, 511.5ms\n",
      "Speed: 1.2ms preprocess, 511.5ms inference, 0.9ms postprocess per image at shape (1, 3, 448, 640)\n"
     ]
    },
    {
     "name": "stderr",
     "output_type": "stream",
     "text": [
      "[ WARN:0@926.408] global loadsave.cpp:241 findDecoder imread_('/Users/mariarisques/TAED2_YOLOs/data/processed/masks_post/val/002906.png'): can't open/read file: check file path/integrity\n"
     ]
    },
    {
     "name": "stdout",
     "output_type": "stream",
     "text": [
      "Mask correctly processed and saved for the following file: 002906.jpg\n",
      "\n",
      "image 1/1 /Users/mariarisques/TAED2_YOLOs/data/processed/images/val/005072.jpg: 448x640 2 persons, 494.4ms\n",
      "Speed: 1.3ms preprocess, 494.4ms inference, 1.5ms postprocess per image at shape (1, 3, 448, 640)\n"
     ]
    },
    {
     "name": "stderr",
     "output_type": "stream",
     "text": [
      "[ WARN:0@927.365] global loadsave.cpp:241 findDecoder imread_('/Users/mariarisques/TAED2_YOLOs/data/processed/masks_post/val/005072.png'): can't open/read file: check file path/integrity\n"
     ]
    },
    {
     "name": "stdout",
     "output_type": "stream",
     "text": [
      "Mask correctly processed and saved for the following file: 005072.jpg\n",
      "\n",
      "image 1/1 /Users/mariarisques/TAED2_YOLOs/data/processed/images/val/000678.jpg: 640x576 1 person, 779.1ms\n",
      "Speed: 1.5ms preprocess, 779.1ms inference, 1.0ms postprocess per image at shape (1, 3, 640, 576)\n"
     ]
    },
    {
     "name": "stderr",
     "output_type": "stream",
     "text": [
      "[ WARN:0@928.622] global loadsave.cpp:241 findDecoder imread_('/Users/mariarisques/TAED2_YOLOs/data/processed/masks_post/val/000678.png'): can't open/read file: check file path/integrity\n"
     ]
    },
    {
     "name": "stdout",
     "output_type": "stream",
     "text": [
      "Mask correctly processed and saved for the following file: 000678.jpg\n",
      "\n",
      "image 1/1 /Users/mariarisques/TAED2_YOLOs/data/processed/images/val/003429.jpg: 448x640 1 person, 505.2ms\n",
      "Speed: 1.2ms preprocess, 505.2ms inference, 0.9ms postprocess per image at shape (1, 3, 448, 640)\n"
     ]
    },
    {
     "name": "stderr",
     "output_type": "stream",
     "text": [
      "[ WARN:0@929.747] global loadsave.cpp:241 findDecoder imread_('/Users/mariarisques/TAED2_YOLOs/data/processed/masks_post/val/003429.png'): can't open/read file: check file path/integrity\n"
     ]
    },
    {
     "name": "stdout",
     "output_type": "stream",
     "text": [
      "Mask correctly processed and saved for the following file: 003429.jpg\n",
      "\n",
      "image 1/1 /Users/mariarisques/TAED2_YOLOs/data/processed/images/val/001558.jpg: 448x640 1 person, 496.5ms\n",
      "Speed: 1.2ms preprocess, 496.5ms inference, 1.1ms postprocess per image at shape (1, 3, 448, 640)\n"
     ]
    },
    {
     "name": "stderr",
     "output_type": "stream",
     "text": [
      "[ WARN:0@930.708] global loadsave.cpp:241 findDecoder imread_('/Users/mariarisques/TAED2_YOLOs/data/processed/masks_post/val/001558.png'): can't open/read file: check file path/integrity\n"
     ]
    },
    {
     "name": "stdout",
     "output_type": "stream",
     "text": [
      "Mask correctly processed and saved for the following file: 001558.jpg\n",
      "\n",
      "image 1/1 /Users/mariarisques/TAED2_YOLOs/data/processed/images/val/002051.jpg: 448x640 1 person, 514.8ms\n",
      "Speed: 1.4ms preprocess, 514.8ms inference, 1.4ms postprocess per image at shape (1, 3, 448, 640)\n"
     ]
    },
    {
     "name": "stderr",
     "output_type": "stream",
     "text": [
      "[ WARN:0@931.688] global loadsave.cpp:241 findDecoder imread_('/Users/mariarisques/TAED2_YOLOs/data/processed/masks_post/val/002051.png'): can't open/read file: check file path/integrity\n"
     ]
    },
    {
     "name": "stdout",
     "output_type": "stream",
     "text": [
      "Mask correctly processed and saved for the following file: 002051.jpg\n",
      "\n",
      "image 1/1 /Users/mariarisques/TAED2_YOLOs/data/processed/images/val/000691.jpg: 384x640 1 person, 451.6ms\n",
      "Speed: 1.2ms preprocess, 451.6ms inference, 1.0ms postprocess per image at shape (1, 3, 384, 640)\n"
     ]
    },
    {
     "name": "stderr",
     "output_type": "stream",
     "text": [
      "[ WARN:0@932.604] global loadsave.cpp:241 findDecoder imread_('/Users/mariarisques/TAED2_YOLOs/data/processed/masks_post/val/000691.png'): can't open/read file: check file path/integrity\n"
     ]
    },
    {
     "name": "stdout",
     "output_type": "stream",
     "text": [
      "Mask correctly processed and saved for the following file: 000691.jpg\n",
      "\n",
      "image 1/1 /Users/mariarisques/TAED2_YOLOs/data/processed/images/val/002086.jpg: 448x640 1 person, 531.4ms\n",
      "Speed: 1.3ms preprocess, 531.4ms inference, 1.4ms postprocess per image at shape (1, 3, 448, 640)\n"
     ]
    },
    {
     "name": "stderr",
     "output_type": "stream",
     "text": [
      "[ WARN:0@933.536] global loadsave.cpp:241 findDecoder imread_('/Users/mariarisques/TAED2_YOLOs/data/processed/masks_post/val/002086.png'): can't open/read file: check file path/integrity\n"
     ]
    },
    {
     "name": "stdout",
     "output_type": "stream",
     "text": [
      "Mask correctly processed and saved for the following file: 002086.jpg\n",
      "\n",
      "image 1/1 /Users/mariarisques/TAED2_YOLOs/data/processed/images/val/000861.jpg: 640x448 1 person, 513.7ms\n",
      "Speed: 1.4ms preprocess, 513.7ms inference, 1.0ms postprocess per image at shape (1, 3, 640, 448)\n"
     ]
    },
    {
     "name": "stderr",
     "output_type": "stream",
     "text": [
      "[ WARN:0@934.518] global loadsave.cpp:241 findDecoder imread_('/Users/mariarisques/TAED2_YOLOs/data/processed/masks_post/val/000861.png'): can't open/read file: check file path/integrity\n"
     ]
    },
    {
     "name": "stdout",
     "output_type": "stream",
     "text": [
      "Mask correctly processed and saved for the following file: 000861.jpg\n",
      "\n",
      "image 1/1 /Users/mariarisques/TAED2_YOLOs/data/processed/images/val/001028.jpg: 640x448 1 person, 507.6ms\n",
      "Speed: 1.2ms preprocess, 507.6ms inference, 0.8ms postprocess per image at shape (1, 3, 640, 448)\n"
     ]
    },
    {
     "name": "stderr",
     "output_type": "stream",
     "text": [
      "[ WARN:0@935.500] global loadsave.cpp:241 findDecoder imread_('/Users/mariarisques/TAED2_YOLOs/data/processed/masks_post/val/001028.png'): can't open/read file: check file path/integrity\n"
     ]
    },
    {
     "name": "stdout",
     "output_type": "stream",
     "text": [
      "Mask correctly processed and saved for the following file: 001028.jpg\n",
      "\n",
      "image 1/1 /Users/mariarisques/TAED2_YOLOs/data/processed/images/val/001996.jpg: 640x512 3 persons, 713.2ms\n",
      "Speed: 1.5ms preprocess, 713.2ms inference, 2.4ms postprocess per image at shape (1, 3, 640, 512)\n"
     ]
    },
    {
     "name": "stderr",
     "output_type": "stream",
     "text": [
      "[ WARN:0@936.688] global loadsave.cpp:241 findDecoder imread_('/Users/mariarisques/TAED2_YOLOs/data/processed/masks_post/val/001996.png'): can't open/read file: check file path/integrity\n"
     ]
    },
    {
     "name": "stdout",
     "output_type": "stream",
     "text": [
      "Mask correctly processed and saved for the following file: 001996.jpg\n",
      "\n",
      "image 1/1 /Users/mariarisques/TAED2_YOLOs/data/processed/images/val/005272.jpg: 448x640 1 person, 508.5ms\n",
      "Speed: 1.4ms preprocess, 508.5ms inference, 0.9ms postprocess per image at shape (1, 3, 448, 640)\n"
     ]
    },
    {
     "name": "stderr",
     "output_type": "stream",
     "text": [
      "[ WARN:0@937.767] global loadsave.cpp:241 findDecoder imread_('/Users/mariarisques/TAED2_YOLOs/data/processed/masks_post/val/005272.png'): can't open/read file: check file path/integrity\n"
     ]
    },
    {
     "name": "stdout",
     "output_type": "stream",
     "text": [
      "Mask correctly processed and saved for the following file: 005272.jpg\n",
      "\n",
      "image 1/1 /Users/mariarisques/TAED2_YOLOs/data/processed/images/val/004178.jpg: 640x448 1 person, 528.9ms\n",
      "Speed: 1.2ms preprocess, 528.9ms inference, 1.1ms postprocess per image at shape (1, 3, 640, 448)\n"
     ]
    },
    {
     "name": "stderr",
     "output_type": "stream",
     "text": [
      "[ WARN:0@938.777] global loadsave.cpp:241 findDecoder imread_('/Users/mariarisques/TAED2_YOLOs/data/processed/masks_post/val/004178.png'): can't open/read file: check file path/integrity\n"
     ]
    },
    {
     "name": "stdout",
     "output_type": "stream",
     "text": [
      "Mask correctly processed and saved for the following file: 004178.jpg\n",
      "\n",
      "image 1/1 /Users/mariarisques/TAED2_YOLOs/data/processed/images/val/003617.jpg: 480x640 1 person, 541.7ms\n",
      "Speed: 1.3ms preprocess, 541.7ms inference, 0.9ms postprocess per image at shape (1, 3, 480, 640)\n"
     ]
    },
    {
     "name": "stderr",
     "output_type": "stream",
     "text": [
      "[ WARN:0@939.782] global loadsave.cpp:241 findDecoder imread_('/Users/mariarisques/TAED2_YOLOs/data/processed/masks_post/val/003617.png'): can't open/read file: check file path/integrity\n"
     ]
    },
    {
     "name": "stdout",
     "output_type": "stream",
     "text": [
      "Mask correctly processed and saved for the following file: 003617.jpg\n",
      "\n",
      "image 1/1 /Users/mariarisques/TAED2_YOLOs/data/processed/images/val/005266.jpg: 448x640 1 person, 491.0ms\n",
      "Speed: 1.2ms preprocess, 491.0ms inference, 1.1ms postprocess per image at shape (1, 3, 448, 640)\n"
     ]
    },
    {
     "name": "stderr",
     "output_type": "stream",
     "text": [
      "[ WARN:0@940.770] global loadsave.cpp:241 findDecoder imread_('/Users/mariarisques/TAED2_YOLOs/data/processed/masks_post/val/005266.png'): can't open/read file: check file path/integrity\n"
     ]
    },
    {
     "name": "stdout",
     "output_type": "stream",
     "text": [
      "Mask correctly processed and saved for the following file: 005266.jpg\n",
      "\n",
      "image 1/1 /Users/mariarisques/TAED2_YOLOs/data/processed/images/val/003818.jpg: 448x640 2 persons, 493.9ms\n",
      "Speed: 1.2ms preprocess, 493.9ms inference, 1.4ms postprocess per image at shape (1, 3, 448, 640)\n"
     ]
    },
    {
     "name": "stderr",
     "output_type": "stream",
     "text": [
      "[ WARN:0@941.738] global loadsave.cpp:241 findDecoder imread_('/Users/mariarisques/TAED2_YOLOs/data/processed/masks_post/val/003818.png'): can't open/read file: check file path/integrity\n"
     ]
    },
    {
     "name": "stdout",
     "output_type": "stream",
     "text": [
      "Mask correctly processed and saved for the following file: 003818.jpg\n",
      "\n",
      "image 1/1 /Users/mariarisques/TAED2_YOLOs/data/processed/images/val/004756.jpg: 448x640 1 person, 498.0ms\n",
      "Speed: 1.3ms preprocess, 498.0ms inference, 0.9ms postprocess per image at shape (1, 3, 448, 640)\n"
     ]
    },
    {
     "name": "stderr",
     "output_type": "stream",
     "text": [
      "[ WARN:0@942.703] global loadsave.cpp:241 findDecoder imread_('/Users/mariarisques/TAED2_YOLOs/data/processed/masks_post/val/004756.png'): can't open/read file: check file path/integrity\n"
     ]
    },
    {
     "name": "stdout",
     "output_type": "stream",
     "text": [
      "Mask correctly processed and saved for the following file: 004756.jpg\n",
      "\n",
      "image 1/1 /Users/mariarisques/TAED2_YOLOs/data/processed/images/val/001160.jpg: 448x640 1 person, 500.7ms\n",
      "Speed: 1.4ms preprocess, 500.7ms inference, 0.9ms postprocess per image at shape (1, 3, 448, 640)\n"
     ]
    },
    {
     "name": "stderr",
     "output_type": "stream",
     "text": [
      "[ WARN:0@943.673] global loadsave.cpp:241 findDecoder imread_('/Users/mariarisques/TAED2_YOLOs/data/processed/masks_post/val/001160.png'): can't open/read file: check file path/integrity\n"
     ]
    },
    {
     "name": "stdout",
     "output_type": "stream",
     "text": [
      "Mask correctly processed and saved for the following file: 001160.jpg\n",
      "\n",
      "image 1/1 /Users/mariarisques/TAED2_YOLOs/data/processed/images/val/002469.jpg: 640x448 1 person, 494.9ms\n",
      "Speed: 1.2ms preprocess, 494.9ms inference, 0.8ms postprocess per image at shape (1, 3, 640, 448)\n"
     ]
    },
    {
     "name": "stderr",
     "output_type": "stream",
     "text": [
      "[ WARN:0@944.659] global loadsave.cpp:241 findDecoder imread_('/Users/mariarisques/TAED2_YOLOs/data/processed/masks_post/val/002469.png'): can't open/read file: check file path/integrity\n"
     ]
    },
    {
     "name": "stdout",
     "output_type": "stream",
     "text": [
      "Mask correctly processed and saved for the following file: 002469.jpg\n",
      "\n",
      "image 1/1 /Users/mariarisques/TAED2_YOLOs/data/processed/images/val/001174.jpg: 448x640 1 person, 492.6ms\n",
      "Speed: 1.2ms preprocess, 492.6ms inference, 1.4ms postprocess per image at shape (1, 3, 448, 640)\n"
     ]
    },
    {
     "name": "stderr",
     "output_type": "stream",
     "text": [
      "[ WARN:0@945.624] global loadsave.cpp:241 findDecoder imread_('/Users/mariarisques/TAED2_YOLOs/data/processed/masks_post/val/001174.png'): can't open/read file: check file path/integrity\n"
     ]
    },
    {
     "name": "stdout",
     "output_type": "stream",
     "text": [
      "Mask correctly processed and saved for the following file: 001174.jpg\n",
      "\n",
      "image 1/1 /Users/mariarisques/TAED2_YOLOs/data/processed/images/val/003950.jpg: 640x448 1 person, 499.9ms\n",
      "Speed: 1.2ms preprocess, 499.9ms inference, 0.8ms postprocess per image at shape (1, 3, 640, 448)\n"
     ]
    },
    {
     "name": "stderr",
     "output_type": "stream",
     "text": [
      "[ WARN:0@946.603] global loadsave.cpp:241 findDecoder imread_('/Users/mariarisques/TAED2_YOLOs/data/processed/masks_post/val/003950.png'): can't open/read file: check file path/integrity\n"
     ]
    },
    {
     "name": "stdout",
     "output_type": "stream",
     "text": [
      "Mask correctly processed and saved for the following file: 003950.jpg\n",
      "\n",
      "image 1/1 /Users/mariarisques/TAED2_YOLOs/data/processed/images/val/003944.jpg: 640x640 1 person, 803.3ms\n",
      "Speed: 1.9ms preprocess, 803.3ms inference, 1.5ms postprocess per image at shape (1, 3, 640, 640)\n"
     ]
    },
    {
     "name": "stderr",
     "output_type": "stream",
     "text": [
      "[ WARN:0@947.883] global loadsave.cpp:241 findDecoder imread_('/Users/mariarisques/TAED2_YOLOs/data/processed/masks_post/val/003944.png'): can't open/read file: check file path/integrity\n"
     ]
    },
    {
     "name": "stdout",
     "output_type": "stream",
     "text": [
      "Mask correctly processed and saved for the following file: 003944.jpg\n",
      "\n",
      "image 1/1 /Users/mariarisques/TAED2_YOLOs/data/processed/images/val/001809.jpg: 640x416 1 person, 604.6ms\n",
      "Speed: 1.4ms preprocess, 604.6ms inference, 0.9ms postprocess per image at shape (1, 3, 640, 416)\n"
     ]
    },
    {
     "name": "stderr",
     "output_type": "stream",
     "text": [
      "[ WARN:0@949.169] global loadsave.cpp:241 findDecoder imread_('/Users/mariarisques/TAED2_YOLOs/data/processed/masks_post/val/001809.png'): can't open/read file: check file path/integrity\n"
     ]
    },
    {
     "name": "stdout",
     "output_type": "stream",
     "text": [
      "Mask correctly processed and saved for the following file: 001809.jpg\n",
      "\n",
      "image 1/1 /Users/mariarisques/TAED2_YOLOs/data/processed/images/val/000726.jpg: 448x640 1 person, 527.0ms\n",
      "Speed: 1.2ms preprocess, 527.0ms inference, 1.0ms postprocess per image at shape (1, 3, 448, 640)\n"
     ]
    },
    {
     "name": "stderr",
     "output_type": "stream",
     "text": [
      "[ WARN:0@950.139] global loadsave.cpp:241 findDecoder imread_('/Users/mariarisques/TAED2_YOLOs/data/processed/masks_post/val/000726.png'): can't open/read file: check file path/integrity\n"
     ]
    },
    {
     "name": "stdout",
     "output_type": "stream",
     "text": [
      "Mask correctly processed and saved for the following file: 000726.jpg\n",
      "\n",
      "image 1/1 /Users/mariarisques/TAED2_YOLOs/data/processed/images/val/001438.jpg: 640x416 1 person, 462.7ms\n",
      "Speed: 1.2ms preprocess, 462.7ms inference, 0.8ms postprocess per image at shape (1, 3, 640, 416)\n"
     ]
    },
    {
     "name": "stderr",
     "output_type": "stream",
     "text": [
      "[ WARN:0@951.071] global loadsave.cpp:241 findDecoder imread_('/Users/mariarisques/TAED2_YOLOs/data/processed/masks_post/val/001438.png'): can't open/read file: check file path/integrity\n"
     ]
    },
    {
     "name": "stdout",
     "output_type": "stream",
     "text": [
      "Mask correctly processed and saved for the following file: 001438.jpg\n",
      "\n",
      "image 1/1 /Users/mariarisques/TAED2_YOLOs/data/processed/images/val/004232.jpg: 640x480 1 person, 677.7ms\n",
      "Speed: 1.3ms preprocess, 677.7ms inference, 0.9ms postprocess per image at shape (1, 3, 640, 480)\n"
     ]
    },
    {
     "name": "stderr",
     "output_type": "stream",
     "text": [
      "[ WARN:0@952.195] global loadsave.cpp:241 findDecoder imread_('/Users/mariarisques/TAED2_YOLOs/data/processed/masks_post/val/004232.png'): can't open/read file: check file path/integrity\n"
     ]
    },
    {
     "name": "stdout",
     "output_type": "stream",
     "text": [
      "Mask correctly processed and saved for the following file: 004232.jpg\n",
      "\n",
      "image 1/1 /Users/mariarisques/TAED2_YOLOs/data/processed/images/val/002643.jpg: 384x640 1 person, 439.4ms\n",
      "Speed: 1.0ms preprocess, 439.4ms inference, 1.0ms postprocess per image at shape (1, 3, 384, 640)\n"
     ]
    },
    {
     "name": "stderr",
     "output_type": "stream",
     "text": [
      "[ WARN:0@953.131] global loadsave.cpp:241 findDecoder imread_('/Users/mariarisques/TAED2_YOLOs/data/processed/masks_post/val/002643.png'): can't open/read file: check file path/integrity\n"
     ]
    },
    {
     "name": "stdout",
     "output_type": "stream",
     "text": [
      "Mask correctly processed and saved for the following file: 002643.jpg\n",
      "\n",
      "image 1/1 /Users/mariarisques/TAED2_YOLOs/data/processed/images/val/005104.jpg: 448x640 1 person, 513.4ms\n",
      "Speed: 1.2ms preprocess, 513.4ms inference, 0.8ms postprocess per image at shape (1, 3, 448, 640)\n"
     ]
    },
    {
     "name": "stderr",
     "output_type": "stream",
     "text": [
      "[ WARN:0@954.042] global loadsave.cpp:241 findDecoder imread_('/Users/mariarisques/TAED2_YOLOs/data/processed/masks_post/val/005104.png'): can't open/read file: check file path/integrity\n"
     ]
    },
    {
     "name": "stdout",
     "output_type": "stream",
     "text": [
      "Mask correctly processed and saved for the following file: 005104.jpg\n",
      "\n",
      "image 1/1 /Users/mariarisques/TAED2_YOLOs/data/processed/images/val/002694.jpg: 448x640 1 person, 513.0ms\n",
      "Speed: 1.2ms preprocess, 513.0ms inference, 0.8ms postprocess per image at shape (1, 3, 448, 640)\n"
     ]
    },
    {
     "name": "stderr",
     "output_type": "stream",
     "text": [
      "[ WARN:0@955.019] global loadsave.cpp:241 findDecoder imread_('/Users/mariarisques/TAED2_YOLOs/data/processed/masks_post/val/002694.png'): can't open/read file: check file path/integrity\n"
     ]
    },
    {
     "name": "stdout",
     "output_type": "stream",
     "text": [
      "Mask correctly processed and saved for the following file: 002694.jpg\n",
      "\n",
      "image 1/1 /Users/mariarisques/TAED2_YOLOs/data/processed/images/val/004597.jpg: 640x448 1 person, 506.1ms\n",
      "Speed: 1.2ms preprocess, 506.1ms inference, 0.8ms postprocess per image at shape (1, 3, 640, 448)\n"
     ]
    },
    {
     "name": "stderr",
     "output_type": "stream",
     "text": [
      "[ WARN:0@956.005] global loadsave.cpp:241 findDecoder imread_('/Users/mariarisques/TAED2_YOLOs/data/processed/masks_post/val/004597.png'): can't open/read file: check file path/integrity\n"
     ]
    },
    {
     "name": "stdout",
     "output_type": "stream",
     "text": [
      "Mask correctly processed and saved for the following file: 004597.jpg\n",
      "\n",
      "image 1/1 /Users/mariarisques/TAED2_YOLOs/data/processed/images/val/002870.jpg: 448x640 1 person, 510.2ms\n",
      "Speed: 1.2ms preprocess, 510.2ms inference, 0.8ms postprocess per image at shape (1, 3, 448, 640)\n"
     ]
    },
    {
     "name": "stderr",
     "output_type": "stream",
     "text": [
      "[ WARN:0@956.991] global loadsave.cpp:241 findDecoder imread_('/Users/mariarisques/TAED2_YOLOs/data/processed/masks_post/val/002870.png'): can't open/read file: check file path/integrity\n"
     ]
    },
    {
     "name": "stdout",
     "output_type": "stream",
     "text": [
      "Mask correctly processed and saved for the following file: 002870.jpg\n",
      "\n",
      "image 1/1 /Users/mariarisques/TAED2_YOLOs/data/processed/images/val/000915.jpg: 640x448 1 person, 503.7ms\n",
      "Speed: 1.2ms preprocess, 503.7ms inference, 1.4ms postprocess per image at shape (1, 3, 640, 448)\n"
     ]
    },
    {
     "name": "stderr",
     "output_type": "stream",
     "text": [
      "[ WARN:0@957.957] global loadsave.cpp:241 findDecoder imread_('/Users/mariarisques/TAED2_YOLOs/data/processed/masks_post/val/000915.png'): can't open/read file: check file path/integrity\n"
     ]
    },
    {
     "name": "stdout",
     "output_type": "stream",
     "text": [
      "Mask correctly processed and saved for the following file: 000915.jpg\n",
      "\n",
      "image 1/1 /Users/mariarisques/TAED2_YOLOs/data/processed/images/val/002118.jpg: 416x640 1 person, 590.4ms\n",
      "Speed: 1.2ms preprocess, 590.4ms inference, 1.4ms postprocess per image at shape (1, 3, 416, 640)\n"
     ]
    },
    {
     "name": "stderr",
     "output_type": "stream",
     "text": [
      "[ WARN:0@959.035] global loadsave.cpp:241 findDecoder imread_('/Users/mariarisques/TAED2_YOLOs/data/processed/masks_post/val/002118.png'): can't open/read file: check file path/integrity\n"
     ]
    },
    {
     "name": "stdout",
     "output_type": "stream",
     "text": [
      "Mask correctly processed and saved for the following file: 002118.jpg\n",
      "\n",
      "image 1/1 /Users/mariarisques/TAED2_YOLOs/data/processed/images/val/003212.jpg: 448x640 1 person, 506.2ms\n",
      "Speed: 1.2ms preprocess, 506.2ms inference, 0.9ms postprocess per image at shape (1, 3, 448, 640)\n"
     ]
    },
    {
     "name": "stderr",
     "output_type": "stream",
     "text": [
      "[ WARN:0@959.977] global loadsave.cpp:241 findDecoder imread_('/Users/mariarisques/TAED2_YOLOs/data/processed/masks_post/val/003212.png'): can't open/read file: check file path/integrity\n"
     ]
    },
    {
     "name": "stdout",
     "output_type": "stream",
     "text": [
      "Mask correctly processed and saved for the following file: 003212.jpg\n",
      "\n",
      "image 1/1 /Users/mariarisques/TAED2_YOLOs/data/processed/images/val/000733.jpg: 640x448 1 person, 526.1ms\n",
      "Speed: 1.2ms preprocess, 526.1ms inference, 1.1ms postprocess per image at shape (1, 3, 640, 448)\n"
     ]
    },
    {
     "name": "stderr",
     "output_type": "stream",
     "text": [
      "[ WARN:0@960.982] global loadsave.cpp:241 findDecoder imread_('/Users/mariarisques/TAED2_YOLOs/data/processed/masks_post/val/000733.png'): can't open/read file: check file path/integrity\n"
     ]
    },
    {
     "name": "stdout",
     "output_type": "stream",
     "text": [
      "Mask correctly processed and saved for the following file: 000733.jpg\n",
      "\n",
      "image 1/1 /Users/mariarisques/TAED2_YOLOs/data/processed/images/val/002656.jpg: 448x640 1 person, 520.4ms\n",
      "Speed: 1.3ms preprocess, 520.4ms inference, 0.8ms postprocess per image at shape (1, 3, 448, 640)\n"
     ]
    },
    {
     "name": "stderr",
     "output_type": "stream",
     "text": [
      "[ WARN:0@961.988] global loadsave.cpp:241 findDecoder imread_('/Users/mariarisques/TAED2_YOLOs/data/processed/masks_post/val/002656.png'): can't open/read file: check file path/integrity\n"
     ]
    },
    {
     "name": "stdout",
     "output_type": "stream",
     "text": [
      "Mask correctly processed and saved for the following file: 002656.jpg\n",
      "\n",
      "image 1/1 /Users/mariarisques/TAED2_YOLOs/data/processed/images/val/001808.jpg: 448x640 1 person, 502.6ms\n",
      "Speed: 1.2ms preprocess, 502.6ms inference, 0.8ms postprocess per image at shape (1, 3, 448, 640)\n"
     ]
    },
    {
     "name": "stderr",
     "output_type": "stream",
     "text": [
      "[ WARN:0@962.962] global loadsave.cpp:241 findDecoder imread_('/Users/mariarisques/TAED2_YOLOs/data/processed/masks_post/val/001808.png'): can't open/read file: check file path/integrity\n"
     ]
    },
    {
     "name": "stdout",
     "output_type": "stream",
     "text": [
      "Mask correctly processed and saved for the following file: 001808.jpg\n",
      "\n",
      "image 1/1 /Users/mariarisques/TAED2_YOLOs/data/processed/images/val/001820.jpg: 448x640 1 person, 510.4ms\n",
      "Speed: 1.1ms preprocess, 510.4ms inference, 0.9ms postprocess per image at shape (1, 3, 448, 640)\n"
     ]
    },
    {
     "name": "stderr",
     "output_type": "stream",
     "text": [
      "[ WARN:0@963.944] global loadsave.cpp:241 findDecoder imread_('/Users/mariarisques/TAED2_YOLOs/data/processed/masks_post/val/001820.png'): can't open/read file: check file path/integrity\n"
     ]
    },
    {
     "name": "stdout",
     "output_type": "stream",
     "text": [
      "Mask correctly processed and saved for the following file: 001820.jpg\n",
      "\n",
      "image 1/1 /Users/mariarisques/TAED2_YOLOs/data/processed/images/val/004019.jpg: 448x640 2 persons, 502.7ms\n",
      "Speed: 1.4ms preprocess, 502.7ms inference, 1.2ms postprocess per image at shape (1, 3, 448, 640)\n"
     ]
    },
    {
     "name": "stderr",
     "output_type": "stream",
     "text": [
      "[ WARN:0@964.904] global loadsave.cpp:241 findDecoder imread_('/Users/mariarisques/TAED2_YOLOs/data/processed/masks_post/val/004019.png'): can't open/read file: check file path/integrity\n"
     ]
    },
    {
     "name": "stdout",
     "output_type": "stream",
     "text": [
      "Mask correctly processed and saved for the following file: 004019.jpg\n",
      "\n",
      "image 1/1 /Users/mariarisques/TAED2_YOLOs/data/processed/images/val/005307.jpg: 448x640 1 person, 497.6ms\n",
      "Speed: 1.5ms preprocess, 497.6ms inference, 1.1ms postprocess per image at shape (1, 3, 448, 640)\n"
     ]
    },
    {
     "name": "stderr",
     "output_type": "stream",
     "text": [
      "[ WARN:0@965.865] global loadsave.cpp:241 findDecoder imread_('/Users/mariarisques/TAED2_YOLOs/data/processed/masks_post/val/005307.png'): can't open/read file: check file path/integrity\n"
     ]
    },
    {
     "name": "stdout",
     "output_type": "stream",
     "text": [
      "Mask correctly processed and saved for the following file: 005307.jpg\n",
      "\n",
      "image 1/1 /Users/mariarisques/TAED2_YOLOs/data/processed/images/val/003010.jpg: 448x640 1 person, 502.9ms\n",
      "Speed: 1.2ms preprocess, 502.9ms inference, 0.9ms postprocess per image at shape (1, 3, 448, 640)\n"
     ]
    },
    {
     "name": "stderr",
     "output_type": "stream",
     "text": [
      "[ WARN:0@966.863] global loadsave.cpp:241 findDecoder imread_('/Users/mariarisques/TAED2_YOLOs/data/processed/masks_post/val/003010.png'): can't open/read file: check file path/integrity\n"
     ]
    },
    {
     "name": "stdout",
     "output_type": "stream",
     "text": [
      "Mask correctly processed and saved for the following file: 003010.jpg\n",
      "\n",
      "image 1/1 /Users/mariarisques/TAED2_YOLOs/data/processed/images/val/004025.jpg: 448x640 1 person, 495.4ms\n",
      "Speed: 1.2ms preprocess, 495.4ms inference, 1.5ms postprocess per image at shape (1, 3, 448, 640)\n"
     ]
    },
    {
     "name": "stderr",
     "output_type": "stream",
     "text": [
      "[ WARN:0@967.825] global loadsave.cpp:241 findDecoder imread_('/Users/mariarisques/TAED2_YOLOs/data/processed/masks_post/val/004025.png'): can't open/read file: check file path/integrity\n"
     ]
    },
    {
     "name": "stdout",
     "output_type": "stream",
     "text": [
      "Mask correctly processed and saved for the following file: 004025.jpg\n",
      "\n",
      "image 1/1 /Users/mariarisques/TAED2_YOLOs/data/processed/images/val/003992.jpg: 640x448 1 person, 504.5ms\n",
      "Speed: 1.2ms preprocess, 504.5ms inference, 1.1ms postprocess per image at shape (1, 3, 640, 448)\n"
     ]
    },
    {
     "name": "stderr",
     "output_type": "stream",
     "text": [
      "[ WARN:0@968.786] global loadsave.cpp:241 findDecoder imread_('/Users/mariarisques/TAED2_YOLOs/data/processed/masks_post/val/003992.png'): can't open/read file: check file path/integrity\n"
     ]
    },
    {
     "name": "stdout",
     "output_type": "stream",
     "text": [
      "Mask correctly processed and saved for the following file: 003992.jpg\n",
      "\n",
      "image 1/1 /Users/mariarisques/TAED2_YOLOs/data/processed/images/val/001940.jpg: 640x448 1 person, 508.8ms\n",
      "Speed: 1.5ms preprocess, 508.8ms inference, 1.4ms postprocess per image at shape (1, 3, 640, 448)\n"
     ]
    },
    {
     "name": "stderr",
     "output_type": "stream",
     "text": [
      "[ WARN:0@969.766] global loadsave.cpp:241 findDecoder imread_('/Users/mariarisques/TAED2_YOLOs/data/processed/masks_post/val/001940.png'): can't open/read file: check file path/integrity\n"
     ]
    },
    {
     "name": "stdout",
     "output_type": "stream",
     "text": [
      "Mask correctly processed and saved for the following file: 001940.jpg\n",
      "\n",
      "image 1/1 /Users/mariarisques/TAED2_YOLOs/data/processed/images/val/000479.jpg: 448x640 2 persons, 508.3ms\n",
      "Speed: 1.4ms preprocess, 508.3ms inference, 1.4ms postprocess per image at shape (1, 3, 448, 640)\n"
     ]
    },
    {
     "name": "stderr",
     "output_type": "stream",
     "text": [
      "[ WARN:0@970.744] global loadsave.cpp:241 findDecoder imread_('/Users/mariarisques/TAED2_YOLOs/data/processed/masks_post/val/000479.png'): can't open/read file: check file path/integrity\n"
     ]
    },
    {
     "name": "stdout",
     "output_type": "stream",
     "text": [
      "Mask correctly processed and saved for the following file: 000479.jpg\n",
      "\n",
      "image 1/1 /Users/mariarisques/TAED2_YOLOs/data/processed/images/val/001001.jpg: 448x640 1 person, 528.4ms\n",
      "Speed: 1.2ms preprocess, 528.4ms inference, 0.9ms postprocess per image at shape (1, 3, 448, 640)\n"
     ]
    },
    {
     "name": "stderr",
     "output_type": "stream",
     "text": [
      "[ WARN:0@971.748] global loadsave.cpp:241 findDecoder imread_('/Users/mariarisques/TAED2_YOLOs/data/processed/masks_post/val/001001.png'): can't open/read file: check file path/integrity\n"
     ]
    },
    {
     "name": "stdout",
     "output_type": "stream",
     "text": [
      "Mask correctly processed and saved for the following file: 001001.jpg\n",
      "\n",
      "image 1/1 /Users/mariarisques/TAED2_YOLOs/data/processed/images/val/004179.jpg: 448x640 1 person, 506.2ms\n",
      "Speed: 1.3ms preprocess, 506.2ms inference, 0.9ms postprocess per image at shape (1, 3, 448, 640)\n"
     ]
    },
    {
     "name": "stderr",
     "output_type": "stream",
     "text": [
      "[ WARN:0@972.725] global loadsave.cpp:241 findDecoder imread_('/Users/mariarisques/TAED2_YOLOs/data/processed/masks_post/val/004179.png'): can't open/read file: check file path/integrity\n"
     ]
    },
    {
     "name": "stdout",
     "output_type": "stream",
     "text": [
      "Mask correctly processed and saved for the following file: 004179.jpg\n",
      "\n",
      "image 1/1 /Users/mariarisques/TAED2_YOLOs/data/processed/images/val/005273.jpg: 448x640 1 person, 511.0ms\n",
      "Speed: 1.3ms preprocess, 511.0ms inference, 1.3ms postprocess per image at shape (1, 3, 448, 640)\n"
     ]
    },
    {
     "name": "stderr",
     "output_type": "stream",
     "text": [
      "[ WARN:0@973.705] global loadsave.cpp:241 findDecoder imread_('/Users/mariarisques/TAED2_YOLOs/data/processed/masks_post/val/005273.png'): can't open/read file: check file path/integrity\n"
     ]
    },
    {
     "name": "stdout",
     "output_type": "stream",
     "text": [
      "Mask correctly processed and saved for the following file: 005273.jpg\n",
      "\n",
      "image 1/1 /Users/mariarisques/TAED2_YOLOs/data/processed/images/val/003164.jpg: 640x448 1 person, 518.1ms\n",
      "Speed: 1.2ms preprocess, 518.1ms inference, 1.1ms postprocess per image at shape (1, 3, 640, 448)\n"
     ]
    },
    {
     "name": "stderr",
     "output_type": "stream",
     "text": [
      "[ WARN:0@974.703] global loadsave.cpp:241 findDecoder imread_('/Users/mariarisques/TAED2_YOLOs/data/processed/masks_post/val/003164.png'): can't open/read file: check file path/integrity\n"
     ]
    },
    {
     "name": "stdout",
     "output_type": "stream",
     "text": [
      "Mask correctly processed and saved for the following file: 003164.jpg\n",
      "\n",
      "image 1/1 /Users/mariarisques/TAED2_YOLOs/data/processed/images/val/004623.jpg: 448x640 1 person, 502.5ms\n",
      "Speed: 1.2ms preprocess, 502.5ms inference, 0.8ms postprocess per image at shape (1, 3, 448, 640)\n"
     ]
    },
    {
     "name": "stderr",
     "output_type": "stream",
     "text": [
      "[ WARN:0@975.684] global loadsave.cpp:241 findDecoder imread_('/Users/mariarisques/TAED2_YOLOs/data/processed/masks_post/val/004623.png'): can't open/read file: check file path/integrity\n"
     ]
    },
    {
     "name": "stdout",
     "output_type": "stream",
     "text": [
      "Mask correctly processed and saved for the following file: 004623.jpg\n",
      "\n",
      "image 1/1 /Users/mariarisques/TAED2_YOLOs/data/processed/images/val/003158.jpg: 448x640 1 person, 503.9ms\n",
      "Speed: 1.4ms preprocess, 503.9ms inference, 0.9ms postprocess per image at shape (1, 3, 448, 640)\n"
     ]
    },
    {
     "name": "stderr",
     "output_type": "stream",
     "text": [
      "[ WARN:0@976.651] global loadsave.cpp:241 findDecoder imread_('/Users/mariarisques/TAED2_YOLOs/data/processed/masks_post/val/003158.png'): can't open/read file: check file path/integrity\n"
     ]
    },
    {
     "name": "stdout",
     "output_type": "stream",
     "text": [
      "Mask correctly processed and saved for the following file: 003158.jpg\n",
      "\n",
      "image 1/1 /Users/mariarisques/TAED2_YOLOs/data/processed/images/val/000860.jpg: 416x640 1 person, 464.8ms\n",
      "Speed: 1.2ms preprocess, 464.8ms inference, 0.8ms postprocess per image at shape (1, 3, 416, 640)\n"
     ]
    },
    {
     "name": "stderr",
     "output_type": "stream",
     "text": [
      "[ WARN:0@977.596] global loadsave.cpp:241 findDecoder imread_('/Users/mariarisques/TAED2_YOLOs/data/processed/masks_post/val/000860.png'): can't open/read file: check file path/integrity\n"
     ]
    },
    {
     "name": "stdout",
     "output_type": "stream",
     "text": [
      "Mask correctly processed and saved for the following file: 000860.jpg\n",
      "\n",
      "image 1/1 /Users/mariarisques/TAED2_YOLOs/data/processed/images/val/001571.jpg: 640x512 1 person, 711.7ms\n",
      "Speed: 1.7ms preprocess, 711.7ms inference, 1.2ms postprocess per image at shape (1, 3, 640, 512)\n"
     ]
    },
    {
     "name": "stderr",
     "output_type": "stream",
     "text": [
      "[ WARN:0@978.756] global loadsave.cpp:241 findDecoder imread_('/Users/mariarisques/TAED2_YOLOs/data/processed/masks_post/val/001571.png'): can't open/read file: check file path/integrity\n"
     ]
    },
    {
     "name": "stdout",
     "output_type": "stream",
     "text": [
      "Mask correctly processed and saved for the following file: 001571.jpg\n",
      "\n",
      "image 1/1 /Users/mariarisques/TAED2_YOLOs/data/processed/images/val/001217.jpg: 448x640 1 person, 521.8ms\n",
      "Speed: 1.2ms preprocess, 521.8ms inference, 0.8ms postprocess per image at shape (1, 3, 448, 640)\n"
     ]
    },
    {
     "name": "stderr",
     "output_type": "stream",
     "text": [
      "[ WARN:0@979.827] global loadsave.cpp:241 findDecoder imread_('/Users/mariarisques/TAED2_YOLOs/data/processed/masks_post/val/001217.png'): can't open/read file: check file path/integrity\n"
     ]
    },
    {
     "name": "stdout",
     "output_type": "stream",
     "text": [
      "Mask correctly processed and saved for the following file: 001217.jpg\n",
      "\n",
      "image 1/1 /Users/mariarisques/TAED2_YOLOs/data/processed/images/val/003428.jpg: 448x640 1 person, 522.8ms\n",
      "Speed: 1.2ms preprocess, 522.8ms inference, 1.0ms postprocess per image at shape (1, 3, 448, 640)\n"
     ]
    },
    {
     "name": "stderr",
     "output_type": "stream",
     "text": [
      "[ WARN:0@980.822] global loadsave.cpp:241 findDecoder imread_('/Users/mariarisques/TAED2_YOLOs/data/processed/masks_post/val/003428.png'): can't open/read file: check file path/integrity\n"
     ]
    },
    {
     "name": "stdout",
     "output_type": "stream",
     "text": [
      "Mask correctly processed and saved for the following file: 003428.jpg\n",
      "\n",
      "image 1/1 /Users/mariarisques/TAED2_YOLOs/data/processed/images/val/002736.jpg: 448x640 1 person, 516.1ms\n",
      "Speed: 1.2ms preprocess, 516.1ms inference, 1.1ms postprocess per image at shape (1, 3, 448, 640)\n"
     ]
    },
    {
     "name": "stderr",
     "output_type": "stream",
     "text": [
      "[ WARN:0@981.805] global loadsave.cpp:241 findDecoder imread_('/Users/mariarisques/TAED2_YOLOs/data/processed/masks_post/val/002736.png'): can't open/read file: check file path/integrity\n"
     ]
    },
    {
     "name": "stdout",
     "output_type": "stream",
     "text": [
      "Mask correctly processed and saved for the following file: 002736.jpg\n",
      "\n",
      "image 1/1 /Users/mariarisques/TAED2_YOLOs/data/processed/images/val/004421.jpg: 448x640 1 person, 521.0ms\n",
      "Speed: 1.4ms preprocess, 521.0ms inference, 0.9ms postprocess per image at shape (1, 3, 448, 640)\n"
     ]
    },
    {
     "name": "stderr",
     "output_type": "stream",
     "text": [
      "[ WARN:0@982.795] global loadsave.cpp:241 findDecoder imread_('/Users/mariarisques/TAED2_YOLOs/data/processed/masks_post/val/004421.png'): can't open/read file: check file path/integrity\n"
     ]
    },
    {
     "name": "stdout",
     "output_type": "stream",
     "text": [
      "Mask correctly processed and saved for the following file: 004421.jpg\n",
      "\n",
      "image 1/1 /Users/mariarisques/TAED2_YOLOs/data/processed/images/val/001554.jpg: 416x640 1 person, 469.3ms\n",
      "Speed: 1.2ms preprocess, 469.3ms inference, 1.0ms postprocess per image at shape (1, 3, 416, 640)\n"
     ]
    },
    {
     "name": "stderr",
     "output_type": "stream",
     "text": [
      "[ WARN:0@983.729] global loadsave.cpp:241 findDecoder imread_('/Users/mariarisques/TAED2_YOLOs/data/processed/masks_post/val/001554.png'): can't open/read file: check file path/integrity\n"
     ]
    },
    {
     "name": "stdout",
     "output_type": "stream",
     "text": [
      "Mask correctly processed and saved for the following file: 001554.jpg\n",
      "\n",
      "image 1/1 /Users/mariarisques/TAED2_YOLOs/data/processed/images/val/002049.jpg: 448x640 1 person, 502.0ms\n",
      "Speed: 1.2ms preprocess, 502.0ms inference, 0.9ms postprocess per image at shape (1, 3, 448, 640)\n"
     ]
    },
    {
     "name": "stderr",
     "output_type": "stream",
     "text": [
      "[ WARN:0@984.671] global loadsave.cpp:241 findDecoder imread_('/Users/mariarisques/TAED2_YOLOs/data/processed/masks_post/val/002049.png'): can't open/read file: check file path/integrity\n"
     ]
    },
    {
     "name": "stdout",
     "output_type": "stream",
     "text": [
      "Mask correctly processed and saved for the following file: 002049.jpg\n",
      "\n",
      "image 1/1 /Users/mariarisques/TAED2_YOLOs/data/processed/images/val/002707.jpg: 640x448 1 person, 503.8ms\n",
      "Speed: 1.3ms preprocess, 503.8ms inference, 0.8ms postprocess per image at shape (1, 3, 640, 448)\n"
     ]
    },
    {
     "name": "stderr",
     "output_type": "stream",
     "text": [
      "[ WARN:0@985.644] global loadsave.cpp:241 findDecoder imread_('/Users/mariarisques/TAED2_YOLOs/data/processed/masks_post/val/002707.png'): can't open/read file: check file path/integrity\n"
     ]
    },
    {
     "name": "stdout",
     "output_type": "stream",
     "text": [
      "Mask correctly processed and saved for the following file: 002707.jpg\n",
      "\n",
      "image 1/1 /Users/mariarisques/TAED2_YOLOs/data/processed/images/val/004362.jpg: 416x640 1 person, 468.5ms\n",
      "Speed: 1.2ms preprocess, 468.5ms inference, 0.8ms postprocess per image at shape (1, 3, 416, 640)\n"
     ]
    },
    {
     "name": "stderr",
     "output_type": "stream",
     "text": [
      "[ WARN:0@986.587] global loadsave.cpp:241 findDecoder imread_('/Users/mariarisques/TAED2_YOLOs/data/processed/masks_post/val/004362.png'): can't open/read file: check file path/integrity\n"
     ]
    },
    {
     "name": "stdout",
     "output_type": "stream",
     "text": [
      "Mask correctly processed and saved for the following file: 004362.jpg\n",
      "\n",
      "image 1/1 /Users/mariarisques/TAED2_YOLOs/data/processed/images/val/005097.jpg: 448x640 1 person, 504.7ms\n",
      "Speed: 1.2ms preprocess, 504.7ms inference, 0.8ms postprocess per image at shape (1, 3, 448, 640)\n"
     ]
    },
    {
     "name": "stderr",
     "output_type": "stream",
     "text": [
      "[ WARN:0@987.539] global loadsave.cpp:241 findDecoder imread_('/Users/mariarisques/TAED2_YOLOs/data/processed/masks_post/val/005097.png'): can't open/read file: check file path/integrity\n"
     ]
    },
    {
     "name": "stdout",
     "output_type": "stream",
     "text": [
      "Mask correctly processed and saved for the following file: 005097.jpg\n",
      "\n",
      "image 1/1 /Users/mariarisques/TAED2_YOLOs/data/processed/images/val/002539.jpg: 448x640 1 person, 511.6ms\n",
      "Speed: 1.2ms preprocess, 511.6ms inference, 0.9ms postprocess per image at shape (1, 3, 448, 640)\n"
     ]
    },
    {
     "name": "stderr",
     "output_type": "stream",
     "text": [
      "[ WARN:0@988.532] global loadsave.cpp:241 findDecoder imread_('/Users/mariarisques/TAED2_YOLOs/data/processed/masks_post/val/002539.png'): can't open/read file: check file path/integrity\n"
     ]
    },
    {
     "name": "stdout",
     "output_type": "stream",
     "text": [
      "Mask correctly processed and saved for the following file: 002539.jpg\n",
      "\n",
      "image 1/1 /Users/mariarisques/TAED2_YOLOs/data/processed/images/val/001024.jpg: 448x640 1 person, 497.8ms\n",
      "Speed: 1.2ms preprocess, 497.8ms inference, 0.9ms postprocess per image at shape (1, 3, 448, 640)\n"
     ]
    },
    {
     "name": "stderr",
     "output_type": "stream",
     "text": [
      "[ WARN:0@989.503] global loadsave.cpp:241 findDecoder imread_('/Users/mariarisques/TAED2_YOLOs/data/processed/masks_post/val/001024.png'): can't open/read file: check file path/integrity\n"
     ]
    },
    {
     "name": "stdout",
     "output_type": "stream",
     "text": [
      "Mask correctly processed and saved for the following file: 001024.jpg\n",
      "\n",
      "image 1/1 /Users/mariarisques/TAED2_YOLOs/data/processed/images/val/005242.jpg: 640x448 1 person, 524.5ms\n",
      "Speed: 1.2ms preprocess, 524.5ms inference, 1.3ms postprocess per image at shape (1, 3, 640, 448)\n"
     ]
    },
    {
     "name": "stderr",
     "output_type": "stream",
     "text": [
      "[ WARN:0@990.492] global loadsave.cpp:241 findDecoder imread_('/Users/mariarisques/TAED2_YOLOs/data/processed/masks_post/val/005242.png'): can't open/read file: check file path/integrity\n"
     ]
    },
    {
     "name": "stdout",
     "output_type": "stream",
     "text": [
      "Mask correctly processed and saved for the following file: 005242.jpg\n",
      "\n",
      "image 1/1 /Users/mariarisques/TAED2_YOLOs/data/processed/images/val/000474.jpg: 448x640 1 person, 512.3ms\n",
      "Speed: 1.6ms preprocess, 512.3ms inference, 1.3ms postprocess per image at shape (1, 3, 448, 640)\n"
     ]
    },
    {
     "name": "stderr",
     "output_type": "stream",
     "text": [
      "[ WARN:0@991.492] global loadsave.cpp:241 findDecoder imread_('/Users/mariarisques/TAED2_YOLOs/data/processed/masks_post/val/000474.png'): can't open/read file: check file path/integrity\n"
     ]
    },
    {
     "name": "stdout",
     "output_type": "stream",
     "text": [
      "Mask correctly processed and saved for the following file: 000474.jpg\n",
      "\n",
      "image 1/1 /Users/mariarisques/TAED2_YOLOs/data/processed/images/val/002511.jpg: 640x448 1 person, 528.3ms\n",
      "Speed: 1.3ms preprocess, 528.3ms inference, 0.8ms postprocess per image at shape (1, 3, 640, 448)\n"
     ]
    },
    {
     "name": "stderr",
     "output_type": "stream",
     "text": [
      "[ WARN:0@992.504] global loadsave.cpp:241 findDecoder imread_('/Users/mariarisques/TAED2_YOLOs/data/processed/masks_post/val/002511.png'): can't open/read file: check file path/integrity\n"
     ]
    },
    {
     "name": "stdout",
     "output_type": "stream",
     "text": [
      "Mask correctly processed and saved for the following file: 002511.jpg\n",
      "\n",
      "image 1/1 /Users/mariarisques/TAED2_YOLOs/data/processed/images/val/003182.jpg: 448x640 1 person, 502.0ms\n",
      "Speed: 1.3ms preprocess, 502.0ms inference, 0.8ms postprocess per image at shape (1, 3, 448, 640)\n"
     ]
    },
    {
     "name": "stderr",
     "output_type": "stream",
     "text": [
      "[ WARN:0@993.481] global loadsave.cpp:241 findDecoder imread_('/Users/mariarisques/TAED2_YOLOs/data/processed/masks_post/val/003182.png'): can't open/read file: check file path/integrity\n"
     ]
    },
    {
     "name": "stdout",
     "output_type": "stream",
     "text": [
      "Mask correctly processed and saved for the following file: 003182.jpg\n",
      "\n",
      "image 1/1 /Users/mariarisques/TAED2_YOLOs/data/processed/images/val/005281.jpg: 448x640 1 person, 508.9ms\n",
      "Speed: 1.2ms preprocess, 508.9ms inference, 0.9ms postprocess per image at shape (1, 3, 448, 640)\n"
     ]
    },
    {
     "name": "stderr",
     "output_type": "stream",
     "text": [
      "[ WARN:0@994.464] global loadsave.cpp:241 findDecoder imread_('/Users/mariarisques/TAED2_YOLOs/data/processed/masks_post/val/005281.png'): can't open/read file: check file path/integrity\n"
     ]
    },
    {
     "name": "stdout",
     "output_type": "stream",
     "text": [
      "Mask correctly processed and saved for the following file: 005281.jpg\n",
      "\n",
      "image 1/1 /Users/mariarisques/TAED2_YOLOs/data/processed/images/val/003828.jpg: 448x640 1 person, 491.8ms\n",
      "Speed: 1.3ms preprocess, 491.8ms inference, 0.9ms postprocess per image at shape (1, 3, 448, 640)\n"
     ]
    },
    {
     "name": "stderr",
     "output_type": "stream",
     "text": [
      "[ WARN:0@995.406] global loadsave.cpp:241 findDecoder imread_('/Users/mariarisques/TAED2_YOLOs/data/processed/masks_post/val/003828.png'): can't open/read file: check file path/integrity\n"
     ]
    },
    {
     "name": "stdout",
     "output_type": "stream",
     "text": [
      "Mask correctly processed and saved for the following file: 003828.jpg\n",
      "\n",
      "image 1/1 /Users/mariarisques/TAED2_YOLOs/data/processed/images/val/005444.jpg: 384x640 1 person, 478.9ms\n",
      "Speed: 1.2ms preprocess, 478.9ms inference, 1.2ms postprocess per image at shape (1, 3, 384, 640)\n"
     ]
    },
    {
     "name": "stderr",
     "output_type": "stream",
     "text": [
      "[ WARN:0@996.359] global loadsave.cpp:241 findDecoder imread_('/Users/mariarisques/TAED2_YOLOs/data/processed/masks_post/val/005444.png'): can't open/read file: check file path/integrity\n"
     ]
    },
    {
     "name": "stdout",
     "output_type": "stream",
     "text": [
      "Mask correctly processed and saved for the following file: 005444.jpg\n",
      "\n",
      "image 1/1 /Users/mariarisques/TAED2_YOLOs/data/processed/images/val/004982.jpg: 192x640 1 person, 380.4ms\n",
      "Speed: 0.7ms preprocess, 380.4ms inference, 0.8ms postprocess per image at shape (1, 3, 192, 640)\n",
      "Mask correctly processed and saved for the following file: 004982.jpg\n",
      "\n"
     ]
    },
    {
     "name": "stderr",
     "output_type": "stream",
     "text": [
      "[ WARN:0@997.156] global loadsave.cpp:241 findDecoder imread_('/Users/mariarisques/TAED2_YOLOs/data/processed/masks_post/val/004982.png'): can't open/read file: check file path/integrity\n"
     ]
    },
    {
     "name": "stdout",
     "output_type": "stream",
     "text": [
      "image 1/1 /Users/mariarisques/TAED2_YOLOs/data/processed/images/val/002459.jpg: 448x640 1 person, 525.5ms\n",
      "Speed: 1.2ms preprocess, 525.5ms inference, 1.2ms postprocess per image at shape (1, 3, 448, 640)\n"
     ]
    },
    {
     "name": "stderr",
     "output_type": "stream",
     "text": [
      "[ WARN:0@997.884] global loadsave.cpp:241 findDecoder imread_('/Users/mariarisques/TAED2_YOLOs/data/processed/masks_post/val/002459.png'): can't open/read file: check file path/integrity\n"
     ]
    },
    {
     "name": "stdout",
     "output_type": "stream",
     "text": [
      "Mask correctly processed and saved for the following file: 002459.jpg\n",
      "\n",
      "image 1/1 /Users/mariarisques/TAED2_YOLOs/data/processed/images/val/004028.jpg: 640x448 1 person, 513.6ms\n",
      "Speed: 1.3ms preprocess, 513.6ms inference, 0.8ms postprocess per image at shape (1, 3, 640, 448)\n"
     ]
    },
    {
     "name": "stderr",
     "output_type": "stream",
     "text": [
      "[ WARN:0@998.862] global loadsave.cpp:241 findDecoder imread_('/Users/mariarisques/TAED2_YOLOs/data/processed/masks_post/val/004028.png'): can't open/read file: check file path/integrity\n"
     ]
    },
    {
     "name": "stdout",
     "output_type": "stream",
     "text": [
      "Mask correctly processed and saved for the following file: 004028.jpg\n",
      "\n",
      "image 1/1 /Users/mariarisques/TAED2_YOLOs/data/processed/images/val/002471.jpg: 640x640 1 person, 880.9ms\n",
      "Speed: 2.0ms preprocess, 880.9ms inference, 1.5ms postprocess per image at shape (1, 3, 640, 640)\n"
     ]
    },
    {
     "name": "stderr",
     "output_type": "stream",
     "text": [
      "[ WARN:0@1000.223] global loadsave.cpp:241 findDecoder imread_('/Users/mariarisques/TAED2_YOLOs/data/processed/masks_post/val/002471.png'): can't open/read file: check file path/integrity\n"
     ]
    },
    {
     "name": "stdout",
     "output_type": "stream",
     "text": [
      "Mask correctly processed and saved for the following file: 002471.jpg\n",
      "\n",
      "image 1/1 /Users/mariarisques/TAED2_YOLOs/data/processed/images/val/000514.jpg: 448x640 1 person, 519.7ms\n",
      "Speed: 1.4ms preprocess, 519.7ms inference, 1.3ms postprocess per image at shape (1, 3, 448, 640)\n"
     ]
    },
    {
     "name": "stderr",
     "output_type": "stream",
     "text": [
      "[ WARN:0@1001.425] global loadsave.cpp:241 findDecoder imread_('/Users/mariarisques/TAED2_YOLOs/data/processed/masks_post/val/000514.png'): can't open/read file: check file path/integrity\n"
     ]
    },
    {
     "name": "stdout",
     "output_type": "stream",
     "text": [
      "Mask correctly processed and saved for the following file: 000514.jpg\n",
      "\n",
      "image 1/1 /Users/mariarisques/TAED2_YOLOs/data/processed/images/val/002303.jpg: 640x480 1 person, 548.2ms\n",
      "Speed: 1.5ms preprocess, 548.2ms inference, 1.0ms postprocess per image at shape (1, 3, 640, 480)\n"
     ]
    },
    {
     "name": "stderr",
     "output_type": "stream",
     "text": [
      "[ WARN:0@1002.448] global loadsave.cpp:241 findDecoder imread_('/Users/mariarisques/TAED2_YOLOs/data/processed/masks_post/val/002303.png'): can't open/read file: check file path/integrity\n"
     ]
    },
    {
     "name": "stdout",
     "output_type": "stream",
     "text": [
      "Mask correctly processed and saved for the following file: 002303.jpg\n",
      "\n",
      "image 1/1 /Users/mariarisques/TAED2_YOLOs/data/processed/images/val/004941.jpg: 448x640 1 person, 516.4ms\n",
      "Speed: 1.4ms preprocess, 516.4ms inference, 0.8ms postprocess per image at shape (1, 3, 448, 640)\n"
     ]
    },
    {
     "name": "stderr",
     "output_type": "stream",
     "text": [
      "[ WARN:0@1003.506] global loadsave.cpp:241 findDecoder imread_('/Users/mariarisques/TAED2_YOLOs/data/processed/masks_post/val/004941.png'): can't open/read file: check file path/integrity\n"
     ]
    },
    {
     "name": "stdout",
     "output_type": "stream",
     "text": [
      "Mask correctly processed and saved for the following file: 004941.jpg\n",
      "\n",
      "image 1/1 /Users/mariarisques/TAED2_YOLOs/data/processed/images/val/003790.jpg: 448x640 1 person, 527.9ms\n",
      "Speed: 1.5ms preprocess, 527.9ms inference, 0.9ms postprocess per image at shape (1, 3, 448, 640)\n"
     ]
    },
    {
     "name": "stderr",
     "output_type": "stream",
     "text": [
      "[ WARN:0@1004.494] global loadsave.cpp:241 findDecoder imread_('/Users/mariarisques/TAED2_YOLOs/data/processed/masks_post/val/003790.png'): can't open/read file: check file path/integrity\n"
     ]
    },
    {
     "name": "stdout",
     "output_type": "stream",
     "text": [
      "Mask correctly processed and saved for the following file: 003790.jpg\n",
      "\n",
      "image 1/1 /Users/mariarisques/TAED2_YOLOs/data/processed/images/val/002883.jpg: 448x640 1 person, 534.1ms\n",
      "Speed: 1.3ms preprocess, 534.1ms inference, 1.0ms postprocess per image at shape (1, 3, 448, 640)\n"
     ]
    },
    {
     "name": "stderr",
     "output_type": "stream",
     "text": [
      "[ WARN:0@1005.493] global loadsave.cpp:241 findDecoder imread_('/Users/mariarisques/TAED2_YOLOs/data/processed/masks_post/val/002883.png'): can't open/read file: check file path/integrity\n"
     ]
    },
    {
     "name": "stdout",
     "output_type": "stream",
     "text": [
      "Mask correctly processed and saved for the following file: 002883.jpg\n",
      "\n",
      "image 1/1 /Users/mariarisques/TAED2_YOLOs/data/processed/images/val/002854.jpg: 448x640 1 person, 507.2ms\n",
      "Speed: 1.3ms preprocess, 507.2ms inference, 1.4ms postprocess per image at shape (1, 3, 448, 640)\n"
     ]
    },
    {
     "name": "stderr",
     "output_type": "stream",
     "text": [
      "[ WARN:0@1006.456] global loadsave.cpp:241 findDecoder imread_('/Users/mariarisques/TAED2_YOLOs/data/processed/masks_post/val/002854.png'): can't open/read file: check file path/integrity\n"
     ]
    },
    {
     "name": "stdout",
     "output_type": "stream",
     "text": [
      "Mask correctly processed and saved for the following file: 002854.jpg\n",
      "\n",
      "image 1/1 /Users/mariarisques/TAED2_YOLOs/data/processed/images/val/001391.jpg: 448x640 1 person, 509.2ms\n",
      "Speed: 1.2ms preprocess, 509.2ms inference, 0.9ms postprocess per image at shape (1, 3, 448, 640)\n"
     ]
    },
    {
     "name": "stderr",
     "output_type": "stream",
     "text": [
      "[ WARN:0@1007.429] global loadsave.cpp:241 findDecoder imread_('/Users/mariarisques/TAED2_YOLOs/data/processed/masks_post/val/001391.png'): can't open/read file: check file path/integrity\n"
     ]
    },
    {
     "name": "stdout",
     "output_type": "stream",
     "text": [
      "Mask correctly processed and saved for the following file: 001391.jpg\n",
      "\n",
      "image 1/1 /Users/mariarisques/TAED2_YOLOs/data/processed/images/val/002855.jpg: 384x640 1 person, 452.6ms\n",
      "Speed: 1.4ms preprocess, 452.6ms inference, 1.0ms postprocess per image at shape (1, 3, 384, 640)\n"
     ]
    },
    {
     "name": "stderr",
     "output_type": "stream",
     "text": [
      "[ WARN:0@1008.355] global loadsave.cpp:241 findDecoder imread_('/Users/mariarisques/TAED2_YOLOs/data/processed/masks_post/val/002855.png'): can't open/read file: check file path/integrity\n"
     ]
    },
    {
     "name": "stdout",
     "output_type": "stream",
     "text": [
      "Mask correctly processed and saved for the following file: 002855.jpg\n",
      "\n",
      "image 1/1 /Users/mariarisques/TAED2_YOLOs/data/processed/images/val/002100.jpg: 448x640 1 person, 545.8ms\n",
      "Speed: 1.2ms preprocess, 545.8ms inference, 1.1ms postprocess per image at shape (1, 3, 448, 640)\n"
     ]
    },
    {
     "name": "stderr",
     "output_type": "stream",
     "text": [
      "[ WARN:0@1009.301] global loadsave.cpp:241 findDecoder imread_('/Users/mariarisques/TAED2_YOLOs/data/processed/masks_post/val/002100.png'): can't open/read file: check file path/integrity\n"
     ]
    },
    {
     "name": "stdout",
     "output_type": "stream",
     "text": [
      "Mask correctly processed and saved for the following file: 002100.jpg\n",
      "\n",
      "image 1/1 /Users/mariarisques/TAED2_YOLOs/data/processed/images/val/004217.jpg: 448x640 1 person, 521.0ms\n",
      "Speed: 1.2ms preprocess, 521.0ms inference, 0.9ms postprocess per image at shape (1, 3, 448, 640)\n"
     ]
    },
    {
     "name": "stderr",
     "output_type": "stream",
     "text": [
      "[ WARN:0@1010.276] global loadsave.cpp:241 findDecoder imread_('/Users/mariarisques/TAED2_YOLOs/data/processed/masks_post/val/004217.png'): can't open/read file: check file path/integrity\n"
     ]
    },
    {
     "name": "stdout",
     "output_type": "stream",
     "text": [
      "Mask correctly processed and saved for the following file: 004217.jpg\n",
      "\n",
      "image 1/1 /Users/mariarisques/TAED2_YOLOs/data/processed/images/val/004203.jpg: 640x608 1 person, 800.8ms\n",
      "Speed: 1.5ms preprocess, 800.8ms inference, 1.2ms postprocess per image at shape (1, 3, 640, 608)\n"
     ]
    },
    {
     "name": "stderr",
     "output_type": "stream",
     "text": [
      "[ WARN:0@1011.534] global loadsave.cpp:241 findDecoder imread_('/Users/mariarisques/TAED2_YOLOs/data/processed/masks_post/val/004203.png'): can't open/read file: check file path/integrity\n"
     ]
    },
    {
     "name": "stdout",
     "output_type": "stream",
     "text": [
      "Mask correctly processed and saved for the following file: 004203.jpg\n",
      "\n",
      "image 1/1 /Users/mariarisques/TAED2_YOLOs/data/processed/images/val/002896.jpg: 416x640 2 persons, 486.4ms\n",
      "Speed: 1.1ms preprocess, 486.4ms inference, 1.0ms postprocess per image at shape (1, 3, 416, 640)\n"
     ]
    },
    {
     "name": "stderr",
     "output_type": "stream",
     "text": [
      "[ WARN:0@1012.677] global loadsave.cpp:241 findDecoder imread_('/Users/mariarisques/TAED2_YOLOs/data/processed/masks_post/val/002896.png'): can't open/read file: check file path/integrity\n"
     ]
    },
    {
     "name": "stdout",
     "output_type": "stream",
     "text": [
      "Mask correctly processed and saved for the following file: 002896.jpg\n",
      "\n",
      "image 1/1 /Users/mariarisques/TAED2_YOLOs/data/processed/images/val/001347.jpg: 448x640 2 persons, 511.7ms\n",
      "Speed: 1.2ms preprocess, 511.7ms inference, 1.7ms postprocess per image at shape (1, 3, 448, 640)\n"
     ]
    },
    {
     "name": "stderr",
     "output_type": "stream",
     "text": [
      "[ WARN:0@1013.615] global loadsave.cpp:241 findDecoder imread_('/Users/mariarisques/TAED2_YOLOs/data/processed/masks_post/val/001347.png'): can't open/read file: check file path/integrity\n"
     ]
    },
    {
     "name": "stdout",
     "output_type": "stream",
     "text": [
      "Mask correctly processed and saved for the following file: 001347.jpg\n",
      "\n",
      "image 1/1 /Users/mariarisques/TAED2_YOLOs/data/processed/images/val/004773.jpg: 448x640 1 person, 509.7ms\n",
      "Speed: 1.3ms preprocess, 509.7ms inference, 0.8ms postprocess per image at shape (1, 3, 448, 640)\n"
     ]
    },
    {
     "name": "stderr",
     "output_type": "stream",
     "text": [
      "[ WARN:0@1014.630] global loadsave.cpp:241 findDecoder imread_('/Users/mariarisques/TAED2_YOLOs/data/processed/masks_post/val/004773.png'): can't open/read file: check file path/integrity\n"
     ]
    },
    {
     "name": "stdout",
     "output_type": "stream",
     "text": [
      "Mask correctly processed and saved for the following file: 004773.jpg\n",
      "\n",
      "image 1/1 /Users/mariarisques/TAED2_YOLOs/data/processed/images/val/001970.jpg: 448x640 1 person, 512.5ms\n",
      "Speed: 1.2ms preprocess, 512.5ms inference, 0.9ms postprocess per image at shape (1, 3, 448, 640)\n"
     ]
    },
    {
     "name": "stderr",
     "output_type": "stream",
     "text": [
      "[ WARN:0@1015.605] global loadsave.cpp:241 findDecoder imread_('/Users/mariarisques/TAED2_YOLOs/data/processed/masks_post/val/001970.png'): can't open/read file: check file path/integrity\n"
     ]
    },
    {
     "name": "stdout",
     "output_type": "stream",
     "text": [
      "Mask correctly processed and saved for the following file: 001970.jpg\n",
      "\n",
      "image 1/1 /Users/mariarisques/TAED2_YOLOs/data/processed/images/val/003829.jpg: 640x448 1 person, 519.3ms\n",
      "Speed: 1.2ms preprocess, 519.3ms inference, 0.9ms postprocess per image at shape (1, 3, 640, 448)\n"
     ]
    },
    {
     "name": "stderr",
     "output_type": "stream",
     "text": [
      "[ WARN:0@1016.585] global loadsave.cpp:241 findDecoder imread_('/Users/mariarisques/TAED2_YOLOs/data/processed/masks_post/val/003829.png'): can't open/read file: check file path/integrity\n"
     ]
    },
    {
     "name": "stdout",
     "output_type": "stream",
     "text": [
      "Mask correctly processed and saved for the following file: 003829.jpg\n",
      "\n",
      "image 1/1 /Users/mariarisques/TAED2_YOLOs/data/processed/images/val/002276.jpg: 576x640 1 person, 800.6ms\n",
      "Speed: 1.4ms preprocess, 800.6ms inference, 0.9ms postprocess per image at shape (1, 3, 576, 640)\n"
     ]
    },
    {
     "name": "stderr",
     "output_type": "stream",
     "text": [
      "[ WARN:0@1017.872] global loadsave.cpp:241 findDecoder imread_('/Users/mariarisques/TAED2_YOLOs/data/processed/masks_post/val/002276.png'): can't open/read file: check file path/integrity\n"
     ]
    },
    {
     "name": "stdout",
     "output_type": "stream",
     "text": [
      "Mask correctly processed and saved for the following file: 002276.jpg\n",
      "\n",
      "image 1/1 /Users/mariarisques/TAED2_YOLOs/data/processed/images/val/003154.jpg: 480x640 1 person, 667.5ms\n",
      "Speed: 1.4ms preprocess, 667.5ms inference, 0.8ms postprocess per image at shape (1, 3, 480, 640)\n"
     ]
    },
    {
     "name": "stderr",
     "output_type": "stream",
     "text": [
      "[ WARN:0@1019.161] global loadsave.cpp:241 findDecoder imread_('/Users/mariarisques/TAED2_YOLOs/data/processed/masks_post/val/003154.png'): can't open/read file: check file path/integrity\n"
     ]
    },
    {
     "name": "stdout",
     "output_type": "stream",
     "text": [
      "Mask correctly processed and saved for the following file: 003154.jpg\n",
      "\n",
      "image 1/1 /Users/mariarisques/TAED2_YOLOs/data/processed/images/val/002909.jpg: 640x448 1 person, 518.7ms\n",
      "Speed: 1.2ms preprocess, 518.7ms inference, 1.4ms postprocess per image at shape (1, 3, 640, 448)\n"
     ]
    },
    {
     "name": "stderr",
     "output_type": "stream",
     "text": [
      "[ WARN:0@1020.214] global loadsave.cpp:241 findDecoder imread_('/Users/mariarisques/TAED2_YOLOs/data/processed/masks_post/val/002909.png'): can't open/read file: check file path/integrity\n"
     ]
    },
    {
     "name": "stdout",
     "output_type": "stream",
     "text": [
      "Mask correctly processed and saved for the following file: 002909.jpg\n",
      "\n",
      "image 1/1 /Users/mariarisques/TAED2_YOLOs/data/processed/images/val/003395.jpg: 480x640 3 persons, 546.3ms\n",
      "Speed: 1.4ms preprocess, 546.3ms inference, 1.4ms postprocess per image at shape (1, 3, 480, 640)\n"
     ]
    },
    {
     "name": "stderr",
     "output_type": "stream",
     "text": [
      "[ WARN:0@1021.236] global loadsave.cpp:241 findDecoder imread_('/Users/mariarisques/TAED2_YOLOs/data/processed/masks_post/val/003395.png'): can't open/read file: check file path/integrity\n"
     ]
    },
    {
     "name": "stdout",
     "output_type": "stream",
     "text": [
      "Mask correctly processed and saved for the following file: 003395.jpg\n",
      "\n",
      "image 1/1 /Users/mariarisques/TAED2_YOLOs/data/processed/images/val/003381.jpg: 448x640 1 person, 541.2ms\n",
      "Speed: 1.2ms preprocess, 541.2ms inference, 0.8ms postprocess per image at shape (1, 3, 448, 640)\n"
     ]
    },
    {
     "name": "stderr",
     "output_type": "stream",
     "text": [
      "[ WARN:0@1022.294] global loadsave.cpp:241 findDecoder imread_('/Users/mariarisques/TAED2_YOLOs/data/processed/masks_post/val/003381.png'): can't open/read file: check file path/integrity\n"
     ]
    },
    {
     "name": "stdout",
     "output_type": "stream",
     "text": [
      "Mask correctly processed and saved for the following file: 003381.jpg\n",
      "\n",
      "image 1/1 /Users/mariarisques/TAED2_YOLOs/data/processed/images/val/000850.jpg: 448x640 1 person, 515.6ms\n",
      "Speed: 1.2ms preprocess, 515.6ms inference, 1.3ms postprocess per image at shape (1, 3, 448, 640)\n"
     ]
    },
    {
     "name": "stderr",
     "output_type": "stream",
     "text": [
      "[ WARN:0@1023.267] global loadsave.cpp:241 findDecoder imread_('/Users/mariarisques/TAED2_YOLOs/data/processed/masks_post/val/000850.png'): can't open/read file: check file path/integrity\n"
     ]
    },
    {
     "name": "stdout",
     "output_type": "stream",
     "text": [
      "Mask correctly processed and saved for the following file: 000850.jpg\n",
      "\n",
      "image 1/1 /Users/mariarisques/TAED2_YOLOs/data/processed/images/val/002712.jpg: 448x640 1 person, 525.2ms\n",
      "Speed: 1.3ms preprocess, 525.2ms inference, 0.9ms postprocess per image at shape (1, 3, 448, 640)\n"
     ]
    },
    {
     "name": "stderr",
     "output_type": "stream",
     "text": [
      "[ WARN:0@1024.259] global loadsave.cpp:241 findDecoder imread_('/Users/mariarisques/TAED2_YOLOs/data/processed/masks_post/val/002712.png'): can't open/read file: check file path/integrity\n"
     ]
    },
    {
     "name": "stdout",
     "output_type": "stream",
     "text": [
      "Mask correctly processed and saved for the following file: 002712.jpg\n",
      "\n",
      "image 1/1 /Users/mariarisques/TAED2_YOLOs/data/processed/images/val/004377.jpg: 448x640 1 person, 519.6ms\n",
      "Speed: 1.3ms preprocess, 519.6ms inference, 0.8ms postprocess per image at shape (1, 3, 448, 640)\n"
     ]
    },
    {
     "name": "stderr",
     "output_type": "stream",
     "text": [
      "[ WARN:0@1025.229] global loadsave.cpp:241 findDecoder imread_('/Users/mariarisques/TAED2_YOLOs/data/processed/masks_post/val/004377.png'): can't open/read file: check file path/integrity\n"
     ]
    },
    {
     "name": "stdout",
     "output_type": "stream",
     "text": [
      "Mask correctly processed and saved for the following file: 004377.jpg\n",
      "\n",
      "image 1/1 /Users/mariarisques/TAED2_YOLOs/data/processed/images/val/003356.jpg: 448x640 1 person, 538.2ms\n",
      "Speed: 1.2ms preprocess, 538.2ms inference, 0.9ms postprocess per image at shape (1, 3, 448, 640)\n"
     ]
    },
    {
     "name": "stderr",
     "output_type": "stream",
     "text": [
      "[ WARN:0@1026.236] global loadsave.cpp:241 findDecoder imread_('/Users/mariarisques/TAED2_YOLOs/data/processed/masks_post/val/003356.png'): can't open/read file: check file path/integrity\n"
     ]
    },
    {
     "name": "stdout",
     "output_type": "stream",
     "text": [
      "Mask correctly processed and saved for the following file: 003356.jpg\n",
      "\n",
      "image 1/1 /Users/mariarisques/TAED2_YOLOs/data/processed/images/val/005041.jpg: 640x448 1 person, 522.9ms\n",
      "Speed: 1.3ms preprocess, 522.9ms inference, 0.8ms postprocess per image at shape (1, 3, 640, 448)\n"
     ]
    },
    {
     "name": "stderr",
     "output_type": "stream",
     "text": [
      "[ WARN:0@1027.218] global loadsave.cpp:241 findDecoder imread_('/Users/mariarisques/TAED2_YOLOs/data/processed/masks_post/val/005041.png'): can't open/read file: check file path/integrity\n"
     ]
    },
    {
     "name": "stdout",
     "output_type": "stream",
     "text": [
      "Mask correctly processed and saved for the following file: 005041.jpg\n",
      "\n",
      "image 1/1 /Users/mariarisques/TAED2_YOLOs/data/processed/images/val/003432.jpg: 448x640 1 person, 524.0ms\n",
      "Speed: 1.2ms preprocess, 524.0ms inference, 0.8ms postprocess per image at shape (1, 3, 448, 640)\n"
     ]
    },
    {
     "name": "stderr",
     "output_type": "stream",
     "text": [
      "[ WARN:0@1028.203] global loadsave.cpp:241 findDecoder imread_('/Users/mariarisques/TAED2_YOLOs/data/processed/masks_post/val/003432.png'): can't open/read file: check file path/integrity\n"
     ]
    },
    {
     "name": "stdout",
     "output_type": "stream",
     "text": [
      "Mask correctly processed and saved for the following file: 003432.jpg\n",
      "\n",
      "image 1/1 /Users/mariarisques/TAED2_YOLOs/data/processed/images/val/002248.jpg: 448x640 1 person, 505.7ms\n",
      "Speed: 1.6ms preprocess, 505.7ms inference, 1.1ms postprocess per image at shape (1, 3, 448, 640)\n"
     ]
    },
    {
     "name": "stderr",
     "output_type": "stream",
     "text": [
      "[ WARN:0@1029.166] global loadsave.cpp:241 findDecoder imread_('/Users/mariarisques/TAED2_YOLOs/data/processed/masks_post/val/002248.png'): can't open/read file: check file path/integrity\n"
     ]
    },
    {
     "name": "stdout",
     "output_type": "stream",
     "text": [
      "Mask correctly processed and saved for the following file: 002248.jpg\n",
      "\n",
      "image 1/1 /Users/mariarisques/TAED2_YOLOs/data/processed/images/val/003156.jpg: 448x640 1 person, 508.9ms\n",
      "Speed: 1.2ms preprocess, 508.9ms inference, 0.9ms postprocess per image at shape (1, 3, 448, 640)\n"
     ]
    },
    {
     "name": "stderr",
     "output_type": "stream",
     "text": [
      "[ WARN:0@1030.154] global loadsave.cpp:241 findDecoder imread_('/Users/mariarisques/TAED2_YOLOs/data/processed/masks_post/val/003156.png'): can't open/read file: check file path/integrity\n"
     ]
    },
    {
     "name": "stdout",
     "output_type": "stream",
     "text": [
      "Mask correctly processed and saved for the following file: 003156.jpg\n",
      "\n",
      "image 1/1 /Users/mariarisques/TAED2_YOLOs/data/processed/images/val/001999.jpg: 640x448 1 person, 525.0ms\n",
      "Speed: 1.3ms preprocess, 525.0ms inference, 1.1ms postprocess per image at shape (1, 3, 640, 448)\n"
     ]
    },
    {
     "name": "stderr",
     "output_type": "stream",
     "text": [
      "[ WARN:0@1031.170] global loadsave.cpp:241 findDecoder imread_('/Users/mariarisques/TAED2_YOLOs/data/processed/masks_post/val/001999.png'): can't open/read file: check file path/integrity\n"
     ]
    },
    {
     "name": "stdout",
     "output_type": "stream",
     "text": [
      "Mask correctly processed and saved for the following file: 001999.jpg\n",
      "\n",
      "image 1/1 /Users/mariarisques/TAED2_YOLOs/data/processed/images/val/001741.jpg: 448x640 1 person, 497.8ms\n",
      "Speed: 1.5ms preprocess, 497.8ms inference, 1.3ms postprocess per image at shape (1, 3, 448, 640)\n"
     ]
    },
    {
     "name": "stderr",
     "output_type": "stream",
     "text": [
      "[ WARN:0@1032.166] global loadsave.cpp:241 findDecoder imread_('/Users/mariarisques/TAED2_YOLOs/data/processed/masks_post/val/001741.png'): can't open/read file: check file path/integrity\n"
     ]
    },
    {
     "name": "stdout",
     "output_type": "stream",
     "text": [
      "Mask correctly processed and saved for the following file: 001741.jpg\n",
      "\n",
      "image 1/1 /Users/mariarisques/TAED2_YOLOs/data/processed/images/val/003618.jpg: 448x640 1 person, 514.7ms\n",
      "Speed: 1.6ms preprocess, 514.7ms inference, 0.9ms postprocess per image at shape (1, 3, 448, 640)\n"
     ]
    },
    {
     "name": "stderr",
     "output_type": "stream",
     "text": [
      "[ WARN:0@1033.146] global loadsave.cpp:241 findDecoder imread_('/Users/mariarisques/TAED2_YOLOs/data/processed/masks_post/val/003618.png'): can't open/read file: check file path/integrity\n"
     ]
    },
    {
     "name": "stdout",
     "output_type": "stream",
     "text": [
      "Mask correctly processed and saved for the following file: 003618.jpg\n",
      "\n",
      "image 1/1 /Users/mariarisques/TAED2_YOLOs/data/processed/images/val/004611.jpg: 640x640 1 person, 844.4ms\n",
      "Speed: 1.6ms preprocess, 844.4ms inference, 1.5ms postprocess per image at shape (1, 3, 640, 640)\n"
     ]
    },
    {
     "name": "stderr",
     "output_type": "stream",
     "text": [
      "[ WARN:0@1034.466] global loadsave.cpp:241 findDecoder imread_('/Users/mariarisques/TAED2_YOLOs/data/processed/masks_post/val/004611.png'): can't open/read file: check file path/integrity\n"
     ]
    },
    {
     "name": "stdout",
     "output_type": "stream",
     "text": [
      "Mask correctly processed and saved for the following file: 004611.jpg\n",
      "\n",
      "image 1/1 /Users/mariarisques/TAED2_YOLOs/data/processed/images/val/001796.jpg: 448x640 1 person, 525.1ms\n",
      "Speed: 1.5ms preprocess, 525.1ms inference, 0.9ms postprocess per image at shape (1, 3, 448, 640)\n"
     ]
    },
    {
     "name": "stderr",
     "output_type": "stream",
     "text": [
      "[ WARN:0@1035.725] global loadsave.cpp:241 findDecoder imread_('/Users/mariarisques/TAED2_YOLOs/data/processed/masks_post/val/001796.png'): can't open/read file: check file path/integrity\n"
     ]
    },
    {
     "name": "stdout",
     "output_type": "stream",
     "text": [
      "Mask correctly processed and saved for the following file: 001796.jpg\n",
      "\n",
      "image 1/1 /Users/mariarisques/TAED2_YOLOs/data/processed/images/val/000488.jpg: 448x640 1 person, 516.1ms\n",
      "Speed: 1.2ms preprocess, 516.1ms inference, 0.8ms postprocess per image at shape (1, 3, 448, 640)\n"
     ]
    },
    {
     "name": "stderr",
     "output_type": "stream",
     "text": [
      "[ WARN:0@1036.705] global loadsave.cpp:241 findDecoder imread_('/Users/mariarisques/TAED2_YOLOs/data/processed/masks_post/val/000488.png'): can't open/read file: check file path/integrity\n"
     ]
    },
    {
     "name": "stdout",
     "output_type": "stream",
     "text": [
      "Mask correctly processed and saved for the following file: 000488.jpg\n",
      "\n",
      "image 1/1 /Users/mariarisques/TAED2_YOLOs/data/processed/images/val/003744.jpg: 448x640 1 person, 501.7ms\n",
      "Speed: 1.3ms preprocess, 501.7ms inference, 0.9ms postprocess per image at shape (1, 3, 448, 640)\n"
     ]
    },
    {
     "name": "stderr",
     "output_type": "stream",
     "text": [
      "[ WARN:0@1037.662] global loadsave.cpp:241 findDecoder imread_('/Users/mariarisques/TAED2_YOLOs/data/processed/masks_post/val/003744.png'): can't open/read file: check file path/integrity\n"
     ]
    },
    {
     "name": "stdout",
     "output_type": "stream",
     "text": [
      "Mask correctly processed and saved for the following file: 003744.jpg\n",
      "\n",
      "image 1/1 /Users/mariarisques/TAED2_YOLOs/data/processed/images/val/005321.jpg: 448x640 1 person, 525.3ms\n",
      "Speed: 1.2ms preprocess, 525.3ms inference, 0.8ms postprocess per image at shape (1, 3, 448, 640)\n"
     ]
    },
    {
     "name": "stderr",
     "output_type": "stream",
     "text": [
      "[ WARN:0@1038.660] global loadsave.cpp:241 findDecoder imread_('/Users/mariarisques/TAED2_YOLOs/data/processed/masks_post/val/005321.png'): can't open/read file: check file path/integrity\n"
     ]
    },
    {
     "name": "stdout",
     "output_type": "stream",
     "text": [
      "Mask correctly processed and saved for the following file: 005321.jpg\n",
      "\n",
      "image 1/1 /Users/mariarisques/TAED2_YOLOs/data/processed/images/val/003036.jpg: 640x448 1 person, 533.2ms\n",
      "Speed: 1.2ms preprocess, 533.2ms inference, 0.8ms postprocess per image at shape (1, 3, 640, 448)\n"
     ]
    },
    {
     "name": "stderr",
     "output_type": "stream",
     "text": [
      "[ WARN:0@1039.657] global loadsave.cpp:241 findDecoder imread_('/Users/mariarisques/TAED2_YOLOs/data/processed/masks_post/val/003036.png'): can't open/read file: check file path/integrity\n"
     ]
    },
    {
     "name": "stdout",
     "output_type": "stream",
     "text": [
      "Mask correctly processed and saved for the following file: 003036.jpg\n",
      "\n",
      "image 1/1 /Users/mariarisques/TAED2_YOLOs/data/processed/images/val/004759.jpg: 448x640 1 person, 527.4ms\n",
      "Speed: 1.2ms preprocess, 527.4ms inference, 0.8ms postprocess per image at shape (1, 3, 448, 640)\n"
     ]
    },
    {
     "name": "stderr",
     "output_type": "stream",
     "text": [
      "[ WARN:0@1040.662] global loadsave.cpp:241 findDecoder imread_('/Users/mariarisques/TAED2_YOLOs/data/processed/masks_post/val/004759.png'): can't open/read file: check file path/integrity\n"
     ]
    },
    {
     "name": "stdout",
     "output_type": "stream",
     "text": [
      "Mask correctly processed and saved for the following file: 004759.jpg\n",
      "\n",
      "image 1/1 /Users/mariarisques/TAED2_YOLOs/data/processed/images/val/003778.jpg: 448x640 2 persons, 537.5ms\n",
      "Speed: 1.2ms preprocess, 537.5ms inference, 1.1ms postprocess per image at shape (1, 3, 448, 640)\n"
     ]
    },
    {
     "name": "stderr",
     "output_type": "stream",
     "text": [
      "[ WARN:0@1041.670] global loadsave.cpp:241 findDecoder imread_('/Users/mariarisques/TAED2_YOLOs/data/processed/masks_post/val/003778.png'): can't open/read file: check file path/integrity\n"
     ]
    },
    {
     "name": "stdout",
     "output_type": "stream",
     "text": [
      "Mask correctly processed and saved for the following file: 003778.jpg\n",
      "\n",
      "image 1/1 /Users/mariarisques/TAED2_YOLOs/data/processed/images/val/001184.jpg: 640x448 2 persons, 531.5ms\n",
      "Speed: 1.3ms preprocess, 531.5ms inference, 1.3ms postprocess per image at shape (1, 3, 640, 448)\n"
     ]
    },
    {
     "name": "stderr",
     "output_type": "stream",
     "text": [
      "[ WARN:0@1042.693] global loadsave.cpp:241 findDecoder imread_('/Users/mariarisques/TAED2_YOLOs/data/processed/masks_post/val/001184.png'): can't open/read file: check file path/integrity\n"
     ]
    },
    {
     "name": "stdout",
     "output_type": "stream",
     "text": [
      "Mask correctly processed and saved for the following file: 001184.jpg\n",
      "\n",
      "image 1/1 /Users/mariarisques/TAED2_YOLOs/data/processed/images/val/005137.jpg: 448x640 1 person, 531.6ms\n",
      "Speed: 1.2ms preprocess, 531.6ms inference, 0.8ms postprocess per image at shape (1, 3, 448, 640)\n"
     ]
    },
    {
     "name": "stderr",
     "output_type": "stream",
     "text": [
      "[ WARN:0@1043.686] global loadsave.cpp:241 findDecoder imread_('/Users/mariarisques/TAED2_YOLOs/data/processed/masks_post/val/005137.png'): can't open/read file: check file path/integrity\n"
     ]
    },
    {
     "name": "stdout",
     "output_type": "stream",
     "text": [
      "Mask correctly processed and saved for the following file: 005137.jpg\n",
      "\n",
      "image 1/1 /Users/mariarisques/TAED2_YOLOs/data/processed/images/val/001351.jpg: 640x448 1 person, 515.0ms\n",
      "Speed: 1.2ms preprocess, 515.0ms inference, 1.0ms postprocess per image at shape (1, 3, 640, 448)\n"
     ]
    },
    {
     "name": "stderr",
     "output_type": "stream",
     "text": [
      "[ WARN:0@1044.679] global loadsave.cpp:241 findDecoder imread_('/Users/mariarisques/TAED2_YOLOs/data/processed/masks_post/val/001351.png'): can't open/read file: check file path/integrity\n"
     ]
    },
    {
     "name": "stdout",
     "output_type": "stream",
     "text": [
      "Mask correctly processed and saved for the following file: 001351.jpg\n",
      "\n",
      "image 1/1 /Users/mariarisques/TAED2_YOLOs/data/processed/images/val/003220.jpg: 448x640 2 persons, 522.2ms\n",
      "Speed: 1.2ms preprocess, 522.2ms inference, 1.1ms postprocess per image at shape (1, 3, 448, 640)\n"
     ]
    },
    {
     "name": "stderr",
     "output_type": "stream",
     "text": [
      "[ WARN:0@1045.680] global loadsave.cpp:241 findDecoder imread_('/Users/mariarisques/TAED2_YOLOs/data/processed/masks_post/val/003220.png'): can't open/read file: check file path/integrity\n"
     ]
    },
    {
     "name": "stdout",
     "output_type": "stream",
     "text": [
      "Mask correctly processed and saved for the following file: 003220.jpg\n",
      "\n",
      "image 1/1 /Users/mariarisques/TAED2_YOLOs/data/processed/images/val/002894.jpg: 448x640 1 person, 519.3ms\n",
      "Speed: 1.2ms preprocess, 519.3ms inference, 0.9ms postprocess per image at shape (1, 3, 448, 640)\n"
     ]
    },
    {
     "name": "stderr",
     "output_type": "stream",
     "text": [
      "[ WARN:0@1046.662] global loadsave.cpp:241 findDecoder imread_('/Users/mariarisques/TAED2_YOLOs/data/processed/masks_post/val/002894.png'): can't open/read file: check file path/integrity\n"
     ]
    },
    {
     "name": "stdout",
     "output_type": "stream",
     "text": [
      "Mask correctly processed and saved for the following file: 002894.jpg\n",
      "\n",
      "image 1/1 /Users/mariarisques/TAED2_YOLOs/data/processed/images/val/000715.jpg: 640x448 1 person, 524.4ms\n",
      "Speed: 1.2ms preprocess, 524.4ms inference, 1.3ms postprocess per image at shape (1, 3, 640, 448)\n"
     ]
    },
    {
     "name": "stderr",
     "output_type": "stream",
     "text": [
      "[ WARN:0@1047.667] global loadsave.cpp:241 findDecoder imread_('/Users/mariarisques/TAED2_YOLOs/data/processed/masks_post/val/000715.png'): can't open/read file: check file path/integrity\n"
     ]
    },
    {
     "name": "stdout",
     "output_type": "stream",
     "text": [
      "Mask correctly processed and saved for the following file: 000715.jpg\n",
      "\n",
      "image 1/1 /Users/mariarisques/TAED2_YOLOs/data/processed/images/val/003585.jpg: 640x448 1 person, 520.9ms\n",
      "Speed: 1.1ms preprocess, 520.9ms inference, 0.8ms postprocess per image at shape (1, 3, 640, 448)\n"
     ]
    },
    {
     "name": "stderr",
     "output_type": "stream",
     "text": [
      "[ WARN:0@1048.673] global loadsave.cpp:241 findDecoder imread_('/Users/mariarisques/TAED2_YOLOs/data/processed/masks_post/val/003585.png'): can't open/read file: check file path/integrity\n"
     ]
    },
    {
     "name": "stdout",
     "output_type": "stream",
     "text": [
      "Mask correctly processed and saved for the following file: 003585.jpg\n",
      "\n",
      "image 1/1 /Users/mariarisques/TAED2_YOLOs/data/processed/images/val/002857.jpg: 640x448 1 person, 524.0ms\n",
      "Speed: 1.2ms preprocess, 524.0ms inference, 0.8ms postprocess per image at shape (1, 3, 640, 448)\n"
     ]
    },
    {
     "name": "stderr",
     "output_type": "stream",
     "text": [
      "[ WARN:0@1049.659] global loadsave.cpp:241 findDecoder imread_('/Users/mariarisques/TAED2_YOLOs/data/processed/masks_post/val/002857.png'): can't open/read file: check file path/integrity\n"
     ]
    },
    {
     "name": "stdout",
     "output_type": "stream",
     "text": [
      "Mask correctly processed and saved for the following file: 002857.jpg\n",
      "\n",
      "image 1/1 /Users/mariarisques/TAED2_YOLOs/data/processed/images/val/002856.jpg: 384x640 1 person, 441.5ms\n",
      "Speed: 1.1ms preprocess, 441.5ms inference, 0.8ms postprocess per image at shape (1, 3, 384, 640)\n"
     ]
    },
    {
     "name": "stderr",
     "output_type": "stream",
     "text": [
      "[ WARN:0@1050.569] global loadsave.cpp:241 findDecoder imread_('/Users/mariarisques/TAED2_YOLOs/data/processed/masks_post/val/002856.png'): can't open/read file: check file path/integrity\n"
     ]
    },
    {
     "name": "stdout",
     "output_type": "stream",
     "text": [
      "Mask correctly processed and saved for the following file: 002856.jpg\n",
      "\n",
      "image 1/1 /Users/mariarisques/TAED2_YOLOs/data/processed/images/val/001378.jpg: 448x640 1 person, 519.6ms\n",
      "Speed: 1.2ms preprocess, 519.6ms inference, 0.8ms postprocess per image at shape (1, 3, 448, 640)\n"
     ]
    },
    {
     "name": "stderr",
     "output_type": "stream",
     "text": [
      "[ WARN:0@1051.480] global loadsave.cpp:241 findDecoder imread_('/Users/mariarisques/TAED2_YOLOs/data/processed/masks_post/val/001378.png'): can't open/read file: check file path/integrity\n"
     ]
    },
    {
     "name": "stdout",
     "output_type": "stream",
     "text": [
      "Mask correctly processed and saved for the following file: 001378.jpg\n",
      "\n",
      "image 1/1 /Users/mariarisques/TAED2_YOLOs/data/processed/images/val/003553.jpg: 448x640 1 person, 526.5ms\n",
      "Speed: 1.2ms preprocess, 526.5ms inference, 1.3ms postprocess per image at shape (1, 3, 448, 640)\n"
     ]
    },
    {
     "name": "stderr",
     "output_type": "stream",
     "text": [
      "[ WARN:0@1052.481] global loadsave.cpp:241 findDecoder imread_('/Users/mariarisques/TAED2_YOLOs/data/processed/masks_post/val/003553.png'): can't open/read file: check file path/integrity\n"
     ]
    },
    {
     "name": "stdout",
     "output_type": "stream",
     "text": [
      "Mask correctly processed and saved for the following file: 003553.jpg\n",
      "\n",
      "image 1/1 /Users/mariarisques/TAED2_YOLOs/data/processed/images/val/000516.jpg: 640x448 1 person, 501.9ms\n",
      "Speed: 1.3ms preprocess, 501.9ms inference, 0.8ms postprocess per image at shape (1, 3, 640, 448)\n"
     ]
    },
    {
     "name": "stderr",
     "output_type": "stream",
     "text": [
      "[ WARN:0@1053.442] global loadsave.cpp:241 findDecoder imread_('/Users/mariarisques/TAED2_YOLOs/data/processed/masks_post/val/000516.png'): can't open/read file: check file path/integrity\n"
     ]
    },
    {
     "name": "stdout",
     "output_type": "stream",
     "text": [
      "Mask correctly processed and saved for the following file: 000516.jpg\n",
      "\n",
      "image 1/1 /Users/mariarisques/TAED2_YOLOs/data/processed/images/val/004016.jpg: 448x640 1 person, 505.8ms\n",
      "Speed: 1.2ms preprocess, 505.8ms inference, 1.0ms postprocess per image at shape (1, 3, 448, 640)\n"
     ]
    },
    {
     "name": "stderr",
     "output_type": "stream",
     "text": [
      "[ WARN:0@1054.402] global loadsave.cpp:241 findDecoder imread_('/Users/mariarisques/TAED2_YOLOs/data/processed/masks_post/val/004016.png'): can't open/read file: check file path/integrity\n"
     ]
    },
    {
     "name": "stdout",
     "output_type": "stream",
     "text": [
      "Mask correctly processed and saved for the following file: 004016.jpg\n",
      "\n",
      "image 1/1 /Users/mariarisques/TAED2_YOLOs/data/processed/images/val/005320.jpg: 448x640 1 person, 510.9ms\n",
      "Speed: 1.2ms preprocess, 510.9ms inference, 1.4ms postprocess per image at shape (1, 3, 448, 640)\n"
     ]
    },
    {
     "name": "stderr",
     "output_type": "stream",
     "text": [
      "[ WARN:0@1055.397] global loadsave.cpp:241 findDecoder imread_('/Users/mariarisques/TAED2_YOLOs/data/processed/masks_post/val/005320.png'): can't open/read file: check file path/integrity\n"
     ]
    },
    {
     "name": "stdout",
     "output_type": "stream",
     "text": [
      "Mask correctly processed and saved for the following file: 005320.jpg\n",
      "\n",
      "image 1/1 /Users/mariarisques/TAED2_YOLOs/data/processed/images/val/004980.jpg: 448x640 1 person, 512.0ms\n",
      "Speed: 1.2ms preprocess, 512.0ms inference, 0.8ms postprocess per image at shape (1, 3, 448, 640)\n"
     ]
    },
    {
     "name": "stderr",
     "output_type": "stream",
     "text": [
      "[ WARN:0@1056.376] global loadsave.cpp:241 findDecoder imread_('/Users/mariarisques/TAED2_YOLOs/data/processed/masks_post/val/004980.png'): can't open/read file: check file path/integrity\n"
     ]
    },
    {
     "name": "stdout",
     "output_type": "stream",
     "text": [
      "Mask correctly processed and saved for the following file: 004980.jpg\n",
      "\n",
      "image 1/1 /Users/mariarisques/TAED2_YOLOs/data/processed/images/val/004758.jpg: 384x640 1 person, 446.0ms\n",
      "Speed: 1.2ms preprocess, 446.0ms inference, 0.8ms postprocess per image at shape (1, 3, 384, 640)\n"
     ]
    },
    {
     "name": "stderr",
     "output_type": "stream",
     "text": [
      "[ WARN:0@1057.305] global loadsave.cpp:241 findDecoder imread_('/Users/mariarisques/TAED2_YOLOs/data/processed/masks_post/val/004758.png'): can't open/read file: check file path/integrity\n"
     ]
    },
    {
     "name": "stdout",
     "output_type": "stream",
     "text": [
      "Mask correctly processed and saved for the following file: 004758.jpg\n",
      "\n",
      "image 1/1 /Users/mariarisques/TAED2_YOLOs/data/processed/images/val/001973.jpg: 448x640 1 person, 518.9ms\n",
      "Speed: 1.2ms preprocess, 518.9ms inference, 0.8ms postprocess per image at shape (1, 3, 448, 640)\n"
     ]
    },
    {
     "name": "stderr",
     "output_type": "stream",
     "text": [
      "[ WARN:0@1058.245] global loadsave.cpp:241 findDecoder imread_('/Users/mariarisques/TAED2_YOLOs/data/processed/masks_post/val/001973.png'): can't open/read file: check file path/integrity\n"
     ]
    },
    {
     "name": "stdout",
     "output_type": "stream",
     "text": [
      "Mask correctly processed and saved for the following file: 001973.jpg\n",
      "\n",
      "image 1/1 /Users/mariarisques/TAED2_YOLOs/data/processed/images/val/003194.jpg: 640x416 1 person, 621.7ms\n",
      "Speed: 1.1ms preprocess, 621.7ms inference, 0.8ms postprocess per image at shape (1, 3, 640, 416)\n"
     ]
    },
    {
     "name": "stderr",
     "output_type": "stream",
     "text": [
      "[ WARN:0@1059.323] global loadsave.cpp:241 findDecoder imread_('/Users/mariarisques/TAED2_YOLOs/data/processed/masks_post/val/003194.png'): can't open/read file: check file path/integrity\n"
     ]
    },
    {
     "name": "stdout",
     "output_type": "stream",
     "text": [
      "Mask correctly processed and saved for the following file: 003194.jpg\n",
      "\n",
      "image 1/1 /Users/mariarisques/TAED2_YOLOs/data/processed/images/val/001768.jpg: 448x640 2 persons, 527.2ms\n",
      "Speed: 1.2ms preprocess, 527.2ms inference, 1.1ms postprocess per image at shape (1, 3, 448, 640)\n"
     ]
    },
    {
     "name": "stderr",
     "output_type": "stream",
     "text": [
      "[ WARN:0@1060.294] global loadsave.cpp:241 findDecoder imread_('/Users/mariarisques/TAED2_YOLOs/data/processed/masks_post/val/001768.png'): can't open/read file: check file path/integrity\n"
     ]
    },
    {
     "name": "stdout",
     "output_type": "stream",
     "text": [
      "Mask correctly processed and saved for the following file: 001768.jpg\n",
      "\n",
      "image 1/1 /Users/mariarisques/TAED2_YOLOs/data/processed/images/val/004610.jpg: 448x640 1 person, 519.5ms\n",
      "Speed: 1.2ms preprocess, 519.5ms inference, 0.9ms postprocess per image at shape (1, 3, 448, 640)\n"
     ]
    },
    {
     "name": "stderr",
     "output_type": "stream",
     "text": [
      "[ WARN:0@1061.265] global loadsave.cpp:241 findDecoder imread_('/Users/mariarisques/TAED2_YOLOs/data/processed/masks_post/val/004610.png'): can't open/read file: check file path/integrity\n"
     ]
    },
    {
     "name": "stdout",
     "output_type": "stream",
     "text": [
      "Mask correctly processed and saved for the following file: 004610.jpg\n",
      "\n",
      "image 1/1 /Users/mariarisques/TAED2_YOLOs/data/processed/images/val/004604.jpg: 512x640 1 person, 721.4ms\n",
      "Speed: 1.4ms preprocess, 721.4ms inference, 1.5ms postprocess per image at shape (1, 3, 512, 640)\n"
     ]
    },
    {
     "name": "stderr",
     "output_type": "stream",
     "text": [
      "[ WARN:0@1062.451] global loadsave.cpp:241 findDecoder imread_('/Users/mariarisques/TAED2_YOLOs/data/processed/masks_post/val/004604.png'): can't open/read file: check file path/integrity\n"
     ]
    },
    {
     "name": "stdout",
     "output_type": "stream",
     "text": [
      "Mask correctly processed and saved for the following file: 004604.jpg\n",
      "\n",
      "image 1/1 /Users/mariarisques/TAED2_YOLOs/data/processed/images/val/003382.jpg: 448x640 1 person, 528.2ms\n",
      "Speed: 1.2ms preprocess, 528.2ms inference, 0.8ms postprocess per image at shape (1, 3, 448, 640)\n"
     ]
    },
    {
     "name": "stderr",
     "output_type": "stream",
     "text": [
      "[ WARN:0@1063.504] global loadsave.cpp:241 findDecoder imread_('/Users/mariarisques/TAED2_YOLOs/data/processed/masks_post/val/003382.png'): can't open/read file: check file path/integrity\n"
     ]
    },
    {
     "name": "stdout",
     "output_type": "stream",
     "text": [
      "Mask correctly processed and saved for the following file: 003382.jpg\n",
      "\n",
      "image 1/1 /Users/mariarisques/TAED2_YOLOs/data/processed/images/val/003396.jpg: 384x640 1 person, 440.6ms\n",
      "Speed: 1.1ms preprocess, 440.6ms inference, 0.8ms postprocess per image at shape (1, 3, 384, 640)\n"
     ]
    },
    {
     "name": "stderr",
     "output_type": "stream",
     "text": [
      "[ WARN:0@1064.430] global loadsave.cpp:241 findDecoder imread_('/Users/mariarisques/TAED2_YOLOs/data/processed/masks_post/val/003396.png'): can't open/read file: check file path/integrity\n"
     ]
    },
    {
     "name": "stdout",
     "output_type": "stream",
     "text": [
      "Mask correctly processed and saved for the following file: 003396.jpg\n",
      "\n",
      "image 1/1 /Users/mariarisques/TAED2_YOLOs/data/processed/images/val/000674.jpg: 384x640 2 persons, 453.1ms\n",
      "Speed: 1.2ms preprocess, 453.1ms inference, 1.0ms postprocess per image at shape (1, 3, 384, 640)\n"
     ]
    },
    {
     "name": "stderr",
     "output_type": "stream",
     "text": [
      "[ WARN:0@1065.291] global loadsave.cpp:241 findDecoder imread_('/Users/mariarisques/TAED2_YOLOs/data/processed/masks_post/val/000674.png'): can't open/read file: check file path/integrity\n"
     ]
    },
    {
     "name": "stdout",
     "output_type": "stream",
     "text": [
      "Mask correctly processed and saved for the following file: 000674.jpg\n",
      "\n",
      "image 1/1 /Users/mariarisques/TAED2_YOLOs/data/processed/images/val/004360.jpg: 448x640 1 person, 522.3ms\n",
      "Speed: 1.2ms preprocess, 522.3ms inference, 0.8ms postprocess per image at shape (1, 3, 448, 640)\n"
     ]
    },
    {
     "name": "stderr",
     "output_type": "stream",
     "text": [
      "[ WARN:0@1066.200] global loadsave.cpp:241 findDecoder imread_('/Users/mariarisques/TAED2_YOLOs/data/processed/masks_post/val/004360.png'): can't open/read file: check file path/integrity\n"
     ]
    },
    {
     "name": "stdout",
     "output_type": "stream",
     "text": [
      "Mask correctly processed and saved for the following file: 004360.jpg\n",
      "\n",
      "image 1/1 /Users/mariarisques/TAED2_YOLOs/data/processed/images/val/000648.jpg: 640x480 1 person, 667.3ms\n",
      "Speed: 1.6ms preprocess, 667.3ms inference, 0.9ms postprocess per image at shape (1, 3, 640, 480)\n"
     ]
    },
    {
     "name": "stderr",
     "output_type": "stream",
     "text": [
      "[ WARN:0@1067.320] global loadsave.cpp:241 findDecoder imread_('/Users/mariarisques/TAED2_YOLOs/data/processed/masks_post/val/000648.png'): can't open/read file: check file path/integrity\n"
     ]
    },
    {
     "name": "stdout",
     "output_type": "stream",
     "text": [
      "Mask correctly processed and saved for the following file: 000648.jpg\n",
      "\n",
      "image 1/1 /Users/mariarisques/TAED2_YOLOs/data/processed/images/val/001542.jpg: 448x640 1 person, 504.4ms\n",
      "Speed: 1.5ms preprocess, 504.4ms inference, 0.9ms postprocess per image at shape (1, 3, 448, 640)\n"
     ]
    },
    {
     "name": "stderr",
     "output_type": "stream",
     "text": [
      "[ WARN:0@1068.344] global loadsave.cpp:241 findDecoder imread_('/Users/mariarisques/TAED2_YOLOs/data/processed/masks_post/val/001542.png'): can't open/read file: check file path/integrity\n"
     ]
    },
    {
     "name": "stdout",
     "output_type": "stream",
     "text": [
      "Mask correctly processed and saved for the following file: 001542.jpg\n",
      "\n",
      "image 1/1 /Users/mariarisques/TAED2_YOLOs/data/processed/images/val/003379.jpg: 448x640 1 person, 508.0ms\n",
      "Speed: 1.4ms preprocess, 508.0ms inference, 0.9ms postprocess per image at shape (1, 3, 448, 640)\n"
     ]
    },
    {
     "name": "stderr",
     "output_type": "stream",
     "text": [
      "[ WARN:0@1069.319] global loadsave.cpp:241 findDecoder imread_('/Users/mariarisques/TAED2_YOLOs/data/processed/masks_post/val/003379.png'): can't open/read file: check file path/integrity\n"
     ]
    },
    {
     "name": "stdout",
     "output_type": "stream",
     "text": [
      "Mask correctly processed and saved for the following file: 003379.jpg\n",
      "\n",
      "image 1/1 /Users/mariarisques/TAED2_YOLOs/data/processed/images/val/000894.jpg: 448x640 1 person, 527.2ms\n",
      "Speed: 1.3ms preprocess, 527.2ms inference, 0.9ms postprocess per image at shape (1, 3, 448, 640)\n"
     ]
    },
    {
     "name": "stderr",
     "output_type": "stream",
     "text": [
      "[ WARN:0@1070.307] global loadsave.cpp:241 findDecoder imread_('/Users/mariarisques/TAED2_YOLOs/data/processed/masks_post/val/000894.png'): can't open/read file: check file path/integrity\n"
     ]
    },
    {
     "name": "stdout",
     "output_type": "stream",
     "text": [
      "Mask correctly processed and saved for the following file: 000894.jpg\n",
      "\n",
      "image 1/1 /Users/mariarisques/TAED2_YOLOs/data/processed/images/val/000843.jpg: 512x640 1 person, 575.4ms\n",
      "Speed: 1.4ms preprocess, 575.4ms inference, 0.9ms postprocess per image at shape (1, 3, 512, 640)\n"
     ]
    },
    {
     "name": "stderr",
     "output_type": "stream",
     "text": [
      "[ WARN:0@1071.360] global loadsave.cpp:241 findDecoder imread_('/Users/mariarisques/TAED2_YOLOs/data/processed/masks_post/val/000843.png'): can't open/read file: check file path/integrity\n"
     ]
    },
    {
     "name": "stdout",
     "output_type": "stream",
     "text": [
      "Mask correctly processed and saved for the following file: 000843.jpg\n",
      "\n",
      "image 1/1 /Users/mariarisques/TAED2_YOLOs/data/processed/images/val/005091.jpg: 448x640 1 person, 511.4ms\n",
      "Speed: 1.2ms preprocess, 511.4ms inference, 0.8ms postprocess per image at shape (1, 3, 448, 640)\n"
     ]
    },
    {
     "name": "stderr",
     "output_type": "stream",
     "text": [
      "[ WARN:0@1072.392] global loadsave.cpp:241 findDecoder imread_('/Users/mariarisques/TAED2_YOLOs/data/processed/masks_post/val/005091.png'): can't open/read file: check file path/integrity\n"
     ]
    },
    {
     "name": "stdout",
     "output_type": "stream",
     "text": [
      "Mask correctly processed and saved for the following file: 005091.jpg\n",
      "\n",
      "image 1/1 /Users/mariarisques/TAED2_YOLOs/data/processed/images/val/000857.jpg: 608x640 1 person, 821.6ms\n",
      "Speed: 1.6ms preprocess, 821.6ms inference, 1.4ms postprocess per image at shape (1, 3, 608, 640)\n"
     ]
    },
    {
     "name": "stderr",
     "output_type": "stream",
     "text": [
      "[ WARN:0@1073.689] global loadsave.cpp:241 findDecoder imread_('/Users/mariarisques/TAED2_YOLOs/data/processed/masks_post/val/000857.png'): can't open/read file: check file path/integrity\n"
     ]
    },
    {
     "name": "stdout",
     "output_type": "stream",
     "text": [
      "Mask correctly processed and saved for the following file: 000857.jpg\n",
      "\n",
      "image 1/1 /Users/mariarisques/TAED2_YOLOs/data/processed/images/val/002265.jpg: 640x448 1 person, 492.8ms\n",
      "Speed: 1.2ms preprocess, 492.8ms inference, 0.8ms postprocess per image at shape (1, 3, 640, 448)\n"
     ]
    },
    {
     "name": "stderr",
     "output_type": "stream",
     "text": [
      "[ WARN:0@1074.853] global loadsave.cpp:241 findDecoder imread_('/Users/mariarisques/TAED2_YOLOs/data/processed/masks_post/val/002265.png'): can't open/read file: check file path/integrity\n"
     ]
    },
    {
     "name": "stdout",
     "output_type": "stream",
     "text": [
      "Mask correctly processed and saved for the following file: 002265.jpg\n",
      "\n",
      "image 1/1 /Users/mariarisques/TAED2_YOLOs/data/processed/images/val/005244.jpg: 448x640 1 person, 506.7ms\n",
      "Speed: 1.2ms preprocess, 506.7ms inference, 1.0ms postprocess per image at shape (1, 3, 448, 640)\n"
     ]
    },
    {
     "name": "stderr",
     "output_type": "stream",
     "text": [
      "[ WARN:0@1075.840] global loadsave.cpp:241 findDecoder imread_('/Users/mariarisques/TAED2_YOLOs/data/processed/masks_post/val/005244.png'): can't open/read file: check file path/integrity\n"
     ]
    },
    {
     "name": "stdout",
     "output_type": "stream",
     "text": [
      "Mask correctly processed and saved for the following file: 005244.jpg\n",
      "\n",
      "image 1/1 /Users/mariarisques/TAED2_YOLOs/data/processed/images/val/001750.jpg: 640x448 1 person, 514.7ms\n",
      "Speed: 1.3ms preprocess, 514.7ms inference, 0.8ms postprocess per image at shape (1, 3, 640, 448)\n"
     ]
    },
    {
     "name": "stderr",
     "output_type": "stream",
     "text": [
      "[ WARN:0@1076.837] global loadsave.cpp:241 findDecoder imread_('/Users/mariarisques/TAED2_YOLOs/data/processed/masks_post/val/001750.png'): can't open/read file: check file path/integrity\n"
     ]
    },
    {
     "name": "stdout",
     "output_type": "stream",
     "text": [
      "Mask correctly processed and saved for the following file: 001750.jpg\n",
      "\n",
      "image 1/1 /Users/mariarisques/TAED2_YOLOs/data/processed/images/val/001036.jpg: 448x640 2 persons, 503.8ms\n",
      "Speed: 1.2ms preprocess, 503.8ms inference, 1.1ms postprocess per image at shape (1, 3, 448, 640)\n"
     ]
    },
    {
     "name": "stderr",
     "output_type": "stream",
     "text": [
      "[ WARN:0@1077.822] global loadsave.cpp:241 findDecoder imread_('/Users/mariarisques/TAED2_YOLOs/data/processed/masks_post/val/001036.png'): can't open/read file: check file path/integrity\n"
     ]
    },
    {
     "name": "stdout",
     "output_type": "stream",
     "text": [
      "Mask correctly processed and saved for the following file: 001036.jpg\n",
      "\n",
      "image 1/1 /Users/mariarisques/TAED2_YOLOs/data/processed/images/val/005287.jpg: 640x544 1 person, 739.4ms\n",
      "Speed: 1.6ms preprocess, 739.4ms inference, 0.9ms postprocess per image at shape (1, 3, 640, 544)\n"
     ]
    },
    {
     "name": "stderr",
     "output_type": "stream",
     "text": [
      "[ WARN:0@1079.051] global loadsave.cpp:241 findDecoder imread_('/Users/mariarisques/TAED2_YOLOs/data/processed/masks_post/val/005287.png'): can't open/read file: check file path/integrity\n"
     ]
    },
    {
     "name": "stdout",
     "output_type": "stream",
     "text": [
      "Mask correctly processed and saved for the following file: 005287.jpg\n",
      "\n",
      "image 1/1 /Users/mariarisques/TAED2_YOLOs/data/processed/images/val/000499.jpg: 448x640 (no detections), 500.1ms\n",
      "Speed: 1.2ms preprocess, 500.1ms inference, 0.3ms postprocess per image at shape (1, 3, 448, 640)\n",
      "Mask correctly processed and saved for the following file: 000499.jpg\n",
      "\n",
      "image 1/1 /Users/mariarisques/TAED2_YOLOs/data/processed/images/val/004833.jpg: 480x640 1 person, 664.8ms\n",
      "Speed: 1.2ms preprocess, 664.8ms inference, 1.3ms postprocess per image at shape (1, 3, 480, 640)\n"
     ]
    },
    {
     "name": "stderr",
     "output_type": "stream",
     "text": [
      "[ WARN:0@1080.811] global loadsave.cpp:241 findDecoder imread_('/Users/mariarisques/TAED2_YOLOs/data/processed/masks_post/val/004833.png'): can't open/read file: check file path/integrity\n"
     ]
    },
    {
     "name": "stdout",
     "output_type": "stream",
     "text": [
      "Mask correctly processed and saved for the following file: 004833.jpg\n",
      "\n",
      "image 1/1 /Users/mariarisques/TAED2_YOLOs/data/processed/images/val/002463.jpg: 448x640 1 person, 506.1ms\n",
      "Speed: 1.4ms preprocess, 506.1ms inference, 0.8ms postprocess per image at shape (1, 3, 448, 640)\n"
     ]
    },
    {
     "name": "stderr",
     "output_type": "stream",
     "text": [
      "[ WARN:0@1081.830] global loadsave.cpp:241 findDecoder imread_('/Users/mariarisques/TAED2_YOLOs/data/processed/masks_post/val/002463.png'): can't open/read file: check file path/integrity\n"
     ]
    },
    {
     "name": "stdout",
     "output_type": "stream",
     "text": [
      "Mask correctly processed and saved for the following file: 002463.jpg\n",
      "\n",
      "image 1/1 /Users/mariarisques/TAED2_YOLOs/data/processed/images/val/000512.jpg: 352x640 1 person, 544.3ms\n",
      "Speed: 1.0ms preprocess, 544.3ms inference, 0.8ms postprocess per image at shape (1, 3, 352, 640)\n"
     ]
    },
    {
     "name": "stderr",
     "output_type": "stream",
     "text": [
      "[ WARN:0@1082.861] global loadsave.cpp:241 findDecoder imread_('/Users/mariarisques/TAED2_YOLOs/data/processed/masks_post/val/000512.png'): can't open/read file: check file path/integrity\n"
     ]
    },
    {
     "name": "stdout",
     "output_type": "stream",
     "text": [
      "Mask correctly processed and saved for the following file: 000512.jpg\n",
      "\n",
      "image 1/1 /Users/mariarisques/TAED2_YOLOs/data/processed/images/val/004774.jpg: 640x448 1 person, 503.7ms\n",
      "Speed: 1.4ms preprocess, 503.7ms inference, 0.8ms postprocess per image at shape (1, 3, 640, 448)\n"
     ]
    },
    {
     "name": "stderr",
     "output_type": "stream",
     "text": [
      "[ WARN:0@1083.728] global loadsave.cpp:241 findDecoder imread_('/Users/mariarisques/TAED2_YOLOs/data/processed/masks_post/val/004774.png'): can't open/read file: check file path/integrity\n"
     ]
    },
    {
     "name": "stdout",
     "output_type": "stream",
     "text": [
      "Mask correctly processed and saved for the following file: 004774.jpg\n",
      "\n",
      "image 1/1 /Users/mariarisques/TAED2_YOLOs/data/processed/images/val/002477.jpg: 640x416 1 person, 610.8ms\n",
      "Speed: 1.1ms preprocess, 610.8ms inference, 0.8ms postprocess per image at shape (1, 3, 640, 416)\n"
     ]
    },
    {
     "name": "stderr",
     "output_type": "stream",
     "text": [
      "[ WARN:0@1084.828] global loadsave.cpp:241 findDecoder imread_('/Users/mariarisques/TAED2_YOLOs/data/processed/masks_post/val/002477.png'): can't open/read file: check file path/integrity\n"
     ]
    },
    {
     "name": "stdout",
     "output_type": "stream",
     "text": [
      "Mask correctly processed and saved for the following file: 002477.jpg\n",
      "\n",
      "image 1/1 /Users/mariarisques/TAED2_YOLOs/data/processed/images/val/001803.jpg: 448x640 1 person, 500.8ms\n",
      "Speed: 1.4ms preprocess, 500.8ms inference, 0.9ms postprocess per image at shape (1, 3, 448, 640)\n"
     ]
    },
    {
     "name": "stderr",
     "output_type": "stream",
     "text": [
      "[ WARN:0@1085.777] global loadsave.cpp:241 findDecoder imread_('/Users/mariarisques/TAED2_YOLOs/data/processed/masks_post/val/001803.png'): can't open/read file: check file path/integrity\n"
     ]
    },
    {
     "name": "stdout",
     "output_type": "stream",
     "text": [
      "Mask correctly processed and saved for the following file: 001803.jpg\n",
      "\n",
      "image 1/1 /Users/mariarisques/TAED2_YOLOs/data/processed/images/val/002661.jpg: 640x448 1 person, 497.8ms\n",
      "Speed: 1.2ms preprocess, 497.8ms inference, 0.9ms postprocess per image at shape (1, 3, 640, 448)\n"
     ]
    },
    {
     "name": "stderr",
     "output_type": "stream",
     "text": [
      "[ WARN:0@1086.738] global loadsave.cpp:241 findDecoder imread_('/Users/mariarisques/TAED2_YOLOs/data/processed/masks_post/val/002661.png'): can't open/read file: check file path/integrity\n"
     ]
    },
    {
     "name": "stdout",
     "output_type": "stream",
     "text": [
      "Mask correctly processed and saved for the following file: 002661.jpg\n",
      "\n",
      "image 1/1 /Users/mariarisques/TAED2_YOLOs/data/processed/images/val/002675.jpg: 640x448 1 person, 512.5ms\n",
      "Speed: 1.3ms preprocess, 512.5ms inference, 0.9ms postprocess per image at shape (1, 3, 640, 448)\n"
     ]
    },
    {
     "name": "stderr",
     "output_type": "stream",
     "text": [
      "[ WARN:0@1087.728] global loadsave.cpp:241 findDecoder imread_('/Users/mariarisques/TAED2_YOLOs/data/processed/masks_post/val/002675.png'): can't open/read file: check file path/integrity\n"
     ]
    },
    {
     "name": "stdout",
     "output_type": "stream",
     "text": [
      "Mask correctly processed and saved for the following file: 002675.jpg\n",
      "\n",
      "image 1/1 /Users/mariarisques/TAED2_YOLOs/data/processed/images/val/001432.jpg: 640x448 1 person, 506.7ms\n",
      "Speed: 1.2ms preprocess, 506.7ms inference, 0.9ms postprocess per image at shape (1, 3, 640, 448)\n"
     ]
    },
    {
     "name": "stderr",
     "output_type": "stream",
     "text": [
      "[ WARN:0@1088.729] global loadsave.cpp:241 findDecoder imread_('/Users/mariarisques/TAED2_YOLOs/data/processed/masks_post/val/001432.png'): can't open/read file: check file path/integrity\n"
     ]
    },
    {
     "name": "stdout",
     "output_type": "stream",
     "text": [
      "Mask correctly processed and saved for the following file: 001432.jpg\n",
      "\n",
      "image 1/1 /Users/mariarisques/TAED2_YOLOs/data/processed/images/val/005126.jpg: 640x448 1 person, 518.2ms\n",
      "Speed: 1.3ms preprocess, 518.2ms inference, 0.9ms postprocess per image at shape (1, 3, 640, 448)\n"
     ]
    },
    {
     "name": "stderr",
     "output_type": "stream",
     "text": [
      "[ WARN:0@1089.759] global loadsave.cpp:241 findDecoder imread_('/Users/mariarisques/TAED2_YOLOs/data/processed/masks_post/val/005126.png'): can't open/read file: check file path/integrity\n"
     ]
    },
    {
     "name": "stdout",
     "output_type": "stream",
     "text": [
      "Mask correctly processed and saved for the following file: 005126.jpg\n",
      "\n",
      "image 1/1 /Users/mariarisques/TAED2_YOLOs/data/processed/images/val/001383.jpg: 448x640 1 person, 499.6ms\n",
      "Speed: 1.2ms preprocess, 499.6ms inference, 0.9ms postprocess per image at shape (1, 3, 448, 640)\n"
     ]
    },
    {
     "name": "stderr",
     "output_type": "stream",
     "text": [
      "[ WARN:0@1090.735] global loadsave.cpp:241 findDecoder imread_('/Users/mariarisques/TAED2_YOLOs/data/processed/masks_post/val/001383.png'): can't open/read file: check file path/integrity\n"
     ]
    },
    {
     "name": "stdout",
     "output_type": "stream",
     "text": [
      "Mask correctly processed and saved for the following file: 001383.jpg\n",
      "\n",
      "image 1/1 /Users/mariarisques/TAED2_YOLOs/data/processed/images/val/001341.jpg: 448x640 1 person, 497.1ms\n",
      "Speed: 1.2ms preprocess, 497.1ms inference, 1.1ms postprocess per image at shape (1, 3, 448, 640)\n"
     ]
    },
    {
     "name": "stderr",
     "output_type": "stream",
     "text": [
      "[ WARN:0@1091.712] global loadsave.cpp:241 findDecoder imread_('/Users/mariarisques/TAED2_YOLOs/data/processed/masks_post/val/001341.png'): can't open/read file: check file path/integrity\n"
     ]
    },
    {
     "name": "stdout",
     "output_type": "stream",
     "text": [
      "Mask correctly processed and saved for the following file: 001341.jpg\n",
      "\n",
      "image 1/1 /Users/mariarisques/TAED2_YOLOs/data/processed/images/val/003224.jpg: 640x448 1 person, 497.9ms\n",
      "Speed: 1.4ms preprocess, 497.9ms inference, 0.9ms postprocess per image at shape (1, 3, 640, 448)\n"
     ]
    },
    {
     "name": "stderr",
     "output_type": "stream",
     "text": [
      "[ WARN:0@1092.680] global loadsave.cpp:241 findDecoder imread_('/Users/mariarisques/TAED2_YOLOs/data/processed/masks_post/val/003224.png'): can't open/read file: check file path/integrity\n"
     ]
    },
    {
     "name": "stdout",
     "output_type": "stream",
     "text": [
      "Mask correctly processed and saved for the following file: 003224.jpg\n",
      "\n",
      "image 1/1 /Users/mariarisques/TAED2_YOLOs/data/processed/images/val/000705.jpg: 448x640 1 person, 501.2ms\n",
      "Speed: 1.2ms preprocess, 501.2ms inference, 0.8ms postprocess per image at shape (1, 3, 448, 640)\n"
     ]
    },
    {
     "name": "stderr",
     "output_type": "stream",
     "text": [
      "[ WARN:0@1093.659] global loadsave.cpp:241 findDecoder imread_('/Users/mariarisques/TAED2_YOLOs/data/processed/masks_post/val/000705.png'): can't open/read file: check file path/integrity\n"
     ]
    },
    {
     "name": "stdout",
     "output_type": "stream",
     "text": [
      "Mask correctly processed and saved for the following file: 000705.jpg\n",
      "\n",
      "image 1/1 /Users/mariarisques/TAED2_YOLOs/data/processed/images/val/000711.jpg: 640x640 1 person, 827.0ms\n",
      "Speed: 1.6ms preprocess, 827.0ms inference, 1.6ms postprocess per image at shape (1, 3, 640, 640)\n"
     ]
    },
    {
     "name": "stderr",
     "output_type": "stream",
     "text": [
      "[ WARN:0@1094.970] global loadsave.cpp:241 findDecoder imread_('/Users/mariarisques/TAED2_YOLOs/data/processed/masks_post/val/000711.png'): can't open/read file: check file path/integrity\n"
     ]
    },
    {
     "name": "stdout",
     "output_type": "stream",
     "text": [
      "Mask correctly processed and saved for the following file: 000711.jpg\n",
      "\n",
      "image 1/1 /Users/mariarisques/TAED2_YOLOs/data/processed/images/val/004952.jpg: 640x448 1 person, 495.5ms\n",
      "Speed: 1.2ms preprocess, 495.5ms inference, 0.8ms postprocess per image at shape (1, 3, 640, 448)\n"
     ]
    },
    {
     "name": "stderr",
     "output_type": "stream",
     "text": [
      "[ WARN:0@1096.144] global loadsave.cpp:241 findDecoder imread_('/Users/mariarisques/TAED2_YOLOs/data/processed/masks_post/val/004952.png'): can't open/read file: check file path/integrity\n"
     ]
    },
    {
     "name": "stdout",
     "output_type": "stream",
     "text": [
      "Mask correctly processed and saved for the following file: 004952.jpg\n",
      "\n",
      "image 1/1 /Users/mariarisques/TAED2_YOLOs/data/processed/images/val/003967.jpg: 352x640 1 person, 410.2ms\n",
      "Speed: 1.0ms preprocess, 410.2ms inference, 0.8ms postprocess per image at shape (1, 3, 352, 640)\n"
     ]
    },
    {
     "name": "stderr",
     "output_type": "stream",
     "text": [
      "[ WARN:0@1097.031] global loadsave.cpp:241 findDecoder imread_('/Users/mariarisques/TAED2_YOLOs/data/processed/masks_post/val/003967.png'): can't open/read file: check file path/integrity\n"
     ]
    },
    {
     "name": "stdout",
     "output_type": "stream",
     "text": [
      "Mask correctly processed and saved for the following file: 003967.jpg\n",
      "\n",
      "image 1/1 /Users/mariarisques/TAED2_YOLOs/data/processed/images/val/004985.jpg: 448x640 1 person, 538.8ms\n",
      "Speed: 1.2ms preprocess, 538.8ms inference, 1.5ms postprocess per image at shape (1, 3, 448, 640)\n"
     ]
    },
    {
     "name": "stderr",
     "output_type": "stream",
     "text": [
      "[ WARN:0@1097.932] global loadsave.cpp:241 findDecoder imread_('/Users/mariarisques/TAED2_YOLOs/data/processed/masks_post/val/004985.png'): can't open/read file: check file path/integrity\n"
     ]
    },
    {
     "name": "stdout",
     "output_type": "stream",
     "text": [
      "Mask correctly processed and saved for the following file: 004985.jpg\n",
      "\n",
      "image 1/1 /Users/mariarisques/TAED2_YOLOs/data/processed/images/val/003998.jpg: 448x640 1 person, 503.5ms\n",
      "Speed: 1.4ms preprocess, 503.5ms inference, 0.8ms postprocess per image at shape (1, 3, 448, 640)\n"
     ]
    },
    {
     "name": "stderr",
     "output_type": "stream",
     "text": [
      "[ WARN:0@1098.902] global loadsave.cpp:241 findDecoder imread_('/Users/mariarisques/TAED2_YOLOs/data/processed/masks_post/val/003998.png'): can't open/read file: check file path/integrity\n"
     ]
    },
    {
     "name": "stdout",
     "output_type": "stream",
     "text": [
      "Mask correctly processed and saved for the following file: 003998.jpg\n",
      "\n",
      "image 1/1 /Users/mariarisques/TAED2_YOLOs/data/processed/images/val/004007.jpg: 640x640 1 person, 698.0ms\n",
      "Speed: 1.8ms preprocess, 698.0ms inference, 1.4ms postprocess per image at shape (1, 3, 640, 640)\n"
     ]
    },
    {
     "name": "stderr",
     "output_type": "stream",
     "text": [
      "[ WARN:0@1100.069] global loadsave.cpp:241 findDecoder imread_('/Users/mariarisques/TAED2_YOLOs/data/processed/masks_post/val/004007.png'): can't open/read file: check file path/integrity\n"
     ]
    },
    {
     "name": "stdout",
     "output_type": "stream",
     "text": [
      "Mask correctly processed and saved for the following file: 004007.jpg\n",
      "\n",
      "image 1/1 /Users/mariarisques/TAED2_YOLOs/data/processed/images/val/004775.jpg: 448x640 1 person, 492.1ms\n",
      "Speed: 1.2ms preprocess, 492.1ms inference, 1.1ms postprocess per image at shape (1, 3, 448, 640)\n"
     ]
    },
    {
     "name": "stderr",
     "output_type": "stream",
     "text": [
      "[ WARN:0@1101.273] global loadsave.cpp:241 findDecoder imread_('/Users/mariarisques/TAED2_YOLOs/data/processed/masks_post/val/004775.png'): can't open/read file: check file path/integrity\n"
     ]
    },
    {
     "name": "stdout",
     "output_type": "stream",
     "text": [
      "Mask correctly processed and saved for the following file: 004775.jpg\n",
      "\n",
      "image 1/1 /Users/mariarisques/TAED2_YOLOs/data/processed/images/val/005286.jpg: 512x640 1 person, 699.4ms\n",
      "Speed: 1.4ms preprocess, 699.4ms inference, 1.3ms postprocess per image at shape (1, 3, 512, 640)\n"
     ]
    },
    {
     "name": "stderr",
     "output_type": "stream",
     "text": [
      "[ WARN:0@1102.437] global loadsave.cpp:241 findDecoder imread_('/Users/mariarisques/TAED2_YOLOs/data/processed/masks_post/val/005286.png'): can't open/read file: check file path/integrity\n"
     ]
    },
    {
     "name": "stdout",
     "output_type": "stream",
     "text": [
      "Mask correctly processed and saved for the following file: 005286.jpg\n",
      "\n",
      "image 1/1 /Users/mariarisques/TAED2_YOLOs/data/processed/images/val/004629.jpg: 448x640 1 person, 542.0ms\n",
      "Speed: 1.2ms preprocess, 542.0ms inference, 0.9ms postprocess per image at shape (1, 3, 448, 640)\n"
     ]
    },
    {
     "name": "stderr",
     "output_type": "stream",
     "text": [
      "[ WARN:0@1103.520] global loadsave.cpp:241 findDecoder imread_('/Users/mariarisques/TAED2_YOLOs/data/processed/masks_post/val/004629.png'): can't open/read file: check file path/integrity\n"
     ]
    },
    {
     "name": "stdout",
     "output_type": "stream",
     "text": [
      "Mask correctly processed and saved for the following file: 004629.jpg\n",
      "\n",
      "image 1/1 /Users/mariarisques/TAED2_YOLOs/data/processed/images/val/001751.jpg: 384x640 1 person, 562.1ms\n",
      "Speed: 1.1ms preprocess, 562.1ms inference, 1.3ms postprocess per image at shape (1, 3, 384, 640)\n"
     ]
    },
    {
     "name": "stderr",
     "output_type": "stream",
     "text": [
      "[ WARN:0@1104.545] global loadsave.cpp:241 findDecoder imread_('/Users/mariarisques/TAED2_YOLOs/data/processed/masks_post/val/001751.png'): can't open/read file: check file path/integrity\n"
     ]
    },
    {
     "name": "stdout",
     "output_type": "stream",
     "text": [
      "Mask correctly processed and saved for the following file: 001751.jpg\n",
      "\n",
      "image 1/1 /Users/mariarisques/TAED2_YOLOs/data/processed/images/val/004615.jpg: 640x448 1 person, 507.4ms\n",
      "Speed: 1.2ms preprocess, 507.4ms inference, 1.3ms postprocess per image at shape (1, 3, 640, 448)\n"
     ]
    },
    {
     "name": "stderr",
     "output_type": "stream",
     "text": [
      "[ WARN:0@1105.480] global loadsave.cpp:241 findDecoder imread_('/Users/mariarisques/TAED2_YOLOs/data/processed/masks_post/val/004615.png'): can't open/read file: check file path/integrity\n"
     ]
    },
    {
     "name": "stdout",
     "output_type": "stream",
     "text": [
      "Mask correctly processed and saved for the following file: 004615.jpg\n",
      "\n",
      "image 1/1 /Users/mariarisques/TAED2_YOLOs/data/processed/images/val/002927.jpg: 640x480 1 person, 673.2ms\n",
      "Speed: 1.5ms preprocess, 673.2ms inference, 1.4ms postprocess per image at shape (1, 3, 640, 480)\n"
     ]
    },
    {
     "name": "stderr",
     "output_type": "stream",
     "text": [
      "[ WARN:0@1106.628] global loadsave.cpp:241 findDecoder imread_('/Users/mariarisques/TAED2_YOLOs/data/processed/masks_post/val/002927.png'): can't open/read file: check file path/integrity\n"
     ]
    },
    {
     "name": "stdout",
     "output_type": "stream",
     "text": [
      "Mask correctly processed and saved for the following file: 002927.jpg\n",
      "\n",
      "image 1/1 /Users/mariarisques/TAED2_YOLOs/data/processed/images/val/003422.jpg: 448x640 1 person, 509.2ms\n",
      "Speed: 1.3ms preprocess, 509.2ms inference, 1.1ms postprocess per image at shape (1, 3, 448, 640)\n"
     ]
    },
    {
     "name": "stderr",
     "output_type": "stream",
     "text": [
      "[ WARN:0@1107.660] global loadsave.cpp:241 findDecoder imread_('/Users/mariarisques/TAED2_YOLOs/data/processed/masks_post/val/003422.png'): can't open/read file: check file path/integrity\n"
     ]
    },
    {
     "name": "stdout",
     "output_type": "stream",
     "text": [
      "Mask correctly processed and saved for the following file: 003422.jpg\n",
      "\n",
      "image 1/1 /Users/mariarisques/TAED2_YOLOs/data/processed/images/val/001235.jpg: 640x448 1 person, 523.0ms\n",
      "Speed: 1.2ms preprocess, 523.0ms inference, 1.1ms postprocess per image at shape (1, 3, 640, 448)\n"
     ]
    },
    {
     "name": "stderr",
     "output_type": "stream",
     "text": [
      "[ WARN:0@1108.661] global loadsave.cpp:241 findDecoder imread_('/Users/mariarisques/TAED2_YOLOs/data/processed/masks_post/val/001235.png'): can't open/read file: check file path/integrity\n"
     ]
    },
    {
     "name": "stdout",
     "output_type": "stream",
     "text": [
      "Mask correctly processed and saved for the following file: 001235.jpg\n",
      "\n",
      "image 1/1 /Users/mariarisques/TAED2_YOLOs/data/processed/images/val/003350.jpg: 640x448 1 person, 493.8ms\n",
      "Speed: 1.2ms preprocess, 493.8ms inference, 1.1ms postprocess per image at shape (1, 3, 640, 448)\n"
     ]
    },
    {
     "name": "stderr",
     "output_type": "stream",
     "text": [
      "[ WARN:0@1109.633] global loadsave.cpp:241 findDecoder imread_('/Users/mariarisques/TAED2_YOLOs/data/processed/masks_post/val/003350.png'): can't open/read file: check file path/integrity\n"
     ]
    },
    {
     "name": "stdout",
     "output_type": "stream",
     "text": [
      "Mask correctly processed and saved for the following file: 003350.jpg\n",
      "\n",
      "image 1/1 /Users/mariarisques/TAED2_YOLOs/data/processed/images/val/005047.jpg: 448x640 1 person, 510.8ms\n",
      "Speed: 1.2ms preprocess, 510.8ms inference, 1.1ms postprocess per image at shape (1, 3, 448, 640)\n"
     ]
    },
    {
     "name": "stderr",
     "output_type": "stream",
     "text": [
      "[ WARN:0@1110.615] global loadsave.cpp:241 findDecoder imread_('/Users/mariarisques/TAED2_YOLOs/data/processed/masks_post/val/005047.png'): can't open/read file: check file path/integrity\n"
     ]
    },
    {
     "name": "stdout",
     "output_type": "stream",
     "text": [
      "Mask correctly processed and saved for the following file: 005047.jpg\n",
      "\n",
      "image 1/1 /Users/mariarisques/TAED2_YOLOs/data/processed/images/val/004417.jpg: 448x640 1 person, 509.3ms\n",
      "Speed: 1.4ms preprocess, 509.3ms inference, 1.4ms postprocess per image at shape (1, 3, 448, 640)\n"
     ]
    },
    {
     "name": "stderr",
     "output_type": "stream",
     "text": [
      "[ WARN:0@1111.597] global loadsave.cpp:241 findDecoder imread_('/Users/mariarisques/TAED2_YOLOs/data/processed/masks_post/val/004417.png'): can't open/read file: check file path/integrity\n"
     ]
    },
    {
     "name": "stdout",
     "output_type": "stream",
     "text": [
      "Mask correctly processed and saved for the following file: 004417.jpg\n",
      "\n",
      "image 1/1 /Users/mariarisques/TAED2_YOLOs/data/processed/images/val/002072.jpg: 448x640 1 person, 501.2ms\n",
      "Speed: 1.2ms preprocess, 501.2ms inference, 0.9ms postprocess per image at shape (1, 3, 448, 640)\n"
     ]
    },
    {
     "name": "stderr",
     "output_type": "stream",
     "text": [
      "[ WARN:0@1112.592] global loadsave.cpp:241 findDecoder imread_('/Users/mariarisques/TAED2_YOLOs/data/processed/masks_post/val/002072.png'): can't open/read file: check file path/integrity\n"
     ]
    },
    {
     "name": "stdout",
     "output_type": "stream",
     "text": [
      "Mask correctly processed and saved for the following file: 002072.jpg\n",
      "\n",
      "image 1/1 /Users/mariarisques/TAED2_YOLOs/data/processed/images/val/003408.jpg: 448x640 1 person, 497.2ms\n",
      "Speed: 1.2ms preprocess, 497.2ms inference, 0.9ms postprocess per image at shape (1, 3, 448, 640)\n"
     ]
    },
    {
     "name": "stderr",
     "output_type": "stream",
     "text": [
      "[ WARN:0@1113.583] global loadsave.cpp:241 findDecoder imread_('/Users/mariarisques/TAED2_YOLOs/data/processed/masks_post/val/003408.png'): can't open/read file: check file path/integrity\n"
     ]
    },
    {
     "name": "stdout",
     "output_type": "stream",
     "text": [
      "Mask correctly processed and saved for the following file: 003408.jpg\n",
      "\n",
      "image 1/1 /Users/mariarisques/TAED2_YOLOs/data/processed/images/val/001579.jpg: 448x640 1 person, 501.9ms\n",
      "Speed: 1.4ms preprocess, 501.9ms inference, 0.9ms postprocess per image at shape (1, 3, 448, 640)\n"
     ]
    },
    {
     "name": "stderr",
     "output_type": "stream",
     "text": [
      "[ WARN:0@1114.558] global loadsave.cpp:241 findDecoder imread_('/Users/mariarisques/TAED2_YOLOs/data/processed/masks_post/val/001579.png'): can't open/read file: check file path/integrity\n"
     ]
    },
    {
     "name": "stdout",
     "output_type": "stream",
     "text": [
      "Mask correctly processed and saved for the following file: 001579.jpg\n",
      "\n",
      "image 1/1 /Users/mariarisques/TAED2_YOLOs/data/processed/images/val/005051.jpg: 448x640 1 person, 495.2ms\n",
      "Speed: 1.3ms preprocess, 495.2ms inference, 1.0ms postprocess per image at shape (1, 3, 448, 640)\n"
     ]
    },
    {
     "name": "stderr",
     "output_type": "stream",
     "text": [
      "[ WARN:0@1115.516] global loadsave.cpp:241 findDecoder imread_('/Users/mariarisques/TAED2_YOLOs/data/processed/masks_post/val/005051.png'): can't open/read file: check file path/integrity\n"
     ]
    },
    {
     "name": "stdout",
     "output_type": "stream",
     "text": [
      "Mask correctly processed and saved for the following file: 005051.jpg\n",
      "\n",
      "image 1/1 /Users/mariarisques/TAED2_YOLOs/data/processed/images/val/003434.jpg: 640x448 1 person, 499.9ms\n",
      "Speed: 1.2ms preprocess, 499.9ms inference, 1.3ms postprocess per image at shape (1, 3, 640, 448)\n"
     ]
    },
    {
     "name": "stderr",
     "output_type": "stream",
     "text": [
      "[ WARN:0@1116.484] global loadsave.cpp:241 findDecoder imread_('/Users/mariarisques/TAED2_YOLOs/data/processed/masks_post/val/003434.png'): can't open/read file: check file path/integrity\n"
     ]
    },
    {
     "name": "stdout",
     "output_type": "stream",
     "text": [
      "Mask correctly processed and saved for the following file: 003434.jpg\n",
      "\n",
      "image 1/1 /Users/mariarisques/TAED2_YOLOs/data/processed/images/val/002919.jpg: 640x512 1 person, 736.8ms\n",
      "Speed: 1.3ms preprocess, 736.8ms inference, 1.2ms postprocess per image at shape (1, 3, 640, 512)\n"
     ]
    },
    {
     "name": "stderr",
     "output_type": "stream",
     "text": [
      "[ WARN:0@1117.710] global loadsave.cpp:241 findDecoder imread_('/Users/mariarisques/TAED2_YOLOs/data/processed/masks_post/val/002919.png'): can't open/read file: check file path/integrity\n"
     ]
    },
    {
     "name": "stdout",
     "output_type": "stream",
     "text": [
      "Mask correctly processed and saved for the following file: 002919.jpg\n",
      "\n",
      "image 1/1 /Users/mariarisques/TAED2_YOLOs/data/processed/images/val/002500.jpg: 448x640 1 person, 492.1ms\n",
      "Speed: 1.2ms preprocess, 492.1ms inference, 0.8ms postprocess per image at shape (1, 3, 448, 640)\n"
     ]
    },
    {
     "name": "stderr",
     "output_type": "stream",
     "text": [
      "[ WARN:0@1118.738] global loadsave.cpp:241 findDecoder imread_('/Users/mariarisques/TAED2_YOLOs/data/processed/masks_post/val/002500.png'): can't open/read file: check file path/integrity\n"
     ]
    },
    {
     "name": "stdout",
     "output_type": "stream",
     "text": [
      "Mask correctly processed and saved for the following file: 002500.jpg\n",
      "\n",
      "image 1/1 /Users/mariarisques/TAED2_YOLOs/data/processed/images/val/002266.jpg: 448x640 1 person, 508.7ms\n",
      "Speed: 1.2ms preprocess, 508.7ms inference, 0.9ms postprocess per image at shape (1, 3, 448, 640)\n"
     ]
    },
    {
     "name": "stderr",
     "output_type": "stream",
     "text": [
      "[ WARN:0@1119.722] global loadsave.cpp:241 findDecoder imread_('/Users/mariarisques/TAED2_YOLOs/data/processed/masks_post/val/002266.png'): can't open/read file: check file path/integrity\n"
     ]
    },
    {
     "name": "stdout",
     "output_type": "stream",
     "text": [
      "Mask correctly processed and saved for the following file: 002266.jpg\n",
      "\n",
      "image 1/1 /Users/mariarisques/TAED2_YOLOs/data/processed/images/val/004617.jpg: 640x448 1 person, 502.2ms\n",
      "Speed: 1.3ms preprocess, 502.2ms inference, 0.8ms postprocess per image at shape (1, 3, 640, 448)\n"
     ]
    },
    {
     "name": "stderr",
     "output_type": "stream",
     "text": [
      "[ WARN:0@1120.687] global loadsave.cpp:241 findDecoder imread_('/Users/mariarisques/TAED2_YOLOs/data/processed/masks_post/val/004617.png'): can't open/read file: check file path/integrity\n"
     ]
    },
    {
     "name": "stdout",
     "output_type": "stream",
     "text": [
      "Mask correctly processed and saved for the following file: 004617.jpg\n",
      "\n",
      "image 1/1 /Users/mariarisques/TAED2_YOLOs/data/processed/images/val/001035.jpg: 448x640 1 person, 529.3ms\n",
      "Speed: 1.3ms preprocess, 529.3ms inference, 0.8ms postprocess per image at shape (1, 3, 448, 640)\n"
     ]
    },
    {
     "name": "stderr",
     "output_type": "stream",
     "text": [
      "[ WARN:0@1121.685] global loadsave.cpp:241 findDecoder imread_('/Users/mariarisques/TAED2_YOLOs/data/processed/masks_post/val/001035.png'): can't open/read file: check file path/integrity\n"
     ]
    },
    {
     "name": "stdout",
     "output_type": "stream",
     "text": [
      "Mask correctly processed and saved for the following file: 001035.jpg\n",
      "\n",
      "image 1/1 /Users/mariarisques/TAED2_YOLOs/data/processed/images/val/003636.jpg: 640x448 1 person, 494.7ms\n",
      "Speed: 1.2ms preprocess, 494.7ms inference, 1.4ms postprocess per image at shape (1, 3, 640, 448)\n"
     ]
    },
    {
     "name": "stderr",
     "output_type": "stream",
     "text": [
      "[ WARN:0@1122.668] global loadsave.cpp:241 findDecoder imread_('/Users/mariarisques/TAED2_YOLOs/data/processed/masks_post/val/003636.png'): can't open/read file: check file path/integrity\n"
     ]
    },
    {
     "name": "stdout",
     "output_type": "stream",
     "text": [
      "Mask correctly processed and saved for the following file: 003636.jpg\n",
      "\n",
      "image 1/1 /Users/mariarisques/TAED2_YOLOs/data/processed/images/val/005247.jpg: 384x640 1 person, 447.1ms\n",
      "Speed: 1.1ms preprocess, 447.1ms inference, 1.1ms postprocess per image at shape (1, 3, 384, 640)\n"
     ]
    },
    {
     "name": "stderr",
     "output_type": "stream",
     "text": [
      "[ WARN:0@1123.617] global loadsave.cpp:241 findDecoder imread_('/Users/mariarisques/TAED2_YOLOs/data/processed/masks_post/val/005247.png'): can't open/read file: check file path/integrity\n"
     ]
    },
    {
     "name": "stdout",
     "output_type": "stream",
     "text": [
      "Mask correctly processed and saved for the following file: 005247.jpg\n",
      "\n",
      "image 1/1 /Users/mariarisques/TAED2_YOLOs/data/processed/images/val/001960.jpg: 640x448 1 person, 497.9ms\n",
      "Speed: 1.2ms preprocess, 497.9ms inference, 1.1ms postprocess per image at shape (1, 3, 640, 448)\n"
     ]
    },
    {
     "name": "stderr",
     "output_type": "stream",
     "text": [
      "[ WARN:0@1124.517] global loadsave.cpp:241 findDecoder imread_('/Users/mariarisques/TAED2_YOLOs/data/processed/masks_post/val/001960.png'): can't open/read file: check file path/integrity\n"
     ]
    },
    {
     "name": "stdout",
     "output_type": "stream",
     "text": [
      "Mask correctly processed and saved for the following file: 001960.jpg\n",
      "\n",
      "image 1/1 /Users/mariarisques/TAED2_YOLOs/data/processed/images/val/005290.jpg: 640x448 1 person, 510.4ms\n",
      "Speed: 1.2ms preprocess, 510.4ms inference, 1.1ms postprocess per image at shape (1, 3, 640, 448)\n"
     ]
    },
    {
     "name": "stderr",
     "output_type": "stream",
     "text": [
      "[ WARN:0@1125.491] global loadsave.cpp:241 findDecoder imread_('/Users/mariarisques/TAED2_YOLOs/data/processed/masks_post/val/005290.png'): can't open/read file: check file path/integrity\n"
     ]
    },
    {
     "name": "stdout",
     "output_type": "stream",
     "text": [
      "Mask correctly processed and saved for the following file: 005290.jpg\n",
      "\n",
      "image 1/1 /Users/mariarisques/TAED2_YOLOs/data/processed/images/val/004830.jpg: 448x640 1 person, 504.9ms\n",
      "Speed: 1.2ms preprocess, 504.9ms inference, 0.8ms postprocess per image at shape (1, 3, 448, 640)\n"
     ]
    },
    {
     "name": "stderr",
     "output_type": "stream",
     "text": [
      "[ WARN:0@1126.482] global loadsave.cpp:241 findDecoder imread_('/Users/mariarisques/TAED2_YOLOs/data/processed/masks_post/val/004830.png'): can't open/read file: check file path/integrity\n"
     ]
    },
    {
     "name": "stdout",
     "output_type": "stream",
     "text": [
      "Mask correctly processed and saved for the following file: 004830.jpg\n",
      "\n",
      "image 1/1 /Users/mariarisques/TAED2_YOLOs/data/processed/images/val/001790.jpg: 448x640 1 person, 533.8ms\n",
      "Speed: 1.3ms preprocess, 533.8ms inference, 0.8ms postprocess per image at shape (1, 3, 448, 640)\n"
     ]
    },
    {
     "name": "stderr",
     "output_type": "stream",
     "text": [
      "[ WARN:0@1127.494] global loadsave.cpp:241 findDecoder imread_('/Users/mariarisques/TAED2_YOLOs/data/processed/masks_post/val/001790.png'): can't open/read file: check file path/integrity\n"
     ]
    },
    {
     "name": "stdout",
     "output_type": "stream",
     "text": [
      "Mask correctly processed and saved for the following file: 001790.jpg\n",
      "\n",
      "image 1/1 /Users/mariarisques/TAED2_YOLOs/data/processed/images/val/001948.jpg: 416x640 1 person, 613.8ms\n",
      "Speed: 1.3ms preprocess, 613.8ms inference, 1.0ms postprocess per image at shape (1, 3, 416, 640)\n"
     ]
    },
    {
     "name": "stderr",
     "output_type": "stream",
     "text": [
      "[ WARN:0@1128.580] global loadsave.cpp:241 findDecoder imread_('/Users/mariarisques/TAED2_YOLOs/data/processed/masks_post/val/001948.png'): can't open/read file: check file path/integrity\n"
     ]
    },
    {
     "name": "stdout",
     "output_type": "stream",
     "text": [
      "Mask correctly processed and saved for the following file: 001948.jpg\n",
      "\n",
      "image 1/1 /Users/mariarisques/TAED2_YOLOs/data/processed/images/val/004824.jpg: 448x640 1 person, 491.9ms\n",
      "Speed: 1.2ms preprocess, 491.9ms inference, 0.9ms postprocess per image at shape (1, 3, 448, 640)\n"
     ]
    },
    {
     "name": "stderr",
     "output_type": "stream",
     "text": [
      "[ WARN:0@1129.497] global loadsave.cpp:241 findDecoder imread_('/Users/mariarisques/TAED2_YOLOs/data/processed/masks_post/val/004824.png'): can't open/read file: check file path/integrity\n"
     ]
    },
    {
     "name": "stdout",
     "output_type": "stream",
     "text": [
      "Mask correctly processed and saved for the following file: 004824.jpg\n",
      "\n",
      "image 1/1 /Users/mariarisques/TAED2_YOLOs/data/processed/images/val/004763.jpg: 448x640 1 person, 511.2ms\n",
      "Speed: 1.2ms preprocess, 511.2ms inference, 1.2ms postprocess per image at shape (1, 3, 448, 640)\n"
     ]
    },
    {
     "name": "stderr",
     "output_type": "stream",
     "text": [
      "[ WARN:0@1130.479] global loadsave.cpp:241 findDecoder imread_('/Users/mariarisques/TAED2_YOLOs/data/processed/masks_post/val/004763.png'): can't open/read file: check file path/integrity\n"
     ]
    },
    {
     "name": "stdout",
     "output_type": "stream",
     "text": [
      "Mask correctly processed and saved for the following file: 004763.jpg\n",
      "\n",
      "image 1/1 /Users/mariarisques/TAED2_YOLOs/data/processed/images/val/002448.jpg: 640x448 1 person, 503.8ms\n",
      "Speed: 1.4ms preprocess, 503.8ms inference, 1.0ms postprocess per image at shape (1, 3, 640, 448)\n"
     ]
    },
    {
     "name": "stderr",
     "output_type": "stream",
     "text": [
      "[ WARN:0@1131.460] global loadsave.cpp:241 findDecoder imread_('/Users/mariarisques/TAED2_YOLOs/data/processed/masks_post/val/002448.png'): can't open/read file: check file path/integrity\n"
     ]
    },
    {
     "name": "stdout",
     "output_type": "stream",
     "text": [
      "Mask correctly processed and saved for the following file: 002448.jpg\n",
      "\n",
      "image 1/1 /Users/mariarisques/TAED2_YOLOs/data/processed/images/val/005455.jpg: 448x640 1 person, 504.3ms\n",
      "Speed: 1.2ms preprocess, 504.3ms inference, 1.0ms postprocess per image at shape (1, 3, 448, 640)\n"
     ]
    },
    {
     "name": "stderr",
     "output_type": "stream",
     "text": [
      "[ WARN:0@1132.455] global loadsave.cpp:241 findDecoder imread_('/Users/mariarisques/TAED2_YOLOs/data/processed/masks_post/val/005455.png'): can't open/read file: check file path/integrity\n"
     ]
    },
    {
     "name": "stdout",
     "output_type": "stream",
     "text": [
      "Mask correctly processed and saved for the following file: 005455.jpg\n",
      "\n",
      "image 1/1 /Users/mariarisques/TAED2_YOLOs/data/processed/images/val/003742.jpg: 448x640 1 person, 508.9ms\n",
      "Speed: 1.2ms preprocess, 508.9ms inference, 1.3ms postprocess per image at shape (1, 3, 448, 640)\n"
     ]
    },
    {
     "name": "stderr",
     "output_type": "stream",
     "text": [
      "[ WARN:0@1133.430] global loadsave.cpp:241 findDecoder imread_('/Users/mariarisques/TAED2_YOLOs/data/processed/masks_post/val/003742.png'): can't open/read file: check file path/integrity\n"
     ]
    },
    {
     "name": "stdout",
     "output_type": "stream",
     "text": [
      "Mask correctly processed and saved for the following file: 003742.jpg\n",
      "\n",
      "image 1/1 /Users/mariarisques/TAED2_YOLOs/data/processed/images/val/003959.jpg: 640x448 1 person, 516.8ms\n",
      "Speed: 1.6ms preprocess, 516.8ms inference, 0.8ms postprocess per image at shape (1, 3, 640, 448)\n"
     ]
    },
    {
     "name": "stderr",
     "output_type": "stream",
     "text": [
      "[ WARN:0@1134.415] global loadsave.cpp:241 findDecoder imread_('/Users/mariarisques/TAED2_YOLOs/data/processed/masks_post/val/003959.png'): can't open/read file: check file path/integrity\n"
     ]
    },
    {
     "name": "stdout",
     "output_type": "stream",
     "text": [
      "Mask correctly processed and saved for the following file: 003959.jpg\n",
      "\n",
      "image 1/1 /Users/mariarisques/TAED2_YOLOs/data/processed/images/val/000713.jpg: 448x640 1 person, 507.7ms\n",
      "Speed: 1.3ms preprocess, 507.7ms inference, 1.3ms postprocess per image at shape (1, 3, 448, 640)\n"
     ]
    },
    {
     "name": "stderr",
     "output_type": "stream",
     "text": [
      "[ WARN:0@1135.399] global loadsave.cpp:241 findDecoder imread_('/Users/mariarisques/TAED2_YOLOs/data/processed/masks_post/val/000713.png'): can't open/read file: check file path/integrity\n"
     ]
    },
    {
     "name": "stdout",
     "output_type": "stream",
     "text": [
      "Mask correctly processed and saved for the following file: 000713.jpg\n",
      "\n",
      "image 1/1 /Users/mariarisques/TAED2_YOLOs/data/processed/images/val/001357.jpg: 640x448 1 person, 512.8ms\n",
      "Speed: 1.2ms preprocess, 512.8ms inference, 1.0ms postprocess per image at shape (1, 3, 640, 448)\n"
     ]
    },
    {
     "name": "stderr",
     "output_type": "stream",
     "text": [
      "[ WARN:0@1136.382] global loadsave.cpp:241 findDecoder imread_('/Users/mariarisques/TAED2_YOLOs/data/processed/masks_post/val/001357.png'): can't open/read file: check file path/integrity\n"
     ]
    },
    {
     "name": "stdout",
     "output_type": "stream",
     "text": [
      "Mask correctly processed and saved for the following file: 001357.jpg\n",
      "\n",
      "image 1/1 /Users/mariarisques/TAED2_YOLOs/data/processed/images/val/002138.jpg: 448x640 2 persons, 504.0ms\n",
      "Speed: 1.2ms preprocess, 504.0ms inference, 1.0ms postprocess per image at shape (1, 3, 448, 640)\n"
     ]
    },
    {
     "name": "stderr",
     "output_type": "stream",
     "text": [
      "[ WARN:0@1137.370] global loadsave.cpp:241 findDecoder imread_('/Users/mariarisques/TAED2_YOLOs/data/processed/masks_post/val/002138.png'): can't open/read file: check file path/integrity\n"
     ]
    },
    {
     "name": "stdout",
     "output_type": "stream",
     "text": [
      "Mask correctly processed and saved for the following file: 002138.jpg\n",
      "\n",
      "image 1/1 /Users/mariarisques/TAED2_YOLOs/data/processed/images/val/002879.jpg: 448x640 1 person, 509.0ms\n",
      "Speed: 1.2ms preprocess, 509.0ms inference, 0.9ms postprocess per image at shape (1, 3, 448, 640)\n"
     ]
    },
    {
     "name": "stderr",
     "output_type": "stream",
     "text": [
      "[ WARN:0@1138.348] global loadsave.cpp:241 findDecoder imread_('/Users/mariarisques/TAED2_YOLOs/data/processed/masks_post/val/002879.png'): can't open/read file: check file path/integrity\n"
     ]
    },
    {
     "name": "stdout",
     "output_type": "stream",
     "text": [
      "Mask correctly processed and saved for the following file: 002879.jpg\n",
      "\n",
      "image 1/1 /Users/mariarisques/TAED2_YOLOs/data/processed/images/val/002851.jpg: 416x640 1 person, 520.6ms\n",
      "Speed: 1.1ms preprocess, 520.6ms inference, 0.9ms postprocess per image at shape (1, 3, 416, 640)\n"
     ]
    },
    {
     "name": "stderr",
     "output_type": "stream",
     "text": [
      "[ WARN:0@1139.331] global loadsave.cpp:241 findDecoder imread_('/Users/mariarisques/TAED2_YOLOs/data/processed/masks_post/val/002851.png'): can't open/read file: check file path/integrity\n"
     ]
    },
    {
     "name": "stdout",
     "output_type": "stream",
     "text": [
      "Mask correctly processed and saved for the following file: 002851.jpg\n",
      "\n",
      "image 1/1 /Users/mariarisques/TAED2_YOLOs/data/processed/images/val/000934.jpg: 448x640 1 person, 748.5ms\n",
      "Speed: 1.2ms preprocess, 748.5ms inference, 0.8ms postprocess per image at shape (1, 3, 448, 640)\n"
     ]
    },
    {
     "name": "stderr",
     "output_type": "stream",
     "text": [
      "[ WARN:0@1140.515] global loadsave.cpp:241 findDecoder imread_('/Users/mariarisques/TAED2_YOLOs/data/processed/masks_post/val/000934.png'): can't open/read file: check file path/integrity\n"
     ]
    },
    {
     "name": "stdout",
     "output_type": "stream",
     "text": [
      "Mask correctly processed and saved for the following file: 000934.jpg\n",
      "\n",
      "image 1/1 /Users/mariarisques/TAED2_YOLOs/data/processed/images/val/002844.jpg: 448x640 1 person, 532.8ms\n",
      "Speed: 1.3ms preprocess, 532.8ms inference, 1.5ms postprocess per image at shape (1, 3, 448, 640)\n"
     ]
    },
    {
     "name": "stderr",
     "output_type": "stream",
     "text": [
      "[ WARN:0@1141.505] global loadsave.cpp:241 findDecoder imread_('/Users/mariarisques/TAED2_YOLOs/data/processed/masks_post/val/002844.png'): can't open/read file: check file path/integrity\n"
     ]
    },
    {
     "name": "stdout",
     "output_type": "stream",
     "text": [
      "Mask correctly processed and saved for the following file: 002844.jpg\n",
      "\n",
      "image 1/1 /Users/mariarisques/TAED2_YOLOs/data/processed/images/val/001395.jpg: 384x640 1 person, 515.8ms\n",
      "Speed: 1.0ms preprocess, 515.8ms inference, 0.9ms postprocess per image at shape (1, 3, 384, 640)\n"
     ]
    },
    {
     "name": "stderr",
     "output_type": "stream",
     "text": [
      "[ WARN:0@1142.642] global loadsave.cpp:241 findDecoder imread_('/Users/mariarisques/TAED2_YOLOs/data/processed/masks_post/val/001395.png'): can't open/read file: check file path/integrity\n"
     ]
    },
    {
     "name": "stdout",
     "output_type": "stream",
     "text": [
      "Mask correctly processed and saved for the following file: 001395.jpg\n",
      "\n",
      "image 1/1 /Users/mariarisques/TAED2_YOLOs/data/processed/images/val/000935.jpg: 448x640 1 person, 512.3ms\n",
      "Speed: 1.2ms preprocess, 512.3ms inference, 0.8ms postprocess per image at shape (1, 3, 448, 640)\n"
     ]
    },
    {
     "name": "stderr",
     "output_type": "stream",
     "text": [
      "[ WARN:0@1143.553] global loadsave.cpp:241 findDecoder imread_('/Users/mariarisques/TAED2_YOLOs/data/processed/masks_post/val/000935.png'): can't open/read file: check file path/integrity\n"
     ]
    },
    {
     "name": "stdout",
     "output_type": "stream",
     "text": [
      "Mask correctly processed and saved for the following file: 000935.jpg\n",
      "\n",
      "image 1/1 /Users/mariarisques/TAED2_YOLOs/data/processed/images/val/003596.jpg: 480x640 1 person, 667.7ms\n",
      "Speed: 1.2ms preprocess, 667.7ms inference, 0.8ms postprocess per image at shape (1, 3, 480, 640)\n"
     ]
    },
    {
     "name": "stderr",
     "output_type": "stream",
     "text": [
      "[ WARN:0@1144.684] global loadsave.cpp:241 findDecoder imread_('/Users/mariarisques/TAED2_YOLOs/data/processed/masks_post/val/003596.png'): can't open/read file: check file path/integrity\n"
     ]
    },
    {
     "name": "stdout",
     "output_type": "stream",
     "text": [
      "Mask correctly processed and saved for the following file: 003596.jpg\n",
      "\n",
      "image 1/1 /Users/mariarisques/TAED2_YOLOs/data/processed/images/val/002688.jpg: 448x640 1 person, 511.6ms\n",
      "Speed: 1.2ms preprocess, 511.6ms inference, 0.9ms postprocess per image at shape (1, 3, 448, 640)\n"
     ]
    },
    {
     "name": "stderr",
     "output_type": "stream",
     "text": [
      "[ WARN:0@1145.675] global loadsave.cpp:241 findDecoder imread_('/Users/mariarisques/TAED2_YOLOs/data/processed/masks_post/val/002688.png'): can't open/read file: check file path/integrity\n"
     ]
    },
    {
     "name": "stdout",
     "output_type": "stream",
     "text": [
      "Mask correctly processed and saved for the following file: 002688.jpg\n",
      "\n",
      "image 1/1 /Users/mariarisques/TAED2_YOLOs/data/processed/images/val/001356.jpg: 640x448 1 person, 523.1ms\n",
      "Speed: 1.2ms preprocess, 523.1ms inference, 1.5ms postprocess per image at shape (1, 3, 640, 448)\n"
     ]
    },
    {
     "name": "stderr",
     "output_type": "stream",
     "text": [
      "[ WARN:0@1146.689] global loadsave.cpp:241 findDecoder imread_('/Users/mariarisques/TAED2_YOLOs/data/processed/masks_post/val/001356.png'): can't open/read file: check file path/integrity\n"
     ]
    },
    {
     "name": "stdout",
     "output_type": "stream",
     "text": [
      "Mask correctly processed and saved for the following file: 001356.jpg\n",
      "\n",
      "image 1/1 /Users/mariarisques/TAED2_YOLOs/data/processed/images/val/005124.jpg: 448x640 1 person, 515.5ms\n",
      "Speed: 1.2ms preprocess, 515.5ms inference, 1.4ms postprocess per image at shape (1, 3, 448, 640)\n"
     ]
    },
    {
     "name": "stderr",
     "output_type": "stream",
     "text": [
      "[ WARN:0@1147.670] global loadsave.cpp:241 findDecoder imread_('/Users/mariarisques/TAED2_YOLOs/data/processed/masks_post/val/005124.png'): can't open/read file: check file path/integrity\n"
     ]
    },
    {
     "name": "stdout",
     "output_type": "stream",
     "text": [
      "Mask correctly processed and saved for the following file: 005124.jpg\n",
      "\n",
      "image 1/1 /Users/mariarisques/TAED2_YOLOs/data/processed/images/val/002893.jpg: 640x448 1 person, 520.1ms\n",
      "Speed: 1.3ms preprocess, 520.1ms inference, 1.0ms postprocess per image at shape (1, 3, 640, 448)\n"
     ]
    },
    {
     "name": "stderr",
     "output_type": "stream",
     "text": [
      "[ WARN:0@1148.653] global loadsave.cpp:241 findDecoder imread_('/Users/mariarisques/TAED2_YOLOs/data/processed/masks_post/val/002893.png'): can't open/read file: check file path/integrity\n"
     ]
    },
    {
     "name": "stdout",
     "output_type": "stream",
     "text": [
      "Mask correctly processed and saved for the following file: 002893.jpg\n",
      "\n",
      "image 1/1 /Users/mariarisques/TAED2_YOLOs/data/processed/images/val/002663.jpg: 448x640 1 person, 508.3ms\n",
      "Speed: 1.5ms preprocess, 508.3ms inference, 0.9ms postprocess per image at shape (1, 3, 448, 640)\n"
     ]
    },
    {
     "name": "stderr",
     "output_type": "stream",
     "text": [
      "[ WARN:0@1149.642] global loadsave.cpp:241 findDecoder imread_('/Users/mariarisques/TAED2_YOLOs/data/processed/masks_post/val/002663.png'): can't open/read file: check file path/integrity\n"
     ]
    },
    {
     "name": "stdout",
     "output_type": "stream",
     "text": [
      "Mask correctly processed and saved for the following file: 002663.jpg\n",
      "\n",
      "image 1/1 /Users/mariarisques/TAED2_YOLOs/data/processed/images/val/000712.jpg: 640x448 1 person, 974.4ms\n",
      "Speed: 1.3ms preprocess, 974.4ms inference, 0.8ms postprocess per image at shape (1, 3, 640, 448)\n"
     ]
    },
    {
     "name": "stderr",
     "output_type": "stream",
     "text": [
      "[ WARN:0@1151.084] global loadsave.cpp:241 findDecoder imread_('/Users/mariarisques/TAED2_YOLOs/data/processed/masks_post/val/000712.png'): can't open/read file: check file path/integrity\n"
     ]
    },
    {
     "name": "stdout",
     "output_type": "stream",
     "text": [
      "Mask correctly processed and saved for the following file: 000712.jpg\n",
      "\n",
      "image 1/1 /Users/mariarisques/TAED2_YOLOs/data/processed/images/val/002105.jpg: 640x448 1 person, 510.2ms\n",
      "Speed: 1.2ms preprocess, 510.2ms inference, 1.4ms postprocess per image at shape (1, 3, 640, 448)\n"
     ]
    },
    {
     "name": "stderr",
     "output_type": "stream",
     "text": [
      "[ WARN:0@1152.086] global loadsave.cpp:241 findDecoder imread_('/Users/mariarisques/TAED2_YOLOs/data/processed/masks_post/val/002105.png'): can't open/read file: check file path/integrity\n"
     ]
    },
    {
     "name": "stdout",
     "output_type": "stream",
     "text": [
      "Mask correctly processed and saved for the following file: 002105.jpg\n",
      "\n",
      "image 1/1 /Users/mariarisques/TAED2_YOLOs/data/processed/images/val/003569.jpg: 448x640 1 person, 502.4ms\n",
      "Speed: 1.1ms preprocess, 502.4ms inference, 1.4ms postprocess per image at shape (1, 3, 448, 640)\n"
     ]
    },
    {
     "name": "stderr",
     "output_type": "stream",
     "text": [
      "[ WARN:0@1153.066] global loadsave.cpp:241 findDecoder imread_('/Users/mariarisques/TAED2_YOLOs/data/processed/masks_post/val/003569.png'): can't open/read file: check file path/integrity\n"
     ]
    },
    {
     "name": "stdout",
     "output_type": "stream",
     "text": [
      "Mask correctly processed and saved for the following file: 003569.jpg\n",
      "\n",
      "image 1/1 /Users/mariarisques/TAED2_YOLOs/data/processed/images/val/003970.jpg: 640x448 1 person, 514.2ms\n",
      "Speed: 1.1ms preprocess, 514.2ms inference, 0.8ms postprocess per image at shape (1, 3, 640, 448)\n"
     ]
    },
    {
     "name": "stderr",
     "output_type": "stream",
     "text": [
      "[ WARN:0@1154.045] global loadsave.cpp:241 findDecoder imread_('/Users/mariarisques/TAED2_YOLOs/data/processed/masks_post/val/003970.png'): can't open/read file: check file path/integrity\n"
     ]
    },
    {
     "name": "stdout",
     "output_type": "stream",
     "text": [
      "Mask correctly processed and saved for the following file: 003970.jpg\n",
      "\n",
      "image 1/1 /Users/mariarisques/TAED2_YOLOs/data/processed/images/val/001632.jpg: 448x640 1 person, 516.4ms\n",
      "Speed: 1.2ms preprocess, 516.4ms inference, 0.8ms postprocess per image at shape (1, 3, 448, 640)\n"
     ]
    },
    {
     "name": "stderr",
     "output_type": "stream",
     "text": [
      "[ WARN:0@1155.024] global loadsave.cpp:241 findDecoder imread_('/Users/mariarisques/TAED2_YOLOs/data/processed/masks_post/val/001632.png'): can't open/read file: check file path/integrity\n"
     ]
    },
    {
     "name": "stdout",
     "output_type": "stream",
     "text": [
      "Mask correctly processed and saved for the following file: 001632.jpg\n",
      "\n",
      "image 1/1 /Users/mariarisques/TAED2_YOLOs/data/processed/images/val/002449.jpg: 480x640 1 person, 549.7ms\n",
      "Speed: 1.7ms preprocess, 549.7ms inference, 1.1ms postprocess per image at shape (1, 3, 480, 640)\n"
     ]
    },
    {
     "name": "stderr",
     "output_type": "stream",
     "text": [
      "[ WARN:0@1156.070] global loadsave.cpp:241 findDecoder imread_('/Users/mariarisques/TAED2_YOLOs/data/processed/masks_post/val/002449.png'): can't open/read file: check file path/integrity\n"
     ]
    },
    {
     "name": "stdout",
     "output_type": "stream",
     "text": [
      "Mask correctly processed and saved for the following file: 002449.jpg\n",
      "\n",
      "image 1/1 /Users/mariarisques/TAED2_YOLOs/data/processed/images/val/003031.jpg: 448x640 1 person, 504.7ms\n",
      "Speed: 1.2ms preprocess, 504.7ms inference, 0.9ms postprocess per image at shape (1, 3, 448, 640)\n"
     ]
    },
    {
     "name": "stderr",
     "output_type": "stream",
     "text": [
      "[ WARN:0@1157.091] global loadsave.cpp:241 findDecoder imread_('/Users/mariarisques/TAED2_YOLOs/data/processed/masks_post/val/003031.png'): can't open/read file: check file path/integrity\n"
     ]
    },
    {
     "name": "stdout",
     "output_type": "stream",
     "text": [
      "Mask correctly processed and saved for the following file: 003031.jpg\n",
      "\n",
      "image 1/1 /Users/mariarisques/TAED2_YOLOs/data/processed/images/val/003019.jpg: 448x640 1 person, 496.0ms\n",
      "Speed: 1.2ms preprocess, 496.0ms inference, 0.9ms postprocess per image at shape (1, 3, 448, 640)\n"
     ]
    },
    {
     "name": "stderr",
     "output_type": "stream",
     "text": [
      "[ WARN:0@1158.053] global loadsave.cpp:241 findDecoder imread_('/Users/mariarisques/TAED2_YOLOs/data/processed/masks_post/val/003019.png'): can't open/read file: check file path/integrity\n"
     ]
    },
    {
     "name": "stdout",
     "output_type": "stream",
     "text": [
      "Mask correctly processed and saved for the following file: 003019.jpg\n",
      "\n",
      "image 1/1 /Users/mariarisques/TAED2_YOLOs/data/processed/images/val/000504.jpg: 448x640 1 person, 508.5ms\n",
      "Speed: 1.2ms preprocess, 508.5ms inference, 1.4ms postprocess per image at shape (1, 3, 448, 640)\n"
     ]
    },
    {
     "name": "stderr",
     "output_type": "stream",
     "text": [
      "[ WARN:0@1159.038] global loadsave.cpp:241 findDecoder imread_('/Users/mariarisques/TAED2_YOLOs/data/processed/masks_post/val/000504.png'): can't open/read file: check file path/integrity\n"
     ]
    },
    {
     "name": "stdout",
     "output_type": "stream",
     "text": [
      "Mask correctly processed and saved for the following file: 000504.jpg\n",
      "\n",
      "image 1/1 /Users/mariarisques/TAED2_YOLOs/data/processed/images/val/003804.jpg: 448x640 2 persons, 520.8ms\n",
      "Speed: 1.2ms preprocess, 520.8ms inference, 1.1ms postprocess per image at shape (1, 3, 448, 640)\n"
     ]
    },
    {
     "name": "stderr",
     "output_type": "stream",
     "text": [
      "[ WARN:0@1160.034] global loadsave.cpp:241 findDecoder imread_('/Users/mariarisques/TAED2_YOLOs/data/processed/masks_post/val/003804.png'): can't open/read file: check file path/integrity\n"
     ]
    },
    {
     "name": "stdout",
     "output_type": "stream",
     "text": [
      "Mask correctly processed and saved for the following file: 003804.jpg\n",
      "\n",
      "image 1/1 /Users/mariarisques/TAED2_YOLOs/data/processed/images/val/004158.jpg: 448x640 1 person, 499.6ms\n",
      "Speed: 1.2ms preprocess, 499.6ms inference, 0.9ms postprocess per image at shape (1, 3, 448, 640)\n"
     ]
    },
    {
     "name": "stderr",
     "output_type": "stream",
     "text": [
      "[ WARN:0@1160.995] global loadsave.cpp:241 findDecoder imread_('/Users/mariarisques/TAED2_YOLOs/data/processed/masks_post/val/004158.png'): can't open/read file: check file path/integrity\n"
     ]
    },
    {
     "name": "stdout",
     "output_type": "stream",
     "text": [
      "Mask correctly processed and saved for the following file: 004158.jpg\n",
      "\n",
      "image 1/1 /Users/mariarisques/TAED2_YOLOs/data/processed/images/val/003623.jpg: 448x640 1 person, 503.7ms\n",
      "Speed: 1.2ms preprocess, 503.7ms inference, 0.9ms postprocess per image at shape (1, 3, 448, 640)\n"
     ]
    },
    {
     "name": "stderr",
     "output_type": "stream",
     "text": [
      "[ WARN:0@1161.966] global loadsave.cpp:241 findDecoder imread_('/Users/mariarisques/TAED2_YOLOs/data/processed/masks_post/val/003623.png'): can't open/read file: check file path/integrity\n"
     ]
    },
    {
     "name": "stdout",
     "output_type": "stream",
     "text": [
      "Mask correctly processed and saved for the following file: 003623.jpg\n",
      "\n",
      "image 1/1 /Users/mariarisques/TAED2_YOLOs/data/processed/images/val/000699.jpg: 384x640 1 person, 437.8ms\n",
      "Speed: 1.1ms preprocess, 437.8ms inference, 0.8ms postprocess per image at shape (1, 3, 384, 640)\n"
     ]
    },
    {
     "name": "stderr",
     "output_type": "stream",
     "text": [
      "[ WARN:0@1162.880] global loadsave.cpp:241 findDecoder imread_('/Users/mariarisques/TAED2_YOLOs/data/processed/masks_post/val/000699.png'): can't open/read file: check file path/integrity\n"
     ]
    },
    {
     "name": "stdout",
     "output_type": "stream",
     "text": [
      "Mask correctly processed and saved for the following file: 000699.jpg\n",
      "\n",
      "image 1/1 /Users/mariarisques/TAED2_YOLOs/data/processed/images/val/001593.jpg: 448x640 1 person, 515.5ms\n",
      "Speed: 1.2ms preprocess, 515.5ms inference, 0.8ms postprocess per image at shape (1, 3, 448, 640)\n"
     ]
    },
    {
     "name": "stderr",
     "output_type": "stream",
     "text": [
      "[ WARN:0@1163.810] global loadsave.cpp:241 findDecoder imread_('/Users/mariarisques/TAED2_YOLOs/data/processed/masks_post/val/001593.png'): can't open/read file: check file path/integrity\n"
     ]
    },
    {
     "name": "stdout",
     "output_type": "stream",
     "text": [
      "Mask correctly processed and saved for the following file: 001593.jpg\n",
      "\n",
      "image 1/1 /Users/mariarisques/TAED2_YOLOs/data/processed/images/val/001544.jpg: 448x640 1 person, 493.1ms\n",
      "Speed: 1.2ms preprocess, 493.1ms inference, 0.8ms postprocess per image at shape (1, 3, 448, 640)\n"
     ]
    },
    {
     "name": "stderr",
     "output_type": "stream",
     "text": [
      "[ WARN:0@1164.789] global loadsave.cpp:241 findDecoder imread_('/Users/mariarisques/TAED2_YOLOs/data/processed/masks_post/val/001544.png'): can't open/read file: check file path/integrity\n"
     ]
    },
    {
     "name": "stdout",
     "output_type": "stream",
     "text": [
      "Mask correctly processed and saved for the following file: 001544.jpg\n",
      "\n",
      "image 1/1 /Users/mariarisques/TAED2_YOLOs/data/processed/images/val/001550.jpg: 640x448 1 person, 507.6ms\n",
      "Speed: 1.4ms preprocess, 507.6ms inference, 0.8ms postprocess per image at shape (1, 3, 640, 448)\n"
     ]
    },
    {
     "name": "stderr",
     "output_type": "stream",
     "text": [
      "[ WARN:0@1165.763] global loadsave.cpp:241 findDecoder imread_('/Users/mariarisques/TAED2_YOLOs/data/processed/masks_post/val/001550.png'): can't open/read file: check file path/integrity\n"
     ]
    },
    {
     "name": "stdout",
     "output_type": "stream",
     "text": [
      "Mask correctly processed and saved for the following file: 001550.jpg\n",
      "\n",
      "image 1/1 /Users/mariarisques/TAED2_YOLOs/data/processed/images/val/003347.jpg: 448x640 2 persons, 502.8ms\n",
      "Speed: 1.2ms preprocess, 502.8ms inference, 1.1ms postprocess per image at shape (1, 3, 448, 640)\n"
     ]
    },
    {
     "name": "stderr",
     "output_type": "stream",
     "text": [
      "[ WARN:0@1166.749] global loadsave.cpp:241 findDecoder imread_('/Users/mariarisques/TAED2_YOLOs/data/processed/masks_post/val/003347.png'): can't open/read file: check file path/integrity\n"
     ]
    },
    {
     "name": "stdout",
     "output_type": "stream",
     "text": [
      "Mask correctly processed and saved for the following file: 003347.jpg\n",
      "\n",
      "image 1/1 /Users/mariarisques/TAED2_YOLOs/data/processed/images/val/003409.jpg: 640x416 1 person, 612.6ms\n",
      "Speed: 1.3ms preprocess, 612.6ms inference, 0.9ms postprocess per image at shape (1, 3, 640, 416)\n"
     ]
    },
    {
     "name": "stderr",
     "output_type": "stream",
     "text": [
      "[ WARN:0@1167.833] global loadsave.cpp:241 findDecoder imread_('/Users/mariarisques/TAED2_YOLOs/data/processed/masks_post/val/003409.png'): can't open/read file: check file path/integrity\n"
     ]
    },
    {
     "name": "stdout",
     "output_type": "stream",
     "text": [
      "Mask correctly processed and saved for the following file: 003409.jpg\n",
      "\n",
      "image 1/1 /Users/mariarisques/TAED2_YOLOs/data/processed/images/val/002717.jpg: 448x640 1 person, 523.9ms\n",
      "Speed: 1.2ms preprocess, 523.9ms inference, 1.3ms postprocess per image at shape (1, 3, 448, 640)\n"
     ]
    },
    {
     "name": "stderr",
     "output_type": "stream",
     "text": [
      "[ WARN:0@1168.808] global loadsave.cpp:241 findDecoder imread_('/Users/mariarisques/TAED2_YOLOs/data/processed/masks_post/val/002717.png'): can't open/read file: check file path/integrity\n"
     ]
    },
    {
     "name": "stdout",
     "output_type": "stream",
     "text": [
      "Mask correctly processed and saved for the following file: 002717.jpg\n",
      "\n",
      "image 1/1 /Users/mariarisques/TAED2_YOLOs/data/processed/images/val/000672.jpg: 448x640 1 person, 509.3ms\n",
      "Speed: 1.2ms preprocess, 509.3ms inference, 1.1ms postprocess per image at shape (1, 3, 448, 640)\n"
     ]
    },
    {
     "name": "stderr",
     "output_type": "stream",
     "text": [
      "[ WARN:0@1169.802] global loadsave.cpp:241 findDecoder imread_('/Users/mariarisques/TAED2_YOLOs/data/processed/masks_post/val/000672.png'): can't open/read file: check file path/integrity\n"
     ]
    },
    {
     "name": "stdout",
     "output_type": "stream",
     "text": [
      "Mask correctly processed and saved for the following file: 000672.jpg\n",
      "\n",
      "image 1/1 /Users/mariarisques/TAED2_YOLOs/data/processed/images/val/001523.jpg: 448x640 1 person, 513.6ms\n",
      "Speed: 1.2ms preprocess, 513.6ms inference, 0.9ms postprocess per image at shape (1, 3, 448, 640)\n"
     ]
    },
    {
     "name": "stderr",
     "output_type": "stream",
     "text": [
      "[ WARN:0@1170.784] global loadsave.cpp:241 findDecoder imread_('/Users/mariarisques/TAED2_YOLOs/data/processed/masks_post/val/001523.png'): can't open/read file: check file path/integrity\n"
     ]
    },
    {
     "name": "stdout",
     "output_type": "stream",
     "text": [
      "Mask correctly processed and saved for the following file: 001523.jpg\n",
      "\n",
      "image 1/1 /Users/mariarisques/TAED2_YOLOs/data/processed/images/val/000615.jpg: 448x640 1 person, 509.4ms\n",
      "Speed: 1.2ms preprocess, 509.4ms inference, 0.9ms postprocess per image at shape (1, 3, 448, 640)\n"
     ]
    },
    {
     "name": "stderr",
     "output_type": "stream",
     "text": [
      "[ WARN:0@1171.758] global loadsave.cpp:241 findDecoder imread_('/Users/mariarisques/TAED2_YOLOs/data/processed/masks_post/val/000615.png'): can't open/read file: check file path/integrity\n"
     ]
    },
    {
     "name": "stdout",
     "output_type": "stream",
     "text": [
      "Mask correctly processed and saved for the following file: 000615.jpg\n",
      "\n",
      "image 1/1 /Users/mariarisques/TAED2_YOLOs/data/processed/images/val/003644.jpg: 448x640 2 persons, 503.7ms\n",
      "Speed: 1.2ms preprocess, 503.7ms inference, 1.5ms postprocess per image at shape (1, 3, 448, 640)\n"
     ]
    },
    {
     "name": "stderr",
     "output_type": "stream",
     "text": [
      "[ WARN:0@1172.743] global loadsave.cpp:241 findDecoder imread_('/Users/mariarisques/TAED2_YOLOs/data/processed/masks_post/val/003644.png'): can't open/read file: check file path/integrity\n"
     ]
    },
    {
     "name": "stdout",
     "output_type": "stream",
     "text": [
      "Mask correctly processed and saved for the following file: 003644.jpg\n",
      "\n",
      "image 1/1 /Users/mariarisques/TAED2_YOLOs/data/processed/images/val/004117.jpg: 448x640 2 persons, 493.7ms\n",
      "Speed: 1.4ms preprocess, 493.7ms inference, 1.1ms postprocess per image at shape (1, 3, 448, 640)\n"
     ]
    },
    {
     "name": "stderr",
     "output_type": "stream",
     "text": [
      "[ WARN:0@1173.725] global loadsave.cpp:241 findDecoder imread_('/Users/mariarisques/TAED2_YOLOs/data/processed/masks_post/val/004117.png'): can't open/read file: check file path/integrity\n"
     ]
    },
    {
     "name": "stdout",
     "output_type": "stream",
     "text": [
      "Mask correctly processed and saved for the following file: 004117.jpg\n",
      "\n",
      "image 1/1 /Users/mariarisques/TAED2_YOLOs/data/processed/images/val/002566.jpg: 640x448 1 person, 497.8ms\n",
      "Speed: 1.4ms preprocess, 497.8ms inference, 0.9ms postprocess per image at shape (1, 3, 640, 448)\n"
     ]
    },
    {
     "name": "stderr",
     "output_type": "stream",
     "text": [
      "[ WARN:0@1174.725] global loadsave.cpp:241 findDecoder imread_('/Users/mariarisques/TAED2_YOLOs/data/processed/masks_post/val/002566.png'): can't open/read file: check file path/integrity\n"
     ]
    },
    {
     "name": "stdout",
     "output_type": "stream",
     "text": [
      "Mask correctly processed and saved for the following file: 002566.jpg\n",
      "\n",
      "image 1/1 /Users/mariarisques/TAED2_YOLOs/data/processed/images/val/001709.jpg: 448x640 1 person, 503.3ms\n",
      "Speed: 1.2ms preprocess, 503.3ms inference, 0.8ms postprocess per image at shape (1, 3, 448, 640)\n"
     ]
    },
    {
     "name": "stderr",
     "output_type": "stream",
     "text": [
      "[ WARN:0@1175.712] global loadsave.cpp:241 findDecoder imread_('/Users/mariarisques/TAED2_YOLOs/data/processed/masks_post/val/001709.png'): can't open/read file: check file path/integrity\n"
     ]
    },
    {
     "name": "stdout",
     "output_type": "stream",
     "text": [
      "Mask correctly processed and saved for the following file: 001709.jpg\n",
      "\n",
      "image 1/1 /Users/mariarisques/TAED2_YOLOs/data/processed/images/val/004671.jpg: 416x640 1 person, 471.4ms\n",
      "Speed: 1.1ms preprocess, 471.4ms inference, 1.2ms postprocess per image at shape (1, 3, 416, 640)\n"
     ]
    },
    {
     "name": "stderr",
     "output_type": "stream",
     "text": [
      "[ WARN:0@1176.655] global loadsave.cpp:241 findDecoder imread_('/Users/mariarisques/TAED2_YOLOs/data/processed/masks_post/val/004671.png'): can't open/read file: check file path/integrity\n"
     ]
    },
    {
     "name": "stdout",
     "output_type": "stream",
     "text": [
      "Mask correctly processed and saved for the following file: 004671.jpg\n",
      "\n",
      "image 1/1 /Users/mariarisques/TAED2_YOLOs/data/processed/images/val/002599.jpg: 384x640 1 person, 472.6ms\n",
      "Speed: 1.1ms preprocess, 472.6ms inference, 0.8ms postprocess per image at shape (1, 3, 384, 640)\n"
     ]
    },
    {
     "name": "stderr",
     "output_type": "stream",
     "text": [
      "[ WARN:0@1177.570] global loadsave.cpp:241 findDecoder imread_('/Users/mariarisques/TAED2_YOLOs/data/processed/masks_post/val/002599.png'): can't open/read file: check file path/integrity\n"
     ]
    },
    {
     "name": "stdout",
     "output_type": "stream",
     "text": [
      "Mask correctly processed and saved for the following file: 002599.jpg\n",
      "\n",
      "image 1/1 /Users/mariarisques/TAED2_YOLOs/data/processed/images/val/003693.jpg: 576x640 1 person, 764.5ms\n",
      "Speed: 1.7ms preprocess, 764.5ms inference, 1.3ms postprocess per image at shape (1, 3, 576, 640)\n"
     ]
    },
    {
     "name": "stderr",
     "output_type": "stream",
     "text": [
      "[ WARN:0@1178.733] global loadsave.cpp:241 findDecoder imread_('/Users/mariarisques/TAED2_YOLOs/data/processed/masks_post/val/003693.png'): can't open/read file: check file path/integrity\n"
     ]
    },
    {
     "name": "stdout",
     "output_type": "stream",
     "text": [
      "Mask correctly processed and saved for the following file: 003693.jpg\n",
      "\n",
      "image 1/1 /Users/mariarisques/TAED2_YOLOs/data/processed/images/val/003730.jpg: 448x640 1 person, 508.6ms\n",
      "Speed: 1.4ms preprocess, 508.6ms inference, 1.2ms postprocess per image at shape (1, 3, 448, 640)\n"
     ]
    },
    {
     "name": "stderr",
     "output_type": "stream",
     "text": [
      "[ WARN:0@1179.844] global loadsave.cpp:241 findDecoder imread_('/Users/mariarisques/TAED2_YOLOs/data/processed/masks_post/val/003730.png'): can't open/read file: check file path/integrity\n"
     ]
    },
    {
     "name": "stdout",
     "output_type": "stream",
     "text": [
      "Mask correctly processed and saved for the following file: 003730.jpg\n",
      "\n",
      "image 1/1 /Users/mariarisques/TAED2_YOLOs/data/processed/images/val/001641.jpg: 448x640 1 person, 499.7ms\n",
      "Speed: 1.4ms preprocess, 499.7ms inference, 1.2ms postprocess per image at shape (1, 3, 448, 640)\n"
     ]
    },
    {
     "name": "stderr",
     "output_type": "stream",
     "text": [
      "[ WARN:0@1180.832] global loadsave.cpp:241 findDecoder imread_('/Users/mariarisques/TAED2_YOLOs/data/processed/masks_post/val/001641.png'): can't open/read file: check file path/integrity\n"
     ]
    },
    {
     "name": "stdout",
     "output_type": "stream",
     "text": [
      "Mask correctly processed and saved for the following file: 001641.jpg\n",
      "\n",
      "image 1/1 /Users/mariarisques/TAED2_YOLOs/data/processed/images/val/001899.jpg: 448x640 1 person, 504.6ms\n",
      "Speed: 1.4ms preprocess, 504.6ms inference, 0.8ms postprocess per image at shape (1, 3, 448, 640)\n"
     ]
    },
    {
     "name": "stderr",
     "output_type": "stream",
     "text": [
      "[ WARN:0@1181.805] global loadsave.cpp:241 findDecoder imread_('/Users/mariarisques/TAED2_YOLOs/data/processed/masks_post/val/001899.png'): can't open/read file: check file path/integrity\n"
     ]
    },
    {
     "name": "stdout",
     "output_type": "stream",
     "text": [
      "Mask correctly processed and saved for the following file: 001899.jpg\n",
      "\n",
      "image 1/1 /Users/mariarisques/TAED2_YOLOs/data/processed/images/val/000577.jpg: 448x640 1 person, 491.8ms\n",
      "Speed: 1.2ms preprocess, 491.8ms inference, 1.0ms postprocess per image at shape (1, 3, 448, 640)\n"
     ]
    },
    {
     "name": "stderr",
     "output_type": "stream",
     "text": [
      "[ WARN:0@1182.782] global loadsave.cpp:241 findDecoder imread_('/Users/mariarisques/TAED2_YOLOs/data/processed/masks_post/val/000577.png'): can't open/read file: check file path/integrity\n"
     ]
    },
    {
     "name": "stdout",
     "output_type": "stream",
     "text": [
      "Mask correctly processed and saved for the following file: 000577.jpg\n",
      "\n",
      "image 1/1 /Users/mariarisques/TAED2_YOLOs/data/processed/images/val/001872.jpg: 640x480 1 person, 657.9ms\n",
      "Speed: 1.4ms preprocess, 657.9ms inference, 0.8ms postprocess per image at shape (1, 3, 640, 480)\n"
     ]
    },
    {
     "name": "stderr",
     "output_type": "stream",
     "text": [
      "[ WARN:0@1183.908] global loadsave.cpp:241 findDecoder imread_('/Users/mariarisques/TAED2_YOLOs/data/processed/masks_post/val/001872.png'): can't open/read file: check file path/integrity\n"
     ]
    },
    {
     "name": "stdout",
     "output_type": "stream",
     "text": [
      "Mask correctly processed and saved for the following file: 001872.jpg\n",
      "\n",
      "image 1/1 /Users/mariarisques/TAED2_YOLOs/data/processed/images/val/000985.jpg: 384x640 (no detections), 445.1ms\n",
      "Speed: 1.1ms preprocess, 445.1ms inference, 0.2ms postprocess per image at shape (1, 3, 384, 640)\n",
      "Mask correctly processed and saved for the following file: 000985.jpg\n",
      "\n",
      "image 1/1 /Users/mariarisques/TAED2_YOLOs/data/processed/images/val/001331.jpg: 384x640 1 person, 440.9ms\n",
      "Speed: 1.0ms preprocess, 440.9ms inference, 0.8ms postprocess per image at shape (1, 3, 384, 640)\n"
     ]
    },
    {
     "name": "stderr",
     "output_type": "stream",
     "text": [
      "[ WARN:0@1185.310] global loadsave.cpp:241 findDecoder imread_('/Users/mariarisques/TAED2_YOLOs/data/processed/masks_post/val/001331.png'): can't open/read file: check file path/integrity\n"
     ]
    },
    {
     "name": "stdout",
     "output_type": "stream",
     "text": [
      "Mask correctly processed and saved for the following file: 001331.jpg\n",
      "\n",
      "image 1/1 /Users/mariarisques/TAED2_YOLOs/data/processed/images/val/003240.jpg: 448x640 1 person, 496.0ms\n",
      "Speed: 1.4ms preprocess, 496.0ms inference, 1.4ms postprocess per image at shape (1, 3, 448, 640)\n"
     ]
    },
    {
     "name": "stderr",
     "output_type": "stream",
     "text": [
      "[ WARN:0@1186.213] global loadsave.cpp:241 findDecoder imread_('/Users/mariarisques/TAED2_YOLOs/data/processed/masks_post/val/003240.png'): can't open/read file: check file path/integrity\n"
     ]
    },
    {
     "name": "stdout",
     "output_type": "stream",
     "text": [
      "Mask correctly processed and saved for the following file: 003240.jpg\n",
      "\n",
      "image 1/1 /Users/mariarisques/TAED2_YOLOs/data/processed/images/val/002176.jpg: 384x640 1 person, 436.5ms\n",
      "Speed: 1.0ms preprocess, 436.5ms inference, 0.8ms postprocess per image at shape (1, 3, 384, 640)\n"
     ]
    },
    {
     "name": "stderr",
     "output_type": "stream",
     "text": [
      "[ WARN:0@1187.143] global loadsave.cpp:241 findDecoder imread_('/Users/mariarisques/TAED2_YOLOs/data/processed/masks_post/val/002176.png'): can't open/read file: check file path/integrity\n"
     ]
    },
    {
     "name": "stdout",
     "output_type": "stream",
     "text": [
      "Mask correctly processed and saved for the following file: 002176.jpg\n",
      "\n",
      "image 1/1 /Users/mariarisques/TAED2_YOLOs/data/processed/images/val/004507.jpg: 416x640 1 person, 469.9ms\n",
      "Speed: 1.2ms preprocess, 469.9ms inference, 0.8ms postprocess per image at shape (1, 3, 416, 640)\n"
     ]
    },
    {
     "name": "stderr",
     "output_type": "stream",
     "text": [
      "[ WARN:0@1188.017] global loadsave.cpp:241 findDecoder imread_('/Users/mariarisques/TAED2_YOLOs/data/processed/masks_post/val/004507.png'): can't open/read file: check file path/integrity\n"
     ]
    },
    {
     "name": "stdout",
     "output_type": "stream",
     "text": [
      "Mask correctly processed and saved for the following file: 004507.jpg\n",
      "\n",
      "image 1/1 /Users/mariarisques/TAED2_YOLOs/data/processed/images/val/004261.jpg: 640x448 1 person, 509.3ms\n",
      "Speed: 1.3ms preprocess, 509.3ms inference, 1.2ms postprocess per image at shape (1, 3, 640, 448)\n"
     ]
    },
    {
     "name": "stderr",
     "output_type": "stream",
     "text": [
      "[ WARN:0@1188.976] global loadsave.cpp:241 findDecoder imread_('/Users/mariarisques/TAED2_YOLOs/data/processed/masks_post/val/004261.png'): can't open/read file: check file path/integrity\n"
     ]
    },
    {
     "name": "stdout",
     "output_type": "stream",
     "text": [
      "Mask correctly processed and saved for the following file: 004261.jpg\n",
      "\n",
      "image 1/1 /Users/mariarisques/TAED2_YOLOs/data/processed/images/val/002162.jpg: 448x640 1 person, 494.6ms\n",
      "Speed: 1.4ms preprocess, 494.6ms inference, 0.9ms postprocess per image at shape (1, 3, 448, 640)\n"
     ]
    },
    {
     "name": "stderr",
     "output_type": "stream",
     "text": [
      "[ WARN:0@1189.949] global loadsave.cpp:241 findDecoder imread_('/Users/mariarisques/TAED2_YOLOs/data/processed/masks_post/val/002162.png'): can't open/read file: check file path/integrity\n"
     ]
    },
    {
     "name": "stdout",
     "output_type": "stream",
     "text": [
      "Mask correctly processed and saved for the following file: 002162.jpg\n",
      "\n",
      "image 1/1 /Users/mariarisques/TAED2_YOLOs/data/processed/images/val/003283.jpg: 448x640 1 person, 509.5ms\n",
      "Speed: 1.2ms preprocess, 509.5ms inference, 0.9ms postprocess per image at shape (1, 3, 448, 640)\n"
     ]
    },
    {
     "name": "stderr",
     "output_type": "stream",
     "text": [
      "[ WARN:0@1190.932] global loadsave.cpp:241 findDecoder imread_('/Users/mariarisques/TAED2_YOLOs/data/processed/masks_post/val/003283.png'): can't open/read file: check file path/integrity\n"
     ]
    },
    {
     "name": "stdout",
     "output_type": "stream",
     "text": [
      "Mask correctly processed and saved for the following file: 003283.jpg\n",
      "\n",
      "image 1/1 /Users/mariarisques/TAED2_YOLOs/data/processed/images/val/002822.jpg: 448x640 1 person, 497.4ms\n",
      "Speed: 1.4ms preprocess, 497.4ms inference, 0.9ms postprocess per image at shape (1, 3, 448, 640)\n"
     ]
    },
    {
     "name": "stderr",
     "output_type": "stream",
     "text": [
      "[ WARN:0@1191.917] global loadsave.cpp:241 findDecoder imread_('/Users/mariarisques/TAED2_YOLOs/data/processed/masks_post/val/002822.png'): can't open/read file: check file path/integrity\n"
     ]
    },
    {
     "name": "stdout",
     "output_type": "stream",
     "text": [
      "Mask correctly processed and saved for the following file: 002822.jpg\n",
      "\n",
      "image 1/1 /Users/mariarisques/TAED2_YOLOs/data/processed/images/val/001495.jpg: 448x640 1 person, 512.7ms\n",
      "Speed: 1.5ms preprocess, 512.7ms inference, 0.8ms postprocess per image at shape (1, 3, 448, 640)\n"
     ]
    },
    {
     "name": "stderr",
     "output_type": "stream",
     "text": [
      "[ WARN:0@1192.899] global loadsave.cpp:241 findDecoder imread_('/Users/mariarisques/TAED2_YOLOs/data/processed/masks_post/val/001495.png'): can't open/read file: check file path/integrity\n"
     ]
    },
    {
     "name": "stdout",
     "output_type": "stream",
     "text": [
      "Mask correctly processed and saved for the following file: 001495.jpg\n",
      "\n",
      "image 1/1 /Users/mariarisques/TAED2_YOLOs/data/processed/images/val/002605.jpg: 448x640 1 person, 517.1ms\n",
      "Speed: 1.2ms preprocess, 517.1ms inference, 1.0ms postprocess per image at shape (1, 3, 448, 640)\n"
     ]
    },
    {
     "name": "stderr",
     "output_type": "stream",
     "text": [
      "[ WARN:0@1193.884] global loadsave.cpp:241 findDecoder imread_('/Users/mariarisques/TAED2_YOLOs/data/processed/masks_post/val/002605.png'): can't open/read file: check file path/integrity\n"
     ]
    },
    {
     "name": "stdout",
     "output_type": "stream",
     "text": [
      "Mask correctly processed and saved for the following file: 002605.jpg\n",
      "\n",
      "image 1/1 /Users/mariarisques/TAED2_YOLOs/data/processed/images/val/000774.jpg: 480x640 1 person, 541.6ms\n",
      "Speed: 1.2ms preprocess, 541.6ms inference, 1.4ms postprocess per image at shape (1, 3, 480, 640)\n"
     ]
    },
    {
     "name": "stderr",
     "output_type": "stream",
     "text": [
      "[ WARN:0@1194.897] global loadsave.cpp:241 findDecoder imread_('/Users/mariarisques/TAED2_YOLOs/data/processed/masks_post/val/000774.png'): can't open/read file: check file path/integrity\n"
     ]
    },
    {
     "name": "stdout",
     "output_type": "stream",
     "text": [
      "Mask correctly processed and saved for the following file: 000774.jpg\n",
      "\n",
      "image 1/1 /Users/mariarisques/TAED2_YOLOs/data/processed/images/val/005156.jpg: 448x640 1 person, 535.5ms\n",
      "Speed: 1.2ms preprocess, 535.5ms inference, 0.8ms postprocess per image at shape (1, 3, 448, 640)\n"
     ]
    },
    {
     "name": "stderr",
     "output_type": "stream",
     "text": [
      "[ WARN:0@1195.956] global loadsave.cpp:241 findDecoder imread_('/Users/mariarisques/TAED2_YOLOs/data/processed/masks_post/val/005156.png'): can't open/read file: check file path/integrity\n"
     ]
    },
    {
     "name": "stdout",
     "output_type": "stream",
     "text": [
      "Mask correctly processed and saved for the following file: 005156.jpg\n",
      "\n",
      "image 1/1 /Users/mariarisques/TAED2_YOLOs/data/processed/images/val/004248.jpg: 640x640 1 person, 839.2ms\n",
      "Speed: 2.0ms preprocess, 839.2ms inference, 1.1ms postprocess per image at shape (1, 3, 640, 640)\n"
     ]
    },
    {
     "name": "stderr",
     "output_type": "stream",
     "text": [
      "[ WARN:0@1197.259] global loadsave.cpp:241 findDecoder imread_('/Users/mariarisques/TAED2_YOLOs/data/processed/masks_post/val/004248.png'): can't open/read file: check file path/integrity\n"
     ]
    },
    {
     "name": "stdout",
     "output_type": "stream",
     "text": [
      "Mask correctly processed and saved for the following file: 004248.jpg\n",
      "\n",
      "image 1/1 /Users/mariarisques/TAED2_YOLOs/data/processed/images/val/000990.jpg: 448x640 2 persons, 501.3ms\n",
      "Speed: 1.3ms preprocess, 501.3ms inference, 1.1ms postprocess per image at shape (1, 3, 448, 640)\n"
     ]
    },
    {
     "name": "stderr",
     "output_type": "stream",
     "text": [
      "[ WARN:0@1198.471] global loadsave.cpp:241 findDecoder imread_('/Users/mariarisques/TAED2_YOLOs/data/processed/masks_post/val/000990.png'): can't open/read file: check file path/integrity\n"
     ]
    },
    {
     "name": "stdout",
     "output_type": "stream",
     "text": [
      "Mask correctly processed and saved for the following file: 000990.jpg\n",
      "\n",
      "image 1/1 /Users/mariarisques/TAED2_YOLOs/data/processed/images/val/001668.jpg: 640x448 1 person, 511.9ms\n",
      "Speed: 1.2ms preprocess, 511.9ms inference, 0.8ms postprocess per image at shape (1, 3, 640, 448)\n"
     ]
    },
    {
     "name": "stderr",
     "output_type": "stream",
     "text": [
      "[ WARN:0@1199.470] global loadsave.cpp:241 findDecoder imread_('/Users/mariarisques/TAED2_YOLOs/data/processed/masks_post/val/001668.png'): can't open/read file: check file path/integrity\n"
     ]
    },
    {
     "name": "stdout",
     "output_type": "stream",
     "text": [
      "Mask correctly processed and saved for the following file: 001668.jpg\n",
      "\n",
      "image 1/1 /Users/mariarisques/TAED2_YOLOs/data/processed/images/val/005432.jpg: 480x640 2 persons, 538.7ms\n",
      "Speed: 1.3ms preprocess, 538.7ms inference, 1.4ms postprocess per image at shape (1, 3, 480, 640)\n"
     ]
    },
    {
     "name": "stderr",
     "output_type": "stream",
     "text": [
      "[ WARN:0@1200.484] global loadsave.cpp:241 findDecoder imread_('/Users/mariarisques/TAED2_YOLOs/data/processed/masks_post/val/005432.png'): can't open/read file: check file path/integrity\n"
     ]
    },
    {
     "name": "stdout",
     "output_type": "stream",
     "text": [
      "Mask correctly processed and saved for the following file: 005432.jpg\n",
      "\n",
      "image 1/1 /Users/mariarisques/TAED2_YOLOs/data/processed/images/val/003043.jpg: 640x480 1 person, 527.5ms\n",
      "Speed: 1.5ms preprocess, 527.5ms inference, 0.8ms postprocess per image at shape (1, 3, 640, 480)\n"
     ]
    },
    {
     "name": "stderr",
     "output_type": "stream",
     "text": [
      "[ WARN:0@1201.536] global loadsave.cpp:241 findDecoder imread_('/Users/mariarisques/TAED2_YOLOs/data/processed/masks_post/val/003043.png'): can't open/read file: check file path/integrity\n"
     ]
    },
    {
     "name": "stdout",
     "output_type": "stream",
     "text": [
      "Mask correctly processed and saved for the following file: 003043.jpg\n",
      "\n",
      "image 1/1 /Users/mariarisques/TAED2_YOLOs/data/processed/images/val/001654.jpg: 320x640 1 person, 507.6ms\n",
      "Speed: 0.9ms preprocess, 507.6ms inference, 1.4ms postprocess per image at shape (1, 3, 320, 640)\n"
     ]
    },
    {
     "name": "stderr",
     "output_type": "stream",
     "text": [
      "[ WARN:0@1202.578] global loadsave.cpp:241 findDecoder imread_('/Users/mariarisques/TAED2_YOLOs/data/processed/masks_post/val/001654.png'): can't open/read file: check file path/integrity\n"
     ]
    },
    {
     "name": "stdout",
     "output_type": "stream",
     "text": [
      "Mask correctly processed and saved for the following file: 001654.jpg\n",
      "\n",
      "image 1/1 /Users/mariarisques/TAED2_YOLOs/data/processed/images/val/005354.jpg: 448x640 1 person, 522.1ms\n",
      "Speed: 1.4ms preprocess, 522.1ms inference, 1.3ms postprocess per image at shape (1, 3, 448, 640)\n"
     ]
    },
    {
     "name": "stderr",
     "output_type": "stream",
     "text": [
      "[ WARN:0@1203.447] global loadsave.cpp:241 findDecoder imread_('/Users/mariarisques/TAED2_YOLOs/data/processed/masks_post/val/005354.png'): can't open/read file: check file path/integrity\n"
     ]
    },
    {
     "name": "stdout",
     "output_type": "stream",
     "text": [
      "Mask correctly processed and saved for the following file: 005354.jpg\n",
      "\n",
      "image 1/1 /Users/mariarisques/TAED2_YOLOs/data/processed/images/val/001898.jpg: 448x640 1 person, 502.0ms\n",
      "Speed: 1.4ms preprocess, 502.0ms inference, 0.9ms postprocess per image at shape (1, 3, 448, 640)\n"
     ]
    },
    {
     "name": "stderr",
     "output_type": "stream",
     "text": [
      "[ WARN:0@1204.409] global loadsave.cpp:241 findDecoder imread_('/Users/mariarisques/TAED2_YOLOs/data/processed/masks_post/val/001898.png'): can't open/read file: check file path/integrity\n"
     ]
    },
    {
     "name": "stdout",
     "output_type": "stream",
     "text": [
      "Mask correctly processed and saved for the following file: 001898.jpg\n",
      "\n",
      "image 1/1 /Users/mariarisques/TAED2_YOLOs/data/processed/images/val/003862.jpg: 448x640 1 person, 521.7ms\n",
      "Speed: 1.2ms preprocess, 521.7ms inference, 1.4ms postprocess per image at shape (1, 3, 448, 640)\n"
     ]
    },
    {
     "name": "stderr",
     "output_type": "stream",
     "text": [
      "[ WARN:0@1205.400] global loadsave.cpp:241 findDecoder imread_('/Users/mariarisques/TAED2_YOLOs/data/processed/masks_post/val/003862.png'): can't open/read file: check file path/integrity\n"
     ]
    },
    {
     "name": "stdout",
     "output_type": "stream",
     "text": [
      "Mask correctly processed and saved for the following file: 003862.jpg\n",
      "\n",
      "image 1/1 /Users/mariarisques/TAED2_YOLOs/data/processed/images/val/004102.jpg: 640x448 1 person, 504.7ms\n",
      "Speed: 1.4ms preprocess, 504.7ms inference, 0.9ms postprocess per image at shape (1, 3, 640, 448)\n"
     ]
    },
    {
     "name": "stderr",
     "output_type": "stream",
     "text": [
      "[ WARN:0@1206.374] global loadsave.cpp:241 findDecoder imread_('/Users/mariarisques/TAED2_YOLOs/data/processed/masks_post/val/004102.png'): can't open/read file: check file path/integrity\n"
     ]
    },
    {
     "name": "stdout",
     "output_type": "stream",
     "text": [
      "Mask correctly processed and saved for the following file: 004102.jpg\n",
      "\n",
      "image 1/1 /Users/mariarisques/TAED2_YOLOs/data/processed/images/val/004116.jpg: 448x640 2 persons, 503.0ms\n",
      "Speed: 1.2ms preprocess, 503.0ms inference, 1.1ms postprocess per image at shape (1, 3, 448, 640)\n"
     ]
    },
    {
     "name": "stderr",
     "output_type": "stream",
     "text": [
      "[ WARN:0@1207.338] global loadsave.cpp:241 findDecoder imread_('/Users/mariarisques/TAED2_YOLOs/data/processed/masks_post/val/004116.png'): can't open/read file: check file path/integrity\n"
     ]
    },
    {
     "name": "stdout",
     "output_type": "stream",
     "text": [
      "Mask correctly processed and saved for the following file: 004116.jpg\n",
      "\n",
      "image 1/1 /Users/mariarisques/TAED2_YOLOs/data/processed/images/val/001708.jpg: 448x640 1 person, 503.9ms\n",
      "Speed: 1.2ms preprocess, 503.9ms inference, 0.9ms postprocess per image at shape (1, 3, 448, 640)\n"
     ]
    },
    {
     "name": "stderr",
     "output_type": "stream",
     "text": [
      "[ WARN:0@1208.318] global loadsave.cpp:241 findDecoder imread_('/Users/mariarisques/TAED2_YOLOs/data/processed/masks_post/val/001708.png'): can't open/read file: check file path/integrity\n"
     ]
    },
    {
     "name": "stdout",
     "output_type": "stream",
     "text": [
      "Mask correctly processed and saved for the following file: 001708.jpg\n",
      "\n",
      "image 1/1 /Users/mariarisques/TAED2_YOLOs/data/processed/images/val/002956.jpg: 640x512 1 person, 725.6ms\n",
      "Speed: 1.4ms preprocess, 725.6ms inference, 1.2ms postprocess per image at shape (1, 3, 640, 512)\n"
     ]
    },
    {
     "name": "stderr",
     "output_type": "stream",
     "text": [
      "[ WARN:0@1209.512] global loadsave.cpp:241 findDecoder imread_('/Users/mariarisques/TAED2_YOLOs/data/processed/masks_post/val/002956.png'): can't open/read file: check file path/integrity\n"
     ]
    },
    {
     "name": "stdout",
     "output_type": "stream",
     "text": [
      "Mask correctly processed and saved for the following file: 002956.jpg\n",
      "\n",
      "image 1/1 /Users/mariarisques/TAED2_YOLOs/data/processed/images/val/001293.jpg: 448x640 1 person, 506.0ms\n",
      "Speed: 1.2ms preprocess, 506.0ms inference, 1.3ms postprocess per image at shape (1, 3, 448, 640)\n"
     ]
    },
    {
     "name": "stderr",
     "output_type": "stream",
     "text": [
      "[ WARN:0@1210.583] global loadsave.cpp:241 findDecoder imread_('/Users/mariarisques/TAED2_YOLOs/data/processed/masks_post/val/001293.png'): can't open/read file: check file path/integrity\n"
     ]
    },
    {
     "name": "stdout",
     "output_type": "stream",
     "text": [
      "Mask correctly processed and saved for the following file: 001293.jpg\n",
      "\n",
      "image 1/1 /Users/mariarisques/TAED2_YOLOs/data/processed/images/val/001522.jpg: 448x640 1 person, 500.7ms\n",
      "Speed: 1.2ms preprocess, 500.7ms inference, 1.3ms postprocess per image at shape (1, 3, 448, 640)\n"
     ]
    },
    {
     "name": "stderr",
     "output_type": "stream",
     "text": [
      "[ WARN:0@1211.559] global loadsave.cpp:241 findDecoder imread_('/Users/mariarisques/TAED2_YOLOs/data/processed/masks_post/val/001522.png'): can't open/read file: check file path/integrity\n"
     ]
    },
    {
     "name": "stdout",
     "output_type": "stream",
     "text": [
      "Mask correctly processed and saved for the following file: 001522.jpg\n",
      "\n",
      "image 1/1 /Users/mariarisques/TAED2_YOLOs/data/processed/images/val/003447.jpg: 384x640 1 person, 559.6ms\n",
      "Speed: 1.1ms preprocess, 559.6ms inference, 1.3ms postprocess per image at shape (1, 3, 384, 640)\n"
     ]
    },
    {
     "name": "stderr",
     "output_type": "stream",
     "text": [
      "[ WARN:0@1212.583] global loadsave.cpp:241 findDecoder imread_('/Users/mariarisques/TAED2_YOLOs/data/processed/masks_post/val/003447.png'): can't open/read file: check file path/integrity\n"
     ]
    },
    {
     "name": "stdout",
     "output_type": "stream",
     "text": [
      "Mask correctly processed and saved for the following file: 003447.jpg\n",
      "\n",
      "image 1/1 /Users/mariarisques/TAED2_YOLOs/data/processed/images/val/003337.jpg: 448x640 3 persons, 512.6ms\n",
      "Speed: 1.2ms preprocess, 512.6ms inference, 1.9ms postprocess per image at shape (1, 3, 448, 640)\n"
     ]
    },
    {
     "name": "stderr",
     "output_type": "stream",
     "text": [
      "[ WARN:0@1213.500] global loadsave.cpp:241 findDecoder imread_('/Users/mariarisques/TAED2_YOLOs/data/processed/masks_post/val/003337.png'): can't open/read file: check file path/integrity\n"
     ]
    },
    {
     "name": "stdout",
     "output_type": "stream",
     "text": [
      "Mask correctly processed and saved for the following file: 003337.jpg\n",
      "\n",
      "image 1/1 /Users/mariarisques/TAED2_YOLOs/data/processed/images/val/005034.jpg: 384x640 1 person, 467.9ms\n",
      "Speed: 1.2ms preprocess, 467.9ms inference, 1.4ms postprocess per image at shape (1, 3, 384, 640)\n"
     ]
    },
    {
     "name": "stderr",
     "output_type": "stream",
     "text": [
      "[ WARN:0@1214.432] global loadsave.cpp:241 findDecoder imread_('/Users/mariarisques/TAED2_YOLOs/data/processed/masks_post/val/005034.png'): can't open/read file: check file path/integrity\n"
     ]
    },
    {
     "name": "stdout",
     "output_type": "stream",
     "text": [
      "Mask correctly processed and saved for the following file: 005034.jpg\n",
      "\n",
      "image 1/1 /Users/mariarisques/TAED2_YOLOs/data/processed/images/val/002773.jpg: 448x640 1 person, 517.9ms\n",
      "Speed: 1.2ms preprocess, 517.9ms inference, 1.1ms postprocess per image at shape (1, 3, 448, 640)\n"
     ]
    },
    {
     "name": "stderr",
     "output_type": "stream",
     "text": [
      "[ WARN:0@1215.338] global loadsave.cpp:241 findDecoder imread_('/Users/mariarisques/TAED2_YOLOs/data/processed/masks_post/val/002773.png'): can't open/read file: check file path/integrity\n"
     ]
    },
    {
     "name": "stdout",
     "output_type": "stream",
     "text": [
      "Mask correctly processed and saved for the following file: 002773.jpg\n",
      "\n",
      "image 1/1 /Users/mariarisques/TAED2_YOLOs/data/processed/images/val/002767.jpg: 640x544 1 person, 737.7ms\n",
      "Speed: 1.4ms preprocess, 737.7ms inference, 1.5ms postprocess per image at shape (1, 3, 640, 544)\n"
     ]
    },
    {
     "name": "stderr",
     "output_type": "stream",
     "text": [
      "[ WARN:0@1216.547] global loadsave.cpp:241 findDecoder imread_('/Users/mariarisques/TAED2_YOLOs/data/processed/masks_post/val/002767.png'): can't open/read file: check file path/integrity\n"
     ]
    },
    {
     "name": "stdout",
     "output_type": "stream",
     "text": [
      "Mask correctly processed and saved for the following file: 002767.jpg\n",
      "\n",
      "image 1/1 /Users/mariarisques/TAED2_YOLOs/data/processed/images/val/001285.jpg: 448x640 1 person, 505.1ms\n",
      "Speed: 1.2ms preprocess, 505.1ms inference, 1.2ms postprocess per image at shape (1, 3, 448, 640)\n"
     ]
    },
    {
     "name": "stderr",
     "output_type": "stream",
     "text": [
      "[ WARN:0@1217.633] global loadsave.cpp:241 findDecoder imread_('/Users/mariarisques/TAED2_YOLOs/data/processed/masks_post/val/001285.png'): can't open/read file: check file path/integrity\n"
     ]
    },
    {
     "name": "stdout",
     "output_type": "stream",
     "text": [
      "Mask correctly processed and saved for the following file: 001285.jpg\n",
      "\n",
      "image 1/1 /Users/mariarisques/TAED2_YOLOs/data/processed/images/val/001291.jpg: 640x448 1 person, 489.0ms\n",
      "Speed: 1.2ms preprocess, 489.0ms inference, 0.8ms postprocess per image at shape (1, 3, 640, 448)\n"
     ]
    },
    {
     "name": "stderr",
     "output_type": "stream",
     "text": [
      "[ WARN:0@1218.594] global loadsave.cpp:241 findDecoder imread_('/Users/mariarisques/TAED2_YOLOs/data/processed/masks_post/val/001291.png'): can't open/read file: check file path/integrity\n"
     ]
    },
    {
     "name": "stdout",
     "output_type": "stream",
     "text": [
      "Mask correctly processed and saved for the following file: 001291.jpg\n",
      "\n",
      "image 1/1 /Users/mariarisques/TAED2_YOLOs/data/processed/images/val/000831.jpg: 480x640 2 persons, 540.2ms\n",
      "Speed: 1.3ms preprocess, 540.2ms inference, 1.5ms postprocess per image at shape (1, 3, 480, 640)\n"
     ]
    },
    {
     "name": "stderr",
     "output_type": "stream",
     "text": [
      "[ WARN:0@1219.615] global loadsave.cpp:241 findDecoder imread_('/Users/mariarisques/TAED2_YOLOs/data/processed/masks_post/val/000831.png'): can't open/read file: check file path/integrity\n"
     ]
    },
    {
     "name": "stdout",
     "output_type": "stream",
     "text": [
      "Mask correctly processed and saved for the following file: 000831.jpg\n",
      "\n",
      "image 1/1 /Users/mariarisques/TAED2_YOLOs/data/processed/images/val/002217.jpg: 448x640 1 person, 499.3ms\n",
      "Speed: 1.2ms preprocess, 499.3ms inference, 1.4ms postprocess per image at shape (1, 3, 448, 640)\n"
     ]
    },
    {
     "name": "stderr",
     "output_type": "stream",
     "text": [
      "[ WARN:0@1220.637] global loadsave.cpp:241 findDecoder imread_('/Users/mariarisques/TAED2_YOLOs/data/processed/masks_post/val/002217.png'): can't open/read file: check file path/integrity\n"
     ]
    },
    {
     "name": "stdout",
     "output_type": "stream",
     "text": [
      "Mask correctly processed and saved for the following file: 002217.jpg\n",
      "\n",
      "image 1/1 /Users/mariarisques/TAED2_YOLOs/data/processed/images/val/004114.jpg: 480x640 1 person, 525.8ms\n",
      "Speed: 1.3ms preprocess, 525.8ms inference, 0.9ms postprocess per image at shape (1, 3, 480, 640)\n"
     ]
    },
    {
     "name": "stderr",
     "output_type": "stream",
     "text": [
      "[ WARN:0@1221.631] global loadsave.cpp:241 findDecoder imread_('/Users/mariarisques/TAED2_YOLOs/data/processed/masks_post/val/004114.png'): can't open/read file: check file path/integrity\n"
     ]
    },
    {
     "name": "stdout",
     "output_type": "stream",
     "text": [
      "Mask correctly processed and saved for the following file: 004114.jpg\n",
      "\n",
      "image 1/1 /Users/mariarisques/TAED2_YOLOs/data/processed/images/val/004855.jpg: 640x448 1 person, 496.2ms\n",
      "Speed: 1.3ms preprocess, 496.2ms inference, 1.3ms postprocess per image at shape (1, 3, 640, 448)\n"
     ]
    },
    {
     "name": "stderr",
     "output_type": "stream",
     "text": [
      "[ WARN:0@1222.618] global loadsave.cpp:241 findDecoder imread_('/Users/mariarisques/TAED2_YOLOs/data/processed/masks_post/val/004855.png'): can't open/read file: check file path/integrity\n"
     ]
    },
    {
     "name": "stdout",
     "output_type": "stream",
     "text": [
      "Mask correctly processed and saved for the following file: 004855.jpg\n",
      "\n",
      "image 1/1 /Users/mariarisques/TAED2_YOLOs/data/processed/images/val/005356.jpg: 384x640 1 person, 457.4ms\n",
      "Speed: 1.0ms preprocess, 457.4ms inference, 1.3ms postprocess per image at shape (1, 3, 384, 640)\n"
     ]
    },
    {
     "name": "stderr",
     "output_type": "stream",
     "text": [
      "[ WARN:0@1223.544] global loadsave.cpp:241 findDecoder imread_('/Users/mariarisques/TAED2_YOLOs/data/processed/masks_post/val/005356.png'): can't open/read file: check file path/integrity\n"
     ]
    },
    {
     "name": "stdout",
     "output_type": "stream",
     "text": [
      "Mask correctly processed and saved for the following file: 005356.jpg\n",
      "\n",
      "image 1/1 /Users/mariarisques/TAED2_YOLOs/data/processed/images/val/001656.jpg: 448x640 1 person, 498.0ms\n",
      "Speed: 1.2ms preprocess, 498.0ms inference, 1.1ms postprocess per image at shape (1, 3, 448, 640)\n"
     ]
    },
    {
     "name": "stderr",
     "output_type": "stream",
     "text": [
      "[ WARN:0@1224.449] global loadsave.cpp:241 findDecoder imread_('/Users/mariarisques/TAED2_YOLOs/data/processed/masks_post/val/001656.png'): can't open/read file: check file path/integrity\n"
     ]
    },
    {
     "name": "stdout",
     "output_type": "stream",
     "text": [
      "Mask correctly processed and saved for the following file: 001656.jpg\n",
      "\n",
      "image 1/1 /Users/mariarisques/TAED2_YOLOs/data/processed/images/val/003733.jpg: 640x448 1 person, 505.7ms\n",
      "Speed: 1.2ms preprocess, 505.7ms inference, 1.4ms postprocess per image at shape (1, 3, 640, 448)\n"
     ]
    },
    {
     "name": "stderr",
     "output_type": "stream",
     "text": [
      "[ WARN:0@1225.417] global loadsave.cpp:241 findDecoder imread_('/Users/mariarisques/TAED2_YOLOs/data/processed/masks_post/val/003733.png'): can't open/read file: check file path/integrity\n"
     ]
    },
    {
     "name": "stdout",
     "output_type": "stream",
     "text": [
      "Mask correctly processed and saved for the following file: 003733.jpg\n",
      "\n",
      "image 1/1 /Users/mariarisques/TAED2_YOLOs/data/processed/images/val/000574.jpg: 448x640 1 person, 496.6ms\n",
      "Speed: 1.2ms preprocess, 496.6ms inference, 0.9ms postprocess per image at shape (1, 3, 448, 640)\n"
     ]
    },
    {
     "name": "stderr",
     "output_type": "stream",
     "text": [
      "[ WARN:0@1226.380] global loadsave.cpp:241 findDecoder imread_('/Users/mariarisques/TAED2_YOLOs/data/processed/masks_post/val/000574.png'): can't open/read file: check file path/integrity\n"
     ]
    },
    {
     "name": "stdout",
     "output_type": "stream",
     "text": [
      "Mask correctly processed and saved for the following file: 000574.jpg\n",
      "\n",
      "image 1/1 /Users/mariarisques/TAED2_YOLOs/data/processed/images/val/001695.jpg: 640x448 1 person, 502.3ms\n",
      "Speed: 1.2ms preprocess, 502.3ms inference, 0.9ms postprocess per image at shape (1, 3, 640, 448)\n"
     ]
    },
    {
     "name": "stderr",
     "output_type": "stream",
     "text": [
      "[ WARN:0@1227.345] global loadsave.cpp:241 findDecoder imread_('/Users/mariarisques/TAED2_YOLOs/data/processed/masks_post/val/001695.png'): can't open/read file: check file path/integrity\n"
     ]
    },
    {
     "name": "stdout",
     "output_type": "stream",
     "text": [
      "Mask correctly processed and saved for the following file: 001695.jpg\n",
      "\n",
      "image 1/1 /Users/mariarisques/TAED2_YOLOs/data/processed/images/val/003257.jpg: 448x640 1 person, 490.7ms\n",
      "Speed: 1.2ms preprocess, 490.7ms inference, 0.9ms postprocess per image at shape (1, 3, 448, 640)\n"
     ]
    },
    {
     "name": "stderr",
     "output_type": "stream",
     "text": [
      "[ WARN:0@1228.330] global loadsave.cpp:241 findDecoder imread_('/Users/mariarisques/TAED2_YOLOs/data/processed/masks_post/val/003257.png'): can't open/read file: check file path/integrity\n"
     ]
    },
    {
     "name": "stdout",
     "output_type": "stream",
     "text": [
      "Mask correctly processed and saved for the following file: 003257.jpg\n",
      "\n",
      "image 1/1 /Users/mariarisques/TAED2_YOLOs/data/processed/images/val/004276.jpg: 640x448 1 person, 495.0ms\n",
      "Speed: 1.4ms preprocess, 495.0ms inference, 0.8ms postprocess per image at shape (1, 3, 640, 448)\n"
     ]
    },
    {
     "name": "stderr",
     "output_type": "stream",
     "text": [
      "[ WARN:0@1229.292] global loadsave.cpp:241 findDecoder imread_('/Users/mariarisques/TAED2_YOLOs/data/processed/masks_post/val/004276.png'): can't open/read file: check file path/integrity\n"
     ]
    },
    {
     "name": "stdout",
     "output_type": "stream",
     "text": [
      "Mask correctly processed and saved for the following file: 004276.jpg\n",
      "\n",
      "image 1/1 /Users/mariarisques/TAED2_YOLOs/data/processed/images/val/004504.jpg: 448x640 1 person, 501.7ms\n",
      "Speed: 1.3ms preprocess, 501.7ms inference, 0.8ms postprocess per image at shape (1, 3, 448, 640)\n"
     ]
    },
    {
     "name": "stderr",
     "output_type": "stream",
     "text": [
      "[ WARN:0@1230.257] global loadsave.cpp:241 findDecoder imread_('/Users/mariarisques/TAED2_YOLOs/data/processed/masks_post/val/004504.png'): can't open/read file: check file path/integrity\n"
     ]
    },
    {
     "name": "stdout",
     "output_type": "stream",
     "text": [
      "Mask correctly processed and saved for the following file: 004504.jpg\n",
      "\n",
      "image 1/1 /Users/mariarisques/TAED2_YOLOs/data/processed/images/val/000789.jpg: 448x640 1 person, 502.8ms\n",
      "Speed: 1.2ms preprocess, 502.8ms inference, 0.9ms postprocess per image at shape (1, 3, 448, 640)\n"
     ]
    },
    {
     "name": "stderr",
     "output_type": "stream",
     "text": [
      "[ WARN:0@1231.236] global loadsave.cpp:241 findDecoder imread_('/Users/mariarisques/TAED2_YOLOs/data/processed/masks_post/val/000789.png'): can't open/read file: check file path/integrity\n"
     ]
    },
    {
     "name": "stdout",
     "output_type": "stream",
     "text": [
      "Mask correctly processed and saved for the following file: 000789.jpg\n",
      "\n",
      "image 1/1 /Users/mariarisques/TAED2_YOLOs/data/processed/images/val/003280.jpg: 448x640 1 person, 510.5ms\n",
      "Speed: 1.2ms preprocess, 510.5ms inference, 0.8ms postprocess per image at shape (1, 3, 448, 640)\n"
     ]
    },
    {
     "name": "stderr",
     "output_type": "stream",
     "text": [
      "[ WARN:0@1232.232] global loadsave.cpp:241 findDecoder imread_('/Users/mariarisques/TAED2_YOLOs/data/processed/masks_post/val/003280.png'): can't open/read file: check file path/integrity\n"
     ]
    },
    {
     "name": "stdout",
     "output_type": "stream",
     "text": [
      "Mask correctly processed and saved for the following file: 003280.jpg\n",
      "\n",
      "image 1/1 /Users/mariarisques/TAED2_YOLOs/data/processed/images/val/004289.jpg: 448x640 1 person, 504.8ms\n",
      "Speed: 1.2ms preprocess, 504.8ms inference, 0.9ms postprocess per image at shape (1, 3, 448, 640)\n"
     ]
    },
    {
     "name": "stderr",
     "output_type": "stream",
     "text": [
      "[ WARN:0@1233.205] global loadsave.cpp:241 findDecoder imread_('/Users/mariarisques/TAED2_YOLOs/data/processed/masks_post/val/004289.png'): can't open/read file: check file path/integrity\n"
     ]
    },
    {
     "name": "stdout",
     "output_type": "stream",
     "text": [
      "Mask correctly processed and saved for the following file: 004289.jpg\n",
      "\n",
      "image 1/1 /Users/mariarisques/TAED2_YOLOs/data/processed/images/val/001483.jpg: 384x640 1 person, 438.5ms\n",
      "Speed: 1.1ms preprocess, 438.5ms inference, 0.8ms postprocess per image at shape (1, 3, 384, 640)\n"
     ]
    },
    {
     "name": "stderr",
     "output_type": "stream",
     "text": [
      "[ WARN:0@1234.116] global loadsave.cpp:241 findDecoder imread_('/Users/mariarisques/TAED2_YOLOs/data/processed/masks_post/val/001483.png'): can't open/read file: check file path/integrity\n"
     ]
    },
    {
     "name": "stdout",
     "output_type": "stream",
     "text": [
      "Mask correctly processed and saved for the following file: 001483.jpg\n",
      "\n",
      "image 1/1 /Users/mariarisques/TAED2_YOLOs/data/processed/images/val/001496.jpg: 640x448 1 person, 495.7ms\n",
      "Speed: 1.2ms preprocess, 495.7ms inference, 1.3ms postprocess per image at shape (1, 3, 640, 448)\n"
     ]
    },
    {
     "name": "stderr",
     "output_type": "stream",
     "text": [
      "[ WARN:0@1235.046] global loadsave.cpp:241 findDecoder imread_('/Users/mariarisques/TAED2_YOLOs/data/processed/masks_post/val/001496.png'): can't open/read file: check file path/integrity\n"
     ]
    },
    {
     "name": "stdout",
     "output_type": "stream",
     "text": [
      "Mask correctly processed and saved for the following file: 001496.jpg\n",
      "\n",
      "image 1/1 /Users/mariarisques/TAED2_YOLOs/data/processed/images/val/003518.jpg: 448x640 1 person, 494.9ms\n",
      "Speed: 1.3ms preprocess, 494.9ms inference, 1.0ms postprocess per image at shape (1, 3, 448, 640)\n"
     ]
    },
    {
     "name": "stderr",
     "output_type": "stream",
     "text": [
      "[ WARN:0@1236.034] global loadsave.cpp:241 findDecoder imread_('/Users/mariarisques/TAED2_YOLOs/data/processed/masks_post/val/003518.png'): can't open/read file: check file path/integrity\n"
     ]
    },
    {
     "name": "stdout",
     "output_type": "stream",
     "text": [
      "Mask correctly processed and saved for the following file: 003518.jpg\n",
      "\n",
      "image 1/1 /Users/mariarisques/TAED2_YOLOs/data/processed/images/val/001327.jpg: 448x640 1 person, 509.5ms\n",
      "Speed: 1.2ms preprocess, 509.5ms inference, 1.0ms postprocess per image at shape (1, 3, 448, 640)\n"
     ]
    },
    {
     "name": "stderr",
     "output_type": "stream",
     "text": [
      "[ WARN:0@1237.020] global loadsave.cpp:241 findDecoder imread_('/Users/mariarisques/TAED2_YOLOs/data/processed/masks_post/val/001327.png'): can't open/read file: check file path/integrity\n"
     ]
    },
    {
     "name": "stdout",
     "output_type": "stream",
     "text": [
      "Mask correctly processed and saved for the following file: 001327.jpg\n",
      "\n",
      "image 1/1 /Users/mariarisques/TAED2_YOLOs/data/processed/images/val/005141.jpg: 448x640 1 person, 489.3ms\n",
      "Speed: 1.3ms preprocess, 489.3ms inference, 0.9ms postprocess per image at shape (1, 3, 448, 640)\n"
     ]
    },
    {
     "name": "stderr",
     "output_type": "stream",
     "text": [
      "[ WARN:0@1237.982] global loadsave.cpp:241 findDecoder imread_('/Users/mariarisques/TAED2_YOLOs/data/processed/masks_post/val/005141.png'): can't open/read file: check file path/integrity\n"
     ]
    },
    {
     "name": "stdout",
     "output_type": "stream",
     "text": [
      "Mask correctly processed and saved for the following file: 005141.jpg\n",
      "\n",
      "image 1/1 /Users/mariarisques/TAED2_YOLOs/data/processed/images/val/003530.jpg: 608x640 1 person, 761.8ms\n",
      "Speed: 1.5ms preprocess, 761.8ms inference, 1.1ms postprocess per image at shape (1, 3, 608, 640)\n"
     ]
    },
    {
     "name": "stderr",
     "output_type": "stream",
     "text": [
      "[ WARN:0@1239.224] global loadsave.cpp:241 findDecoder imread_('/Users/mariarisques/TAED2_YOLOs/data/processed/masks_post/val/003530.png'): can't open/read file: check file path/integrity\n"
     ]
    },
    {
     "name": "stdout",
     "output_type": "stream",
     "text": [
      "Mask correctly processed and saved for the following file: 003530.jpg\n",
      "\n",
      "image 1/1 /Users/mariarisques/TAED2_YOLOs/data/processed/images/val/001455.jpg: 640x480 1 person, 695.3ms\n",
      "Speed: 1.3ms preprocess, 695.3ms inference, 0.8ms postprocess per image at shape (1, 3, 640, 480)\n"
     ]
    },
    {
     "name": "stderr",
     "output_type": "stream",
     "text": [
      "[ WARN:0@1240.553] global loadsave.cpp:241 findDecoder imread_('/Users/mariarisques/TAED2_YOLOs/data/processed/masks_post/val/001455.png'): can't open/read file: check file path/integrity\n"
     ]
    },
    {
     "name": "stdout",
     "output_type": "stream",
     "text": [
      "Mask correctly processed and saved for the following file: 001455.jpg\n",
      "\n",
      "image 1/1 /Users/mariarisques/TAED2_YOLOs/data/processed/images/val/003915.jpg: 640x448 1 person, 492.9ms\n",
      "Speed: 1.2ms preprocess, 492.9ms inference, 0.8ms postprocess per image at shape (1, 3, 640, 448)\n"
     ]
    },
    {
     "name": "stderr",
     "output_type": "stream",
     "text": [
      "[ WARN:0@1241.553] global loadsave.cpp:241 findDecoder imread_('/Users/mariarisques/TAED2_YOLOs/data/processed/masks_post/val/003915.png'): can't open/read file: check file path/integrity\n"
     ]
    },
    {
     "name": "stdout",
     "output_type": "stream",
     "text": [
      "Mask correctly processed and saved for the following file: 003915.jpg\n",
      "\n",
      "image 1/1 /Users/mariarisques/TAED2_YOLOs/data/processed/images/val/001119.jpg: 640x448 1 person, 497.5ms\n",
      "Speed: 1.2ms preprocess, 497.5ms inference, 1.0ms postprocess per image at shape (1, 3, 640, 448)\n"
     ]
    },
    {
     "name": "stderr",
     "output_type": "stream",
     "text": [
      "[ WARN:0@1242.518] global loadsave.cpp:241 findDecoder imread_('/Users/mariarisques/TAED2_YOLOs/data/processed/masks_post/val/001119.png'): can't open/read file: check file path/integrity\n"
     ]
    },
    {
     "name": "stdout",
     "output_type": "stream",
     "text": [
      "Mask correctly processed and saved for the following file: 001119.jpg\n",
      "\n",
      "image 1/1 /Users/mariarisques/TAED2_YOLOs/data/processed/images/val/000575.jpg: 640x448 1 person, 508.2ms\n",
      "Speed: 1.4ms preprocess, 508.2ms inference, 1.1ms postprocess per image at shape (1, 3, 640, 448)\n"
     ]
    },
    {
     "name": "stderr",
     "output_type": "stream",
     "text": [
      "[ WARN:0@1243.494] global loadsave.cpp:241 findDecoder imread_('/Users/mariarisques/TAED2_YOLOs/data/processed/masks_post/val/000575.png'): can't open/read file: check file path/integrity\n"
     ]
    },
    {
     "name": "stdout",
     "output_type": "stream",
     "text": [
      "Mask correctly processed and saved for the following file: 000575.jpg\n",
      "\n",
      "image 1/1 /Users/mariarisques/TAED2_YOLOs/data/processed/images/val/004713.jpg: 448x640 4 persons, 508.1ms\n",
      "Speed: 1.2ms preprocess, 508.1ms inference, 1.8ms postprocess per image at shape (1, 3, 448, 640)\n"
     ]
    },
    {
     "name": "stderr",
     "output_type": "stream",
     "text": [
      "[ WARN:0@1244.494] global loadsave.cpp:241 findDecoder imread_('/Users/mariarisques/TAED2_YOLOs/data/processed/masks_post/val/004713.png'): can't open/read file: check file path/integrity\n"
     ]
    },
    {
     "name": "stdout",
     "output_type": "stream",
     "text": [
      "Mask correctly processed and saved for the following file: 004713.jpg\n",
      "\n",
      "image 1/1 /Users/mariarisques/TAED2_YOLOs/data/processed/images/val/003054.jpg: 448x640 1 person, 503.7ms\n",
      "Speed: 1.2ms preprocess, 503.7ms inference, 0.8ms postprocess per image at shape (1, 3, 448, 640)\n"
     ]
    },
    {
     "name": "stderr",
     "output_type": "stream",
     "text": [
      "[ WARN:0@1245.465] global loadsave.cpp:241 findDecoder imread_('/Users/mariarisques/TAED2_YOLOs/data/processed/masks_post/val/003054.png'): can't open/read file: check file path/integrity\n"
     ]
    },
    {
     "name": "stdout",
     "output_type": "stream",
     "text": [
      "Mask correctly processed and saved for the following file: 003054.jpg\n",
      "\n",
      "image 1/1 /Users/mariarisques/TAED2_YOLOs/data/processed/images/val/003726.jpg: 448x640 2 persons, 497.6ms\n",
      "Speed: 1.2ms preprocess, 497.6ms inference, 1.4ms postprocess per image at shape (1, 3, 448, 640)\n"
     ]
    },
    {
     "name": "stderr",
     "output_type": "stream",
     "text": [
      "[ WARN:0@1246.427] global loadsave.cpp:241 findDecoder imread_('/Users/mariarisques/TAED2_YOLOs/data/processed/masks_post/val/003726.png'): can't open/read file: check file path/integrity\n"
     ]
    },
    {
     "name": "stdout",
     "output_type": "stream",
     "text": [
      "Mask correctly processed and saved for the following file: 003726.jpg\n",
      "\n",
      "image 1/1 /Users/mariarisques/TAED2_YOLOs/data/processed/images/val/001910.jpg: 256x640 1 person, 453.8ms\n",
      "Speed: 0.8ms preprocess, 453.8ms inference, 0.8ms postprocess per image at shape (1, 3, 256, 640)\n"
     ]
    },
    {
     "name": "stderr",
     "output_type": "stream",
     "text": [
      "[ WARN:0@1247.351] global loadsave.cpp:241 findDecoder imread_('/Users/mariarisques/TAED2_YOLOs/data/processed/masks_post/val/001910.png'): can't open/read file: check file path/integrity\n"
     ]
    },
    {
     "name": "stdout",
     "output_type": "stream",
     "text": [
      "Mask correctly processed and saved for the following file: 001910.jpg\n",
      "\n",
      "image 1/1 /Users/mariarisques/TAED2_YOLOs/data/processed/images/val/003861.jpg: 640x448 1 person, 494.1ms\n",
      "Speed: 1.4ms preprocess, 494.1ms inference, 0.8ms postprocess per image at shape (1, 3, 640, 448)\n"
     ]
    },
    {
     "name": "stderr",
     "output_type": "stream",
     "text": [
      "[ WARN:0@1248.111] global loadsave.cpp:241 findDecoder imread_('/Users/mariarisques/TAED2_YOLOs/data/processed/masks_post/val/003861.png'): can't open/read file: check file path/integrity\n"
     ]
    },
    {
     "name": "stdout",
     "output_type": "stream",
     "text": [
      "Mask correctly processed and saved for the following file: 003861.jpg\n",
      "\n",
      "image 1/1 /Users/mariarisques/TAED2_YOLOs/data/processed/images/val/003875.jpg: 640x448 1 person, 515.3ms\n",
      "Speed: 1.2ms preprocess, 515.3ms inference, 0.9ms postprocess per image at shape (1, 3, 640, 448)\n"
     ]
    },
    {
     "name": "stderr",
     "output_type": "stream",
     "text": [
      "[ WARN:0@1249.116] global loadsave.cpp:241 findDecoder imread_('/Users/mariarisques/TAED2_YOLOs/data/processed/masks_post/val/003875.png'): can't open/read file: check file path/integrity\n"
     ]
    },
    {
     "name": "stdout",
     "output_type": "stream",
     "text": [
      "Mask correctly processed and saved for the following file: 003875.jpg\n",
      "\n",
      "image 1/1 /Users/mariarisques/TAED2_YOLOs/data/processed/images/val/003685.jpg: 448x640 1 person, 498.7ms\n",
      "Speed: 1.2ms preprocess, 498.7ms inference, 0.8ms postprocess per image at shape (1, 3, 448, 640)\n"
     ]
    },
    {
     "name": "stderr",
     "output_type": "stream",
     "text": [
      "[ WARN:0@1250.089] global loadsave.cpp:241 findDecoder imread_('/Users/mariarisques/TAED2_YOLOs/data/processed/masks_post/val/003685.png'): can't open/read file: check file path/integrity\n"
     ]
    },
    {
     "name": "stdout",
     "output_type": "stream",
     "text": [
      "Mask correctly processed and saved for the following file: 003685.jpg\n",
      "\n",
      "image 1/1 /Users/mariarisques/TAED2_YOLOs/data/processed/images/val/004667.jpg: 448x640 1 person, 509.4ms\n",
      "Speed: 1.2ms preprocess, 509.4ms inference, 0.9ms postprocess per image at shape (1, 3, 448, 640)\n"
     ]
    },
    {
     "name": "stderr",
     "output_type": "stream",
     "text": [
      "[ WARN:0@1251.071] global loadsave.cpp:241 findDecoder imread_('/Users/mariarisques/TAED2_YOLOs/data/processed/masks_post/val/004667.png'): can't open/read file: check file path/integrity\n"
     ]
    },
    {
     "name": "stdout",
     "output_type": "stream",
     "text": [
      "Mask correctly processed and saved for the following file: 004667.jpg\n",
      "\n",
      "image 1/1 /Users/mariarisques/TAED2_YOLOs/data/processed/images/val/005237.jpg: 608x640 1 person, 652.7ms\n",
      "Speed: 1.8ms preprocess, 652.7ms inference, 1.2ms postprocess per image at shape (1, 3, 608, 640)\n"
     ]
    },
    {
     "name": "stderr",
     "output_type": "stream",
     "text": [
      "[ WARN:0@1252.198] global loadsave.cpp:241 findDecoder imread_('/Users/mariarisques/TAED2_YOLOs/data/processed/masks_post/val/005237.png'): can't open/read file: check file path/integrity\n"
     ]
    },
    {
     "name": "stdout",
     "output_type": "stream",
     "text": [
      "Mask correctly processed and saved for the following file: 005237.jpg\n",
      "\n",
      "image 1/1 /Users/mariarisques/TAED2_YOLOs/data/processed/images/val/003134.jpg: 448x640 1 person, 529.6ms\n",
      "Speed: 1.2ms preprocess, 529.6ms inference, 0.8ms postprocess per image at shape (1, 3, 448, 640)\n"
     ]
    },
    {
     "name": "stderr",
     "output_type": "stream",
     "text": [
      "[ WARN:0@1253.388] global loadsave.cpp:241 findDecoder imread_('/Users/mariarisques/TAED2_YOLOs/data/processed/masks_post/val/003134.png'): can't open/read file: check file path/integrity\n"
     ]
    },
    {
     "name": "stdout",
     "output_type": "stream",
     "text": [
      "Mask correctly processed and saved for the following file: 003134.jpg\n",
      "\n",
      "image 1/1 /Users/mariarisques/TAED2_YOLOs/data/processed/images/val/001290.jpg: 448x640 1 person, 514.6ms\n",
      "Speed: 1.4ms preprocess, 514.6ms inference, 0.9ms postprocess per image at shape (1, 3, 448, 640)\n"
     ]
    },
    {
     "name": "stderr",
     "output_type": "stream",
     "text": [
      "[ WARN:0@1254.373] global loadsave.cpp:241 findDecoder imread_('/Users/mariarisques/TAED2_YOLOs/data/processed/masks_post/val/001290.png'): can't open/read file: check file path/integrity\n"
     ]
    },
    {
     "name": "stdout",
     "output_type": "stream",
     "text": [
      "Mask correctly processed and saved for the following file: 001290.jpg\n",
      "\n",
      "image 1/1 /Users/mariarisques/TAED2_YOLOs/data/processed/images/val/004317.jpg: 480x640 1 person, 545.2ms\n",
      "Speed: 1.3ms preprocess, 545.2ms inference, 0.9ms postprocess per image at shape (1, 3, 480, 640)\n"
     ]
    },
    {
     "name": "stderr",
     "output_type": "stream",
     "text": [
      "[ WARN:0@1255.384] global loadsave.cpp:241 findDecoder imread_('/Users/mariarisques/TAED2_YOLOs/data/processed/masks_post/val/004317.png'): can't open/read file: check file path/integrity\n"
     ]
    },
    {
     "name": "stdout",
     "output_type": "stream",
     "text": [
      "Mask correctly processed and saved for the following file: 004317.jpg\n",
      "\n",
      "image 1/1 /Users/mariarisques/TAED2_YOLOs/data/processed/images/val/005009.jpg: 384x640 1 person, 426.0ms\n",
      "Speed: 1.1ms preprocess, 426.0ms inference, 1.1ms postprocess per image at shape (1, 3, 384, 640)\n"
     ]
    },
    {
     "name": "stderr",
     "output_type": "stream",
     "text": [
      "[ WARN:0@1256.341] global loadsave.cpp:241 findDecoder imread_('/Users/mariarisques/TAED2_YOLOs/data/processed/masks_post/val/005009.png'): can't open/read file: check file path/integrity\n"
     ]
    },
    {
     "name": "stdout",
     "output_type": "stream",
     "text": [
      "Mask correctly processed and saved for the following file: 005009.jpg\n",
      "\n",
      "image 1/1 /Users/mariarisques/TAED2_YOLOs/data/processed/images/val/004471.jpg: 448x640 1 person, 506.8ms\n",
      "Speed: 1.1ms preprocess, 506.8ms inference, 0.9ms postprocess per image at shape (1, 3, 448, 640)\n"
     ]
    },
    {
     "name": "stderr",
     "output_type": "stream",
     "text": [
      "[ WARN:0@1257.256] global loadsave.cpp:241 findDecoder imread_('/Users/mariarisques/TAED2_YOLOs/data/processed/masks_post/val/004471.png'): can't open/read file: check file path/integrity\n"
     ]
    },
    {
     "name": "stdout",
     "output_type": "stream",
     "text": [
      "Mask correctly processed and saved for the following file: 004471.jpg\n",
      "\n",
      "image 1/1 /Users/mariarisques/TAED2_YOLOs/data/processed/images/val/003444.jpg: 448x640 1 person, 493.6ms\n",
      "Speed: 1.4ms preprocess, 493.6ms inference, 0.9ms postprocess per image at shape (1, 3, 448, 640)\n"
     ]
    },
    {
     "name": "stderr",
     "output_type": "stream",
     "text": [
      "[ WARN:0@1258.234] global loadsave.cpp:241 findDecoder imread_('/Users/mariarisques/TAED2_YOLOs/data/processed/masks_post/val/003444.png'): can't open/read file: check file path/integrity\n"
     ]
    },
    {
     "name": "stdout",
     "output_type": "stream",
     "text": [
      "Mask correctly processed and saved for the following file: 003444.jpg\n",
      "\n",
      "image 1/1 /Users/mariarisques/TAED2_YOLOs/data/processed/images/val/001535.jpg: 640x448 1 person, 492.4ms\n",
      "Speed: 1.5ms preprocess, 492.4ms inference, 0.8ms postprocess per image at shape (1, 3, 640, 448)\n"
     ]
    },
    {
     "name": "stderr",
     "output_type": "stream",
     "text": [
      "[ WARN:0@1259.189] global loadsave.cpp:241 findDecoder imread_('/Users/mariarisques/TAED2_YOLOs/data/processed/masks_post/val/001535.png'): can't open/read file: check file path/integrity\n"
     ]
    },
    {
     "name": "stdout",
     "output_type": "stream",
     "text": [
      "Mask correctly processed and saved for the following file: 001535.jpg\n",
      "\n",
      "image 1/1 /Users/mariarisques/TAED2_YOLOs/data/processed/images/val/002996.jpg: 608x640 1 person, 645.8ms\n",
      "Speed: 1.5ms preprocess, 645.8ms inference, 1.3ms postprocess per image at shape (1, 3, 608, 640)\n"
     ]
    },
    {
     "name": "stderr",
     "output_type": "stream",
     "text": [
      "[ WARN:0@1260.308] global loadsave.cpp:241 findDecoder imread_('/Users/mariarisques/TAED2_YOLOs/data/processed/masks_post/val/002996.png'): can't open/read file: check file path/integrity\n"
     ]
    },
    {
     "name": "stdout",
     "output_type": "stream",
     "text": [
      "Mask correctly processed and saved for the following file: 002996.jpg\n",
      "\n",
      "image 1/1 /Users/mariarisques/TAED2_YOLOs/data/processed/images/val/001247.jpg: 640x448 1 person, 522.4ms\n",
      "Speed: 1.2ms preprocess, 522.4ms inference, 1.0ms postprocess per image at shape (1, 3, 640, 448)\n"
     ]
    },
    {
     "name": "stderr",
     "output_type": "stream",
     "text": [
      "[ WARN:0@1261.461] global loadsave.cpp:241 findDecoder imread_('/Users/mariarisques/TAED2_YOLOs/data/processed/masks_post/val/001247.png'): can't open/read file: check file path/integrity\n"
     ]
    },
    {
     "name": "stdout",
     "output_type": "stream",
     "text": [
      "Mask correctly processed and saved for the following file: 001247.jpg\n",
      "\n",
      "image 1/1 /Users/mariarisques/TAED2_YOLOs/data/processed/images/val/003468.jpg: 448x640 1 person, 495.5ms\n",
      "Speed: 1.5ms preprocess, 495.5ms inference, 0.8ms postprocess per image at shape (1, 3, 448, 640)\n"
     ]
    },
    {
     "name": "stderr",
     "output_type": "stream",
     "text": [
      "[ WARN:0@1262.434] global loadsave.cpp:241 findDecoder imread_('/Users/mariarisques/TAED2_YOLOs/data/processed/masks_post/val/003468.png'): can't open/read file: check file path/integrity\n"
     ]
    },
    {
     "name": "stdout",
     "output_type": "stream",
     "text": [
      "Mask correctly processed and saved for the following file: 003468.jpg\n",
      "\n",
      "image 1/1 /Users/mariarisques/TAED2_YOLOs/data/processed/images/val/004475.jpg: 448x640 1 person, 495.2ms\n",
      "Speed: 1.4ms preprocess, 495.2ms inference, 0.9ms postprocess per image at shape (1, 3, 448, 640)\n"
     ]
    },
    {
     "name": "stderr",
     "output_type": "stream",
     "text": [
      "[ WARN:0@1263.402] global loadsave.cpp:241 findDecoder imread_('/Users/mariarisques/TAED2_YOLOs/data/processed/masks_post/val/004475.png'): can't open/read file: check file path/integrity\n"
     ]
    },
    {
     "name": "stdout",
     "output_type": "stream",
     "text": [
      "Mask correctly processed and saved for the following file: 004475.jpg\n",
      "\n",
      "image 1/1 /Users/mariarisques/TAED2_YOLOs/data/processed/images/val/001525.jpg: 448x640 1 person, 507.1ms\n",
      "Speed: 1.2ms preprocess, 507.1ms inference, 1.0ms postprocess per image at shape (1, 3, 448, 640)\n"
     ]
    },
    {
     "name": "stderr",
     "output_type": "stream",
     "text": [
      "[ WARN:0@1264.377] global loadsave.cpp:241 findDecoder imread_('/Users/mariarisques/TAED2_YOLOs/data/processed/masks_post/val/001525.png'): can't open/read file: check file path/integrity\n"
     ]
    },
    {
     "name": "stdout",
     "output_type": "stream",
     "text": [
      "Mask correctly processed and saved for the following file: 001525.jpg\n",
      "\n",
      "image 1/1 /Users/mariarisques/TAED2_YOLOs/data/processed/images/val/003326.jpg: 448x640 1 person, 516.8ms\n",
      "Speed: 1.2ms preprocess, 516.8ms inference, 0.8ms postprocess per image at shape (1, 3, 448, 640)\n"
     ]
    },
    {
     "name": "stderr",
     "output_type": "stream",
     "text": [
      "[ WARN:0@1265.357] global loadsave.cpp:241 findDecoder imread_('/Users/mariarisques/TAED2_YOLOs/data/processed/masks_post/val/003326.png'): can't open/read file: check file path/integrity\n"
     ]
    },
    {
     "name": "stdout",
     "output_type": "stream",
     "text": [
      "Mask correctly processed and saved for the following file: 003326.jpg\n",
      "\n",
      "image 1/1 /Users/mariarisques/TAED2_YOLOs/data/processed/images/val/005031.jpg: 640x448 1 person, 505.9ms\n",
      "Speed: 1.2ms preprocess, 505.9ms inference, 0.8ms postprocess per image at shape (1, 3, 640, 448)\n"
     ]
    },
    {
     "name": "stderr",
     "output_type": "stream",
     "text": [
      "[ WARN:0@1266.338] global loadsave.cpp:241 findDecoder imread_('/Users/mariarisques/TAED2_YOLOs/data/processed/masks_post/val/005031.png'): can't open/read file: check file path/integrity\n"
     ]
    },
    {
     "name": "stdout",
     "output_type": "stream",
     "text": [
      "Mask correctly processed and saved for the following file: 005031.jpg\n",
      "\n",
      "image 1/1 /Users/mariarisques/TAED2_YOLOs/data/processed/images/val/000820.jpg: 416x640 1 person, 599.5ms\n",
      "Speed: 1.3ms preprocess, 599.5ms inference, 1.4ms postprocess per image at shape (1, 3, 416, 640)\n"
     ]
    },
    {
     "name": "stderr",
     "output_type": "stream",
     "text": [
      "[ WARN:0@1267.403] global loadsave.cpp:241 findDecoder imread_('/Users/mariarisques/TAED2_YOLOs/data/processed/masks_post/val/000820.png'): can't open/read file: check file path/integrity\n"
     ]
    },
    {
     "name": "stdout",
     "output_type": "stream",
     "text": [
      "Mask correctly processed and saved for the following file: 000820.jpg\n",
      "\n",
      "image 1/1 /Users/mariarisques/TAED2_YOLOs/data/processed/images/val/001733.jpg: 448x640 1 person, 510.4ms\n",
      "Speed: 1.2ms preprocess, 510.4ms inference, 0.8ms postprocess per image at shape (1, 3, 448, 640)\n"
     ]
    },
    {
     "name": "stderr",
     "output_type": "stream",
     "text": [
      "[ WARN:0@1268.340] global loadsave.cpp:241 findDecoder imread_('/Users/mariarisques/TAED2_YOLOs/data/processed/masks_post/val/001733.png'): can't open/read file: check file path/integrity\n"
     ]
    },
    {
     "name": "stdout",
     "output_type": "stream",
     "text": [
      "Mask correctly processed and saved for the following file: 001733.jpg\n",
      "\n",
      "image 1/1 /Users/mariarisques/TAED2_YOLOs/data/processed/images/val/004844.jpg: 448x640 1 person, 507.9ms\n",
      "Speed: 1.2ms preprocess, 507.9ms inference, 0.9ms postprocess per image at shape (1, 3, 448, 640)\n"
     ]
    },
    {
     "name": "stderr",
     "output_type": "stream",
     "text": [
      "[ WARN:0@1269.319] global loadsave.cpp:241 findDecoder imread_('/Users/mariarisques/TAED2_YOLOs/data/processed/masks_post/val/004844.png'): can't open/read file: check file path/integrity\n"
     ]
    },
    {
     "name": "stdout",
     "output_type": "stream",
     "text": [
      "Mask correctly processed and saved for the following file: 004844.jpg\n",
      "\n",
      "image 1/1 /Users/mariarisques/TAED2_YOLOs/data/processed/images/val/001082.jpg: 384x640 1 person, 445.4ms\n",
      "Speed: 1.1ms preprocess, 445.4ms inference, 0.8ms postprocess per image at shape (1, 3, 384, 640)\n"
     ]
    },
    {
     "name": "stderr",
     "output_type": "stream",
     "text": [
      "[ WARN:0@1270.238] global loadsave.cpp:241 findDecoder imread_('/Users/mariarisques/TAED2_YOLOs/data/processed/masks_post/val/001082.png'): can't open/read file: check file path/integrity\n"
     ]
    },
    {
     "name": "stdout",
     "output_type": "stream",
     "text": [
      "Mask correctly processed and saved for the following file: 001082.jpg\n",
      "\n",
      "image 1/1 /Users/mariarisques/TAED2_YOLOs/data/processed/images/val/001096.jpg: 640x448 1 person, 513.7ms\n",
      "Speed: 1.2ms preprocess, 513.7ms inference, 1.0ms postprocess per image at shape (1, 3, 640, 448)\n"
     ]
    },
    {
     "name": "stderr",
     "output_type": "stream",
     "text": [
      "[ WARN:0@1271.166] global loadsave.cpp:241 findDecoder imread_('/Users/mariarisques/TAED2_YOLOs/data/processed/masks_post/val/001096.png'): can't open/read file: check file path/integrity\n"
     ]
    },
    {
     "name": "stdout",
     "output_type": "stream",
     "text": [
      "Mask correctly processed and saved for the following file: 001096.jpg\n",
      "\n",
      "image 1/1 /Users/mariarisques/TAED2_YOLOs/data/processed/images/val/004071.jpg: 352x640 1 person, 525.7ms\n",
      "Speed: 1.0ms preprocess, 525.7ms inference, 0.9ms postprocess per image at shape (1, 3, 352, 640)\n"
     ]
    },
    {
     "name": "stderr",
     "output_type": "stream",
     "text": [
      "[ WARN:0@1272.162] global loadsave.cpp:241 findDecoder imread_('/Users/mariarisques/TAED2_YOLOs/data/processed/masks_post/val/004071.png'): can't open/read file: check file path/integrity\n"
     ]
    },
    {
     "name": "stdout",
     "output_type": "stream",
     "text": [
      "Mask correctly processed and saved for the following file: 004071.jpg\n",
      "\n",
      "image 1/1 /Users/mariarisques/TAED2_YOLOs/data/processed/images/val/003722.jpg: 448x640 1 person, 524.2ms\n",
      "Speed: 1.3ms preprocess, 524.2ms inference, 0.9ms postprocess per image at shape (1, 3, 448, 640)\n"
     ]
    },
    {
     "name": "stderr",
     "output_type": "stream",
     "text": [
      "[ WARN:0@1273.060] global loadsave.cpp:241 findDecoder imread_('/Users/mariarisques/TAED2_YOLOs/data/processed/masks_post/val/003722.png'): can't open/read file: check file path/integrity\n"
     ]
    },
    {
     "name": "stdout",
     "output_type": "stream",
     "text": [
      "Mask correctly processed and saved for the following file: 003722.jpg\n",
      "\n",
      "image 1/1 /Users/mariarisques/TAED2_YOLOs/data/processed/images/val/003736.jpg: 640x448 1 person, 489.7ms\n",
      "Speed: 1.2ms preprocess, 489.7ms inference, 1.1ms postprocess per image at shape (1, 3, 640, 448)\n"
     ]
    },
    {
     "name": "stderr",
     "output_type": "stream",
     "text": [
      "[ WARN:0@1274.017] global loadsave.cpp:241 findDecoder imread_('/Users/mariarisques/TAED2_YOLOs/data/processed/masks_post/val/003736.png'): can't open/read file: check file path/integrity\n"
     ]
    },
    {
     "name": "stdout",
     "output_type": "stream",
     "text": [
      "Mask correctly processed and saved for the following file: 003736.jpg\n",
      "\n",
      "image 1/1 /Users/mariarisques/TAED2_YOLOs/data/processed/images/val/001874.jpg: 448x640 1 person, 493.9ms\n",
      "Speed: 1.2ms preprocess, 493.9ms inference, 1.5ms postprocess per image at shape (1, 3, 448, 640)\n"
     ]
    },
    {
     "name": "stderr",
     "output_type": "stream",
     "text": [
      "[ WARN:0@1274.992] global loadsave.cpp:241 findDecoder imread_('/Users/mariarisques/TAED2_YOLOs/data/processed/masks_post/val/001874.png'): can't open/read file: check file path/integrity\n"
     ]
    },
    {
     "name": "stdout",
     "output_type": "stream",
     "text": [
      "Mask correctly processed and saved for the following file: 001874.jpg\n",
      "\n",
      "image 1/1 /Users/mariarisques/TAED2_YOLOs/data/processed/images/val/004924.jpg: 448x640 1 person, 508.5ms\n",
      "Speed: 1.3ms preprocess, 508.5ms inference, 1.0ms postprocess per image at shape (1, 3, 448, 640)\n"
     ]
    },
    {
     "name": "stderr",
     "output_type": "stream",
     "text": [
      "[ WARN:0@1275.966] global loadsave.cpp:241 findDecoder imread_('/Users/mariarisques/TAED2_YOLOs/data/processed/masks_post/val/004924.png'): can't open/read file: check file path/integrity\n"
     ]
    },
    {
     "name": "stdout",
     "output_type": "stream",
     "text": [
      "Mask correctly processed and saved for the following file: 004924.jpg\n",
      "\n",
      "image 1/1 /Users/mariarisques/TAED2_YOLOs/data/processed/images/val/002602.jpg: 448x640 1 person, 514.1ms\n",
      "Speed: 1.2ms preprocess, 514.1ms inference, 0.8ms postprocess per image at shape (1, 3, 448, 640)\n"
     ]
    },
    {
     "name": "stderr",
     "output_type": "stream",
     "text": [
      "[ WARN:0@1276.943] global loadsave.cpp:241 findDecoder imread_('/Users/mariarisques/TAED2_YOLOs/data/processed/masks_post/val/002602.png'): can't open/read file: check file path/integrity\n"
     ]
    },
    {
     "name": "stdout",
     "output_type": "stream",
     "text": [
      "Mask correctly processed and saved for the following file: 002602.jpg\n",
      "\n",
      "image 1/1 /Users/mariarisques/TAED2_YOLOs/data/processed/images/val/002170.jpg: 448x640 1 person, 508.8ms\n",
      "Speed: 1.2ms preprocess, 508.8ms inference, 1.2ms postprocess per image at shape (1, 3, 448, 640)\n"
     ]
    },
    {
     "name": "stderr",
     "output_type": "stream",
     "text": [
      "[ WARN:0@1277.915] global loadsave.cpp:241 findDecoder imread_('/Users/mariarisques/TAED2_YOLOs/data/processed/masks_post/val/002170.png'): can't open/read file: check file path/integrity\n"
     ]
    },
    {
     "name": "stdout",
     "output_type": "stream",
     "text": [
      "Mask correctly processed and saved for the following file: 002170.jpg\n",
      "\n",
      "image 1/1 /Users/mariarisques/TAED2_YOLOs/data/processed/images/val/002158.jpg: 640x448 1 person, 503.3ms\n",
      "Speed: 1.5ms preprocess, 503.3ms inference, 0.8ms postprocess per image at shape (1, 3, 640, 448)\n"
     ]
    },
    {
     "name": "stderr",
     "output_type": "stream",
     "text": [
      "[ WARN:0@1278.893] global loadsave.cpp:241 findDecoder imread_('/Users/mariarisques/TAED2_YOLOs/data/processed/masks_post/val/002158.png'): can't open/read file: check file path/integrity\n"
     ]
    },
    {
     "name": "stdout",
     "output_type": "stream",
     "text": [
      "Mask correctly processed and saved for the following file: 002158.jpg\n",
      "\n",
      "image 1/1 /Users/mariarisques/TAED2_YOLOs/data/processed/images/val/004529.jpg: 448x640 3 persons, 492.2ms\n",
      "Speed: 1.4ms preprocess, 492.2ms inference, 1.4ms postprocess per image at shape (1, 3, 448, 640)\n"
     ]
    },
    {
     "name": "stderr",
     "output_type": "stream",
     "text": [
      "[ WARN:0@1279.863] global loadsave.cpp:241 findDecoder imread_('/Users/mariarisques/TAED2_YOLOs/data/processed/masks_post/val/004529.png'): can't open/read file: check file path/integrity\n"
     ]
    },
    {
     "name": "stdout",
     "output_type": "stream",
     "text": [
      "Mask correctly processed and saved for the following file: 004529.jpg\n",
      "\n",
      "image 1/1 /Users/mariarisques/TAED2_YOLOs/data/processed/images/val/000997.jpg: 448x640 1 person, 509.9ms\n",
      "Speed: 1.2ms preprocess, 509.9ms inference, 0.9ms postprocess per image at shape (1, 3, 448, 640)\n"
     ]
    },
    {
     "name": "stderr",
     "output_type": "stream",
     "text": [
      "[ WARN:0@1280.842] global loadsave.cpp:241 findDecoder imread_('/Users/mariarisques/TAED2_YOLOs/data/processed/masks_post/val/000997.png'): can't open/read file: check file path/integrity\n"
     ]
    },
    {
     "name": "stdout",
     "output_type": "stream",
     "text": [
      "Mask correctly processed and saved for the following file: 000997.jpg\n",
      "\n",
      "image 1/1 /Users/mariarisques/TAED2_YOLOs/data/processed/images/val/001492.jpg: 448x640 1 person, 494.0ms\n",
      "Speed: 1.2ms preprocess, 494.0ms inference, 0.8ms postprocess per image at shape (1, 3, 448, 640)\n"
     ]
    },
    {
     "name": "stderr",
     "output_type": "stream",
     "text": [
      "[ WARN:0@1281.800] global loadsave.cpp:241 findDecoder imread_('/Users/mariarisques/TAED2_YOLOs/data/processed/masks_post/val/001492.png'): can't open/read file: check file path/integrity\n"
     ]
    },
    {
     "name": "stdout",
     "output_type": "stream",
     "text": [
      "Mask correctly processed and saved for the following file: 001492.jpg\n",
      "\n",
      "image 1/1 /Users/mariarisques/TAED2_YOLOs/data/processed/images/val/003291.jpg: 640x384 1 person, 581.0ms\n",
      "Speed: 1.3ms preprocess, 581.0ms inference, 0.8ms postprocess per image at shape (1, 3, 640, 384)\n"
     ]
    },
    {
     "name": "stderr",
     "output_type": "stream",
     "text": [
      "[ WARN:0@1282.852] global loadsave.cpp:241 findDecoder imread_('/Users/mariarisques/TAED2_YOLOs/data/processed/masks_post/val/003291.png'): can't open/read file: check file path/integrity\n"
     ]
    },
    {
     "name": "stdout",
     "output_type": "stream",
     "text": [
      "Mask correctly processed and saved for the following file: 003291.jpg\n",
      "\n",
      "image 1/1 /Users/mariarisques/TAED2_YOLOs/data/processed/images/val/004298.jpg: 448x640 2 persons, 505.0ms\n",
      "Speed: 1.3ms preprocess, 505.0ms inference, 1.1ms postprocess per image at shape (1, 3, 448, 640)\n"
     ]
    },
    {
     "name": "stderr",
     "output_type": "stream",
     "text": [
      "[ WARN:0@1283.781] global loadsave.cpp:241 findDecoder imread_('/Users/mariarisques/TAED2_YOLOs/data/processed/masks_post/val/004298.png'): can't open/read file: check file path/integrity\n"
     ]
    },
    {
     "name": "stdout",
     "output_type": "stream",
     "text": [
      "Mask correctly processed and saved for the following file: 004298.jpg\n",
      "\n",
      "image 1/1 /Users/mariarisques/TAED2_YOLOs/data/processed/images/val/001487.jpg: 448x640 1 person, 529.0ms\n",
      "Speed: 1.2ms preprocess, 529.0ms inference, 1.4ms postprocess per image at shape (1, 3, 448, 640)\n"
     ]
    },
    {
     "name": "stderr",
     "output_type": "stream",
     "text": [
      "[ WARN:0@1284.789] global loadsave.cpp:241 findDecoder imread_('/Users/mariarisques/TAED2_YOLOs/data/processed/masks_post/val/001487.png'): can't open/read file: check file path/integrity\n"
     ]
    },
    {
     "name": "stdout",
     "output_type": "stream",
     "text": [
      "Mask correctly processed and saved for the following file: 001487.jpg\n",
      "\n",
      "image 1/1 /Users/mariarisques/TAED2_YOLOs/data/processed/images/val/005187.jpg: 448x640 1 person, 799.0ms\n",
      "Speed: 1.2ms preprocess, 799.0ms inference, 1.4ms postprocess per image at shape (1, 3, 448, 640)\n"
     ]
    },
    {
     "name": "stderr",
     "output_type": "stream",
     "text": [
      "[ WARN:0@1286.064] global loadsave.cpp:241 findDecoder imread_('/Users/mariarisques/TAED2_YOLOs/data/processed/masks_post/val/005187.png'): can't open/read file: check file path/integrity\n"
     ]
    },
    {
     "name": "stdout",
     "output_type": "stream",
     "text": [
      "Mask correctly processed and saved for the following file: 005187.jpg\n",
      "\n",
      "image 1/1 /Users/mariarisques/TAED2_YOLOs/data/processed/images/val/001444.jpg: 448x640 1 person, 663.2ms\n",
      "Speed: 1.3ms preprocess, 663.2ms inference, 1.1ms postprocess per image at shape (1, 3, 448, 640)\n"
     ]
    },
    {
     "name": "stderr",
     "output_type": "stream",
     "text": [
      "[ WARN:0@1287.236] global loadsave.cpp:241 findDecoder imread_('/Users/mariarisques/TAED2_YOLOs/data/processed/masks_post/val/001444.png'): can't open/read file: check file path/integrity\n"
     ]
    },
    {
     "name": "stdout",
     "output_type": "stream",
     "text": [
      "Mask correctly processed and saved for the following file: 001444.jpg\n",
      "\n",
      "image 1/1 /Users/mariarisques/TAED2_YOLOs/data/processed/images/val/001478.jpg: 640x480 1 person, 800.1ms\n",
      "Speed: 23.8ms preprocess, 800.1ms inference, 1.7ms postprocess per image at shape (1, 3, 640, 480)\n"
     ]
    },
    {
     "name": "stderr",
     "output_type": "stream",
     "text": [
      "[ WARN:0@1288.556] global loadsave.cpp:241 findDecoder imread_('/Users/mariarisques/TAED2_YOLOs/data/processed/masks_post/val/001478.png'): can't open/read file: check file path/integrity\n"
     ]
    },
    {
     "name": "stdout",
     "output_type": "stream",
     "text": [
      "Mask correctly processed and saved for the following file: 001478.jpg\n",
      "\n",
      "image 1/1 /Users/mariarisques/TAED2_YOLOs/data/processed/images/val/003904.jpg: 448x640 1 person, 511.5ms\n",
      "Speed: 1.5ms preprocess, 511.5ms inference, 1.3ms postprocess per image at shape (1, 3, 448, 640)\n"
     ]
    },
    {
     "name": "stderr",
     "output_type": "stream",
     "text": [
      "[ WARN:0@1289.635] global loadsave.cpp:241 findDecoder imread_('/Users/mariarisques/TAED2_YOLOs/data/processed/masks_post/val/003904.png'): can't open/read file: check file path/integrity\n"
     ]
    },
    {
     "name": "stdout",
     "output_type": "stream",
     "text": [
      "Mask correctly processed and saved for the following file: 003904.jpg\n",
      "\n",
      "image 1/1 /Users/mariarisques/TAED2_YOLOs/data/processed/images/val/005434.jpg: 640x448 1 person, 487.4ms\n",
      "Speed: 1.3ms preprocess, 487.4ms inference, 0.8ms postprocess per image at shape (1, 3, 640, 448)\n"
     ]
    },
    {
     "name": "stderr",
     "output_type": "stream",
     "text": [
      "[ WARN:0@1290.636] global loadsave.cpp:241 findDecoder imread_('/Users/mariarisques/TAED2_YOLOs/data/processed/masks_post/val/005434.png'): can't open/read file: check file path/integrity\n"
     ]
    },
    {
     "name": "stdout",
     "output_type": "stream",
     "text": [
      "Mask correctly processed and saved for the following file: 005434.jpg\n",
      "\n",
      "image 1/1 /Users/mariarisques/TAED2_YOLOs/data/processed/images/val/004064.jpg: 480x640 1 person, 633.3ms\n",
      "Speed: 1.3ms preprocess, 633.3ms inference, 1.4ms postprocess per image at shape (1, 3, 480, 640)\n"
     ]
    },
    {
     "name": "stderr",
     "output_type": "stream",
     "text": [
      "[ WARN:0@1291.755] global loadsave.cpp:241 findDecoder imread_('/Users/mariarisques/TAED2_YOLOs/data/processed/masks_post/val/004064.png'): can't open/read file: check file path/integrity\n"
     ]
    },
    {
     "name": "stdout",
     "output_type": "stream",
     "text": [
      "Mask correctly processed and saved for the following file: 004064.jpg\n",
      "\n",
      "image 1/1 /Users/mariarisques/TAED2_YOLOs/data/processed/images/val/002373.jpg: 640x480 1 person, 496.2ms\n",
      "Speed: 1.4ms preprocess, 496.2ms inference, 1.2ms postprocess per image at shape (1, 3, 640, 480)\n"
     ]
    },
    {
     "name": "stderr",
     "output_type": "stream",
     "text": [
      "[ WARN:0@1292.791] global loadsave.cpp:241 findDecoder imread_('/Users/mariarisques/TAED2_YOLOs/data/processed/masks_post/val/002373.png'): can't open/read file: check file path/integrity\n"
     ]
    },
    {
     "name": "stdout",
     "output_type": "stream",
     "text": [
      "Mask correctly processed and saved for the following file: 002373.jpg\n",
      "\n",
      "image 1/1 /Users/mariarisques/TAED2_YOLOs/data/processed/images/val/000564.jpg: 448x640 1 person, 496.2ms\n",
      "Speed: 1.4ms preprocess, 496.2ms inference, 0.9ms postprocess per image at shape (1, 3, 448, 640)\n"
     ]
    },
    {
     "name": "stderr",
     "output_type": "stream",
     "text": [
      "[ WARN:0@1293.837] global loadsave.cpp:241 findDecoder imread_('/Users/mariarisques/TAED2_YOLOs/data/processed/masks_post/val/000564.png'): can't open/read file: check file path/integrity\n"
     ]
    },
    {
     "name": "stdout",
     "output_type": "stream",
     "text": [
      "Mask correctly processed and saved for the following file: 000564.jpg\n",
      "\n",
      "image 1/1 /Users/mariarisques/TAED2_YOLOs/data/processed/images/val/002367.jpg: 448x640 1 person, 471.3ms\n",
      "Speed: 1.4ms preprocess, 471.3ms inference, 1.9ms postprocess per image at shape (1, 3, 448, 640)\n"
     ]
    },
    {
     "name": "stderr",
     "output_type": "stream",
     "text": [
      "[ WARN:0@1294.791] global loadsave.cpp:241 findDecoder imread_('/Users/mariarisques/TAED2_YOLOs/data/processed/masks_post/val/002367.png'): can't open/read file: check file path/integrity\n"
     ]
    },
    {
     "name": "stdout",
     "output_type": "stream",
     "text": [
      "Mask correctly processed and saved for the following file: 002367.jpg\n",
      "\n",
      "image 1/1 /Users/mariarisques/TAED2_YOLOs/data/processed/images/val/004851.jpg: 448x640 1 person, 478.8ms\n",
      "Speed: 1.2ms preprocess, 478.8ms inference, 0.9ms postprocess per image at shape (1, 3, 448, 640)\n"
     ]
    },
    {
     "name": "stderr",
     "output_type": "stream",
     "text": [
      "[ WARN:0@1295.736] global loadsave.cpp:241 findDecoder imread_('/Users/mariarisques/TAED2_YOLOs/data/processed/masks_post/val/004851.png'): can't open/read file: check file path/integrity\n"
     ]
    },
    {
     "name": "stdout",
     "output_type": "stream",
     "text": [
      "Mask correctly processed and saved for the following file: 004851.jpg\n",
      "\n",
      "image 1/1 /Users/mariarisques/TAED2_YOLOs/data/processed/images/val/003131.jpg: 640x448 1 person, 479.8ms\n",
      "Speed: 1.2ms preprocess, 479.8ms inference, 1.0ms postprocess per image at shape (1, 3, 640, 448)\n"
     ]
    },
    {
     "name": "stderr",
     "output_type": "stream",
     "text": [
      "[ WARN:0@1296.686] global loadsave.cpp:241 findDecoder imread_('/Users/mariarisques/TAED2_YOLOs/data/processed/masks_post/val/003131.png'): can't open/read file: check file path/integrity\n"
     ]
    },
    {
     "name": "stdout",
     "output_type": "stream",
     "text": [
      "Mask correctly processed and saved for the following file: 003131.jpg\n",
      "\n",
      "image 1/1 /Users/mariarisques/TAED2_YOLOs/data/processed/images/val/002213.jpg: 640x448 1 person, 499.7ms\n",
      "Speed: 1.2ms preprocess, 499.7ms inference, 0.9ms postprocess per image at shape (1, 3, 640, 448)\n"
     ]
    },
    {
     "name": "stderr",
     "output_type": "stream",
     "text": [
      "[ WARN:0@1297.663] global loadsave.cpp:241 findDecoder imread_('/Users/mariarisques/TAED2_YOLOs/data/processed/masks_post/val/002213.png'): can't open/read file: check file path/integrity\n"
     ]
    },
    {
     "name": "stdout",
     "output_type": "stream",
     "text": [
      "Mask correctly processed and saved for the following file: 002213.jpg\n",
      "\n",
      "image 1/1 /Users/mariarisques/TAED2_YOLOs/data/processed/images/val/003441.jpg: 640x448 1 person, 476.7ms\n",
      "Speed: 1.3ms preprocess, 476.7ms inference, 0.9ms postprocess per image at shape (1, 3, 640, 448)\n"
     ]
    },
    {
     "name": "stderr",
     "output_type": "stream",
     "text": [
      "[ WARN:0@1298.615] global loadsave.cpp:241 findDecoder imread_('/Users/mariarisques/TAED2_YOLOs/data/processed/masks_post/val/003441.png'): can't open/read file: check file path/integrity\n"
     ]
    },
    {
     "name": "stdout",
     "output_type": "stream",
     "text": [
      "Mask correctly processed and saved for the following file: 003441.jpg\n",
      "\n",
      "image 1/1 /Users/mariarisques/TAED2_YOLOs/data/processed/images/val/000606.jpg: 448x640 1 person, 467.2ms\n",
      "Speed: 1.3ms preprocess, 467.2ms inference, 0.9ms postprocess per image at shape (1, 3, 448, 640)\n"
     ]
    },
    {
     "name": "stderr",
     "output_type": "stream",
     "text": [
      "[ WARN:0@1299.593] global loadsave.cpp:241 findDecoder imread_('/Users/mariarisques/TAED2_YOLOs/data/processed/masks_post/val/000606.png'): can't open/read file: check file path/integrity\n"
     ]
    },
    {
     "name": "stdout",
     "output_type": "stream",
     "text": [
      "Mask correctly processed and saved for the following file: 000606.jpg\n",
      "\n",
      "image 1/1 /Users/mariarisques/TAED2_YOLOs/data/processed/images/val/000610.jpg: 640x480 1 person, 519.5ms\n",
      "Speed: 1.3ms preprocess, 519.5ms inference, 1.2ms postprocess per image at shape (1, 3, 640, 480)\n"
     ]
    },
    {
     "name": "stderr",
     "output_type": "stream",
     "text": [
      "[ WARN:0@1300.596] global loadsave.cpp:241 findDecoder imread_('/Users/mariarisques/TAED2_YOLOs/data/processed/masks_post/val/000610.png'): can't open/read file: check file path/integrity\n"
     ]
    },
    {
     "name": "stdout",
     "output_type": "stream",
     "text": [
      "Mask correctly processed and saved for the following file: 000610.jpg\n",
      "\n",
      "image 1/1 /Users/mariarisques/TAED2_YOLOs/data/processed/images/val/000604.jpg: 448x640 1 person, 499.7ms\n",
      "Speed: 1.3ms preprocess, 499.7ms inference, 1.3ms postprocess per image at shape (1, 3, 448, 640)\n"
     ]
    },
    {
     "name": "stderr",
     "output_type": "stream",
     "text": [
      "[ WARN:0@1301.610] global loadsave.cpp:241 findDecoder imread_('/Users/mariarisques/TAED2_YOLOs/data/processed/masks_post/val/000604.png'): can't open/read file: check file path/integrity\n"
     ]
    },
    {
     "name": "stdout",
     "output_type": "stream",
     "text": [
      "Mask correctly processed and saved for the following file: 000604.jpg\n",
      "\n",
      "image 1/1 /Users/mariarisques/TAED2_YOLOs/data/processed/images/val/003331.jpg: 640x640 1 person, 799.7ms\n",
      "Speed: 1.6ms preprocess, 799.7ms inference, 1.2ms postprocess per image at shape (1, 3, 640, 640)\n"
     ]
    },
    {
     "name": "stderr",
     "output_type": "stream",
     "text": [
      "[ WARN:0@1302.885] global loadsave.cpp:241 findDecoder imread_('/Users/mariarisques/TAED2_YOLOs/data/processed/masks_post/val/003331.png'): can't open/read file: check file path/integrity\n"
     ]
    },
    {
     "name": "stdout",
     "output_type": "stream",
     "text": [
      "Mask correctly processed and saved for the following file: 003331.jpg\n",
      "\n",
      "image 1/1 /Users/mariarisques/TAED2_YOLOs/data/processed/images/val/002991.jpg: 448x640 2 persons, 529.1ms\n",
      "Speed: 1.4ms preprocess, 529.1ms inference, 1.1ms postprocess per image at shape (1, 3, 448, 640)\n"
     ]
    },
    {
     "name": "stderr",
     "output_type": "stream",
     "text": [
      "[ WARN:0@1304.090] global loadsave.cpp:241 findDecoder imread_('/Users/mariarisques/TAED2_YOLOs/data/processed/masks_post/val/002991.png'): can't open/read file: check file path/integrity\n"
     ]
    },
    {
     "name": "stdout",
     "output_type": "stream",
     "text": [
      "Mask correctly processed and saved for the following file: 002991.jpg\n",
      "\n",
      "image 1/1 /Users/mariarisques/TAED2_YOLOs/data/processed/images/val/002946.jpg: 640x640 1 person, 703.1ms\n",
      "Speed: 2.1ms preprocess, 703.1ms inference, 1.6ms postprocess per image at shape (1, 3, 640, 640)\n"
     ]
    },
    {
     "name": "stderr",
     "output_type": "stream",
     "text": [
      "[ WARN:0@1305.267] global loadsave.cpp:241 findDecoder imread_('/Users/mariarisques/TAED2_YOLOs/data/processed/masks_post/val/002946.png'): can't open/read file: check file path/integrity\n"
     ]
    },
    {
     "name": "stdout",
     "output_type": "stream",
     "text": [
      "Mask correctly processed and saved for the following file: 002946.jpg\n",
      "\n",
      "image 1/1 /Users/mariarisques/TAED2_YOLOs/data/processed/images/val/004489.jpg: 640x416 1 person, 604.5ms\n",
      "Speed: 1.3ms preprocess, 604.5ms inference, 1.5ms postprocess per image at shape (1, 3, 640, 416)\n"
     ]
    },
    {
     "name": "stderr",
     "output_type": "stream",
     "text": [
      "[ WARN:0@1306.551] global loadsave.cpp:241 findDecoder imread_('/Users/mariarisques/TAED2_YOLOs/data/processed/masks_post/val/004489.png'): can't open/read file: check file path/integrity\n"
     ]
    },
    {
     "name": "stdout",
     "output_type": "stream",
     "text": [
      "Mask correctly processed and saved for the following file: 004489.jpg\n",
      "\n",
      "image 1/1 /Users/mariarisques/TAED2_YOLOs/data/processed/images/val/000823.jpg: 448x640 2 persons, 530.2ms\n",
      "Speed: 1.4ms preprocess, 530.2ms inference, 1.4ms postprocess per image at shape (1, 3, 448, 640)\n"
     ]
    },
    {
     "name": "stderr",
     "output_type": "stream",
     "text": [
      "[ WARN:0@1307.542] global loadsave.cpp:241 findDecoder imread_('/Users/mariarisques/TAED2_YOLOs/data/processed/masks_post/val/000823.png'): can't open/read file: check file path/integrity\n"
     ]
    },
    {
     "name": "stdout",
     "output_type": "stream",
     "text": [
      "Mask correctly processed and saved for the following file: 000823.jpg\n",
      "\n",
      "image 1/1 /Users/mariarisques/TAED2_YOLOs/data/processed/images/val/002205.jpg: 640x480 1 person, 558.9ms\n",
      "Speed: 1.3ms preprocess, 558.9ms inference, 1.0ms postprocess per image at shape (1, 3, 640, 480)\n"
     ]
    },
    {
     "name": "stderr",
     "output_type": "stream",
     "text": [
      "[ WARN:0@1308.561] global loadsave.cpp:241 findDecoder imread_('/Users/mariarisques/TAED2_YOLOs/data/processed/masks_post/val/002205.png'): can't open/read file: check file path/integrity\n"
     ]
    },
    {
     "name": "stdout",
     "output_type": "stream",
     "text": [
      "Mask correctly processed and saved for the following file: 002205.jpg\n",
      "\n",
      "image 1/1 /Users/mariarisques/TAED2_YOLOs/data/processed/images/val/003669.jpg: 384x640 1 person, 700.2ms\n",
      "Speed: 1.2ms preprocess, 700.2ms inference, 0.8ms postprocess per image at shape (1, 3, 384, 640)\n"
     ]
    },
    {
     "name": "stderr",
     "output_type": "stream",
     "text": [
      "[ WARN:0@1309.761] global loadsave.cpp:241 findDecoder imread_('/Users/mariarisques/TAED2_YOLOs/data/processed/masks_post/val/003669.png'): can't open/read file: check file path/integrity\n"
     ]
    },
    {
     "name": "stdout",
     "output_type": "stream",
     "text": [
      "Mask correctly processed and saved for the following file: 003669.jpg\n",
      "\n",
      "image 1/1 /Users/mariarisques/TAED2_YOLOs/data/processed/images/val/005224.jpg: 640x448 1 person, 502.5ms\n",
      "Speed: 1.2ms preprocess, 502.5ms inference, 1.2ms postprocess per image at shape (1, 3, 640, 448)\n"
     ]
    },
    {
     "name": "stderr",
     "output_type": "stream",
     "text": [
      "[ WARN:0@1310.658] global loadsave.cpp:241 findDecoder imread_('/Users/mariarisques/TAED2_YOLOs/data/processed/masks_post/val/005224.png'): can't open/read file: check file path/integrity\n"
     ]
    },
    {
     "name": "stdout",
     "output_type": "stream",
     "text": [
      "Mask correctly processed and saved for the following file: 005224.jpg\n",
      "\n",
      "image 1/1 /Users/mariarisques/TAED2_YOLOs/data/processed/images/val/001917.jpg: 448x640 1 person, 502.3ms\n",
      "Speed: 1.3ms preprocess, 502.3ms inference, 1.0ms postprocess per image at shape (1, 3, 448, 640)\n"
     ]
    },
    {
     "name": "stderr",
     "output_type": "stream",
     "text": [
      "[ WARN:0@1311.655] global loadsave.cpp:241 findDecoder imread_('/Users/mariarisques/TAED2_YOLOs/data/processed/masks_post/val/001917.png'): can't open/read file: check file path/integrity\n"
     ]
    },
    {
     "name": "stdout",
     "output_type": "stream",
     "text": [
      "Mask correctly processed and saved for the following file: 001917.jpg\n",
      "\n",
      "image 1/1 /Users/mariarisques/TAED2_YOLOs/data/processed/images/val/003866.jpg: 448x640 1 person, 511.9ms\n",
      "Speed: 1.3ms preprocess, 511.9ms inference, 0.9ms postprocess per image at shape (1, 3, 448, 640)\n"
     ]
    },
    {
     "name": "stderr",
     "output_type": "stream",
     "text": [
      "[ WARN:0@1312.640] global loadsave.cpp:241 findDecoder imread_('/Users/mariarisques/TAED2_YOLOs/data/processed/masks_post/val/003866.png'): can't open/read file: check file path/integrity\n"
     ]
    },
    {
     "name": "stdout",
     "output_type": "stream",
     "text": [
      "Mask correctly processed and saved for the following file: 003866.jpg\n",
      "\n",
      "image 1/1 /Users/mariarisques/TAED2_YOLOs/data/processed/images/val/003696.jpg: 448x640 1 person, 510.0ms\n",
      "Speed: 1.3ms preprocess, 510.0ms inference, 1.2ms postprocess per image at shape (1, 3, 448, 640)\n"
     ]
    },
    {
     "name": "stderr",
     "output_type": "stream",
     "text": [
      "[ WARN:0@1313.609] global loadsave.cpp:241 findDecoder imread_('/Users/mariarisques/TAED2_YOLOs/data/processed/masks_post/val/003696.png'): can't open/read file: check file path/integrity\n"
     ]
    },
    {
     "name": "stdout",
     "output_type": "stream",
     "text": [
      "Mask correctly processed and saved for the following file: 003696.jpg\n",
      "\n",
      "image 1/1 /Users/mariarisques/TAED2_YOLOs/data/processed/images/val/004847.jpg: 448x640 1 person, 503.3ms\n",
      "Speed: 1.2ms preprocess, 503.3ms inference, 1.3ms postprocess per image at shape (1, 3, 448, 640)\n"
     ]
    },
    {
     "name": "stderr",
     "output_type": "stream",
     "text": [
      "[ WARN:0@1314.595] global loadsave.cpp:241 findDecoder imread_('/Users/mariarisques/TAED2_YOLOs/data/processed/masks_post/val/004847.png'): can't open/read file: check file path/integrity\n"
     ]
    },
    {
     "name": "stdout",
     "output_type": "stream",
     "text": [
      "Mask correctly processed and saved for the following file: 004847.jpg\n",
      "\n",
      "image 1/1 /Users/mariarisques/TAED2_YOLOs/data/processed/images/val/000566.jpg: 480x640 1 person, 534.2ms\n",
      "Speed: 1.4ms preprocess, 534.2ms inference, 0.9ms postprocess per image at shape (1, 3, 480, 640)\n"
     ]
    },
    {
     "name": "stderr",
     "output_type": "stream",
     "text": [
      "[ WARN:0@1315.605] global loadsave.cpp:241 findDecoder imread_('/Users/mariarisques/TAED2_YOLOs/data/processed/masks_post/val/000566.png'): can't open/read file: check file path/integrity\n"
     ]
    },
    {
     "name": "stdout",
     "output_type": "stream",
     "text": [
      "Mask correctly processed and saved for the following file: 000566.jpg\n",
      "\n",
      "image 1/1 /Users/mariarisques/TAED2_YOLOs/data/processed/images/val/002417.jpg: 480x640 1 person, 540.0ms\n",
      "Speed: 1.3ms preprocess, 540.0ms inference, 1.3ms postprocess per image at shape (1, 3, 480, 640)\n"
     ]
    },
    {
     "name": "stderr",
     "output_type": "stream",
     "text": [
      "[ WARN:0@1316.684] global loadsave.cpp:241 findDecoder imread_('/Users/mariarisques/TAED2_YOLOs/data/processed/masks_post/val/002417.png'): can't open/read file: check file path/integrity\n"
     ]
    },
    {
     "name": "stdout",
     "output_type": "stream",
     "text": [
      "Mask correctly processed and saved for the following file: 002417.jpg\n",
      "\n",
      "image 1/1 /Users/mariarisques/TAED2_YOLOs/data/processed/images/val/002359.jpg: 640x448 1 person, 514.3ms\n",
      "Speed: 1.3ms preprocess, 514.3ms inference, 1.6ms postprocess per image at shape (1, 3, 640, 448)\n"
     ]
    },
    {
     "name": "stderr",
     "output_type": "stream",
     "text": [
      "[ WARN:0@1317.715] global loadsave.cpp:241 findDecoder imread_('/Users/mariarisques/TAED2_YOLOs/data/processed/masks_post/val/002359.png'): can't open/read file: check file path/integrity\n"
     ]
    },
    {
     "name": "stdout",
     "output_type": "stream",
     "text": [
      "Mask correctly processed and saved for the following file: 002359.jpg\n",
      "\n",
      "image 1/1 /Users/mariarisques/TAED2_YOLOs/data/processed/images/val/001863.jpg: 640x448 1 person, 508.6ms\n",
      "Speed: 1.3ms preprocess, 508.6ms inference, 1.0ms postprocess per image at shape (1, 3, 640, 448)\n"
     ]
    },
    {
     "name": "stderr",
     "output_type": "stream",
     "text": [
      "[ WARN:0@1318.713] global loadsave.cpp:241 findDecoder imread_('/Users/mariarisques/TAED2_YOLOs/data/processed/masks_post/val/001863.png'): can't open/read file: check file path/integrity\n"
     ]
    },
    {
     "name": "stdout",
     "output_type": "stream",
     "text": [
      "Mask correctly processed and saved for the following file: 001863.jpg\n",
      "\n",
      "image 1/1 /Users/mariarisques/TAED2_YOLOs/data/processed/images/val/001693.jpg: 640x448 1 person, 509.4ms\n",
      "Speed: 1.3ms preprocess, 509.4ms inference, 1.6ms postprocess per image at shape (1, 3, 640, 448)\n"
     ]
    },
    {
     "name": "stderr",
     "output_type": "stream",
     "text": [
      "[ WARN:0@1319.695] global loadsave.cpp:241 findDecoder imread_('/Users/mariarisques/TAED2_YOLOs/data/processed/masks_post/val/001693.png'): can't open/read file: check file path/integrity\n"
     ]
    },
    {
     "name": "stdout",
     "output_type": "stream",
     "text": [
      "Mask correctly processed and saved for the following file: 001693.jpg\n",
      "\n",
      "image 1/1 /Users/mariarisques/TAED2_YOLOs/data/processed/images/val/002173.jpg: 640x512 1 person, 1126.1ms\n",
      "Speed: 1.3ms preprocess, 1126.1ms inference, 1.2ms postprocess per image at shape (1, 3, 640, 512)\n"
     ]
    },
    {
     "name": "stderr",
     "output_type": "stream",
     "text": [
      "[ WARN:0@1321.300] global loadsave.cpp:241 findDecoder imread_('/Users/mariarisques/TAED2_YOLOs/data/processed/masks_post/val/002173.png'): can't open/read file: check file path/integrity\n"
     ]
    },
    {
     "name": "stdout",
     "output_type": "stream",
     "text": [
      "Mask correctly processed and saved for the following file: 002173.jpg\n",
      "\n",
      "image 1/1 /Users/mariarisques/TAED2_YOLOs/data/processed/images/val/000770.jpg: 640x480 1 person, 537.3ms\n",
      "Speed: 1.3ms preprocess, 537.3ms inference, 1.0ms postprocess per image at shape (1, 3, 640, 480)\n"
     ]
    },
    {
     "name": "stderr",
     "output_type": "stream",
     "text": [
      "[ WARN:0@1322.432] global loadsave.cpp:241 findDecoder imread_('/Users/mariarisques/TAED2_YOLOs/data/processed/masks_post/val/000770.png'): can't open/read file: check file path/integrity\n"
     ]
    },
    {
     "name": "stdout",
     "output_type": "stream",
     "text": [
      "Mask correctly processed and saved for the following file: 000770.jpg\n",
      "\n",
      "image 1/1 /Users/mariarisques/TAED2_YOLOs/data/processed/images/val/003279.jpg: 448x640 2 persons, 510.6ms\n",
      "Speed: 1.4ms preprocess, 510.6ms inference, 1.1ms postprocess per image at shape (1, 3, 448, 640)\n"
     ]
    },
    {
     "name": "stderr",
     "output_type": "stream",
     "text": [
      "[ WARN:0@1323.464] global loadsave.cpp:241 findDecoder imread_('/Users/mariarisques/TAED2_YOLOs/data/processed/masks_post/val/003279.png'): can't open/read file: check file path/integrity\n"
     ]
    },
    {
     "name": "stdout",
     "output_type": "stream",
     "text": [
      "Mask correctly processed and saved for the following file: 003279.jpg\n",
      "\n",
      "image 1/1 /Users/mariarisques/TAED2_YOLOs/data/processed/images/val/004258.jpg: 512x640 1 person, 685.1ms\n",
      "Speed: 1.6ms preprocess, 685.1ms inference, 1.2ms postprocess per image at shape (1, 3, 512, 640)\n"
     ]
    },
    {
     "name": "stderr",
     "output_type": "stream",
     "text": [
      "[ WARN:0@1324.621] global loadsave.cpp:241 findDecoder imread_('/Users/mariarisques/TAED2_YOLOs/data/processed/masks_post/val/004258.png'): can't open/read file: check file path/integrity\n"
     ]
    },
    {
     "name": "stdout",
     "output_type": "stream",
     "text": [
      "Mask correctly processed and saved for the following file: 004258.jpg\n",
      "\n",
      "image 1/1 /Users/mariarisques/TAED2_YOLOs/data/processed/images/val/000943.jpg: 640x448 1 person, 530.7ms\n",
      "Speed: 1.2ms preprocess, 530.7ms inference, 1.4ms postprocess per image at shape (1, 3, 640, 448)\n"
     ]
    },
    {
     "name": "stderr",
     "output_type": "stream",
     "text": [
      "[ WARN:0@1325.691] global loadsave.cpp:241 findDecoder imread_('/Users/mariarisques/TAED2_YOLOs/data/processed/masks_post/val/000943.png'): can't open/read file: check file path/integrity\n"
     ]
    },
    {
     "name": "stdout",
     "output_type": "stream",
     "text": [
      "Mask correctly processed and saved for the following file: 000943.jpg\n",
      "\n",
      "image 1/1 /Users/mariarisques/TAED2_YOLOs/data/processed/images/val/003286.jpg: 448x640 1 person, 510.5ms\n",
      "Speed: 1.2ms preprocess, 510.5ms inference, 0.8ms postprocess per image at shape (1, 3, 448, 640)\n"
     ]
    },
    {
     "name": "stderr",
     "output_type": "stream",
     "text": [
      "[ WARN:0@1326.679] global loadsave.cpp:241 findDecoder imread_('/Users/mariarisques/TAED2_YOLOs/data/processed/masks_post/val/003286.png'): can't open/read file: check file path/integrity\n"
     ]
    },
    {
     "name": "stdout",
     "output_type": "stream",
     "text": [
      "Mask correctly processed and saved for the following file: 003286.jpg\n",
      "\n",
      "image 1/1 /Users/mariarisques/TAED2_YOLOs/data/processed/images/val/005190.jpg: 640x448 1 person, 496.3ms\n",
      "Speed: 1.3ms preprocess, 496.3ms inference, 1.0ms postprocess per image at shape (1, 3, 640, 448)\n"
     ]
    },
    {
     "name": "stderr",
     "output_type": "stream",
     "text": [
      "[ WARN:0@1327.652] global loadsave.cpp:241 findDecoder imread_('/Users/mariarisques/TAED2_YOLOs/data/processed/masks_post/val/005190.png'): can't open/read file: check file path/integrity\n"
     ]
    },
    {
     "name": "stdout",
     "output_type": "stream",
     "text": [
      "Mask correctly processed and saved for the following file: 005190.jpg\n",
      "\n",
      "image 1/1 /Users/mariarisques/TAED2_YOLOs/data/processed/images/val/000598.jpg: 448x640 1 person, 487.7ms\n",
      "Speed: 1.5ms preprocess, 487.7ms inference, 1.5ms postprocess per image at shape (1, 3, 448, 640)\n"
     ]
    },
    {
     "name": "stderr",
     "output_type": "stream",
     "text": [
      "[ WARN:0@1328.632] global loadsave.cpp:241 findDecoder imread_('/Users/mariarisques/TAED2_YOLOs/data/processed/masks_post/val/000598.png'): can't open/read file: check file path/integrity\n"
     ]
    },
    {
     "name": "stdout",
     "output_type": "stream",
     "text": [
      "Mask correctly processed and saved for the following file: 000598.jpg\n",
      "\n",
      "image 1/1 /Users/mariarisques/TAED2_YOLOs/data/processed/images/val/005386.jpg: 640x448 1 person, 494.7ms\n",
      "Speed: 1.2ms preprocess, 494.7ms inference, 0.9ms postprocess per image at shape (1, 3, 640, 448)\n"
     ]
    },
    {
     "name": "stderr",
     "output_type": "stream",
     "text": [
      "[ WARN:0@1329.602] global loadsave.cpp:241 findDecoder imread_('/Users/mariarisques/TAED2_YOLOs/data/processed/masks_post/val/005386.png'): can't open/read file: check file path/integrity\n"
     ]
    },
    {
     "name": "stdout",
     "output_type": "stream",
     "text": [
      "Mask correctly processed and saved for the following file: 005386.jpg\n",
      "\n",
      "image 1/1 /Users/mariarisques/TAED2_YOLOs/data/processed/images/val/003046.jpg: 448x640 1 person, 484.8ms\n",
      "Speed: 1.2ms preprocess, 484.8ms inference, 0.8ms postprocess per image at shape (1, 3, 448, 640)\n"
     ]
    },
    {
     "name": "stderr",
     "output_type": "stream",
     "text": [
      "[ WARN:0@1330.572] global loadsave.cpp:241 findDecoder imread_('/Users/mariarisques/TAED2_YOLOs/data/processed/masks_post/val/003046.png'): can't open/read file: check file path/integrity\n"
     ]
    },
    {
     "name": "stdout",
     "output_type": "stream",
     "text": [
      "Mask correctly processed and saved for the following file: 003046.jpg\n",
      "\n",
      "image 1/1 /Users/mariarisques/TAED2_YOLOs/data/processed/images/val/004701.jpg: 640x448 1 person, 494.0ms\n",
      "Speed: 1.2ms preprocess, 494.0ms inference, 1.1ms postprocess per image at shape (1, 3, 640, 448)\n"
     ]
    },
    {
     "name": "stderr",
     "output_type": "stream",
     "text": [
      "[ WARN:0@1331.545] global loadsave.cpp:241 findDecoder imread_('/Users/mariarisques/TAED2_YOLOs/data/processed/masks_post/val/004701.png'): can't open/read file: check file path/integrity\n"
     ]
    },
    {
     "name": "stdout",
     "output_type": "stream",
     "text": [
      "Mask correctly processed and saved for the following file: 004701.jpg\n",
      "\n",
      "image 1/1 /Users/mariarisques/TAED2_YOLOs/data/processed/images/val/003697.jpg: 384x640 2 persons, 452.6ms\n",
      "Speed: 1.2ms preprocess, 452.6ms inference, 1.6ms postprocess per image at shape (1, 3, 384, 640)\n"
     ]
    },
    {
     "name": "stderr",
     "output_type": "stream",
     "text": [
      "[ WARN:0@1332.475] global loadsave.cpp:241 findDecoder imread_('/Users/mariarisques/TAED2_YOLOs/data/processed/masks_post/val/003697.png'): can't open/read file: check file path/integrity\n"
     ]
    },
    {
     "name": "stdout",
     "output_type": "stream",
     "text": [
      "Mask correctly processed and saved for the following file: 003697.jpg\n",
      "\n",
      "image 1/1 /Users/mariarisques/TAED2_YOLOs/data/processed/images/val/001043.jpg: 448x640 1 person, 505.6ms\n",
      "Speed: 1.2ms preprocess, 505.6ms inference, 1.1ms postprocess per image at shape (1, 3, 448, 640)\n"
     ]
    },
    {
     "name": "stderr",
     "output_type": "stream",
     "text": [
      "[ WARN:0@1333.389] global loadsave.cpp:241 findDecoder imread_('/Users/mariarisques/TAED2_YOLOs/data/processed/masks_post/val/001043.png'): can't open/read file: check file path/integrity\n"
     ]
    },
    {
     "name": "stdout",
     "output_type": "stream",
     "text": [
      "Mask correctly processed and saved for the following file: 001043.jpg\n",
      "\n",
      "image 1/1 /Users/mariarisques/TAED2_YOLOs/data/processed/images/val/001725.jpg: 384x640 6 persons, 466.0ms\n",
      "Speed: 1.2ms preprocess, 466.0ms inference, 2.0ms postprocess per image at shape (1, 3, 384, 640)\n"
     ]
    },
    {
     "name": "stderr",
     "output_type": "stream",
     "text": [
      "[ WARN:0@1334.329] global loadsave.cpp:241 findDecoder imread_('/Users/mariarisques/TAED2_YOLOs/data/processed/masks_post/val/001725.png'): can't open/read file: check file path/integrity\n"
     ]
    },
    {
     "name": "stdout",
     "output_type": "stream",
     "text": [
      "Mask correctly processed and saved for the following file: 001725.jpg\n",
      "\n",
      "image 1/1 /Users/mariarisques/TAED2_YOLOs/data/processed/images/val/005231.jpg: 448x640 1 person, 499.7ms\n",
      "Speed: 1.3ms preprocess, 499.7ms inference, 1.1ms postprocess per image at shape (1, 3, 448, 640)\n"
     ]
    },
    {
     "name": "stderr",
     "output_type": "stream",
     "text": [
      "[ WARN:0@1335.253] global loadsave.cpp:241 findDecoder imread_('/Users/mariarisques/TAED2_YOLOs/data/processed/masks_post/val/005231.png'): can't open/read file: check file path/integrity\n"
     ]
    },
    {
     "name": "stdout",
     "output_type": "stream",
     "text": [
      "Mask correctly processed and saved for the following file: 005231.jpg\n",
      "\n",
      "image 1/1 /Users/mariarisques/TAED2_YOLOs/data/processed/images/val/002748.jpg: 384x640 1 person, 442.7ms\n",
      "Speed: 1.0ms preprocess, 442.7ms inference, 1.2ms postprocess per image at shape (1, 3, 384, 640)\n"
     ]
    },
    {
     "name": "stderr",
     "output_type": "stream",
     "text": [
      "[ WARN:0@1336.165] global loadsave.cpp:241 findDecoder imread_('/Users/mariarisques/TAED2_YOLOs/data/processed/masks_post/val/002748.png'): can't open/read file: check file path/integrity\n"
     ]
    },
    {
     "name": "stdout",
     "output_type": "stream",
     "text": [
      "Mask correctly processed and saved for the following file: 002748.jpg\n",
      "\n",
      "image 1/1 /Users/mariarisques/TAED2_YOLOs/data/processed/images/val/003442.jpg: 448x640 1 person, 533.5ms\n",
      "Speed: 1.2ms preprocess, 533.5ms inference, 1.2ms postprocess per image at shape (1, 3, 448, 640)\n"
     ]
    },
    {
     "name": "stderr",
     "output_type": "stream",
     "text": [
      "[ WARN:0@1337.102] global loadsave.cpp:241 findDecoder imread_('/Users/mariarisques/TAED2_YOLOs/data/processed/masks_post/val/003442.png'): can't open/read file: check file path/integrity\n"
     ]
    },
    {
     "name": "stdout",
     "output_type": "stream",
     "text": [
      "Mask correctly processed and saved for the following file: 003442.jpg\n",
      "\n",
      "image 1/1 /Users/mariarisques/TAED2_YOLOs/data/processed/images/val/000605.jpg: 640x640 1 person, 842.7ms\n",
      "Speed: 1.8ms preprocess, 842.7ms inference, 1.2ms postprocess per image at shape (1, 3, 640, 640)\n"
     ]
    },
    {
     "name": "stderr",
     "output_type": "stream",
     "text": [
      "[ WARN:0@1338.412] global loadsave.cpp:241 findDecoder imread_('/Users/mariarisques/TAED2_YOLOs/data/processed/masks_post/val/000605.png'): can't open/read file: check file path/integrity\n"
     ]
    },
    {
     "name": "stdout",
     "output_type": "stream",
     "text": [
      "Mask correctly processed and saved for the following file: 000605.jpg\n",
      "\n",
      "image 1/1 /Users/mariarisques/TAED2_YOLOs/data/processed/images/val/003318.jpg: 448x640 1 person, 497.0ms\n",
      "Speed: 1.3ms preprocess, 497.0ms inference, 1.3ms postprocess per image at shape (1, 3, 448, 640)\n"
     ]
    },
    {
     "name": "stderr",
     "output_type": "stream",
     "text": [
      "[ WARN:0@1339.591] global loadsave.cpp:241 findDecoder imread_('/Users/mariarisques/TAED2_YOLOs/data/processed/masks_post/val/003318.png'): can't open/read file: check file path/integrity\n"
     ]
    },
    {
     "name": "stdout",
     "output_type": "stream",
     "text": [
      "Mask correctly processed and saved for the following file: 003318.jpg\n"
     ]
    }
   ],
   "source": [
    "# Path to store predictions\n",
    "predictions_path = \"/Users/mariarisques/TAED2_YOLOs/data/predictions/\"\n",
    "\n",
    "for file in file_names:\n",
    "  if file.split('/')[-1] != \".DS_Store\":\n",
    "    results = model(file)\n",
    "    result = results[0]\n",
    "    if hasattr(result, 'masks') and result.masks is not None:\n",
    "      try:\n",
    "        im = cv2.imread(file)\n",
    "        true_mask = cv2.imread(file.replace('images', 'masks_post').replace('jpg', 'png'))\n",
    "\n",
    "        H, W = im.shape[0], im.shape[1]\n",
    "\n",
    "        tmp_mask = result.masks.data\n",
    "        tmp_mask, _ = torch.max(tmp_mask, dim = 0)\n",
    "        pred_mask = Image.fromarray(tmp_mask.cpu().numpy()).convert('P')\n",
    "        pred_mask = pred_mask.resize((W, H))\n",
    "        pred_mask = np.array(pred_mask)\n",
    "\n",
    "        (width, height) = pred_mask.shape\n",
    "        for y in range(height):\n",
    "            for x in range(width):\n",
    "                if pred_mask[x, y] > 0:\n",
    "                    pred_mask[x, y] = 255\n",
    "\n",
    "        im_to_save = Image.fromarray(pred_mask)\n",
    "        im_to_save.save(predictions_path + file.split('/')[-1])\n",
    "        file_name = file.split('/')[-1]\n",
    "        print(f\"Mask correctly processed and saved for the following file: {file_name}\")\n",
    "      except Exception as e:\n",
    "        file_name = file.split('/')[-1]\n",
    "        print(f'There has been an error while processing or saving the following file: {file_name}')\n",
    "        print(f'The following error has occured: {e}')\n",
    "    else:\n",
    "      im = cv2.imread(file)\n",
    "      H, W = im.shape[0], im.shape[1]\n",
    "      pred_mask = np.zeros((H,W), dtype=np.uint8)\n",
    "      im_to_save = Image.fromarray(pred_mask)\n",
    "      file_name_to_save = file.split('/')[-1].replace('jpg', 'png')\n",
    "      im_to_save.save(predictions_path + file_name_to_save)\n",
    "      file_name = file.split('/')[-1]\n",
    "      print(f\"Mask correctly processed and saved for the following file: {file_name}\")"
   ]
  }
 ],
 "metadata": {
  "kernelspec": {
   "display_name": "treball_taed2",
   "language": "python",
   "name": "python3"
  },
  "language_info": {
   "codemirror_mode": {
    "name": "ipython",
    "version": 3
   },
   "file_extension": ".py",
   "mimetype": "text/x-python",
   "name": "python",
   "nbconvert_exporter": "python",
   "pygments_lexer": "ipython3",
   "version": "3.11.5"
  }
 },
 "nbformat": 4,
 "nbformat_minor": 2
}
