{
 "cells": [
  {
   "cell_type": "markdown",
   "metadata": {},
   "source": [
    "# Evaluation"
   ]
  },
  {
   "cell_type": "markdown",
   "metadata": {},
   "source": [
    "This script calculates the Mean Intersection over Union (mIoU) for a set of prediction images.\n",
    "The mIoU is a metric commonly used in image segmentation to evaluate the accuracy of a model."
   ]
  },
  {
   "cell_type": "code",
   "execution_count": 8,
   "metadata": {},
   "outputs": [
    {
     "data": {
      "text/plain": [
       "True"
      ]
     },
     "execution_count": 8,
     "metadata": {},
     "output_type": "execute_result"
    }
   ],
   "source": [
    "# Importing required libraries\n",
    "import numpy as np\n",
    "import os\n",
    "import sys\n",
    "\n",
    "from PIL import Image\n",
    "from dotenv import load_dotenv\n",
    "from pathlib import Path\n",
    "\n",
    "# Load environment variables\n",
    "load_dotenv()\n",
    "\n",
    "# Add the path to the repository to the system path\n",
    "sys.path.append(str(Path(os.getenv('PATH_TO_REPO'))))\n",
    "\n",
    "# Import configurations and utilities from the repository\n",
    "from person_image_segmentation.config import PROCESSED_DATA_DIR, REPO_PATH\n",
    "from person_image_segmentation.utils.modeling_utils import compute_miou\n"
   ]
  },
  {
   "cell_type": "code",
   "execution_count": 11,
   "metadata": {},
   "outputs": [],
   "source": [
    "# Path to store predictions\n",
    "predictions_path = REPO_PATH / \"test_predictions\"\n",
    "# Get file names in predictions folder\n",
    "file_names = os.listdir(predictions_path)\n",
    "file_names = [str(folder_path / file) for file in file_names if os.path.isfile(str(os.path.join(folder_path, file)))]"
   ]
  },
  {
   "cell_type": "code",
   "execution_count": 12,
   "metadata": {},
   "outputs": [
    {
     "data": {
      "text/plain": [
       "0.8745276986231995"
      ]
     },
     "execution_count": 12,
     "metadata": {},
     "output_type": "execute_result"
    }
   ],
   "source": [
    "# Calculate mIoU using prediction files\n",
    "compute_miou(\n",
    "    image_file_list = file_names,\n",
    "    predictions_folder = predictions_path,\n",
    ")"
   ]
  },
  {
   "cell_type": "markdown",
   "metadata": {},
   "source": [
    "## Conclusión\n",
    "Este script ha calculado el valor de Mean Intersection over Union (mIoU) para un conjunto de imágenes de predicción generadas en un modelo de segmentación. El mIoU es una métrica clave para evaluar la precisión del modelo en la tarea de segmentación de imágenes, permitiéndonos cuantificar la superposición entre las predicciones y las etiquetas reales de cada clase en las imágenes.\n",
    "\n",
    "### Resultados y Próximos Pasos\n",
    "- Los valores de mIoU obtenidos proporcionan una medida clara de qué tan bien el modelo segmenta las imágenes.\n",
    "- Próximamente, se podría realizar un análisis más detallado de los resultados para identificar áreas de mejora en el modelo.\n",
    "- También sería útil experimentar con otros modelos de segmentación o ajustar los parámetros para ver cómo impactan en la precisión medida por el mIoU."
   ]
  }
 ],
 "metadata": {
  "kernelspec": {
   "display_name": "person-image-segmentation-leWn8e5q-py3.11",
   "language": "python",
   "name": "python3"
  },
  "language_info": {
   "codemirror_mode": {
    "name": "ipython",
    "version": 3
   },
   "file_extension": ".py",
   "mimetype": "text/x-python",
   "name": "python",
   "nbconvert_exporter": "python",
   "pygments_lexer": "ipython3",
   "version": "3.11.5"
  }
 },
 "nbformat": 4,
 "nbformat_minor": 2
}
