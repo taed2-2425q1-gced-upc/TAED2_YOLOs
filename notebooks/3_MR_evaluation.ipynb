{
 "cells": [
  {
   "cell_type": "code",
   "execution_count": 8,
   "metadata": {},
   "outputs": [
    {
     "data": {
      "text/plain": [
       "True"
      ]
     },
     "execution_count": 8,
     "metadata": {},
     "output_type": "execute_result"
    }
   ],
   "source": [
    "import numpy as np\n",
    "import os\n",
    "import sys\n",
    "\n",
    "from PIL import Image\n",
    "from dotenv import load_dotenv\n",
    "from pathlib import Path\n",
    "\n",
    "sys.path.append(str(Path(os.getenv('PATH_TO_REPO'))))\n",
    "\n",
    "from person_image_segmentation.config import PROCESSED_DATA_DIR, REPO_PATH\n",
    "from person_image_segmentation.utils.modeling_utils import compute_miou\n",
    "\n",
    "load_dotenv()"
   ]
  },
  {
   "cell_type": "code",
   "execution_count": 11,
   "metadata": {},
   "outputs": [],
   "source": [
    "# Path to store predictions\n",
    "predictions_path = REPO_PATH / \"test_predictions\"\n",
    "file_names = os.listdir(predictions_path)\n",
    "file_names = [str(folder_path / file) for file in file_names if os.path.isfile(str(os.path.join(folder_path, file)))]"
   ]
  },
  {
   "cell_type": "code",
   "execution_count": 12,
   "metadata": {},
   "outputs": [
    {
     "data": {
      "text/plain": [
       "0.8745276986231995"
      ]
     },
     "execution_count": 12,
     "metadata": {},
     "output_type": "execute_result"
    }
   ],
   "source": [
    "compute_miou(\n",
    "    image_file_list = file_names,\n",
    "    predictions_folder = predictions_path,\n",
    ")"
   ]
  }
 ],
 "metadata": {
  "kernelspec": {
   "display_name": "person-image-segmentation-leWn8e5q-py3.11",
   "language": "python",
   "name": "python3"
  },
  "language_info": {
   "codemirror_mode": {
    "name": "ipython",
    "version": 3
   },
   "file_extension": ".py",
   "mimetype": "text/x-python",
   "name": "python",
   "nbconvert_exporter": "python",
   "pygments_lexer": "ipython3",
   "version": "3.11.5"
  }
 },
 "nbformat": 4,
 "nbformat_minor": 2
}
